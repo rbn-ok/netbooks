{
  "nbformat": 4,
  "nbformat_minor": 0,
  "metadata": {
    "colab": {
      "name": "Supervised Learning.ipynb",
      "provenance": [],
      "collapsed_sections": [
        "0ZpkIje5nLIW",
        "1XDT5b-mnpUw",
        "SWevNQmrnz8H",
        "5w93iBmsoWhG",
        "1W6tS8h2pKtw",
        "Uq_DkDWMptMR",
        "OKAb2ZqDWHJQ",
        "vlw7T2L5tWQ5",
        "PN61ZHOqu0Sk",
        "NOf2oktSD7E2",
        "dEq8WxsFEv-s",
        "s49BuUTrIiiD",
        "5ysQD1bILuR8",
        "6zCKRffENEzA",
        "jciogKcdPVS9",
        "Y9Pyw274SDbK",
        "AhXt-t8oUhN_"
      ],
      "authorship_tag": "ABX9TyMkJ8P52u5GL97XAfDjVUPO"
    },
    "kernelspec": {
      "name": "python3",
      "display_name": "Python 3"
    }
  },
  "cells": [
    {
      "cell_type": "markdown",
      "metadata": {
        "id": "wAeGMXYlVxYR"
      },
      "source": [
        "----\r\n",
        "# **SUPERVISED LEARNING WITH SCIKIT LEARN**\r\n",
        "-----"
      ]
    },
    {
      "cell_type": "markdown",
      "metadata": {
        "id": "U85kgYR3mMip"
      },
      "source": [
        "----\n",
        "## **CLASSIFICATION** (1)\n",
        "-----"
      ]
    },
    {
      "cell_type": "code",
      "metadata": {
        "id": "lehbYjZm3s_L"
      },
      "source": [
        "from sklearn import datasets\n",
        "import pandas as pd\n",
        "import numpy as np\n",
        "import matplotlib.pyplot as plt\n",
        "import seaborn as sns\n",
        "\n"
      ],
      "execution_count": 1,
      "outputs": []
    },
    {
      "cell_type": "code",
      "metadata": {
        "id": "XS308U9TmR71"
      },
      "source": [
        "from sklearn.datasets import load_boston"
      ],
      "execution_count": 2,
      "outputs": []
    },
    {
      "cell_type": "code",
      "metadata": {
        "id": "LAj--sTZmeVQ",
        "colab": {
          "base_uri": "https://localhost:8080/"
        },
        "outputId": "fde29ad4-86d5-40cb-d1a9-44e375b9f308"
      },
      "source": [
        "plt.style.use('ggplot')\n",
        "iris = datasets.load_iris()\n",
        "type(iris)"
      ],
      "execution_count": 3,
      "outputs": [
        {
          "output_type": "execute_result",
          "data": {
            "text/plain": [
              "sklearn.utils.Bunch"
            ]
          },
          "metadata": {
            "tags": []
          },
          "execution_count": 3
        }
      ]
    },
    {
      "cell_type": "code",
      "metadata": {
        "id": "SC23C5JSmedf",
        "colab": {
          "base_uri": "https://localhost:8080/"
        },
        "outputId": "b9ac1a7c-2a87-490a-ffe3-4dacd312f62e"
      },
      "source": [
        "print(iris.keys())"
      ],
      "execution_count": 4,
      "outputs": [
        {
          "output_type": "stream",
          "text": [
            "dict_keys(['data', 'target', 'target_names', 'DESCR', 'feature_names', 'filename'])\n"
          ],
          "name": "stdout"
        }
      ]
    },
    {
      "cell_type": "code",
      "metadata": {
        "id": "QfWPIbmemek-",
        "colab": {
          "base_uri": "https://localhost:8080/"
        },
        "outputId": "157b0cb3-33a5-46db-f157-b0838e13102d"
      },
      "source": [
        "type(iris.data) , type(iris.target)"
      ],
      "execution_count": 5,
      "outputs": [
        {
          "output_type": "execute_result",
          "data": {
            "text/plain": [
              "(numpy.ndarray, numpy.ndarray)"
            ]
          },
          "metadata": {
            "tags": []
          },
          "execution_count": 5
        }
      ]
    },
    {
      "cell_type": "code",
      "metadata": {
        "id": "R40_rQ9BmkX2",
        "colab": {
          "base_uri": "https://localhost:8080/"
        },
        "outputId": "97637786-8647-4d6c-e296-0bc69b472d5d"
      },
      "source": [
        "iris.data.shape"
      ],
      "execution_count": 6,
      "outputs": [
        {
          "output_type": "execute_result",
          "data": {
            "text/plain": [
              "(150, 4)"
            ]
          },
          "metadata": {
            "tags": []
          },
          "execution_count": 6
        }
      ]
    },
    {
      "cell_type": "code",
      "metadata": {
        "id": "AX9eIe4fmkbK",
        "colab": {
          "base_uri": "https://localhost:8080/"
        },
        "outputId": "472885db-5ada-415f-9c24-e42e7aaa2d38"
      },
      "source": [
        "iris.target_names"
      ],
      "execution_count": 7,
      "outputs": [
        {
          "output_type": "execute_result",
          "data": {
            "text/plain": [
              "array(['setosa', 'versicolor', 'virginica'], dtype='<U10')"
            ]
          },
          "metadata": {
            "tags": []
          },
          "execution_count": 7
        }
      ]
    },
    {
      "cell_type": "code",
      "metadata": {
        "id": "wRabF19smtHa"
      },
      "source": [
        "X = iris.data\n",
        "y = iris.target"
      ],
      "execution_count": 8,
      "outputs": []
    },
    {
      "cell_type": "markdown",
      "metadata": {
        "id": "gKsZXfyAmwjr"
      },
      "source": [
        "## **EDA**\n",
        "-----"
      ]
    },
    {
      "cell_type": "code",
      "metadata": {
        "id": "SKwq2p8CmtTF",
        "colab": {
          "base_uri": "https://localhost:8080/",
          "height": 204
        },
        "outputId": "da97a74c-0202-4fd5-d9c8-0eecb28c669d"
      },
      "source": [
        "df = pd.DataFrame(data=iris.data, columns=iris.feature_names)\n",
        "df.head()"
      ],
      "execution_count": 9,
      "outputs": [
        {
          "output_type": "execute_result",
          "data": {
            "text/html": [
              "<div>\n",
              "<style scoped>\n",
              "    .dataframe tbody tr th:only-of-type {\n",
              "        vertical-align: middle;\n",
              "    }\n",
              "\n",
              "    .dataframe tbody tr th {\n",
              "        vertical-align: top;\n",
              "    }\n",
              "\n",
              "    .dataframe thead th {\n",
              "        text-align: right;\n",
              "    }\n",
              "</style>\n",
              "<table border=\"1\" class=\"dataframe\">\n",
              "  <thead>\n",
              "    <tr style=\"text-align: right;\">\n",
              "      <th></th>\n",
              "      <th>sepal length (cm)</th>\n",
              "      <th>sepal width (cm)</th>\n",
              "      <th>petal length (cm)</th>\n",
              "      <th>petal width (cm)</th>\n",
              "    </tr>\n",
              "  </thead>\n",
              "  <tbody>\n",
              "    <tr>\n",
              "      <th>0</th>\n",
              "      <td>5.1</td>\n",
              "      <td>3.5</td>\n",
              "      <td>1.4</td>\n",
              "      <td>0.2</td>\n",
              "    </tr>\n",
              "    <tr>\n",
              "      <th>1</th>\n",
              "      <td>4.9</td>\n",
              "      <td>3.0</td>\n",
              "      <td>1.4</td>\n",
              "      <td>0.2</td>\n",
              "    </tr>\n",
              "    <tr>\n",
              "      <th>2</th>\n",
              "      <td>4.7</td>\n",
              "      <td>3.2</td>\n",
              "      <td>1.3</td>\n",
              "      <td>0.2</td>\n",
              "    </tr>\n",
              "    <tr>\n",
              "      <th>3</th>\n",
              "      <td>4.6</td>\n",
              "      <td>3.1</td>\n",
              "      <td>1.5</td>\n",
              "      <td>0.2</td>\n",
              "    </tr>\n",
              "    <tr>\n",
              "      <th>4</th>\n",
              "      <td>5.0</td>\n",
              "      <td>3.6</td>\n",
              "      <td>1.4</td>\n",
              "      <td>0.2</td>\n",
              "    </tr>\n",
              "  </tbody>\n",
              "</table>\n",
              "</div>"
            ],
            "text/plain": [
              "   sepal length (cm)  sepal width (cm)  petal length (cm)  petal width (cm)\n",
              "0                5.1               3.5                1.4               0.2\n",
              "1                4.9               3.0                1.4               0.2\n",
              "2                4.7               3.2                1.3               0.2\n",
              "3                4.6               3.1                1.5               0.2\n",
              "4                5.0               3.6                1.4               0.2"
            ]
          },
          "metadata": {
            "tags": []
          },
          "execution_count": 9
        }
      ]
    },
    {
      "cell_type": "code",
      "metadata": {
        "id": "RQQg-uTjmtYV"
      },
      "source": [
        "vote = pd.read_csv(\"house-votes-84.data.txt\")"
      ],
      "execution_count": 177,
      "outputs": []
    },
    {
      "cell_type": "code",
      "metadata": {
        "id": "EV4MTKK2mtcg",
        "colab": {
          "base_uri": "https://localhost:8080/",
          "height": 224
        },
        "outputId": "c0a3fa25-f402-4f11-a002-001bc37dda00"
      },
      "source": [
        "df = pd.read_csv('house-votes-84.data.txt', header=None)\n",
        "df.columns = ['party', 'infants', 'water', 'budget', 'physician', 'salvador',\n",
        "       'religious', 'satellite', 'aid', 'missile', 'immigration', 'synfuels',\n",
        "       'education', 'superfund', 'crime', 'duty_free_exports', 'eaa_rsa']\n",
        "df.replace({'?':'n'}, inplace=True)\n",
        "df.replace({'n':0, 'y': 1}, inplace=True)\n",
        "df.head()"
      ],
      "execution_count": 178,
      "outputs": [
        {
          "output_type": "execute_result",
          "data": {
            "text/html": [
              "<div>\n",
              "<style scoped>\n",
              "    .dataframe tbody tr th:only-of-type {\n",
              "        vertical-align: middle;\n",
              "    }\n",
              "\n",
              "    .dataframe tbody tr th {\n",
              "        vertical-align: top;\n",
              "    }\n",
              "\n",
              "    .dataframe thead th {\n",
              "        text-align: right;\n",
              "    }\n",
              "</style>\n",
              "<table border=\"1\" class=\"dataframe\">\n",
              "  <thead>\n",
              "    <tr style=\"text-align: right;\">\n",
              "      <th></th>\n",
              "      <th>party</th>\n",
              "      <th>infants</th>\n",
              "      <th>water</th>\n",
              "      <th>budget</th>\n",
              "      <th>physician</th>\n",
              "      <th>salvador</th>\n",
              "      <th>religious</th>\n",
              "      <th>satellite</th>\n",
              "      <th>aid</th>\n",
              "      <th>missile</th>\n",
              "      <th>immigration</th>\n",
              "      <th>synfuels</th>\n",
              "      <th>education</th>\n",
              "      <th>superfund</th>\n",
              "      <th>crime</th>\n",
              "      <th>duty_free_exports</th>\n",
              "      <th>eaa_rsa</th>\n",
              "    </tr>\n",
              "  </thead>\n",
              "  <tbody>\n",
              "    <tr>\n",
              "      <th>0</th>\n",
              "      <td>republican</td>\n",
              "      <td>0</td>\n",
              "      <td>1</td>\n",
              "      <td>0</td>\n",
              "      <td>1</td>\n",
              "      <td>1</td>\n",
              "      <td>1</td>\n",
              "      <td>0</td>\n",
              "      <td>0</td>\n",
              "      <td>0</td>\n",
              "      <td>1</td>\n",
              "      <td>0</td>\n",
              "      <td>1</td>\n",
              "      <td>1</td>\n",
              "      <td>1</td>\n",
              "      <td>0</td>\n",
              "      <td>1</td>\n",
              "    </tr>\n",
              "    <tr>\n",
              "      <th>1</th>\n",
              "      <td>republican</td>\n",
              "      <td>0</td>\n",
              "      <td>1</td>\n",
              "      <td>0</td>\n",
              "      <td>1</td>\n",
              "      <td>1</td>\n",
              "      <td>1</td>\n",
              "      <td>0</td>\n",
              "      <td>0</td>\n",
              "      <td>0</td>\n",
              "      <td>0</td>\n",
              "      <td>0</td>\n",
              "      <td>1</td>\n",
              "      <td>1</td>\n",
              "      <td>1</td>\n",
              "      <td>0</td>\n",
              "      <td>0</td>\n",
              "    </tr>\n",
              "    <tr>\n",
              "      <th>2</th>\n",
              "      <td>democrat</td>\n",
              "      <td>0</td>\n",
              "      <td>1</td>\n",
              "      <td>1</td>\n",
              "      <td>0</td>\n",
              "      <td>1</td>\n",
              "      <td>1</td>\n",
              "      <td>0</td>\n",
              "      <td>0</td>\n",
              "      <td>0</td>\n",
              "      <td>0</td>\n",
              "      <td>1</td>\n",
              "      <td>0</td>\n",
              "      <td>1</td>\n",
              "      <td>1</td>\n",
              "      <td>0</td>\n",
              "      <td>0</td>\n",
              "    </tr>\n",
              "    <tr>\n",
              "      <th>3</th>\n",
              "      <td>democrat</td>\n",
              "      <td>0</td>\n",
              "      <td>1</td>\n",
              "      <td>1</td>\n",
              "      <td>0</td>\n",
              "      <td>0</td>\n",
              "      <td>1</td>\n",
              "      <td>0</td>\n",
              "      <td>0</td>\n",
              "      <td>0</td>\n",
              "      <td>0</td>\n",
              "      <td>1</td>\n",
              "      <td>0</td>\n",
              "      <td>1</td>\n",
              "      <td>0</td>\n",
              "      <td>0</td>\n",
              "      <td>1</td>\n",
              "    </tr>\n",
              "    <tr>\n",
              "      <th>4</th>\n",
              "      <td>democrat</td>\n",
              "      <td>1</td>\n",
              "      <td>1</td>\n",
              "      <td>1</td>\n",
              "      <td>0</td>\n",
              "      <td>1</td>\n",
              "      <td>1</td>\n",
              "      <td>0</td>\n",
              "      <td>0</td>\n",
              "      <td>0</td>\n",
              "      <td>0</td>\n",
              "      <td>1</td>\n",
              "      <td>0</td>\n",
              "      <td>1</td>\n",
              "      <td>1</td>\n",
              "      <td>1</td>\n",
              "      <td>1</td>\n",
              "    </tr>\n",
              "  </tbody>\n",
              "</table>\n",
              "</div>"
            ],
            "text/plain": [
              "        party  infants  water  ...  crime  duty_free_exports  eaa_rsa\n",
              "0  republican        0      1  ...      1                  0        1\n",
              "1  republican        0      1  ...      1                  0        0\n",
              "2    democrat        0      1  ...      1                  0        0\n",
              "3    democrat        0      1  ...      0                  0        1\n",
              "4    democrat        1      1  ...      1                  1        1\n",
              "\n",
              "[5 rows x 17 columns]"
            ]
          },
          "metadata": {
            "tags": []
          },
          "execution_count": 178
        }
      ]
    },
    {
      "cell_type": "code",
      "metadata": {
        "id": "DlpYHqMFnCe9",
        "colab": {
          "base_uri": "https://localhost:8080/",
          "height": 282
        },
        "outputId": "db7ddfd5-e277-4377-88ef-4a5d2ff4da44"
      },
      "source": [
        "plt.figure()\n",
        "sns.countplot(x='education', hue='party', data=df, palette='RdBu')\n",
        "plt.xticks([0,1], ['No', 'Yes'])\n",
        "plt.show()"
      ],
      "execution_count": 12,
      "outputs": [
        {
          "output_type": "display_data",
          "data": {
            "image/png": "[encoded data removed]",
            "text/plain": [
              "<Figure size 432x288 with 1 Axes>"
            ]
          },
          "metadata": {
            "tags": []
          }
        }
      ]
    },
    {
      "cell_type": "code",
      "metadata": {
        "id": "lMhVBLxLnEHp",
        "colab": {
          "base_uri": "https://localhost:8080/",
          "height": 282
        },
        "outputId": "d6a37978-3703-440d-afa9-3d08e2f40c74"
      },
      "source": [
        "plt.figure()\n",
        "sns.countplot(x='satellite', hue='party', data=df, palette='RdBu')\n",
        "plt.xticks([0,1], ['No', 'Yes'])\n",
        "plt.show()"
      ],
      "execution_count": 13,
      "outputs": [
        {
          "output_type": "display_data",
          "data": {
            "image/png": "[encoded data removed]",
            "text/plain": [
              "<Figure size 432x288 with 1 Axes>"
            ]
          },
          "metadata": {
            "tags": []
          }
        }
      ]
    },
    {
      "cell_type": "code",
      "metadata": {
        "id": "JEnSUeaFnESj",
        "colab": {
          "base_uri": "https://localhost:8080/",
          "height": 282
        },
        "outputId": "381d6280-c45e-4f9f-a597-5c401aa05adf"
      },
      "source": [
        "plt.figure()\n",
        "sns.countplot(x='missile', hue='party', data=df, palette='RdBu')\n",
        "plt.xticks([0,1], ['No', 'Yes'])\n",
        "plt.show()"
      ],
      "execution_count": 14,
      "outputs": [
        {
          "output_type": "display_data",
          "data": {
            "image/png": "[encoded data removed]",
            "text/plain": [
              "<Figure size 432x288 with 1 Axes>"
            ]
          },
          "metadata": {
            "tags": []
          }
        }
      ]
    },
    {
      "cell_type": "markdown",
      "metadata": {
        "id": "0ZpkIje5nLIW"
      },
      "source": [
        "# **THE CLASSIFICATION CHALLENGE**\n",
        "----"
      ]
    },
    {
      "cell_type": "code",
      "metadata": {
        "id": "pbNGY_yHnEXw"
      },
      "source": [
        "from sklearn.neighbors import KNeighborsClassifier"
      ],
      "execution_count": 15,
      "outputs": []
    },
    {
      "cell_type": "code",
      "metadata": {
        "id": "dzU0Ife7nEP4",
        "colab": {
          "base_uri": "https://localhost:8080/"
        },
        "outputId": "78bb5f7c-a659-416b-882f-0183932db815"
      },
      "source": [
        "knn= KNeighborsClassifier(n_neighbors=6)\n",
        "knn.fit(iris['data'], iris['target'])"
      ],
      "execution_count": 16,
      "outputs": [
        {
          "output_type": "execute_result",
          "data": {
            "text/plain": [
              "KNeighborsClassifier(algorithm='auto', leaf_size=30, metric='minkowski',\n",
              "                     metric_params=None, n_jobs=None, n_neighbors=6, p=2,\n",
              "                     weights='uniform')"
            ]
          },
          "metadata": {
            "tags": []
          },
          "execution_count": 16
        }
      ]
    },
    {
      "cell_type": "code",
      "metadata": {
        "id": "q498qL58nEM4"
      },
      "source": [
        "x_new = np.array([[5.6,2.8,3.9,11],\n",
        "                 [5.7,2.6,3.8,1.3],\n",
        "                 [4.7,3.2,1.3,0.2]])"
      ],
      "execution_count": 17,
      "outputs": []
    },
    {
      "cell_type": "code",
      "metadata": {
        "id": "LJmFq7DknTWp"
      },
      "source": [
        "predict= knn.predict(x_new)"
      ],
      "execution_count": 18,
      "outputs": []
    },
    {
      "cell_type": "code",
      "metadata": {
        "id": "f58MoIwenTdL",
        "colab": {
          "base_uri": "https://localhost:8080/"
        },
        "outputId": "136d73bd-c154-4643-cc3b-40a09fe6a550"
      },
      "source": [
        "print(\"Prediccion: {}\" .format(predict))"
      ],
      "execution_count": 19,
      "outputs": [
        {
          "output_type": "stream",
          "text": [
            "Prediccion: [2 1 0]\n"
          ],
          "name": "stdout"
        }
      ]
    },
    {
      "cell_type": "code",
      "metadata": {
        "id": "MiXCRpVunTbE"
      },
      "source": [
        "# Create arrays for the features and the response variable\n",
        "y = df['party'].values\n",
        "X = df.drop('party', axis=1).values"
      ],
      "execution_count": 20,
      "outputs": []
    },
    {
      "cell_type": "code",
      "metadata": {
        "id": "KjDjWDu1nf9J"
      },
      "source": [
        "# Create a k-NN classifier with 6 neighbors\n",
        "knn = KNeighborsClassifier(n_neighbors=6)"
      ],
      "execution_count": 21,
      "outputs": []
    },
    {
      "cell_type": "code",
      "metadata": {
        "id": "IaRWUiZvngC8",
        "colab": {
          "base_uri": "https://localhost:8080/"
        },
        "outputId": "6e3be425-50fb-4501-dbeb-090898a0e589"
      },
      "source": [
        "# Fit the classifier to the data\n",
        "knn.fit(X,y)"
      ],
      "execution_count": 22,
      "outputs": [
        {
          "output_type": "execute_result",
          "data": {
            "text/plain": [
              "KNeighborsClassifier(algorithm='auto', leaf_size=30, metric='minkowski',\n",
              "                     metric_params=None, n_jobs=None, n_neighbors=6, p=2,\n",
              "                     weights='uniform')"
            ]
          },
          "metadata": {
            "tags": []
          },
          "execution_count": 22
        }
      ]
    },
    {
      "cell_type": "markdown",
      "metadata": {
        "id": "_FlPOXPbnmmE"
      },
      "source": [
        "¡Excelente! Ahora que su clasificador k-NN con 6 vecinos se ha ajustado a los datos, se puede usar para predecir las etiquetas de nuevos puntos de datos."
      ]
    },
    {
      "cell_type": "markdown",
      "metadata": {
        "id": "1XDT5b-mnpUw"
      },
      "source": [
        "# **k-Nearest Neighbors: Predict**\n",
        "----"
      ]
    },
    {
      "cell_type": "code",
      "metadata": {
        "id": "yKYroq0KngJJ"
      },
      "source": [
        "X_new = pd.DataFrame([0.696469, 0.286139, 0.226851, 0.551315, 0.719469, 0.423106, 0.980764, \n",
        "                      0.68483, 0.480932, 0.392118, 0.343178, 0.72905, 0.438572, 0.059678,\n",
        "                      0.398044, 0.737995]).transpose()"
      ],
      "execution_count": 23,
      "outputs": []
    },
    {
      "cell_type": "code",
      "metadata": {
        "id": "KGdYliTxngHj",
        "colab": {
          "base_uri": "https://localhost:8080/"
        },
        "outputId": "bfee7d22-0cf8-4e89-e252-b194555c1305"
      },
      "source": [
        "# Predict the labels for the training data X: y_pred\n",
        "y_pred = knn.predict(X)\n",
        "\n",
        "# Predict and print the label for the new data point X_new\n",
        "new_prediction = knn.predict(X_new)\n",
        "print(\"Prediction: {}\".format(new_prediction))"
      ],
      "execution_count": 24,
      "outputs": [
        {
          "output_type": "stream",
          "text": [
            "Prediction: ['democrat']\n"
          ],
          "name": "stdout"
        }
      ]
    },
    {
      "cell_type": "markdown",
      "metadata": {
        "id": "SWevNQmrnz8H"
      },
      "source": [
        "# **Measuring model performance**\n",
        "----"
      ]
    },
    {
      "cell_type": "code",
      "metadata": {
        "id": "oZawMRTcngBP"
      },
      "source": [
        "from sklearn.model_selection import train_test_split"
      ],
      "execution_count": 25,
      "outputs": []
    },
    {
      "cell_type": "code",
      "metadata": {
        "id": "orByUYObn1nm"
      },
      "source": [
        "X_train,X_test,y_train,y_test = train_test_split(iris.data,iris.target, test_size=0.3,random_state=42)"
      ],
      "execution_count": 26,
      "outputs": []
    },
    {
      "cell_type": "code",
      "metadata": {
        "id": "yF_tMhM1n1lB"
      },
      "source": [
        "knn= KNeighborsClassifier(n_neighbors=8)"
      ],
      "execution_count": 27,
      "outputs": []
    },
    {
      "cell_type": "code",
      "metadata": {
        "id": "kk0OuG55n1iT",
        "colab": {
          "base_uri": "https://localhost:8080/"
        },
        "outputId": "6a03f565-b745-4019-d812-ff893ec5b17b"
      },
      "source": [
        "knn.fit(X_train,y_train)"
      ],
      "execution_count": 28,
      "outputs": [
        {
          "output_type": "execute_result",
          "data": {
            "text/plain": [
              "KNeighborsClassifier(algorithm='auto', leaf_size=30, metric='minkowski',\n",
              "                     metric_params=None, n_jobs=None, n_neighbors=8, p=2,\n",
              "                     weights='uniform')"
            ]
          },
          "metadata": {
            "tags": []
          },
          "execution_count": 28
        }
      ]
    },
    {
      "cell_type": "code",
      "metadata": {
        "id": "dBbN28mkoFjM"
      },
      "source": [
        "predi = knn.predict(X_test)"
      ],
      "execution_count": 29,
      "outputs": []
    },
    {
      "cell_type": "code",
      "metadata": {
        "id": "ghiExFX4oFsH",
        "colab": {
          "base_uri": "https://localhost:8080/"
        },
        "outputId": "f5fdba3f-e3f8-4a11-fd09-f69777273b59"
      },
      "source": [
        "print(\"Test set prediction: {}\" .format(predi))"
      ],
      "execution_count": 30,
      "outputs": [
        {
          "output_type": "stream",
          "text": [
            "Test set prediction: [1 0 2 1 1 0 1 2 1 1 2 0 0 0 0 1 2 1 1 2 0 2 0 2 2 2 2 2 0 0 0 0 1 0 0 2 1\n",
            " 0 0 0 2 1 1 0 0]\n"
          ],
          "name": "stdout"
        }
      ]
    },
    {
      "cell_type": "code",
      "metadata": {
        "id": "JTiulEJGoFpI",
        "colab": {
          "base_uri": "https://localhost:8080/"
        },
        "outputId": "2c3bedca-7196-4b27-8aa9-90a007132756"
      },
      "source": [
        "knn.score(X_test,y_test)"
      ],
      "execution_count": 31,
      "outputs": [
        {
          "output_type": "execute_result",
          "data": {
            "text/plain": [
              "1.0"
            ]
          },
          "metadata": {
            "tags": []
          },
          "execution_count": 31
        }
      ]
    },
    {
      "cell_type": "markdown",
      "metadata": {
        "id": "5w93iBmsoWhG"
      },
      "source": [
        "# **The digits recognition dataset**\n",
        "-----"
      ]
    },
    {
      "cell_type": "code",
      "metadata": {
        "id": "EhoGOzv5oFm-"
      },
      "source": [
        "# Import necessary modules\n",
        "from sklearn import datasets\n",
        "import matplotlib.pyplot as plt"
      ],
      "execution_count": 32,
      "outputs": []
    },
    {
      "cell_type": "code",
      "metadata": {
        "id": "XBz-0nW9oR3a"
      },
      "source": [
        "# Load the digits dataset: digits\n",
        "digits = datasets.load_digits()"
      ],
      "execution_count": 33,
      "outputs": []
    },
    {
      "cell_type": "code",
      "metadata": {
        "id": "FhaouJvgoR8n",
        "colab": {
          "base_uri": "https://localhost:8080/"
        },
        "outputId": "5bab3370-d310-47d8-ffdb-47f2b55b50af"
      },
      "source": [
        "# Print the keys and DESCR of the dataset\n",
        "print(digits.keys())\n",
        "print(digits.DESCR)"
      ],
      "execution_count": 34,
      "outputs": [
        {
          "output_type": "stream",
          "text": [
            "dict_keys(['data', 'target', 'target_names', 'images', 'DESCR'])\n",
            ".. _digits_dataset:\n",
            "\n",
            "Optical recognition of handwritten digits dataset\n",
            "--------------------------------------------------\n",
            "\n",
            "**Data Set Characteristics:**\n",
            "\n",
            "    :Number of Instances: 5620\n",
            "    :Number of Attributes: 64\n",
            "    :Attribute Information: 8x8 image of integer pixels in the range 0..16.\n",
            "    :Missing Attribute Values: None\n",
            "    :Creator: E. Alpaydin (alpaydin '@' boun.edu.tr)\n",
            "    :Date: July; 1998\n",
            "\n",
            "This is a copy of the test set of the UCI ML hand-written digits datasets\n",
            "https://archive.ics.uci.edu/ml/datasets/Optical+Recognition+of+Handwritten+Digits\n",
            "\n",
            "The data set contains images of hand-written digits: 10 classes where\n",
            "each class refers to a digit.\n",
            "\n",
            "Preprocessing programs made available by NIST were used to extract\n",
            "normalized bitmaps of handwritten digits from a preprinted form. From a\n",
            "total of 43 people, 30 contributed to the training set and different 13\n",
            "to the test set. 32x32 bitmaps are divided into nonoverlapping blocks of\n",
            "4x4 and the number of on pixels are counted in each block. This generates\n",
            "an input matrix of 8x8 where each element is an integer in the range\n",
            "0..16. This reduces dimensionality and gives invariance to small\n",
            "distortions.\n",
            "\n",
            "For info on NIST preprocessing routines, see M. D. Garris, J. L. Blue, G.\n",
            "T. Candela, D. L. Dimmick, J. Geist, P. J. Grother, S. A. Janet, and C.\n",
            "L. Wilson, NIST Form-Based Handprint Recognition System, NISTIR 5469,\n",
            "1994.\n",
            "\n",
            ".. topic:: References\n",
            "\n",
            "  - C. Kaynak (1995) Methods of Combining Multiple Classifiers and Their\n",
            "    Applications to Handwritten Digit Recognition, MSc Thesis, Institute of\n",
            "    Graduate Studies in Science and Engineering, Bogazici University.\n",
            "  - E. Alpaydin, C. Kaynak (1998) Cascading Classifiers, Kybernetika.\n",
            "  - Ken Tang and Ponnuthurai N. Suganthan and Xi Yao and A. Kai Qin.\n",
            "    Linear dimensionalityreduction using relevance weighted LDA. School of\n",
            "    Electrical and Electronic Engineering Nanyang Technological University.\n",
            "    2005.\n",
            "  - Claudio Gentile. A New Approximate Maximal Margin Classification\n",
            "    Algorithm. NIPS. 2000.\n"
          ],
          "name": "stdout"
        }
      ]
    },
    {
      "cell_type": "code",
      "metadata": {
        "id": "b12udPPVoSCC",
        "colab": {
          "base_uri": "https://localhost:8080/"
        },
        "outputId": "78cbbef7-df4b-4e5d-f586-813935554982"
      },
      "source": [
        "# Print the shape of the images and data keys\n",
        "print(digits.data.shape)\n",
        "print(digits.images.shape)"
      ],
      "execution_count": 35,
      "outputs": [
        {
          "output_type": "stream",
          "text": [
            "(1797, 64)\n",
            "(1797, 8, 8)\n"
          ],
          "name": "stdout"
        }
      ]
    },
    {
      "cell_type": "markdown",
      "metadata": {
        "id": "k_PcXtl-okdw"
      },
      "source": [
        "Muestre la imagen 1011 usando plt.imshow (). Esto se ha hecho para usted, así que presione 'Enviar respuesta' para ver qué dígito escrito a mano es este."
      ]
    },
    {
      "cell_type": "code",
      "metadata": {
        "id": "BsU2Mq-2ohJU",
        "colab": {
          "base_uri": "https://localhost:8080/",
          "height": 265
        },
        "outputId": "918d5ce7-fe31-4a35-c8e6-3d4273dc89b1"
      },
      "source": [
        "# Display digit 1010\n",
        "plt.imshow(digits.images[20], cmap=plt.cm.gray_r, interpolation='nearest')\n",
        "plt.show()"
      ],
      "execution_count": 36,
      "outputs": [
        {
          "output_type": "display_data",
          "data": {
            "image/png": "[encoded data removed]",
            "text/plain": [
              "<Figure size 432x288 with 1 Axes>"
            ]
          },
          "metadata": {
            "tags": []
          }
        }
      ]
    },
    {
      "cell_type": "code",
      "metadata": {
        "id": "-RFcGfZHohPc"
      },
      "source": [
        "# Import necessary modules\n",
        "from sklearn.neighbors import KNeighborsClassifier\n",
        "from sklearn.model_selection import train_test_split"
      ],
      "execution_count": 37,
      "outputs": []
    },
    {
      "cell_type": "code",
      "metadata": {
        "id": "3L47RovxohWU"
      },
      "source": [
        "# Create feature and target arrays\n",
        "X = digits.data\n",
        "y = digits.target"
      ],
      "execution_count": 38,
      "outputs": []
    },
    {
      "cell_type": "code",
      "metadata": {
        "id": "xYVHVeh-ohUc"
      },
      "source": [
        "# Split into training and test set\n",
        "X_train, X_test, y_train, y_test = train_test_split(X, y, test_size =0.2, random_state=42, stratify=y)"
      ],
      "execution_count": 39,
      "outputs": []
    },
    {
      "cell_type": "code",
      "metadata": {
        "id": "PXdr15fcohNE"
      },
      "source": [
        "# Create a k-NN classifier with 7 neighbors: knn\n",
        "knn = KNeighborsClassifier(n_neighbors=7)"
      ],
      "execution_count": 40,
      "outputs": []
    },
    {
      "cell_type": "code",
      "metadata": {
        "id": "o2TW4vMGoxUd",
        "colab": {
          "base_uri": "https://localhost:8080/"
        },
        "outputId": "78234032-770e-4341-9c7b-5206f13086a3"
      },
      "source": [
        "# Fit the classifier to the training data\n",
        "knn.fit(X_train,y_train)"
      ],
      "execution_count": 41,
      "outputs": [
        {
          "output_type": "execute_result",
          "data": {
            "text/plain": [
              "KNeighborsClassifier(algorithm='auto', leaf_size=30, metric='minkowski',\n",
              "                     metric_params=None, n_jobs=None, n_neighbors=7, p=2,\n",
              "                     weights='uniform')"
            ]
          },
          "metadata": {
            "tags": []
          },
          "execution_count": 41
        }
      ]
    },
    {
      "cell_type": "code",
      "metadata": {
        "id": "MTXZs3n2oxlO",
        "colab": {
          "base_uri": "https://localhost:8080/"
        },
        "outputId": "ed06951a-363c-46bd-ca19-cc880a264e34"
      },
      "source": [
        "# Print the accuracy\n",
        "print(knn.score(X_test, y_test))"
      ],
      "execution_count": 42,
      "outputs": [
        {
          "output_type": "stream",
          "text": [
            "0.9833333333333333\n"
          ],
          "name": "stdout"
        }
      ]
    },
    {
      "cell_type": "markdown",
      "metadata": {
        "id": "gErUSIO3o4VV"
      },
      "source": [
        "¡Excelente trabajo! Increíblemente, este clasificador k-NN listo para usar con 7 vecinos aprendió de los datos de entrenamiento y predijo las etiquetas de las imágenes en el conjunto de prueba con una precisión del 98%, ¡y lo hizo en menos de un segundo! Esta es una ilustración de lo increíblemente útiles que pueden ser las técnicas de aprendizaje automático."
      ]
    },
    {
      "cell_type": "markdown",
      "metadata": {
        "id": "3wzlVw6ho6_e"
      },
      "source": [
        "**Overfitting and underfitting**\n",
        "\n",
        "¿Recuerda la curva de complejidad del modelo que mostró Hugo en el video? ¡Ahora construirá dicha curva para el conjunto de datos de dígitos! En este ejercicio, calculará y trazará los puntajes de precisión de entrenamiento y prueba para una variedad de valores vecinos diferentes. Al observar cómo difieren los puntajes de precisión para los conjuntos de entrenamiento y prueba con diferentes valores de k, desarrollará su intuición para sobreajustar y desajustar.\n"
      ]
    },
    {
      "cell_type": "code",
      "metadata": {
        "id": "zZglbjCWoxhs"
      },
      "source": [
        "# Setup arrays to store train and test accuracies\n",
        "neighbors = np.arange(1, 9)\n",
        "train_accuracy = np.empty(len(neighbors))\n",
        "test_accuracy = np.empty(len(neighbors))"
      ],
      "execution_count": 43,
      "outputs": []
    },
    {
      "cell_type": "code",
      "metadata": {
        "id": "5bhGHex3oxfU"
      },
      "source": [
        "# Loop over different values of k\n",
        "for i, k in enumerate(neighbors):\n",
        "    # Setup a k-NN Classifier with k neighbors: knn\n",
        "    knn = KNeighborsClassifier(k)\n",
        "\n",
        "    # Fit the classifier to the training data\n",
        "    knn.fit(X_train,y_train)\n",
        "    \n",
        "    #Compute accuracy on the training set\n",
        "    train_accuracy[i] = knn.score(X_train, y_train)\n",
        "\n",
        "    #Compute accuracy on the testing set\n",
        "    test_accuracy[i] = knn.score(X_test, y_test)"
      ],
      "execution_count": 44,
      "outputs": []
    },
    {
      "cell_type": "code",
      "metadata": {
        "id": "lVwW0oVkoxc_",
        "colab": {
          "base_uri": "https://localhost:8080/",
          "height": 299
        },
        "outputId": "0e78e0f8-e874-4496-fbaf-7eeca99caa58"
      },
      "source": [
        "# Generate plot\n",
        "plt.title('k-NN: Varying Number of Neighbors')\n",
        "plt.plot(neighbors, test_accuracy, label = 'Testing Accuracy')\n",
        "plt.plot(neighbors, train_accuracy, label = 'Training Accuracy')\n",
        "plt.legend()\n",
        "plt.xlabel('Number of Neighbors')\n",
        "plt.ylabel('Accuracy')\n",
        "plt.show()"
      ],
      "execution_count": 45,
      "outputs": [
        {
          "output_type": "display_data",
          "data": {
            "image/png": "[encoded data removed]",
            "text/plain": [
              "<Figure size 432x288 with 1 Axes>"
            ]
          },
          "metadata": {
            "tags": []
          }
        }
      ]
    },
    {
      "cell_type": "markdown",
      "metadata": {
        "id": "kGbYzHqrpHV0"
      },
      "source": [
        "Buen trabajo! Parece que la precisión de la prueba es máxima cuando se utilizan 3 y 5 vecinos. El uso de 8 vecinos o más parece resultar en un modelo simple que no se ajusta a los datos. Ahora que ha comprendido los fundamentos de la clasificación, ¡aprenderá sobre la regresión en el próximo capítulo!"
      ]
    },
    {
      "cell_type": "markdown",
      "metadata": {
        "id": "1W6tS8h2pKtw"
      },
      "source": [
        "------\n",
        "## **INTRODUCTION TO REGRESSION** (2)\n",
        "------"
      ]
    },
    {
      "cell_type": "code",
      "metadata": {
        "id": "xWk9o7EipBwf"
      },
      "source": [
        "from sklearn.datasets import load_boston"
      ],
      "execution_count": 46,
      "outputs": []
    },
    {
      "cell_type": "code",
      "metadata": {
        "id": "clEJ3js_pB1a"
      },
      "source": [
        "boston = load_boston()"
      ],
      "execution_count": 47,
      "outputs": []
    },
    {
      "cell_type": "code",
      "metadata": {
        "id": "GeWwjWwppB8y",
        "colab": {
          "base_uri": "https://localhost:8080/",
          "height": 204
        },
        "outputId": "2b4e4d62-5cf6-43b4-9604-5c5477fd6354"
      },
      "source": [
        "house = pd.DataFrame(data=boston.data, columns=boston.feature_names)\n",
        "house['MEDV'] = boston['target']\n",
        "house.head()"
      ],
      "execution_count": 48,
      "outputs": [
        {
          "output_type": "execute_result",
          "data": {
            "text/html": [
              "<div>\n",
              "<style scoped>\n",
              "    .dataframe tbody tr th:only-of-type {\n",
              "        vertical-align: middle;\n",
              "    }\n",
              "\n",
              "    .dataframe tbody tr th {\n",
              "        vertical-align: top;\n",
              "    }\n",
              "\n",
              "    .dataframe thead th {\n",
              "        text-align: right;\n",
              "    }\n",
              "</style>\n",
              "<table border=\"1\" class=\"dataframe\">\n",
              "  <thead>\n",
              "    <tr style=\"text-align: right;\">\n",
              "      <th></th>\n",
              "      <th>CRIM</th>\n",
              "      <th>ZN</th>\n",
              "      <th>INDUS</th>\n",
              "      <th>CHAS</th>\n",
              "      <th>NOX</th>\n",
              "      <th>RM</th>\n",
              "      <th>AGE</th>\n",
              "      <th>DIS</th>\n",
              "      <th>RAD</th>\n",
              "      <th>TAX</th>\n",
              "      <th>PTRATIO</th>\n",
              "      <th>B</th>\n",
              "      <th>LSTAT</th>\n",
              "      <th>MEDV</th>\n",
              "    </tr>\n",
              "  </thead>\n",
              "  <tbody>\n",
              "    <tr>\n",
              "      <th>0</th>\n",
              "      <td>0.00632</td>\n",
              "      <td>18.0</td>\n",
              "      <td>2.31</td>\n",
              "      <td>0.0</td>\n",
              "      <td>0.538</td>\n",
              "      <td>6.575</td>\n",
              "      <td>65.2</td>\n",
              "      <td>4.0900</td>\n",
              "      <td>1.0</td>\n",
              "      <td>296.0</td>\n",
              "      <td>15.3</td>\n",
              "      <td>396.90</td>\n",
              "      <td>4.98</td>\n",
              "      <td>24.0</td>\n",
              "    </tr>\n",
              "    <tr>\n",
              "      <th>1</th>\n",
              "      <td>0.02731</td>\n",
              "      <td>0.0</td>\n",
              "      <td>7.07</td>\n",
              "      <td>0.0</td>\n",
              "      <td>0.469</td>\n",
              "      <td>6.421</td>\n",
              "      <td>78.9</td>\n",
              "      <td>4.9671</td>\n",
              "      <td>2.0</td>\n",
              "      <td>242.0</td>\n",
              "      <td>17.8</td>\n",
              "      <td>396.90</td>\n",
              "      <td>9.14</td>\n",
              "      <td>21.6</td>\n",
              "    </tr>\n",
              "    <tr>\n",
              "      <th>2</th>\n",
              "      <td>0.02729</td>\n",
              "      <td>0.0</td>\n",
              "      <td>7.07</td>\n",
              "      <td>0.0</td>\n",
              "      <td>0.469</td>\n",
              "      <td>7.185</td>\n",
              "      <td>61.1</td>\n",
              "      <td>4.9671</td>\n",
              "      <td>2.0</td>\n",
              "      <td>242.0</td>\n",
              "      <td>17.8</td>\n",
              "      <td>392.83</td>\n",
              "      <td>4.03</td>\n",
              "      <td>34.7</td>\n",
              "    </tr>\n",
              "    <tr>\n",
              "      <th>3</th>\n",
              "      <td>0.03237</td>\n",
              "      <td>0.0</td>\n",
              "      <td>2.18</td>\n",
              "      <td>0.0</td>\n",
              "      <td>0.458</td>\n",
              "      <td>6.998</td>\n",
              "      <td>45.8</td>\n",
              "      <td>6.0622</td>\n",
              "      <td>3.0</td>\n",
              "      <td>222.0</td>\n",
              "      <td>18.7</td>\n",
              "      <td>394.63</td>\n",
              "      <td>2.94</td>\n",
              "      <td>33.4</td>\n",
              "    </tr>\n",
              "    <tr>\n",
              "      <th>4</th>\n",
              "      <td>0.06905</td>\n",
              "      <td>0.0</td>\n",
              "      <td>2.18</td>\n",
              "      <td>0.0</td>\n",
              "      <td>0.458</td>\n",
              "      <td>7.147</td>\n",
              "      <td>54.2</td>\n",
              "      <td>6.0622</td>\n",
              "      <td>3.0</td>\n",
              "      <td>222.0</td>\n",
              "      <td>18.7</td>\n",
              "      <td>396.90</td>\n",
              "      <td>5.33</td>\n",
              "      <td>36.2</td>\n",
              "    </tr>\n",
              "  </tbody>\n",
              "</table>\n",
              "</div>"
            ],
            "text/plain": [
              "      CRIM    ZN  INDUS  CHAS    NOX  ...    TAX  PTRATIO       B  LSTAT  MEDV\n",
              "0  0.00632  18.0   2.31   0.0  0.538  ...  296.0     15.3  396.90   4.98  24.0\n",
              "1  0.02731   0.0   7.07   0.0  0.469  ...  242.0     17.8  396.90   9.14  21.6\n",
              "2  0.02729   0.0   7.07   0.0  0.469  ...  242.0     17.8  392.83   4.03  34.7\n",
              "3  0.03237   0.0   2.18   0.0  0.458  ...  222.0     18.7  394.63   2.94  33.4\n",
              "4  0.06905   0.0   2.18   0.0  0.458  ...  222.0     18.7  396.90   5.33  36.2\n",
              "\n",
              "[5 rows x 14 columns]"
            ]
          },
          "metadata": {
            "tags": []
          },
          "execution_count": 48
        }
      ]
    },
    {
      "cell_type": "code",
      "metadata": {
        "id": "xkU4sO9PoxaQ"
      },
      "source": [
        "# Creature feature and target arrays\n",
        "X = house.drop('MEDV', axis=1).values\n",
        "y = house['MEDV'].values"
      ],
      "execution_count": 49,
      "outputs": []
    },
    {
      "cell_type": "code",
      "metadata": {
        "id": "cmSbkhx_pVnS",
        "colab": {
          "base_uri": "https://localhost:8080/"
        },
        "outputId": "e3c6d636-21a5-45aa-997f-f298b5ccffad"
      },
      "source": [
        "# Predicting house price from a single feature\n",
        "X_rooms = X[:,5]\n",
        "type(X_rooms), type(y)"
      ],
      "execution_count": 50,
      "outputs": [
        {
          "output_type": "execute_result",
          "data": {
            "text/plain": [
              "(numpy.ndarray, numpy.ndarray)"
            ]
          },
          "metadata": {
            "tags": []
          },
          "execution_count": 50
        }
      ]
    },
    {
      "cell_type": "code",
      "metadata": {
        "id": "_BTGWkHbpVt-"
      },
      "source": [
        "X_rooms = X_rooms.reshape(-1,1)\n",
        "y = y.reshape(-1,1)"
      ],
      "execution_count": 51,
      "outputs": []
    },
    {
      "cell_type": "code",
      "metadata": {
        "id": "hKzyp7PrpVko",
        "colab": {
          "base_uri": "https://localhost:8080/",
          "height": 282
        },
        "outputId": "918138b1-4466-4a7f-888a-85cca51d7b6e"
      },
      "source": [
        "# Plotting house value vs number of rooms \n",
        "plt.scatter(X_rooms,y)\n",
        "plt.xlabel(\"Number of rooms\")\n",
        "plt.ylabel(\"Value of house /1000 ($)\")\n",
        "plt.show()"
      ],
      "execution_count": 52,
      "outputs": [
        {
          "output_type": "display_data",
          "data": {
            "image/png": "[encoded data removed]",
            "text/plain": [
              "<Figure size 432x288 with 1 Axes>"
            ]
          },
          "metadata": {
            "tags": []
          }
        }
      ]
    },
    {
      "cell_type": "code",
      "metadata": {
        "id": "kV7135cDpVh8"
      },
      "source": [
        "# fifting a Regression Model\n",
        "from sklearn.linear_model import LinearRegression"
      ],
      "execution_count": 53,
      "outputs": []
    },
    {
      "cell_type": "code",
      "metadata": {
        "id": "naRrTlwZpVel"
      },
      "source": [
        "reg = LinearRegression()"
      ],
      "execution_count": 54,
      "outputs": []
    },
    {
      "cell_type": "code",
      "metadata": {
        "id": "MAEBPyMzpkbl",
        "colab": {
          "base_uri": "https://localhost:8080/"
        },
        "outputId": "4c23a9da-f7f0-4f4a-93d7-096b993bc585"
      },
      "source": [
        "reg.fit(X_rooms,y)"
      ],
      "execution_count": 55,
      "outputs": [
        {
          "output_type": "execute_result",
          "data": {
            "text/plain": [
              "LinearRegression(copy_X=True, fit_intercept=True, n_jobs=None, normalize=False)"
            ]
          },
          "metadata": {
            "tags": []
          },
          "execution_count": 55
        }
      ]
    },
    {
      "cell_type": "code",
      "metadata": {
        "id": "xmXMQFWBpknF"
      },
      "source": [
        "predict_space = np.linspace(np.min(X_rooms), np.max(X_rooms)).reshape(-1,1)"
      ],
      "execution_count": 56,
      "outputs": []
    },
    {
      "cell_type": "code",
      "metadata": {
        "id": "UIAjeDgIpkkc",
        "colab": {
          "base_uri": "https://localhost:8080/",
          "height": 282
        },
        "outputId": "2caacf78-9c99-4133-a925-7b278f552c4c"
      },
      "source": [
        "#Plot predicction \n",
        "plt.scatter(X_rooms,y, color='blue')\n",
        "plt.plot(predict_space, reg.predict(predict_space), color= 'black', linewidth=3)\n",
        "plt.xlabel(\"Number of rooms\")\n",
        "plt.ylabel(\"Value of house /1000 ($)\")\n",
        "plt.show()"
      ],
      "execution_count": 57,
      "outputs": [
        {
          "output_type": "display_data",
          "data": {
            "image/png": "[encoded data removed]",
            "text/plain": [
              "<Figure size 432x288 with 1 Axes>"
            ]
          },
          "metadata": {
            "tags": []
          }
        }
      ]
    },
    {
      "cell_type": "markdown",
      "metadata": {
        "id": "Uq_DkDWMptMR"
      },
      "source": [
        "# Which of the following is a regression problem?\n",
        "Andy introduced regression to you using the Boston housing dataset. But regression models can be used in a variety of contexts to solve a variety of different problems.\n",
        "\n",
        "Given below are four example applications of machine learning. Your job is to pick the one that is best framed as a regression problem.\n",
        "\n",
        "Una empresa de comercio electrónico que utiliza datos de clientes etiquetados para predecir si un cliente comprará o no un artículo en particular.\n",
        "\n",
        "Una empresa de atención médica que utiliza datos sobre tumores cancerosos (como sus medidas geométricas) para predecir si un nuevo tumor es benigno o maligno.\n",
        "\n",
        "Un restaurante que utiliza datos de reseñas para atribuir un sentimiento positivo o negativo a una reseña determinada.\n",
        "\n",
        "Una empresa de bicicletas compartidas que utiliza datos de tiempo y clima para predecir la cantidad de bicicletas que se alquilan en una hora determinada.\n",
        "\n"
      ]
    },
    {
      "cell_type": "code",
      "metadata": {
        "id": "D-o2gkY64VsC"
      },
      "source": [
        "#pd.read_csv(\"/content/sample_data/california_housing_train.csv\")"
      ],
      "execution_count": null,
      "outputs": []
    },
    {
      "cell_type": "markdown",
      "metadata": {
        "id": "sGNfgnthrS3M"
      },
      "source": [
        "# Importing data for supervised learning\n",
        "\n",
        "En este capítulo, trabajará con datos de Gapminder que hemos consolidado en un archivo CSV disponible en el espacio de trabajo como 'gapminder.csv'. Específicamente, su objetivo será utilizar estos datos para predecir la esperanza de vida en un país determinado en función de características como el PIB, la tasa de fertilidad y la población del país. Como en el Capítulo 1, el conjunto de datos ha sido preprocesado.\n",
        "\n",
        "Dado que la variable objetivo aquí es cuantitativa, este es un problema de regresión. Para empezar, ajustará una regresión lineal con una sola característica: 'fertilidad', que es el número promedio de hijos que da a luz una mujer en un país determinado. En ejercicios posteriores, utilizará todas las funciones para crear modelos de regresión.\n"
      ]
    },
    {
      "cell_type": "code",
      "metadata": {
        "id": "wSYuXuLUkMUj",
        "colab": {
          "base_uri": "https://localhost:8080/",
          "height": 204
        },
        "outputId": "267770f4-939a-481f-c32b-72ac567b7210"
      },
      "source": [
        "df_p = pd.read_csv('/content/gm_2008_region.txt',sep='\\t')\n",
        "df_p.head()"
      ],
      "execution_count": 157,
      "outputs": [
        {
          "output_type": "execute_result",
          "data": {
            "text/html": [
              "<div>\n",
              "<style scoped>\n",
              "    .dataframe tbody tr th:only-of-type {\n",
              "        vertical-align: middle;\n",
              "    }\n",
              "\n",
              "    .dataframe tbody tr th {\n",
              "        vertical-align: top;\n",
              "    }\n",
              "\n",
              "    .dataframe thead th {\n",
              "        text-align: right;\n",
              "    }\n",
              "</style>\n",
              "<table border=\"1\" class=\"dataframe\">\n",
              "  <thead>\n",
              "    <tr style=\"text-align: right;\">\n",
              "      <th></th>\n",
              "      <th>population</th>\n",
              "      <th>fertility</th>\n",
              "      <th>HIV</th>\n",
              "      <th>CO2</th>\n",
              "      <th>BMI_male</th>\n",
              "      <th>GDP</th>\n",
              "      <th>BMI_female</th>\n",
              "      <th>life</th>\n",
              "      <th>child_mortality</th>\n",
              "      <th>Region</th>\n",
              "    </tr>\n",
              "  </thead>\n",
              "  <tbody>\n",
              "    <tr>\n",
              "      <th>0</th>\n",
              "      <td>34811059.0</td>\n",
              "      <td>2.73</td>\n",
              "      <td>0.1</td>\n",
              "      <td>3.328945</td>\n",
              "      <td>24.59620</td>\n",
              "      <td>12314.0</td>\n",
              "      <td>129.9049</td>\n",
              "      <td>75.3</td>\n",
              "      <td>29.5</td>\n",
              "      <td>Middle East &amp; North Africa</td>\n",
              "    </tr>\n",
              "    <tr>\n",
              "      <th>1</th>\n",
              "      <td>19842251.0</td>\n",
              "      <td>6.43</td>\n",
              "      <td>2.0</td>\n",
              "      <td>1.474353</td>\n",
              "      <td>22.25083</td>\n",
              "      <td>7103.0</td>\n",
              "      <td>130.1247</td>\n",
              "      <td>58.3</td>\n",
              "      <td>192.0</td>\n",
              "      <td>Sub-Saharan Africa</td>\n",
              "    </tr>\n",
              "    <tr>\n",
              "      <th>2</th>\n",
              "      <td>40381860.0</td>\n",
              "      <td>2.24</td>\n",
              "      <td>0.5</td>\n",
              "      <td>4.785170</td>\n",
              "      <td>27.50170</td>\n",
              "      <td>14646.0</td>\n",
              "      <td>118.8915</td>\n",
              "      <td>75.5</td>\n",
              "      <td>15.4</td>\n",
              "      <td>America</td>\n",
              "    </tr>\n",
              "    <tr>\n",
              "      <th>3</th>\n",
              "      <td>2975029.0</td>\n",
              "      <td>1.40</td>\n",
              "      <td>0.1</td>\n",
              "      <td>1.804106</td>\n",
              "      <td>25.35542</td>\n",
              "      <td>7383.0</td>\n",
              "      <td>132.8108</td>\n",
              "      <td>72.5</td>\n",
              "      <td>20.0</td>\n",
              "      <td>Europe &amp; Central Asia</td>\n",
              "    </tr>\n",
              "    <tr>\n",
              "      <th>4</th>\n",
              "      <td>21370348.0</td>\n",
              "      <td>1.96</td>\n",
              "      <td>0.1</td>\n",
              "      <td>18.016313</td>\n",
              "      <td>27.56373</td>\n",
              "      <td>41312.0</td>\n",
              "      <td>117.3755</td>\n",
              "      <td>81.5</td>\n",
              "      <td>5.2</td>\n",
              "      <td>East Asia &amp; Pacific</td>\n",
              "    </tr>\n",
              "  </tbody>\n",
              "</table>\n",
              "</div>"
            ],
            "text/plain": [
              "   population  fertility  ...  child_mortality                      Region\n",
              "0  34811059.0       2.73  ...             29.5  Middle East & North Africa\n",
              "1  19842251.0       6.43  ...            192.0          Sub-Saharan Africa\n",
              "2  40381860.0       2.24  ...             15.4                     America\n",
              "3   2975029.0       1.40  ...             20.0       Europe & Central Asia\n",
              "4  21370348.0       1.96  ...              5.2         East Asia & Pacific\n",
              "\n",
              "[5 rows x 10 columns]"
            ]
          },
          "metadata": {
            "tags": []
          },
          "execution_count": 157
        }
      ]
    },
    {
      "cell_type": "code",
      "metadata": {
        "id": "FWb3A53xkann"
      },
      "source": [
        "# Create arrays for features and target variable\n",
        "y = df['life'].values\n",
        "X = df['fertility'].values"
      ],
      "execution_count": 59,
      "outputs": []
    },
    {
      "cell_type": "code",
      "metadata": {
        "id": "NcelBGRUrRlr",
        "colab": {
          "base_uri": "https://localhost:8080/"
        },
        "outputId": "982451d5-89e6-46a0-9d0d-90f5b75be350"
      },
      "source": [
        "# Print the dimensions of X and y before reshaping\n",
        "print(\"Dimensions of y before reshaping: {}\".format(y.shape))\n",
        "print(\"Dimensions of X before reshaping: {}\".format(X.shape))"
      ],
      "execution_count": 60,
      "outputs": [
        {
          "output_type": "stream",
          "text": [
            "Dimensions of y before reshaping: (139,)\n",
            "Dimensions of X before reshaping: (139,)\n"
          ],
          "name": "stdout"
        }
      ]
    },
    {
      "cell_type": "code",
      "metadata": {
        "id": "rirTN89zrfK5",
        "colab": {
          "base_uri": "https://localhost:8080/"
        },
        "outputId": "a193c4dc-61f1-4465-a9d2-96c28fa0bf36"
      },
      "source": [
        "# Reshape X and y\n",
        "y = y.reshape(-1,1)\n",
        "X = X.reshape(-1,1)\n",
        "\n",
        "# Print the dimensions of X and y after reshaping\n",
        "print(\"Dimensions of y after reshaping: {}\".format(y.shape))\n",
        "print(\"Dimensions of X after reshaping: {}\".format(X.shape))"
      ],
      "execution_count": 61,
      "outputs": [
        {
          "output_type": "stream",
          "text": [
            "Dimensions of y after reshaping: (139, 1)\n",
            "Dimensions of X after reshaping: (139, 1)\n"
          ],
          "name": "stdout"
        }
      ]
    },
    {
      "cell_type": "markdown",
      "metadata": {
        "id": "hHJZBWNkrqCO"
      },
      "source": [
        "\n",
        "¡Buen trabajo! Observe las diferencias de forma antes y después de aplicar el método .reshape (). Obtener las matrices de características y variables de destino en el formato correcto para scikit-learn es un precursor importante para la construcción de modelos."
      ]
    },
    {
      "cell_type": "markdown",
      "metadata": {
        "id": "JW-_t4cntAy3"
      },
      "source": [
        "# Exploring the Gapminder data"
      ]
    },
    {
      "cell_type": "code",
      "metadata": {
        "id": "NPTrp2peri-R",
        "colab": {
          "base_uri": "https://localhost:8080/"
        },
        "outputId": "f6bbbc71-42b0-4c92-b5f1-1cbe1f8faaf8"
      },
      "source": [
        "df.info()"
      ],
      "execution_count": 62,
      "outputs": [
        {
          "output_type": "stream",
          "text": [
            "<class 'pandas.core.frame.DataFrame'>\n",
            "RangeIndex: 139 entries, 0 to 138\n",
            "Data columns (total 10 columns):\n",
            " #   Column           Non-Null Count  Dtype  \n",
            "---  ------           --------------  -----  \n",
            " 0   population       139 non-null    float64\n",
            " 1   fertility        139 non-null    float64\n",
            " 2   HIV              139 non-null    float64\n",
            " 3   CO2              139 non-null    float64\n",
            " 4   BMI_male         139 non-null    float64\n",
            " 5   GDP              139 non-null    float64\n",
            " 6   BMI_female       139 non-null    float64\n",
            " 7   life             139 non-null    float64\n",
            " 8   child_mortality  139 non-null    float64\n",
            " 9   Region           139 non-null    object \n",
            "dtypes: float64(9), object(1)\n",
            "memory usage: 11.0+ KB\n"
          ],
          "name": "stdout"
        }
      ]
    },
    {
      "cell_type": "code",
      "metadata": {
        "id": "fa8asckkr-xD",
        "colab": {
          "base_uri": "https://localhost:8080/",
          "height": 297
        },
        "outputId": "9e37f87f-44ab-4604-ac49-59b84ebf241c"
      },
      "source": [
        "df.describe()"
      ],
      "execution_count": 63,
      "outputs": [
        {
          "output_type": "execute_result",
          "data": {
            "text/html": [
              "<div>\n",
              "<style scoped>\n",
              "    .dataframe tbody tr th:only-of-type {\n",
              "        vertical-align: middle;\n",
              "    }\n",
              "\n",
              "    .dataframe tbody tr th {\n",
              "        vertical-align: top;\n",
              "    }\n",
              "\n",
              "    .dataframe thead th {\n",
              "        text-align: right;\n",
              "    }\n",
              "</style>\n",
              "<table border=\"1\" class=\"dataframe\">\n",
              "  <thead>\n",
              "    <tr style=\"text-align: right;\">\n",
              "      <th></th>\n",
              "      <th>population</th>\n",
              "      <th>fertility</th>\n",
              "      <th>HIV</th>\n",
              "      <th>CO2</th>\n",
              "      <th>BMI_male</th>\n",
              "      <th>GDP</th>\n",
              "      <th>BMI_female</th>\n",
              "      <th>life</th>\n",
              "      <th>child_mortality</th>\n",
              "    </tr>\n",
              "  </thead>\n",
              "  <tbody>\n",
              "    <tr>\n",
              "      <th>count</th>\n",
              "      <td>1.390000e+02</td>\n",
              "      <td>139.000000</td>\n",
              "      <td>139.000000</td>\n",
              "      <td>139.000000</td>\n",
              "      <td>139.000000</td>\n",
              "      <td>139.000000</td>\n",
              "      <td>139.000000</td>\n",
              "      <td>139.000000</td>\n",
              "      <td>139.000000</td>\n",
              "    </tr>\n",
              "    <tr>\n",
              "      <th>mean</th>\n",
              "      <td>3.549977e+07</td>\n",
              "      <td>3.005108</td>\n",
              "      <td>1.915612</td>\n",
              "      <td>4.459874</td>\n",
              "      <td>24.623054</td>\n",
              "      <td>16638.784173</td>\n",
              "      <td>126.701914</td>\n",
              "      <td>69.602878</td>\n",
              "      <td>45.097122</td>\n",
              "    </tr>\n",
              "    <tr>\n",
              "      <th>std</th>\n",
              "      <td>1.095121e+08</td>\n",
              "      <td>1.615354</td>\n",
              "      <td>4.408974</td>\n",
              "      <td>6.268349</td>\n",
              "      <td>2.209368</td>\n",
              "      <td>19207.299083</td>\n",
              "      <td>4.471997</td>\n",
              "      <td>9.122189</td>\n",
              "      <td>45.724667</td>\n",
              "    </tr>\n",
              "    <tr>\n",
              "      <th>min</th>\n",
              "      <td>2.773150e+05</td>\n",
              "      <td>1.280000</td>\n",
              "      <td>0.060000</td>\n",
              "      <td>0.008618</td>\n",
              "      <td>20.397420</td>\n",
              "      <td>588.000000</td>\n",
              "      <td>117.375500</td>\n",
              "      <td>45.200000</td>\n",
              "      <td>2.700000</td>\n",
              "    </tr>\n",
              "    <tr>\n",
              "      <th>25%</th>\n",
              "      <td>3.752776e+06</td>\n",
              "      <td>1.810000</td>\n",
              "      <td>0.100000</td>\n",
              "      <td>0.496190</td>\n",
              "      <td>22.448135</td>\n",
              "      <td>2899.000000</td>\n",
              "      <td>123.232200</td>\n",
              "      <td>62.200000</td>\n",
              "      <td>8.100000</td>\n",
              "    </tr>\n",
              "    <tr>\n",
              "      <th>50%</th>\n",
              "      <td>9.705130e+06</td>\n",
              "      <td>2.410000</td>\n",
              "      <td>0.400000</td>\n",
              "      <td>2.223796</td>\n",
              "      <td>25.156990</td>\n",
              "      <td>9938.000000</td>\n",
              "      <td>126.519600</td>\n",
              "      <td>72.000000</td>\n",
              "      <td>24.000000</td>\n",
              "    </tr>\n",
              "    <tr>\n",
              "      <th>75%</th>\n",
              "      <td>2.791973e+07</td>\n",
              "      <td>4.095000</td>\n",
              "      <td>1.300000</td>\n",
              "      <td>6.589156</td>\n",
              "      <td>26.497575</td>\n",
              "      <td>23278.500000</td>\n",
              "      <td>130.275900</td>\n",
              "      <td>76.850000</td>\n",
              "      <td>74.200000</td>\n",
              "    </tr>\n",
              "    <tr>\n",
              "      <th>max</th>\n",
              "      <td>1.197070e+09</td>\n",
              "      <td>7.590000</td>\n",
              "      <td>25.900000</td>\n",
              "      <td>48.702062</td>\n",
              "      <td>28.456980</td>\n",
              "      <td>126076.000000</td>\n",
              "      <td>135.492000</td>\n",
              "      <td>82.600000</td>\n",
              "      <td>192.000000</td>\n",
              "    </tr>\n",
              "  </tbody>\n",
              "</table>\n",
              "</div>"
            ],
            "text/plain": [
              "         population   fertility  ...        life  child_mortality\n",
              "count  1.390000e+02  139.000000  ...  139.000000       139.000000\n",
              "mean   3.549977e+07    3.005108  ...   69.602878        45.097122\n",
              "std    1.095121e+08    1.615354  ...    9.122189        45.724667\n",
              "min    2.773150e+05    1.280000  ...   45.200000         2.700000\n",
              "25%    3.752776e+06    1.810000  ...   62.200000         8.100000\n",
              "50%    9.705130e+06    2.410000  ...   72.000000        24.000000\n",
              "75%    2.791973e+07    4.095000  ...   76.850000        74.200000\n",
              "max    1.197070e+09    7.590000  ...   82.600000       192.000000\n",
              "\n",
              "[8 rows x 9 columns]"
            ]
          },
          "metadata": {
            "tags": []
          },
          "execution_count": 63
        }
      ]
    },
    {
      "cell_type": "code",
      "metadata": {
        "id": "qmg_LA2DsEOm",
        "colab": {
          "base_uri": "https://localhost:8080/",
          "height": 351
        },
        "outputId": "ed5314bc-b79a-4e96-a405-317426066385"
      },
      "source": [
        "sns.heatmap(df.corr(), square=True, cmap='RdYlGn')\n",
        "\n"
      ],
      "execution_count": 64,
      "outputs": [
        {
          "output_type": "execute_result",
          "data": {
            "text/plain": [
              "<matplotlib.axes._subplots.AxesSubplot at 0x7f16718c2588>"
            ]
          },
          "metadata": {
            "tags": []
          },
          "execution_count": 64
        },
        {
          "output_type": "display_data",
          "data": {
            "image/png": "[encoded data removed]",
            "text/plain": [
              "<Figure size 432x288 with 2 Axes>"
            ]
          },
          "metadata": {
            "tags": []
          }
        }
      ]
    },
    {
      "cell_type": "markdown",
      "metadata": {
        "id": "zTWEu8vgAksU"
      },
      "source": [
        "# Fit & predict for regression\n",
        "\n",
        "Ahora, ajustará una regresión lineal y predecirá la esperanza de vida utilizando solo una función. Viste a Andy hacer esto antes usando la función 'RM' del conjunto de datos de viviendas de Boston. En este ejercicio, utilizará la función de 'fertilidad' del conjunto de datos de Gapminder. Dado que el objetivo es predecir la esperanza de vida, la variable objetivo aquí es \"vida\". La matriz para la variable de destino se cargó previamente como y y la matriz para 'fertilidad' se cargó previamente como X_fertility."
      ]
    },
    {
      "cell_type": "code",
      "metadata": {
        "id": "oJYTNYlMsKkd"
      },
      "source": [
        "# Create the regressor: reg\n",
        "reg = LinearRegression()"
      ],
      "execution_count": 65,
      "outputs": []
    },
    {
      "cell_type": "code",
      "metadata": {
        "id": "WFnB_cyUBRW1"
      },
      "source": [
        "X_fertility = X"
      ],
      "execution_count": 66,
      "outputs": []
    },
    {
      "cell_type": "code",
      "metadata": {
        "id": "f5WoASvTAu66"
      },
      "source": [
        "# Create the prediction space\n",
        "prediction_space = np.linspace(min(X_fertility), max(X_fertility)).reshape(-1,1)"
      ],
      "execution_count": 67,
      "outputs": []
    },
    {
      "cell_type": "code",
      "metadata": {
        "id": "9Q7fRj1sA1J8",
        "colab": {
          "base_uri": "https://localhost:8080/"
        },
        "outputId": "de7d431b-3240-4552-c1d2-aafd04e393ab"
      },
      "source": [
        "# Fit the model to the data\n",
        "reg.fit(X_fertility, y)"
      ],
      "execution_count": 68,
      "outputs": [
        {
          "output_type": "execute_result",
          "data": {
            "text/plain": [
              "LinearRegression(copy_X=True, fit_intercept=True, n_jobs=None, normalize=False)"
            ]
          },
          "metadata": {
            "tags": []
          },
          "execution_count": 68
        }
      ]
    },
    {
      "cell_type": "code",
      "metadata": {
        "id": "o7KN-cyfBXVO"
      },
      "source": [
        "# Compute predictions over the prediction space: y_pred\n",
        "y_pred = reg.predict(prediction_space)"
      ],
      "execution_count": 69,
      "outputs": []
    },
    {
      "cell_type": "code",
      "metadata": {
        "id": "bI-ADb0wCCT8",
        "colab": {
          "base_uri": "https://localhost:8080/"
        },
        "outputId": "19455ca0-25e8-4fcb-e67a-818feb0da1b0"
      },
      "source": [
        "# Print R^2 \n",
        "print(reg.score(X_fertility, y))\n"
      ],
      "execution_count": 70,
      "outputs": [
        {
          "output_type": "stream",
          "text": [
            "0.6192442167740035\n"
          ],
          "name": "stdout"
        }
      ]
    },
    {
      "cell_type": "code",
      "metadata": {
        "id": "RlSQEbVrCEkW",
        "colab": {
          "base_uri": "https://localhost:8080/",
          "height": 282
        },
        "outputId": "76d502b7-634c-409f-d21a-61ebf16350a7"
      },
      "source": [
        "# Plot regression line\n",
        "plt.scatter(X_fertility,y, color='blue')\n",
        "plt.plot(prediction_space, y_pred, color='black', linewidth=3)\n",
        "plt.xlabel(\"Fertility\")\n",
        "plt.ylabel(\"Life Expectancy\")\n",
        "plt.show()"
      ],
      "execution_count": 71,
      "outputs": [
        {
          "output_type": "display_data",
          "data": {
            "image/png": "[encoded data removed]",
            "text/plain": [
              "<Figure size 432x288 with 1 Axes>"
            ]
          },
          "metadata": {
            "tags": []
          }
        }
      ]
    },
    {
      "cell_type": "markdown",
      "metadata": {
        "id": "lFcSN3DVC5gp"
      },
      "source": [
        "¡Fantástico! Observe cómo la línea captura la tendencia subyacente en los datos. ¡Y el rendimiento es bastante decente para este modelo de regresión básico con una sola característica!"
      ]
    },
    {
      "cell_type": "markdown",
      "metadata": {
        "id": "EJYcV8g7DzwJ"
      },
      "source": [
        "**Train/test split for regression**\n",
        "\n",
        "Como aprendió en el Capítulo 1, los conjuntos de entrenamiento y prueba son vitales para garantizar que su modelo de aprendizaje supervisado pueda generalizar bien a nuevos datos. Esto fue cierto para los modelos de clasificación e igualmente cierto para los modelos de regresión lineal.\n",
        "\n",
        "En este ejercicio, dividirá el conjunto de datos de Gapminder en conjuntos de entrenamiento y prueba, y luego ajustará y predecirá una regresión lineal sobre todas las características. Además de calcular la puntuación R2, también calculará el error cuadrático medio de la raíz (RMSE), que es otra métrica de uso común para evaluar modelos de regresión. La matriz de características X y la matriz de variables de destino y se han precargado desde el DataFrame df\n",
        "\n"
      ]
    },
    {
      "cell_type": "code",
      "metadata": {
        "id": "sIaTbayvCLFT"
      },
      "source": [
        "# Import necessary modules\n",
        "from sklearn.linear_model import LinearRegression\n",
        "from sklearn.metrics import mean_squared_error\n",
        "from sklearn.model_selection import train_test_split"
      ],
      "execution_count": 72,
      "outputs": []
    },
    {
      "cell_type": "code",
      "metadata": {
        "id": "rqUhgYPwEI_n"
      },
      "source": [
        "X = df.drop(['life', 'Region'], axis=1)\n",
        "y = df['life']"
      ],
      "execution_count": 73,
      "outputs": []
    },
    {
      "cell_type": "code",
      "metadata": {
        "id": "KRwCD_AzD7lC"
      },
      "source": [
        "# Create training and test sets\n",
        "X_train, X_test, y_train, y_test = train_test_split(X, y, test_size =0.3, random_state=42)"
      ],
      "execution_count": null,
      "outputs": []
    },
    {
      "cell_type": "code",
      "metadata": {
        "id": "7uX8-u0-El3W"
      },
      "source": [
        "# Create the regressor: reg_all\n",
        "reg_all = LinearRegression()"
      ],
      "execution_count": 74,
      "outputs": []
    },
    {
      "cell_type": "code",
      "metadata": {
        "id": "yhqnwDEXFPaD"
      },
      "source": [
        "# Fit the regressor to the training data\n",
        "reg_all.fit(X_train,y_train)\n",
        "\n",
        "# Predict on the test data: y_pred\n",
        "y_pred = reg_all.predict(X_test)"
      ],
      "execution_count": 75,
      "outputs": []
    },
    {
      "cell_type": "code",
      "metadata": {
        "id": "nAeNnIowFRy_",
        "colab": {
          "base_uri": "https://localhost:8080/"
        },
        "outputId": "32af181e-1cc3-4707-e8b0-7c19f4608650"
      },
      "source": [
        "# Compute and print R^2 and RMSE\n",
        "print(\"R^2: {}\".format(reg_all.score(X_test, y_test)))\n",
        "rmse = np.sqrt(mean_squared_error(y_test, y_pred))\n",
        "print(\"Root Mean Squared Error: {}\".format(rmse))\n"
      ],
      "execution_count": 76,
      "outputs": [
        {
          "output_type": "stream",
          "text": [
            "R^2: 0.5574273820963696\n",
            "Root Mean Squared Error: 1.9056601333729999\n"
          ],
          "name": "stdout"
        }
      ]
    },
    {
      "cell_type": "markdown",
      "metadata": {
        "id": "diw--gkPFpER"
      },
      "source": [
        "¡Excelente! El uso de todas las funciones ha mejorado la puntuación del modelo. Esto tiene sentido, ya que el modelo tiene más información de la que aprender. Sin embargo, existe un peligro potencial en este proceso. ¿Puedes distinguirlo? ¡También aprenderá sobre esto y cómo validar mejor sus modelos en el siguiente video!"
      ]
    },
    {
      "cell_type": "markdown",
      "metadata": {
        "id": "ZeEW_lyORSkB"
      },
      "source": [
        "# Cross-validation\n",
        "---------"
      ]
    },
    {
      "cell_type": "markdown",
      "metadata": {
        "id": "g2f-wU3XTcaM"
      },
      "source": [
        "**La longitud de la matriz es el numero de folds utilizados**\n",
        "\n",
        "![image.png](data:image/png;base64,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)"
      ]
    },
    {
      "cell_type": "markdown",
      "metadata": {
        "id": "UymgNE5hVyrA"
      },
      "source": [
        "# 5-fold cross-validation\n",
        "-----\n",
        "La validación cruzada es un paso vital en la evaluación de un modelo. Maximiza la cantidad de datos que se utilizan para entrenar el modelo, ya que durante el curso del entrenamiento, el modelo no solo se entrena, sino que también se prueba con todos los datos disponibles.\n",
        "\n",
        "En este ejercicio, practicará la validación cruzada de 5 veces en los datos de Gapminder. De forma predeterminada, la función cross_val_score () de scikit-learn usa R2 como la métrica de elección para la regresión. Dado que está realizando una validación cruzada de 5 veces, la función devolverá 5 puntuaciones. Su trabajo es calcular estos 5 puntajes y luego tomar su promedio.\n",
        "\n",
        "El DataFrame se ha cargado como df y se ha dividido en las matrices X e y de características / variables de destino. Los módulos pandas y numpy se han importado como pd y np, respectivamente."
      ]
    },
    {
      "cell_type": "code",
      "metadata": {
        "id": "DyX2dA_MFlHB"
      },
      "source": [
        "from sklearn.model_selection import cross_val_score"
      ],
      "execution_count": 77,
      "outputs": []
    },
    {
      "cell_type": "code",
      "metadata": {
        "id": "kodTfIE4T_gq"
      },
      "source": [
        "# Create a   regression object: reg\n",
        "model = LinearRegression()"
      ],
      "execution_count": 78,
      "outputs": []
    },
    {
      "cell_type": "code",
      "metadata": {
        "id": "eoR9GspQUDO4"
      },
      "source": [
        "# Compute 5-fold cross-validation scores: cv_scores\n",
        "cv_scores = cross_val_score(model,X,y, cv=5)"
      ],
      "execution_count": 79,
      "outputs": []
    },
    {
      "cell_type": "code",
      "metadata": {
        "id": "vT4w2IM1ULRY",
        "colab": {
          "base_uri": "https://localhost:8080/"
        },
        "outputId": "49ca74df-852b-472e-99aa-1cfdbbec1d60"
      },
      "source": [
        "# Print the 5-fold cross-validation scores\n",
        "print(cv_scores)"
      ],
      "execution_count": 80,
      "outputs": [
        {
          "output_type": "stream",
          "text": [
            "[0.81720569 0.82917058 0.90214134 0.80633989 0.94495637]\n"
          ],
          "name": "stdout"
        }
      ]
    },
    {
      "cell_type": "code",
      "metadata": {
        "id": "_tuqUYAfUPr-",
        "colab": {
          "base_uri": "https://localhost:8080/"
        },
        "outputId": "60f138a6-a952-48d9-ad3e-de393f2ff36f"
      },
      "source": [
        "print(\"Average 5-Fold CV Score: {}\".format(np.mean(cv_scores)))"
      ],
      "execution_count": 81,
      "outputs": [
        {
          "output_type": "stream",
          "text": [
            "Average 5-Fold CV Score: 0.8599627722793229\n"
          ],
          "name": "stdout"
        }
      ]
    },
    {
      "cell_type": "markdown",
      "metadata": {
        "id": "kfrddP7tV6BD"
      },
      "source": [
        "Buen trabajo! Ahora que ha realizado una validación cruzada de su modelo, puede evaluar sus predicciones con más confianza."
      ]
    },
    {
      "cell_type": "markdown",
      "metadata": {
        "id": "OKAb2ZqDWHJQ"
      },
      "source": [
        "# K-Fold CV comparison\n",
        "\n",
        "\n",
        "La validación cruzada es esencial, pero no olvide que cuantos más pliegues utilice, más costosa se vuelve la validación cruzada computacionalmente. En este ejercicio, lo explorará usted mismo. Su trabajo consiste en realizar una validación cruzada de tres veces y luego una validación cruzada de diez veces en el conjunto de datos de Gapminder."
      ]
    },
    {
      "cell_type": "code",
      "metadata": {
        "id": "wE770OeFVRuL",
        "colab": {
          "base_uri": "https://localhost:8080/"
        },
        "outputId": "9909bbf2-76ab-40dc-f1dd-b2b57e830a4a"
      },
      "source": [
        "# Perform 3-fold CV\n",
        "\n",
        "%timeit cross_val_score(reg, X, y, cv=3)\n",
        "cvscores_3 =  cross_val_score(reg,X,y,cv=3)\n",
        "print(np.mean(cvscores_3))\n",
        "\n",
        "%timeit cross_val_score(reg, X, y, cv=10)\n",
        "# Perform 10-fold CV\n",
        "cvscores_10 = cross_val_score(reg,X,y,cv=10)\n",
        "print(np.mean(cvscores_10))\n"
      ],
      "execution_count": 82,
      "outputs": [
        {
          "output_type": "stream",
          "text": [
            "100 loops, best of 3: 8.73 ms per loop\n",
            "0.8718712782622106\n",
            "10 loops, best of 3: 28.2 ms per loop\n",
            "0.8436128620131204\n"
          ],
          "name": "stdout"
        }
      ]
    },
    {
      "cell_type": "markdown",
      "metadata": {
        "id": "I8XQPzLdYGog"
      },
      "source": [
        "Excellent! Did you use %timeit in the IPython Shell to see how much longer it takes 10-fold cross-validation to run compared to 3-fold cross-validation?"
      ]
    },
    {
      "cell_type": "markdown",
      "metadata": {
        "id": "lB-9Ue4ympb5"
      },
      "source": [
        "# Regularized regression\n",
        "-----"
      ]
    },
    {
      "cell_type": "code",
      "metadata": {
        "id": "JFx7tnYCVTfm",
        "colab": {
          "base_uri": "https://localhost:8080/",
          "height": 204
        },
        "outputId": "d9a45658-8af6-4269-d2eb-67f85d558c09"
      },
      "source": [
        "house = pd.DataFrame(data=boston.data, columns=boston.feature_names)\n",
        "house['MEDV'] = boston['target']\n",
        "house.head()"
      ],
      "execution_count": 83,
      "outputs": [
        {
          "output_type": "execute_result",
          "data": {
            "text/html": [
              "<div>\n",
              "<style scoped>\n",
              "    .dataframe tbody tr th:only-of-type {\n",
              "        vertical-align: middle;\n",
              "    }\n",
              "\n",
              "    .dataframe tbody tr th {\n",
              "        vertical-align: top;\n",
              "    }\n",
              "\n",
              "    .dataframe thead th {\n",
              "        text-align: right;\n",
              "    }\n",
              "</style>\n",
              "<table border=\"1\" class=\"dataframe\">\n",
              "  <thead>\n",
              "    <tr style=\"text-align: right;\">\n",
              "      <th></th>\n",
              "      <th>CRIM</th>\n",
              "      <th>ZN</th>\n",
              "      <th>INDUS</th>\n",
              "      <th>CHAS</th>\n",
              "      <th>NOX</th>\n",
              "      <th>RM</th>\n",
              "      <th>AGE</th>\n",
              "      <th>DIS</th>\n",
              "      <th>RAD</th>\n",
              "      <th>TAX</th>\n",
              "      <th>PTRATIO</th>\n",
              "      <th>B</th>\n",
              "      <th>LSTAT</th>\n",
              "      <th>MEDV</th>\n",
              "    </tr>\n",
              "  </thead>\n",
              "  <tbody>\n",
              "    <tr>\n",
              "      <th>0</th>\n",
              "      <td>0.00632</td>\n",
              "      <td>18.0</td>\n",
              "      <td>2.31</td>\n",
              "      <td>0.0</td>\n",
              "      <td>0.538</td>\n",
              "      <td>6.575</td>\n",
              "      <td>65.2</td>\n",
              "      <td>4.0900</td>\n",
              "      <td>1.0</td>\n",
              "      <td>296.0</td>\n",
              "      <td>15.3</td>\n",
              "      <td>396.90</td>\n",
              "      <td>4.98</td>\n",
              "      <td>24.0</td>\n",
              "    </tr>\n",
              "    <tr>\n",
              "      <th>1</th>\n",
              "      <td>0.02731</td>\n",
              "      <td>0.0</td>\n",
              "      <td>7.07</td>\n",
              "      <td>0.0</td>\n",
              "      <td>0.469</td>\n",
              "      <td>6.421</td>\n",
              "      <td>78.9</td>\n",
              "      <td>4.9671</td>\n",
              "      <td>2.0</td>\n",
              "      <td>242.0</td>\n",
              "      <td>17.8</td>\n",
              "      <td>396.90</td>\n",
              "      <td>9.14</td>\n",
              "      <td>21.6</td>\n",
              "    </tr>\n",
              "    <tr>\n",
              "      <th>2</th>\n",
              "      <td>0.02729</td>\n",
              "      <td>0.0</td>\n",
              "      <td>7.07</td>\n",
              "      <td>0.0</td>\n",
              "      <td>0.469</td>\n",
              "      <td>7.185</td>\n",
              "      <td>61.1</td>\n",
              "      <td>4.9671</td>\n",
              "      <td>2.0</td>\n",
              "      <td>242.0</td>\n",
              "      <td>17.8</td>\n",
              "      <td>392.83</td>\n",
              "      <td>4.03</td>\n",
              "      <td>34.7</td>\n",
              "    </tr>\n",
              "    <tr>\n",
              "      <th>3</th>\n",
              "      <td>0.03237</td>\n",
              "      <td>0.0</td>\n",
              "      <td>2.18</td>\n",
              "      <td>0.0</td>\n",
              "      <td>0.458</td>\n",
              "      <td>6.998</td>\n",
              "      <td>45.8</td>\n",
              "      <td>6.0622</td>\n",
              "      <td>3.0</td>\n",
              "      <td>222.0</td>\n",
              "      <td>18.7</td>\n",
              "      <td>394.63</td>\n",
              "      <td>2.94</td>\n",
              "      <td>33.4</td>\n",
              "    </tr>\n",
              "    <tr>\n",
              "      <th>4</th>\n",
              "      <td>0.06905</td>\n",
              "      <td>0.0</td>\n",
              "      <td>2.18</td>\n",
              "      <td>0.0</td>\n",
              "      <td>0.458</td>\n",
              "      <td>7.147</td>\n",
              "      <td>54.2</td>\n",
              "      <td>6.0622</td>\n",
              "      <td>3.0</td>\n",
              "      <td>222.0</td>\n",
              "      <td>18.7</td>\n",
              "      <td>396.90</td>\n",
              "      <td>5.33</td>\n",
              "      <td>36.2</td>\n",
              "    </tr>\n",
              "  </tbody>\n",
              "</table>\n",
              "</div>"
            ],
            "text/plain": [
              "      CRIM    ZN  INDUS  CHAS    NOX  ...    TAX  PTRATIO       B  LSTAT  MEDV\n",
              "0  0.00632  18.0   2.31   0.0  0.538  ...  296.0     15.3  396.90   4.98  24.0\n",
              "1  0.02731   0.0   7.07   0.0  0.469  ...  242.0     17.8  396.90   9.14  21.6\n",
              "2  0.02729   0.0   7.07   0.0  0.469  ...  242.0     17.8  392.83   4.03  34.7\n",
              "3  0.03237   0.0   2.18   0.0  0.458  ...  222.0     18.7  394.63   2.94  33.4\n",
              "4  0.06905   0.0   2.18   0.0  0.458  ...  222.0     18.7  396.90   5.33  36.2\n",
              "\n",
              "[5 rows x 14 columns]"
            ]
          },
          "metadata": {
            "tags": []
          },
          "execution_count": 83
        }
      ]
    },
    {
      "cell_type": "code",
      "metadata": {
        "id": "Ucz17_EkVTkZ"
      },
      "source": [
        "# Creature feature and target arrays\n",
        "X = house.drop('MEDV', axis=1).values\n",
        "y = house['MEDV'].values"
      ],
      "execution_count": 84,
      "outputs": []
    },
    {
      "cell_type": "code",
      "metadata": {
        "id": "KilJ0HsVVTrf",
        "colab": {
          "base_uri": "https://localhost:8080/"
        },
        "outputId": "52a2dc78-67b9-4b02-f7af-b48f65340931"
      },
      "source": [
        "# Predicting house price from a single feature\n",
        "X_rooms = X[:,5]\n",
        "type(X_rooms), type(y)"
      ],
      "execution_count": 85,
      "outputs": [
        {
          "output_type": "execute_result",
          "data": {
            "text/plain": [
              "(numpy.ndarray, numpy.ndarray)"
            ]
          },
          "metadata": {
            "tags": []
          },
          "execution_count": 85
        }
      ]
    },
    {
      "cell_type": "code",
      "metadata": {
        "id": "9FEtrD60nEZ3"
      },
      "source": [
        "X_rooms = X_rooms.reshape(-1,1)\n",
        "y = y.reshape(-1,1)"
      ],
      "execution_count": 86,
      "outputs": []
    },
    {
      "cell_type": "code",
      "metadata": {
        "id": "zDMZ0XfTnLuz"
      },
      "source": [
        "from sklearn.linear_model import Ridge\n",
        "from sklearn.linear_model import Lasso"
      ],
      "execution_count": 87,
      "outputs": []
    },
    {
      "cell_type": "code",
      "metadata": {
        "id": "EtAjkyCZnRZZ",
        "colab": {
          "base_uri": "https://localhost:8080/",
          "height": 282
        },
        "outputId": "b614b562-58dd-49da-fb32-e15a5cc7d59d"
      },
      "source": [
        "X_train,X_test,y_train,y_test = train_test_split()"
      ],
      "execution_count": 88,
      "outputs": [
        {
          "output_type": "error",
          "ename": "ValueError",
          "evalue": "ignored",
          "traceback": [
            "\u001b[0;31m---------------------------------------------------------------------------\u001b[0m",
            "\u001b[0;31mValueError\u001b[0m                                Traceback (most recent call last)",
            "\u001b[0;32m<ipython-input-88-0f0a2f24677b>\u001b[0m in \u001b[0;36m<module>\u001b[0;34m()\u001b[0m\n\u001b[0;32m----> 1\u001b[0;31m \u001b[0mX_train\u001b[0m\u001b[0;34m,\u001b[0m\u001b[0mX_test\u001b[0m\u001b[0;34m,\u001b[0m\u001b[0my_train\u001b[0m\u001b[0;34m,\u001b[0m\u001b[0my_test\u001b[0m \u001b[0;34m=\u001b[0m \u001b[0mtrain_test_split\u001b[0m\u001b[0;34m(\u001b[0m\u001b[0;34m)\u001b[0m\u001b[0;34m\u001b[0m\u001b[0;34m\u001b[0m\u001b[0m\n\u001b[0m",
            "\u001b[0;32m/usr/local/lib/python3.6/dist-packages/sklearn/model_selection/_split.py\u001b[0m in \u001b[0;36mtrain_test_split\u001b[0;34m(*arrays, **options)\u001b[0m\n\u001b[1;32m   2106\u001b[0m     \u001b[0mn_arrays\u001b[0m \u001b[0;34m=\u001b[0m \u001b[0mlen\u001b[0m\u001b[0;34m(\u001b[0m\u001b[0marrays\u001b[0m\u001b[0;34m)\u001b[0m\u001b[0;34m\u001b[0m\u001b[0;34m\u001b[0m\u001b[0m\n\u001b[1;32m   2107\u001b[0m     \u001b[0;32mif\u001b[0m \u001b[0mn_arrays\u001b[0m \u001b[0;34m==\u001b[0m \u001b[0;36m0\u001b[0m\u001b[0;34m:\u001b[0m\u001b[0;34m\u001b[0m\u001b[0;34m\u001b[0m\u001b[0m\n\u001b[0;32m-> 2108\u001b[0;31m         \u001b[0;32mraise\u001b[0m \u001b[0mValueError\u001b[0m\u001b[0;34m(\u001b[0m\u001b[0;34m\"At least one array required as input\"\u001b[0m\u001b[0;34m)\u001b[0m\u001b[0;34m\u001b[0m\u001b[0;34m\u001b[0m\u001b[0m\n\u001b[0m\u001b[1;32m   2109\u001b[0m     \u001b[0mtest_size\u001b[0m \u001b[0;34m=\u001b[0m \u001b[0moptions\u001b[0m\u001b[0;34m.\u001b[0m\u001b[0mpop\u001b[0m\u001b[0;34m(\u001b[0m\u001b[0;34m'test_size'\u001b[0m\u001b[0;34m,\u001b[0m \u001b[0;32mNone\u001b[0m\u001b[0;34m)\u001b[0m\u001b[0;34m\u001b[0m\u001b[0;34m\u001b[0m\u001b[0m\n\u001b[1;32m   2110\u001b[0m     \u001b[0mtrain_size\u001b[0m \u001b[0;34m=\u001b[0m \u001b[0moptions\u001b[0m\u001b[0;34m.\u001b[0m\u001b[0mpop\u001b[0m\u001b[0;34m(\u001b[0m\u001b[0;34m'train_size'\u001b[0m\u001b[0;34m,\u001b[0m \u001b[0;32mNone\u001b[0m\u001b[0;34m)\u001b[0m\u001b[0;34m\u001b[0m\u001b[0;34m\u001b[0m\u001b[0m\n",
            "\u001b[0;31mValueError\u001b[0m: At least one array required as input"
          ]
        }
      ]
    },
    {
      "cell_type": "code",
      "metadata": {
        "id": "2EEKTDOmnvEZ"
      },
      "source": [
        "names = house.drop('MEDV', axis=1).columns"
      ],
      "execution_count": 89,
      "outputs": []
    },
    {
      "cell_type": "code",
      "metadata": {
        "id": "EMWxolxenvKY"
      },
      "source": [
        "lasso = Lasso(alpha=0.1)\n",
        "lasso_coef = lasso.fit(X,y).coef_"
      ],
      "execution_count": 90,
      "outputs": []
    },
    {
      "cell_type": "code",
      "metadata": {
        "id": "28wb3QMYnvOP",
        "colab": {
          "base_uri": "https://localhost:8080/",
          "height": 296
        },
        "outputId": "a52f27bb-4848-4926-a05c-d683f1780d5f"
      },
      "source": [
        "_ = plt.plot(range(len(names)),lasso_coef)\n",
        "_ = plt.xticks(range(len(names)), names, rotation=60)\n",
        "_ = plt.ylabel(\"Coefficients\")\n",
        "plt.show()"
      ],
      "execution_count": 91,
      "outputs": [
        {
          "output_type": "display_data",
          "data": {
            "image/png": "[encoded data removed]",
            "text/plain": [
              "<Figure size 432x288 with 1 Axes>"
            ]
          },
          "metadata": {
            "tags": []
          }
        }
      ]
    },
    {
      "cell_type": "markdown",
      "metadata": {
        "id": "v49tqQsApdLH"
      },
      "source": [
        "# Regularization I: Lasso\n",
        "\n",
        "En el video, vio cómo Lasso seleccionó la función 'RM' como la más importante para predecir los precios de la vivienda en Boston, al tiempo que reducía los coeficientes de otras características a 0. Su capacidad para realizar la selección de características de esta manera se vuelve aún más útil cuando se trata de datos que involucran miles de funciones.\n",
        "\n",
        "En este ejercicio, ajustará una regresión de lazo a los datos de Gapminder con los que ha estado trabajando y trazará los coeficientes. Al igual que con los datos de Boston, encontrará que los coeficientes de algunas características se reducen a 0, y solo quedan las más importantes."
      ]
    },
    {
      "cell_type": "code",
      "metadata": {
        "id": "hakJIms8pE87"
      },
      "source": [
        "X = df.drop(['life', 'Region'], axis=1)\n",
        "y = df['life']"
      ],
      "execution_count": 92,
      "outputs": []
    },
    {
      "cell_type": "code",
      "metadata": {
        "id": "QWeFVB25quAg"
      },
      "source": [
        "# Instantiate a lasso regressor: lasso\n",
        "lasso = Lasso(alpha=0.4, normalize=True)"
      ],
      "execution_count": 93,
      "outputs": []
    },
    {
      "cell_type": "code",
      "metadata": {
        "id": "agMkMYAZqwvI",
        "colab": {
          "base_uri": "https://localhost:8080/"
        },
        "outputId": "ef158f6e-959e-4289-b59a-10642d190e53"
      },
      "source": [
        "# Fit the regressor to the data\n",
        "lasso.fit(X,y)"
      ],
      "execution_count": 94,
      "outputs": [
        {
          "output_type": "execute_result",
          "data": {
            "text/plain": [
              "Lasso(alpha=0.4, copy_X=True, fit_intercept=True, max_iter=1000, normalize=True,\n",
              "      positive=False, precompute=False, random_state=None, selection='cyclic',\n",
              "      tol=0.0001, warm_start=False)"
            ]
          },
          "metadata": {
            "tags": []
          },
          "execution_count": 94
        }
      ]
    },
    {
      "cell_type": "code",
      "metadata": {
        "id": "Pc1xKS82qywF",
        "colab": {
          "base_uri": "https://localhost:8080/"
        },
        "outputId": "0f7625c9-a288-493b-9f34-96a15b0ac14e"
      },
      "source": [
        "# Compute and print the coefficients\n",
        "lasso_coef = lasso.coef_\n",
        "print(lasso_coef)"
      ],
      "execution_count": 95,
      "outputs": [
        {
          "output_type": "stream",
          "text": [
            "[-0.         -0.         -0.          0.          0.          0.\n",
            " -0.         -0.07087587]\n"
          ],
          "name": "stdout"
        }
      ]
    },
    {
      "cell_type": "code",
      "metadata": {
        "id": "rXJH-VS8r_L6",
        "colab": {
          "base_uri": "https://localhost:8080/"
        },
        "outputId": "79e261ad-9f06-431d-fbfa-e2e21a25737d"
      },
      "source": [
        "df = df.drop(['life', 'Region'], axis=1)\n",
        "len(df.columns)"
      ],
      "execution_count": 96,
      "outputs": [
        {
          "output_type": "execute_result",
          "data": {
            "text/plain": [
              "8"
            ]
          },
          "metadata": {
            "tags": []
          },
          "execution_count": 96
        }
      ]
    },
    {
      "cell_type": "code",
      "metadata": {
        "id": "wqV56GgVq0_c",
        "colab": {
          "base_uri": "https://localhost:8080/",
          "height": 325
        },
        "outputId": "b689e4bf-db98-4d7f-f660-57b93a5aabee"
      },
      "source": [
        "# Plot the coefficients\n",
        "plt.plot(range(len(df.columns)), lasso_coef)\n",
        "plt.xticks(range(len(df.columns)), df.columns.values, rotation=60)\n",
        "plt.margins(0.02)\n",
        "plt.show()"
      ],
      "execution_count": 97,
      "outputs": [
        {
          "output_type": "display_data",
          "data": {
            "image/png": "[encoded data removed]",
            "text/plain": [
              "<Figure size 432x288 with 1 Axes>"
            ]
          },
          "metadata": {
            "tags": []
          }
        }
      ]
    },
    {
      "cell_type": "markdown",
      "metadata": {
        "id": "Dt5p9sN6sjE4"
      },
      "source": [
        "¡Buen trabajo! Según el algoritmo de lazo, parece que 'child_mortality' es la característica más importante a la hora de predecir la esperanza de vida."
      ]
    },
    {
      "cell_type": "markdown",
      "metadata": {
        "id": "vlw7T2L5tWQ5"
      },
      "source": [
        "# Regularization II: Ridge\n",
        "\n",
        "\n",
        "Lasso es ideal para la selección de características, pero al crear modelos de regresión, la regresión de Ridge debería ser su primera opción.\n",
        "\n",
        "Recuerde que lasso realiza la regularización agregando a la función de pérdida un término de penalización del valor absoluto de cada coeficiente multiplicado por algún alfa. Esto también se conoce como regularización L1 porque el término de regularización es la norma L1 de los coeficientes. Sin embargo, esta no es la única forma de regularizar.\n",
        "\n",
        "Si, en cambio, tomara la suma de los valores al cuadrado de los coeficientes multiplicados por algún alfa, como en la regresión de Ridge, estaría calculando la norma L2. En este ejercicio, practicarás el ajuste de modelos de regresión de crestas en un rango de diferentes alfas y trazarás puntajes R2 validados cruzados para cada uno, utilizando esta función que hemos definido para ti, que representa el puntaje R2 así como el error estándar para cada uno. alfa:\n",
        "\n"
      ]
    },
    {
      "cell_type": "code",
      "metadata": {
        "id": "MYUrCXz0tXw4"
      },
      "source": [
        "def display_plot(cv_scores, cv_scores_std):\n",
        "    fig = plt.figure()\n",
        "    ax = fig.add_subplot(1,1,1)\n",
        "    ax.plot(alpha_space, cv_scores)\n",
        "\n",
        "    std_error = cv_scores_std / np.sqrt(10)\n",
        "\n",
        "    ax.fill_between(alpha_space, cv_scores + std_error, cv_scores - std_error, alpha=0.2)\n",
        "    ax.set_ylabel('CV Score +/- Std Error')\n",
        "    ax.set_xlabel('Alpha')\n",
        "    ax.axhline(np.max(cv_scores), linestyle='--', color='.5')\n",
        "    ax.set_xlim([alpha_space[0], alpha_space[-1]])\n",
        "    ax.set_xscale('log')\n",
        "    plt.show()"
      ],
      "execution_count": 98,
      "outputs": []
    },
    {
      "cell_type": "markdown",
      "metadata": {
        "id": "AenByh34uSJG"
      },
      "source": [
        "No se preocupe por los detalles de la función anterior. La motivación detrás de este ejercicio es que vea cómo varía la puntuación R2 con diferentes alfas y que comprenda la importancia de seleccionar el valor correcto para alfa. Aprenderá a sintonizar alfa en el próximo capítulo"
      ]
    },
    {
      "cell_type": "code",
      "metadata": {
        "id": "KceJHJS3tZ78"
      },
      "source": [
        "# Setup the array of alphas and lists to store scores\n",
        "alpha_space = np.logspace(-4, 0, 50)\n",
        "ridge_scores = []\n",
        "ridge_scores_std = []"
      ],
      "execution_count": 99,
      "outputs": []
    },
    {
      "cell_type": "code",
      "metadata": {
        "id": "tZdnZruFuXmO"
      },
      "source": [
        "# Create a ridge regressor: ridge\n",
        "ridge = Ridge(normalize=True)\n"
      ],
      "execution_count": 100,
      "outputs": []
    },
    {
      "cell_type": "code",
      "metadata": {
        "id": "54eJzLqkueSa"
      },
      "source": [
        "# Compute scores over range of alphas\n",
        "for alpha in alpha_space:\n",
        "\n",
        "    # Specify the alpha value to use: ridge.alpha\n",
        "    ridge.alpha = alpha\n",
        "    \n",
        "    # Perform 10-fold CV: ridge_cv_scores\n",
        "    ridge_cv_scores = cross_val_score(ridge,X,y,cv=10)\n",
        "    \n",
        "    # Append the mean of ridge_cv_scores to ridge_scores\n",
        "    ridge_scores.append(np.mean(ridge_cv_scores))\n",
        "    \n",
        "    # Append the std of ridge_cv_scores to ridge_scores_std\n",
        "    ridge_scores_std.append(np.std(ridge_cv_scores))\n"
      ],
      "execution_count": 101,
      "outputs": []
    },
    {
      "cell_type": "code",
      "metadata": {
        "id": "6oH6APQPuhjO",
        "colab": {
          "base_uri": "https://localhost:8080/",
          "height": 286
        },
        "outputId": "54a41b8f-0bab-465d-c844-f054cf3bc2e4"
      },
      "source": [
        "# Display the plot\n",
        "display_plot(ridge_scores, ridge_scores_std)"
      ],
      "execution_count": 102,
      "outputs": [
        {
          "output_type": "display_data",
          "data": {
            "image/png": "[encoded data removed]",
            "text/plain": [
              "<Figure size 432x288 with 1 Axes>"
            ]
          },
          "metadata": {
            "tags": []
          }
        }
      ]
    },
    {
      "cell_type": "markdown",
      "metadata": {
        "id": "lR8PbcRwupgh"
      },
      "source": [
        "¡Buen trabajo! Observe cómo cambian las puntuaciones de validación cruzada con diferentes alfa. ¿Qué alfa deberías elegir? ¿Cómo puede afinar su modelo? ¡Aprenderá todo sobre esto en el próximo capítulo"
      ]
    },
    {
      "cell_type": "markdown",
      "metadata": {
        "id": "PN61ZHOqu0Sk"
      },
      "source": [
        "-----\n",
        "## **HOW GOOD IS YOUR MODEL?? FINE TUNING MODEL** (3)\n",
        "-------\n"
      ]
    },
    {
      "cell_type": "markdown",
      "metadata": {
        "id": "XeM90RpO2G3H"
      },
      "source": [
        "# Metrics for classification\n",
        "\n",
        "En el Capítulo 1, evaluó el rendimiento de su clasificador k-NN según su precisión. Sin embargo, como comentó Andy, la precisión no siempre es una métrica informativa. En este ejercicio, profundizará en la evaluación del rendimiento de los clasificadores binarios calculando una matriz de confusión y generando un informe de clasificación.\n",
        "\n",
        "Es posible que haya notado en el video que el informe de clasificación constaba de tres filas y una columna de soporte adicional. El apoyo da la cantidad de muestras de la respuesta verdadera que se encuentran en esa clase, por lo que en el ejemplo del video, el apoyo fue el número de republicanos o demócratas en el conjunto de prueba en el que se calculó el informe de clasificación. Las columnas de precisión, recuperación y puntuación f1, entonces, dieron las métricas respectivas para esa clase en particular.\n",
        "\n",
        "Aquí, trabajará con el conjunto de datos de PIMA Indians obtenido del Repositorio de aprendizaje automático de UCI. El objetivo es predecir si una paciente determinada contraerá diabetes en función de características como el IMC, la edad y el número de embarazos. Por tanto, es un problema de clasificación binaria. Un valor objetivo de 0 indica que el paciente no tiene diabetes, mientras que un valor de 1 indica que el paciente tiene diabetes. Como en los Capítulos 1 y 2, el conjunto de datos se ha procesado previamente para tratar los valores faltantes.\n",
        "\n",
        "El conjunto de datos se ha cargado en un DataFrame df y se han creado para usted las matrices de características y variables de destino X e y. Además, sklearn.model_selection.train_test_split y sklearn.neighbors.KNeighborsClassifier ya se han importado.\n",
        "\n",
        "Su trabajo consiste en capacitar a un clasificador k-NN para los datos y evaluar su desempeño generando una matriz de confusión y un informe de clasificación.\n"
      ]
    },
    {
      "cell_type": "markdown",
      "metadata": {
        "id": "Z8nO61KSyxJl"
      },
      "source": [
        "![image.png](data:image/png;base64,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)"
      ]
    },
    {
      "cell_type": "code",
      "metadata": {
        "id": "D97m7vc-1yGF"
      },
      "source": [
        "from sklearn.metrics import classification_report\n",
        "from sklearn.metrics import confusion_matrix"
      ],
      "execution_count": 103,
      "outputs": []
    },
    {
      "cell_type": "code",
      "metadata": {
        "id": "eBGLWsaCy1ez",
        "colab": {
          "base_uri": "https://localhost:8080/",
          "height": 204
        },
        "outputId": "2014bdce-691a-459e-ecfc-10e8f24fbc2d"
      },
      "source": [
        "df = pd.read_csv('/content/PIMA_indias.txt', sep='\\t')\n",
        "df.head()"
      ],
      "execution_count": 104,
      "outputs": [
        {
          "output_type": "execute_result",
          "data": {
            "text/html": [
              "<div>\n",
              "<style scoped>\n",
              "    .dataframe tbody tr th:only-of-type {\n",
              "        vertical-align: middle;\n",
              "    }\n",
              "\n",
              "    .dataframe tbody tr th {\n",
              "        vertical-align: top;\n",
              "    }\n",
              "\n",
              "    .dataframe thead th {\n",
              "        text-align: right;\n",
              "    }\n",
              "</style>\n",
              "<table border=\"1\" class=\"dataframe\">\n",
              "  <thead>\n",
              "    <tr style=\"text-align: right;\">\n",
              "      <th></th>\n",
              "      <th>pregnant</th>\n",
              "      <th>glucose</th>\n",
              "      <th>diastolic</th>\n",
              "      <th>triceps</th>\n",
              "      <th>insulin</th>\n",
              "      <th>bmi</th>\n",
              "      <th>family</th>\n",
              "      <th>age</th>\n",
              "      <th>test</th>\n",
              "    </tr>\n",
              "  </thead>\n",
              "  <tbody>\n",
              "    <tr>\n",
              "      <th>0</th>\n",
              "      <td>1</td>\n",
              "      <td>89</td>\n",
              "      <td>66</td>\n",
              "      <td>23</td>\n",
              "      <td>94</td>\n",
              "      <td>28.1</td>\n",
              "      <td>0.167</td>\n",
              "      <td>21</td>\n",
              "      <td>negative</td>\n",
              "    </tr>\n",
              "    <tr>\n",
              "      <th>1</th>\n",
              "      <td>0</td>\n",
              "      <td>137</td>\n",
              "      <td>40</td>\n",
              "      <td>35</td>\n",
              "      <td>168</td>\n",
              "      <td>43.1</td>\n",
              "      <td>2.288</td>\n",
              "      <td>33</td>\n",
              "      <td>positive</td>\n",
              "    </tr>\n",
              "    <tr>\n",
              "      <th>2</th>\n",
              "      <td>3</td>\n",
              "      <td>78</td>\n",
              "      <td>50</td>\n",
              "      <td>32</td>\n",
              "      <td>88</td>\n",
              "      <td>31.0</td>\n",
              "      <td>0.248</td>\n",
              "      <td>26</td>\n",
              "      <td>positive</td>\n",
              "    </tr>\n",
              "    <tr>\n",
              "      <th>3</th>\n",
              "      <td>2</td>\n",
              "      <td>197</td>\n",
              "      <td>70</td>\n",
              "      <td>45</td>\n",
              "      <td>543</td>\n",
              "      <td>30.5</td>\n",
              "      <td>0.158</td>\n",
              "      <td>53</td>\n",
              "      <td>positive</td>\n",
              "    </tr>\n",
              "    <tr>\n",
              "      <th>4</th>\n",
              "      <td>1</td>\n",
              "      <td>189</td>\n",
              "      <td>60</td>\n",
              "      <td>23</td>\n",
              "      <td>846</td>\n",
              "      <td>30.1</td>\n",
              "      <td>0.398</td>\n",
              "      <td>59</td>\n",
              "      <td>positive</td>\n",
              "    </tr>\n",
              "  </tbody>\n",
              "</table>\n",
              "</div>"
            ],
            "text/plain": [
              "   pregnant  glucose  diastolic  triceps  insulin   bmi  family  age      test\n",
              "0         1       89         66       23       94  28.1   0.167   21  negative\n",
              "1         0      137         40       35      168  43.1   2.288   33  positive\n",
              "2         3       78         50       32       88  31.0   0.248   26  positive\n",
              "3         2      197         70       45      543  30.5   0.158   53  positive\n",
              "4         1      189         60       23      846  30.1   0.398   59  positive"
            ]
          },
          "metadata": {
            "tags": []
          },
          "execution_count": 104
        }
      ]
    },
    {
      "cell_type": "code",
      "metadata": {
        "id": "PtJI9fsw0NBj"
      },
      "source": [
        "X = df.iloc[:, :-1]\n",
        "y = df.iloc[:, -1]"
      ],
      "execution_count": 105,
      "outputs": []
    },
    {
      "cell_type": "code",
      "metadata": {
        "id": "C9t-OIvi1d_H",
        "colab": {
          "base_uri": "https://localhost:8080/"
        },
        "outputId": "6ada7c66-52a2-48ca-efa1-f2c2e99c5e63"
      },
      "source": [
        "# Create training and test set\n",
        "X_train, X_test, y_train, y_test = train_test_split(X,y, test_size=0.40,\n",
        "random_state=42)\n",
        "\n",
        "# Instantiate a k-NN classifier: knn\n",
        "knn = KNeighborsClassifier(n_neighbors=6)\n",
        "\n",
        "# Fit the classifier to the training data\n",
        "knn.fit(X_train,y_train)\n",
        "\n",
        "# Predict the labels of the test data: y_pred\n",
        "y_pred = knn.predict(X_test)\n",
        "\n",
        "# Generate the confusion matrix and classification report\n",
        "print(classification_report(y_test, y_pred))\n",
        "print(confusion_matrix(y_test, y_pred))"
      ],
      "execution_count": 107,
      "outputs": [
        {
          "output_type": "stream",
          "text": [
            "              precision    recall  f1-score   support\n",
            "\n",
            "    negative       0.75      0.87      0.80       106\n",
            "    positive       0.59      0.39      0.47        51\n",
            "\n",
            "    accuracy                           0.71       157\n",
            "   macro avg       0.67      0.63      0.64       157\n",
            "weighted avg       0.70      0.71      0.70       157\n",
            "\n",
            "[[92 14]\n",
            " [31 20]]\n"
          ],
          "name": "stdout"
        }
      ]
    },
    {
      "cell_type": "markdown",
      "metadata": {
        "id": "RH6TVctg2PAw"
      },
      "source": [
        "¡Excelente trabajo! Al analizar la matriz de confusión y el informe de clasificación, puede comprender mucho mejor el rendimiento de su clasificador."
      ]
    },
    {
      "cell_type": "markdown",
      "metadata": {
        "id": "NOf2oktSD7E2"
      },
      "source": [
        "# Building a logistic regression model\n",
        "\n",
        "¡Es hora de construir su primer modelo de regresión logística! Como Hugo mostró en el video, scikit-learn hace que sea muy fácil probar diferentes modelos, ya que el paradigma Train-Test-Split / Instantiate / Fit / Predict se aplica a todos los clasificadores y regresores, que se conocen en scikit-learn como 'estimadores '. Verá esto ahora por sí mismo mientras entrena un modelo de regresión logística con exactamente los mismos datos que en el ejercicio anterior. ¿Superará a k-NN? ¡Solo hay una forma de averiguarlo!\n",
        "\n",
        "Las matrices de características y variables de destino X e y se han precargado, y train_test_split se ha importado desde sklearn.model_selection."
      ]
    },
    {
      "cell_type": "code",
      "metadata": {
        "id": "VBoNz_azEZa7"
      },
      "source": [
        "# Import the necessary modules\n",
        "from sklearn.linear_model import LogisticRegression\n",
        "from sklearn.metrics import classification_report, confusion_matrix"
      ],
      "execution_count": 108,
      "outputs": []
    },
    {
      "cell_type": "code",
      "metadata": {
        "id": "Pw8Uy0cF1tlb",
        "colab": {
          "base_uri": "https://localhost:8080/",
          "height": 204
        },
        "outputId": "78cbf0b0-2db0-4486-c895-9804335af431"
      },
      "source": [
        "df.head()"
      ],
      "execution_count": 109,
      "outputs": [
        {
          "output_type": "execute_result",
          "data": {
            "text/html": [
              "<div>\n",
              "<style scoped>\n",
              "    .dataframe tbody tr th:only-of-type {\n",
              "        vertical-align: middle;\n",
              "    }\n",
              "\n",
              "    .dataframe tbody tr th {\n",
              "        vertical-align: top;\n",
              "    }\n",
              "\n",
              "    .dataframe thead th {\n",
              "        text-align: right;\n",
              "    }\n",
              "</style>\n",
              "<table border=\"1\" class=\"dataframe\">\n",
              "  <thead>\n",
              "    <tr style=\"text-align: right;\">\n",
              "      <th></th>\n",
              "      <th>pregnant</th>\n",
              "      <th>glucose</th>\n",
              "      <th>diastolic</th>\n",
              "      <th>triceps</th>\n",
              "      <th>insulin</th>\n",
              "      <th>bmi</th>\n",
              "      <th>family</th>\n",
              "      <th>age</th>\n",
              "      <th>test</th>\n",
              "    </tr>\n",
              "  </thead>\n",
              "  <tbody>\n",
              "    <tr>\n",
              "      <th>0</th>\n",
              "      <td>1</td>\n",
              "      <td>89</td>\n",
              "      <td>66</td>\n",
              "      <td>23</td>\n",
              "      <td>94</td>\n",
              "      <td>28.1</td>\n",
              "      <td>0.167</td>\n",
              "      <td>21</td>\n",
              "      <td>negative</td>\n",
              "    </tr>\n",
              "    <tr>\n",
              "      <th>1</th>\n",
              "      <td>0</td>\n",
              "      <td>137</td>\n",
              "      <td>40</td>\n",
              "      <td>35</td>\n",
              "      <td>168</td>\n",
              "      <td>43.1</td>\n",
              "      <td>2.288</td>\n",
              "      <td>33</td>\n",
              "      <td>positive</td>\n",
              "    </tr>\n",
              "    <tr>\n",
              "      <th>2</th>\n",
              "      <td>3</td>\n",
              "      <td>78</td>\n",
              "      <td>50</td>\n",
              "      <td>32</td>\n",
              "      <td>88</td>\n",
              "      <td>31.0</td>\n",
              "      <td>0.248</td>\n",
              "      <td>26</td>\n",
              "      <td>positive</td>\n",
              "    </tr>\n",
              "    <tr>\n",
              "      <th>3</th>\n",
              "      <td>2</td>\n",
              "      <td>197</td>\n",
              "      <td>70</td>\n",
              "      <td>45</td>\n",
              "      <td>543</td>\n",
              "      <td>30.5</td>\n",
              "      <td>0.158</td>\n",
              "      <td>53</td>\n",
              "      <td>positive</td>\n",
              "    </tr>\n",
              "    <tr>\n",
              "      <th>4</th>\n",
              "      <td>1</td>\n",
              "      <td>189</td>\n",
              "      <td>60</td>\n",
              "      <td>23</td>\n",
              "      <td>846</td>\n",
              "      <td>30.1</td>\n",
              "      <td>0.398</td>\n",
              "      <td>59</td>\n",
              "      <td>positive</td>\n",
              "    </tr>\n",
              "  </tbody>\n",
              "</table>\n",
              "</div>"
            ],
            "text/plain": [
              "   pregnant  glucose  diastolic  triceps  insulin   bmi  family  age      test\n",
              "0         1       89         66       23       94  28.1   0.167   21  negative\n",
              "1         0      137         40       35      168  43.1   2.288   33  positive\n",
              "2         3       78         50       32       88  31.0   0.248   26  positive\n",
              "3         2      197         70       45      543  30.5   0.158   53  positive\n",
              "4         1      189         60       23      846  30.1   0.398   59  positive"
            ]
          },
          "metadata": {
            "tags": []
          },
          "execution_count": 109
        }
      ]
    },
    {
      "cell_type": "code",
      "metadata": {
        "id": "jQv7JqXkEEWW"
      },
      "source": [
        "X = df.drop('test', axis=1).values"
      ],
      "execution_count": 110,
      "outputs": []
    },
    {
      "cell_type": "code",
      "metadata": {
        "id": "cUh4o9e4ELr-"
      },
      "source": [
        "y = df['test'].values\n"
      ],
      "execution_count": 111,
      "outputs": []
    },
    {
      "cell_type": "code",
      "metadata": {
        "id": "dHpSuhYAEPHu"
      },
      "source": [
        "# Create training and test sets\n",
        "X_train, X_test, y_train, y_test = train_test_split(X, y, test_size = 0.4, random_state=42)"
      ],
      "execution_count": 112,
      "outputs": []
    },
    {
      "cell_type": "code",
      "metadata": {
        "id": "vCMEz7oFESv_"
      },
      "source": [
        "# Create the classifier: logreg\n",
        "logreg = LogisticRegression()\n"
      ],
      "execution_count": 113,
      "outputs": []
    },
    {
      "cell_type": "code",
      "metadata": {
        "id": "RQ7IOC49EU5V",
        "colab": {
          "base_uri": "https://localhost:8080/"
        },
        "outputId": "23a8bea6-9897-45c9-ef3d-b9438b899b03"
      },
      "source": [
        "# Fit the classifier to the training data\n",
        "logreg.fit(X_train,y_train)\n",
        "\n",
        "# Predict the labels of the test set: y_pred\n",
        "y_pred = logreg.predict(X_test)\n"
      ],
      "execution_count": 114,
      "outputs": [
        {
          "output_type": "stream",
          "text": [
            "/usr/local/lib/python3.6/dist-packages/sklearn/linear_model/_logistic.py:940: ConvergenceWarning: lbfgs failed to converge (status=1):\n",
            "STOP: TOTAL NO. of ITERATIONS REACHED LIMIT.\n",
            "\n",
            "Increase the number of iterations (max_iter) or scale the data as shown in:\n",
            "    https://scikit-learn.org/stable/modules/preprocessing.html\n",
            "Please also refer to the documentation for alternative solver options:\n",
            "    https://scikit-learn.org/stable/modules/linear_model.html#logistic-regression\n",
            "  extra_warning_msg=_LOGISTIC_SOLVER_CONVERGENCE_MSG)\n"
          ],
          "name": "stderr"
        }
      ]
    },
    {
      "cell_type": "code",
      "metadata": {
        "id": "9yAx-gvOEd84",
        "colab": {
          "base_uri": "https://localhost:8080/"
        },
        "outputId": "11c7a917-4337-457a-c07b-c3d975d7000a"
      },
      "source": [
        "# Compute and print the confusion matrix and classification report\n",
        "print(confusion_matrix(y_test, y_pred))\n",
        "print(classification_report(y_test, y_pred))\n"
      ],
      "execution_count": 115,
      "outputs": [
        {
          "output_type": "stream",
          "text": [
            "[[89 17]\n",
            " [22 29]]\n",
            "              precision    recall  f1-score   support\n",
            "\n",
            "    negative       0.80      0.84      0.82       106\n",
            "    positive       0.63      0.57      0.60        51\n",
            "\n",
            "    accuracy                           0.75       157\n",
            "   macro avg       0.72      0.70      0.71       157\n",
            "weighted avg       0.75      0.75      0.75       157\n",
            "\n"
          ],
          "name": "stdout"
        }
      ]
    },
    {
      "cell_type": "markdown",
      "metadata": {
        "id": "eDCh4QDJEoC3"
      },
      "source": [
        "\n",
        "Ahora sabe cómo usar la regresión logística para la clasificación binaria: ¡excelente trabajo! La regresión logística se utiliza en una variedad de aplicaciones de aprendizaje automático y se convertirá en una parte vital de su caja de herramientas de ciencia de datos."
      ]
    },
    {
      "cell_type": "markdown",
      "metadata": {
        "id": "dEq8WxsFEv-s"
      },
      "source": [
        "# Plotting an ROC curve\n",
        "\n",
        "Los informes de clasificación y las matrices de confusión son excelentes métodos para evaluar cuantitativamente el rendimiento del modelo, mientras que las curvas ROC proporcionan una forma de evaluar visualmente los modelos. Como Hugo demostró en el video, la mayoría de los clasificadores en scikit-learn tienen un método .predict_proba () que devuelve la probabilidad de que una muestra dada esté en una clase particular. Habiendo construido un modelo de regresión logística, ahora evaluará su desempeño trazando una curva ROC. Al hacerlo, utilizará el método .predict_proba () y se familiarizará con su funcionalidad.\n",
        "\n",
        "Aquí, continuará trabajando con el conjunto de datos de diabetes de PIMA Indians. El clasificador ya se ajustó a los datos de entrenamiento y está disponible como logreg."
      ]
    },
    {
      "cell_type": "code",
      "metadata": {
        "id": "6sRFhq8qG3TT"
      },
      "source": [
        "y = df.test.replace({'negative':0, 'positive':1})"
      ],
      "execution_count": 116,
      "outputs": []
    },
    {
      "cell_type": "code",
      "metadata": {
        "id": "SEEb_OozH_2z"
      },
      "source": [
        "# Create training and test sets\n",
        "X_train, X_test, y_train, y_test = train_test_split(X, y, test_size = 0.4, random_state=42)"
      ],
      "execution_count": 117,
      "outputs": []
    },
    {
      "cell_type": "code",
      "metadata": {
        "id": "nJL2MdWSEh7e"
      },
      "source": [
        "# Import necessary modules\n",
        "from sklearn.metrics import roc_curve"
      ],
      "execution_count": 118,
      "outputs": []
    },
    {
      "cell_type": "code",
      "metadata": {
        "id": "OLZbDm6lGRMx"
      },
      "source": [
        "# Compute predicted probabilities: y_pred_prob\n",
        "y_pred_prob = logreg.predict_proba(X_test)[:,1]"
      ],
      "execution_count": 119,
      "outputs": []
    },
    {
      "cell_type": "code",
      "metadata": {
        "id": "0t2eUUrdGTdx"
      },
      "source": [
        "# Generate ROC curve values: fpr, tpr, thresholds\n",
        "fpr, tpr, thresholds = roc_curve(y_test, y_pred_prob)"
      ],
      "execution_count": 120,
      "outputs": []
    },
    {
      "cell_type": "code",
      "metadata": {
        "id": "n9KXEndnGWg1",
        "colab": {
          "base_uri": "https://localhost:8080/",
          "height": 299
        },
        "outputId": "d4b1f831-7046-4e2e-ec16-410b404a03af"
      },
      "source": [
        "# Plot ROC curve\n",
        "plt.plot([0, 1], [0, 1], 'k--')\n",
        "plt.plot(fpr, tpr)\n",
        "plt.xlabel('False Positive Rate')\n",
        "plt.ylabel('True Positive Rate')\n",
        "plt.title('ROC Curve')\n",
        "plt.show()"
      ],
      "execution_count": 121,
      "outputs": [
        {
          "output_type": "display_data",
          "data": {
            "image/png": "[encoded data removed]",
            "text/plain": [
              "<Figure size 432x288 with 1 Axes>"
            ]
          },
          "metadata": {
            "tags": []
          }
        }
      ]
    },
    {
      "cell_type": "markdown",
      "metadata": {
        "id": "kcsJyiH-Idjn"
      },
      "source": [
        "Excellent! This ROC curve provides a nice visual way to assess your classifier's performance."
      ]
    },
    {
      "cell_type": "markdown",
      "metadata": {
        "id": "s49BuUTrIiiD"
      },
      "source": [
        "# Precision-recall Curve\n",
        "\n",
        "Al observar su curva ROC, es posible que haya notado que el eje y (tasa positiva verdadera) también se conoce como recuperación. De hecho, además de la curva ROC, existen otras formas de evaluar visualmente el rendimiento del modelo. Una de estas formas es la curva de recuperación de precisión, que se genera trazando la precisión y recuperación para diferentes umbrales. Como recordatorio, la precisión y la recuperación se definen como:\n",
        "\n",
        "\n",
        "\n",
        "![image.png](data:image/png;base64,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)"
      ]
    },
    {
      "cell_type": "markdown",
      "metadata": {
        "id": "mIWBF6kmI26P"
      },
      "source": [
        "A la derecha, se generó una curva de recuperación de precisión para el conjunto de datos de diabetes. El informe de clasificación y la matriz de confusión se muestran en IPython Shell.\n",
        "\n",
        "Estudie la curva de precisión-recuperación y luego considere las afirmaciones que se dan a continuación. Elija la única afirmación que no sea cierta. Tenga en cuenta que aquí, la clase es positiva (1) si el individuo tiene diabetes."
      ]
    },
    {
      "cell_type": "code",
      "metadata": {
        "id": "ojsg9qeiIY4j"
      },
      "source": [
        "from sklearn.metrics import roc_auc_score"
      ],
      "execution_count": null,
      "outputs": []
    },
    {
      "cell_type": "code",
      "metadata": {
        "id": "smEa3G5DJwnQ"
      },
      "source": [
        "# Create training and test sets\n",
        "X_train, X_test, y_train, y_test = train_test_split(X, y, test_size = 0.4, random_state=42)"
      ],
      "execution_count": null,
      "outputs": []
    },
    {
      "cell_type": "code",
      "metadata": {
        "id": "6dRPD_lSJ2Bw",
        "colab": {
          "base_uri": "https://localhost:8080/",
          "height": 238
        },
        "outputId": "af6559b2-7ef7-4ee8-9e31-efcd3f63b34a"
      },
      "source": [
        "logreg = LogisticRegression()\n",
        "logreg.fit(X_train,y_train)"
      ],
      "execution_count": null,
      "outputs": [
        {
          "output_type": "stream",
          "text": [
            "/usr/local/lib/python3.6/dist-packages/sklearn/linear_model/_logistic.py:940: ConvergenceWarning: lbfgs failed to converge (status=1):\n",
            "STOP: TOTAL NO. of ITERATIONS REACHED LIMIT.\n",
            "\n",
            "Increase the number of iterations (max_iter) or scale the data as shown in:\n",
            "    https://scikit-learn.org/stable/modules/preprocessing.html\n",
            "Please also refer to the documentation for alternative solver options:\n",
            "    https://scikit-learn.org/stable/modules/linear_model.html#logistic-regression\n",
            "  extra_warning_msg=_LOGISTIC_SOLVER_CONVERGENCE_MSG)\n"
          ],
          "name": "stderr"
        },
        {
          "output_type": "execute_result",
          "data": {
            "text/plain": [
              "LogisticRegression(C=1.0, class_weight=None, dual=False, fit_intercept=True,\n",
              "                   intercept_scaling=1, l1_ratio=None, max_iter=100,\n",
              "                   multi_class='auto', n_jobs=None, penalty='l2',\n",
              "                   random_state=None, solver='lbfgs', tol=0.0001, verbose=0,\n",
              "                   warm_start=False)"
            ]
          },
          "metadata": {
            "tags": []
          },
          "execution_count": 204
        }
      ]
    },
    {
      "cell_type": "code",
      "metadata": {
        "id": "4vzhNWPpJ-RT",
        "colab": {
          "base_uri": "https://localhost:8080/",
          "height": 34
        },
        "outputId": "82d9c579-74cf-4241-f35a-7d41fd31d7e5"
      },
      "source": [
        "y_pred_prob = logreg.predict_proba(X_test)[:,1]\n",
        "roc_auc_score(y_test,y_pred_prob)"
      ],
      "execution_count": null,
      "outputs": [
        {
          "output_type": "execute_result",
          "data": {
            "text/plain": [
              "0.8340732519422863"
            ]
          },
          "metadata": {
            "tags": []
          },
          "execution_count": 205
        }
      ]
    },
    {
      "cell_type": "markdown",
      "metadata": {
        "id": "5ysQD1bILuR8"
      },
      "source": [
        "# AUC computation\n",
        "\n",
        "Supongamos que tiene un clasificador binario que, de hecho, solo hace conjeturas al azar. Sería correcto aproximadamente el 50% de las veces, y la curva ROC resultante sería una línea diagonal en la que la tasa de verdaderos positivos y la tasa de falsos positivos son siempre iguales. El Área bajo esta curva ROC sería 0.5. Esta es una de las formas en que las AUC, que Hugo discutió en el video, es una métrica informativa para evaluar un modelo. Si el AUC es mayor que 0,5, el modelo es mejor que la adivinación aleatoria. ¡Siempre es una buena señal!"
      ]
    },
    {
      "cell_type": "code",
      "metadata": {
        "id": "0DB2qiIVKOtk"
      },
      "source": [
        "# Import necessary modules\n",
        "from sklearn.metrics import roc_auc_score\n",
        "from sklearn.model_selection import cross_val_score"
      ],
      "execution_count": 122,
      "outputs": []
    },
    {
      "cell_type": "code",
      "metadata": {
        "id": "ppbWVmKuL5ba"
      },
      "source": [
        "# Compute predicted probabilities: y_pred_prob\n",
        "y_pred_prob = logreg.predict_proba(X_test)[:,1]\n"
      ],
      "execution_count": 123,
      "outputs": []
    },
    {
      "cell_type": "code",
      "metadata": {
        "id": "swuagfSiL7ct",
        "colab": {
          "base_uri": "https://localhost:8080/"
        },
        "outputId": "70ff2c68-a23c-4c68-ed46-bce7a6ea3961"
      },
      "source": [
        "# Compute and print AUC score\n",
        "print(\"AUC: {}\".format(roc_auc_score(y_test, y_pred_prob)))\n",
        "\n",
        "# Compute cross-validated AUC scores: cv_auc\n",
        "cv_auc = cross_val_score(logreg,X,y, cv=5, scoring='roc_auc')"
      ],
      "execution_count": 124,
      "outputs": [
        {
          "output_type": "stream",
          "text": [
            "AUC: 0.8340732519422863\n"
          ],
          "name": "stdout"
        },
        {
          "output_type": "stream",
          "text": [
            "/usr/local/lib/python3.6/dist-packages/sklearn/linear_model/_logistic.py:940: ConvergenceWarning: lbfgs failed to converge (status=1):\n",
            "STOP: TOTAL NO. of ITERATIONS REACHED LIMIT.\n",
            "\n",
            "Increase the number of iterations (max_iter) or scale the data as shown in:\n",
            "    https://scikit-learn.org/stable/modules/preprocessing.html\n",
            "Please also refer to the documentation for alternative solver options:\n",
            "    https://scikit-learn.org/stable/modules/linear_model.html#logistic-regression\n",
            "  extra_warning_msg=_LOGISTIC_SOLVER_CONVERGENCE_MSG)\n",
            "/usr/local/lib/python3.6/dist-packages/sklearn/linear_model/_logistic.py:940: ConvergenceWarning: lbfgs failed to converge (status=1):\n",
            "STOP: TOTAL NO. of ITERATIONS REACHED LIMIT.\n",
            "\n",
            "Increase the number of iterations (max_iter) or scale the data as shown in:\n",
            "    https://scikit-learn.org/stable/modules/preprocessing.html\n",
            "Please also refer to the documentation for alternative solver options:\n",
            "    https://scikit-learn.org/stable/modules/linear_model.html#logistic-regression\n",
            "  extra_warning_msg=_LOGISTIC_SOLVER_CONVERGENCE_MSG)\n",
            "/usr/local/lib/python3.6/dist-packages/sklearn/linear_model/_logistic.py:940: ConvergenceWarning: lbfgs failed to converge (status=1):\n",
            "STOP: TOTAL NO. of ITERATIONS REACHED LIMIT.\n",
            "\n",
            "Increase the number of iterations (max_iter) or scale the data as shown in:\n",
            "    https://scikit-learn.org/stable/modules/preprocessing.html\n",
            "Please also refer to the documentation for alternative solver options:\n",
            "    https://scikit-learn.org/stable/modules/linear_model.html#logistic-regression\n",
            "  extra_warning_msg=_LOGISTIC_SOLVER_CONVERGENCE_MSG)\n",
            "/usr/local/lib/python3.6/dist-packages/sklearn/linear_model/_logistic.py:940: ConvergenceWarning: lbfgs failed to converge (status=1):\n",
            "STOP: TOTAL NO. of ITERATIONS REACHED LIMIT.\n",
            "\n",
            "Increase the number of iterations (max_iter) or scale the data as shown in:\n",
            "    https://scikit-learn.org/stable/modules/preprocessing.html\n",
            "Please also refer to the documentation for alternative solver options:\n",
            "    https://scikit-learn.org/stable/modules/linear_model.html#logistic-regression\n",
            "  extra_warning_msg=_LOGISTIC_SOLVER_CONVERGENCE_MSG)\n",
            "/usr/local/lib/python3.6/dist-packages/sklearn/linear_model/_logistic.py:940: ConvergenceWarning: lbfgs failed to converge (status=1):\n",
            "STOP: TOTAL NO. of ITERATIONS REACHED LIMIT.\n",
            "\n",
            "Increase the number of iterations (max_iter) or scale the data as shown in:\n",
            "    https://scikit-learn.org/stable/modules/preprocessing.html\n",
            "Please also refer to the documentation for alternative solver options:\n",
            "    https://scikit-learn.org/stable/modules/linear_model.html#logistic-regression\n",
            "  extra_warning_msg=_LOGISTIC_SOLVER_CONVERGENCE_MSG)\n"
          ],
          "name": "stderr"
        }
      ]
    },
    {
      "cell_type": "code",
      "metadata": {
        "id": "hoxh-PmuL-KX",
        "colab": {
          "base_uri": "https://localhost:8080/"
        },
        "outputId": "62547a3b-2525-4885-82d2-9270890be444"
      },
      "source": [
        "# Print list of AUC scores\n",
        "print(\"AUC scores computed using 5-fold cross-validation: {}\".format(cv_auc))\n"
      ],
      "execution_count": 125,
      "outputs": [
        {
          "output_type": "stream",
          "text": [
            "AUC scores computed using 5-fold cross-validation: [0.75761974 0.81422351 0.83653846 0.81878698 0.8897929 ]\n"
          ],
          "name": "stdout"
        }
      ]
    },
    {
      "cell_type": "markdown",
      "metadata": {
        "id": "ZGLeVCfnMHL9"
      },
      "source": [
        "¡Buen trabajo! Ahora tiene varios métodos diferentes que puede utilizar para evaluar el rendimiento de su modelo."
      ]
    },
    {
      "cell_type": "markdown",
      "metadata": {
        "id": "6zCKRffENEzA"
      },
      "source": [
        "# Hyperparameter tuning with GridSearchCV\n",
        "\n",
        "Hugo demostró cómo ajustar el parámetro n_neighbors de KNeighborsClassifier () usando GridSearchCV en el conjunto de datos de votación. Ahora lo practicará usted mismo, ¡pero utilizando la regresión logística en el conjunto de datos de diabetes!\n",
        "\n",
        "Al igual que el parámetro alfa de regularización de lazo y cresta que vio anteriormente, la regresión logística también tiene un parámetro de regularización: C. C controla la inversa de la intensidad de regularización, y esto es lo que sintonizará en este ejercicio. Una C grande puede dar lugar a un modelo de sobreajuste, mientras que una C pequeña puede llevar a un modelo de bajo ajuste.\n",
        "\n",
        "El espacio de hiperparámetros para C se ha configurado para usted. Su trabajo es usar GridSearchCV y la regresión logística para encontrar el C óptimo en este espacio de hiperparámetros. La matriz de características está disponible como X y la matriz de variables de destino está disponible como y.\n",
        "\n",
        "Quizás se pregunte por qué no se le pide que divida los datos en conjuntos de prueba y entrenamiento. ¡Buena observación! Aquí, queremos que se centre en el proceso de configurar la cuadrícula de hiperparámetros y realizar la validación cruzada de búsqueda de cuadrícula. En la práctica, querrá conservar una parte de sus datos para fines de evaluación, ¡y aprenderá todo sobre esto en el siguiente video!"
      ]
    },
    {
      "cell_type": "code",
      "metadata": {
        "id": "N2Q0qBaOMATI"
      },
      "source": [
        "# Import necessary modules\n",
        "from sklearn.linear_model import LogisticRegression\n",
        "from sklearn.model_selection import GridSearchCV"
      ],
      "execution_count": 126,
      "outputs": []
    },
    {
      "cell_type": "code",
      "metadata": {
        "id": "OAyWby_vOoac",
        "colab": {
          "base_uri": "https://localhost:8080/",
          "height": 204
        },
        "outputId": "4f35a06d-f0cd-4cda-f39d-d59bb86301d9"
      },
      "source": [
        "df.head()"
      ],
      "execution_count": 127,
      "outputs": [
        {
          "output_type": "execute_result",
          "data": {
            "text/html": [
              "<div>\n",
              "<style scoped>\n",
              "    .dataframe tbody tr th:only-of-type {\n",
              "        vertical-align: middle;\n",
              "    }\n",
              "\n",
              "    .dataframe tbody tr th {\n",
              "        vertical-align: top;\n",
              "    }\n",
              "\n",
              "    .dataframe thead th {\n",
              "        text-align: right;\n",
              "    }\n",
              "</style>\n",
              "<table border=\"1\" class=\"dataframe\">\n",
              "  <thead>\n",
              "    <tr style=\"text-align: right;\">\n",
              "      <th></th>\n",
              "      <th>pregnant</th>\n",
              "      <th>glucose</th>\n",
              "      <th>diastolic</th>\n",
              "      <th>triceps</th>\n",
              "      <th>insulin</th>\n",
              "      <th>bmi</th>\n",
              "      <th>family</th>\n",
              "      <th>age</th>\n",
              "      <th>test</th>\n",
              "    </tr>\n",
              "  </thead>\n",
              "  <tbody>\n",
              "    <tr>\n",
              "      <th>0</th>\n",
              "      <td>1</td>\n",
              "      <td>89</td>\n",
              "      <td>66</td>\n",
              "      <td>23</td>\n",
              "      <td>94</td>\n",
              "      <td>28.1</td>\n",
              "      <td>0.167</td>\n",
              "      <td>21</td>\n",
              "      <td>negative</td>\n",
              "    </tr>\n",
              "    <tr>\n",
              "      <th>1</th>\n",
              "      <td>0</td>\n",
              "      <td>137</td>\n",
              "      <td>40</td>\n",
              "      <td>35</td>\n",
              "      <td>168</td>\n",
              "      <td>43.1</td>\n",
              "      <td>2.288</td>\n",
              "      <td>33</td>\n",
              "      <td>positive</td>\n",
              "    </tr>\n",
              "    <tr>\n",
              "      <th>2</th>\n",
              "      <td>3</td>\n",
              "      <td>78</td>\n",
              "      <td>50</td>\n",
              "      <td>32</td>\n",
              "      <td>88</td>\n",
              "      <td>31.0</td>\n",
              "      <td>0.248</td>\n",
              "      <td>26</td>\n",
              "      <td>positive</td>\n",
              "    </tr>\n",
              "    <tr>\n",
              "      <th>3</th>\n",
              "      <td>2</td>\n",
              "      <td>197</td>\n",
              "      <td>70</td>\n",
              "      <td>45</td>\n",
              "      <td>543</td>\n",
              "      <td>30.5</td>\n",
              "      <td>0.158</td>\n",
              "      <td>53</td>\n",
              "      <td>positive</td>\n",
              "    </tr>\n",
              "    <tr>\n",
              "      <th>4</th>\n",
              "      <td>1</td>\n",
              "      <td>189</td>\n",
              "      <td>60</td>\n",
              "      <td>23</td>\n",
              "      <td>846</td>\n",
              "      <td>30.1</td>\n",
              "      <td>0.398</td>\n",
              "      <td>59</td>\n",
              "      <td>positive</td>\n",
              "    </tr>\n",
              "  </tbody>\n",
              "</table>\n",
              "</div>"
            ],
            "text/plain": [
              "   pregnant  glucose  diastolic  triceps  insulin   bmi  family  age      test\n",
              "0         1       89         66       23       94  28.1   0.167   21  negative\n",
              "1         0      137         40       35      168  43.1   2.288   33  positive\n",
              "2         3       78         50       32       88  31.0   0.248   26  positive\n",
              "3         2      197         70       45      543  30.5   0.158   53  positive\n",
              "4         1      189         60       23      846  30.1   0.398   59  positive"
            ]
          },
          "metadata": {
            "tags": []
          },
          "execution_count": 127
        }
      ]
    },
    {
      "cell_type": "code",
      "metadata": {
        "id": "bIRBZa5OOqJE"
      },
      "source": [
        "X = df.drop('test', axis=1).values\n",
        "y = df['test'].values"
      ],
      "execution_count": 128,
      "outputs": []
    },
    {
      "cell_type": "code",
      "metadata": {
        "id": "PEd_5fx6O1qX"
      },
      "source": [
        "# Setup the hyperparameter grid\n",
        "c_space = np.logspace(-5, 8, 15)\n",
        "param_grid = {'C': c_space}"
      ],
      "execution_count": 129,
      "outputs": []
    },
    {
      "cell_type": "code",
      "metadata": {
        "id": "Vdm_Pu_VO3_9"
      },
      "source": [
        "# Instantiate a logistic regression classifier: logreg\n",
        "logreg = LogisticRegression()\n"
      ],
      "execution_count": 130,
      "outputs": []
    },
    {
      "cell_type": "code",
      "metadata": {
        "id": "XjPQ2f_GO6Uv",
        "colab": {
          "base_uri": "https://localhost:8080/"
        },
        "outputId": "b2e8ddb0-2170-484f-815f-1d0c8ce58500"
      },
      "source": [
        "# Instantiate the GridSearchCV object: logreg_cv\n",
        "logreg_cv = GridSearchCV(logreg, param_grid, cv=5)\n",
        "\n",
        "# Fit it to the data\n",
        "logreg_cv.fit(X_train,y_train)"
      ],
      "execution_count": 131,
      "outputs": [
        {
          "output_type": "stream",
          "text": [
            "/usr/local/lib/python3.6/dist-packages/sklearn/linear_model/_logistic.py:940: ConvergenceWarning: lbfgs failed to converge (status=1):\n",
            "STOP: TOTAL NO. of ITERATIONS REACHED LIMIT.\n",
            "\n",
            "Increase the number of iterations (max_iter) or scale the data as shown in:\n",
            "    https://scikit-learn.org/stable/modules/preprocessing.html\n",
            "Please also refer to the documentation for alternative solver options:\n",
            "    https://scikit-learn.org/stable/modules/linear_model.html#logistic-regression\n",
            "  extra_warning_msg=_LOGISTIC_SOLVER_CONVERGENCE_MSG)\n",
            "/usr/local/lib/python3.6/dist-packages/sklearn/linear_model/_logistic.py:940: ConvergenceWarning: lbfgs failed to converge (status=1):\n",
            "STOP: TOTAL NO. of ITERATIONS REACHED LIMIT.\n",
            "\n",
            "Increase the number of iterations (max_iter) or scale the data as shown in:\n",
            "    https://scikit-learn.org/stable/modules/preprocessing.html\n",
            "Please also refer to the documentation for alternative solver options:\n",
            "    https://scikit-learn.org/stable/modules/linear_model.html#logistic-regression\n",
            "  extra_warning_msg=_LOGISTIC_SOLVER_CONVERGENCE_MSG)\n",
            "/usr/local/lib/python3.6/dist-packages/sklearn/linear_model/_logistic.py:940: ConvergenceWarning: lbfgs failed to converge (status=1):\n",
            "STOP: TOTAL NO. of ITERATIONS REACHED LIMIT.\n",
            "\n",
            "Increase the number of iterations (max_iter) or scale the data as shown in:\n",
            "    https://scikit-learn.org/stable/modules/preprocessing.html\n",
            "Please also refer to the documentation for alternative solver options:\n",
            "    https://scikit-learn.org/stable/modules/linear_model.html#logistic-regression\n",
            "  extra_warning_msg=_LOGISTIC_SOLVER_CONVERGENCE_MSG)\n",
            "/usr/local/lib/python3.6/dist-packages/sklearn/linear_model/_logistic.py:940: ConvergenceWarning: lbfgs failed to converge (status=1):\n",
            "STOP: TOTAL NO. of ITERATIONS REACHED LIMIT.\n",
            "\n",
            "Increase the number of iterations (max_iter) or scale the data as shown in:\n",
            "    https://scikit-learn.org/stable/modules/preprocessing.html\n",
            "Please also refer to the documentation for alternative solver options:\n",
            "    https://scikit-learn.org/stable/modules/linear_model.html#logistic-regression\n",
            "  extra_warning_msg=_LOGISTIC_SOLVER_CONVERGENCE_MSG)\n",
            "/usr/local/lib/python3.6/dist-packages/sklearn/linear_model/_logistic.py:940: ConvergenceWarning: lbfgs failed to converge (status=1):\n",
            "STOP: TOTAL NO. of ITERATIONS REACHED LIMIT.\n",
            "\n",
            "Increase the number of iterations (max_iter) or scale the data as shown in:\n",
            "    https://scikit-learn.org/stable/modules/preprocessing.html\n",
            "Please also refer to the documentation for alternative solver options:\n",
            "    https://scikit-learn.org/stable/modules/linear_model.html#logistic-regression\n",
            "  extra_warning_msg=_LOGISTIC_SOLVER_CONVERGENCE_MSG)\n",
            "/usr/local/lib/python3.6/dist-packages/sklearn/linear_model/_logistic.py:940: ConvergenceWarning: lbfgs failed to converge (status=1):\n",
            "STOP: TOTAL NO. of ITERATIONS REACHED LIMIT.\n",
            "\n",
            "Increase the number of iterations (max_iter) or scale the data as shown in:\n",
            "    https://scikit-learn.org/stable/modules/preprocessing.html\n",
            "Please also refer to the documentation for alternative solver options:\n",
            "    https://scikit-learn.org/stable/modules/linear_model.html#logistic-regression\n",
            "  extra_warning_msg=_LOGISTIC_SOLVER_CONVERGENCE_MSG)\n",
            "/usr/local/lib/python3.6/dist-packages/sklearn/linear_model/_logistic.py:940: ConvergenceWarning: lbfgs failed to converge (status=1):\n",
            "STOP: TOTAL NO. of ITERATIONS REACHED LIMIT.\n",
            "\n",
            "Increase the number of iterations (max_iter) or scale the data as shown in:\n",
            "    https://scikit-learn.org/stable/modules/preprocessing.html\n",
            "Please also refer to the documentation for alternative solver options:\n",
            "    https://scikit-learn.org/stable/modules/linear_model.html#logistic-regression\n",
            "  extra_warning_msg=_LOGISTIC_SOLVER_CONVERGENCE_MSG)\n",
            "/usr/local/lib/python3.6/dist-packages/sklearn/linear_model/_logistic.py:940: ConvergenceWarning: lbfgs failed to converge (status=1):\n",
            "STOP: TOTAL NO. of ITERATIONS REACHED LIMIT.\n",
            "\n",
            "Increase the number of iterations (max_iter) or scale the data as shown in:\n",
            "    https://scikit-learn.org/stable/modules/preprocessing.html\n",
            "Please also refer to the documentation for alternative solver options:\n",
            "    https://scikit-learn.org/stable/modules/linear_model.html#logistic-regression\n",
            "  extra_warning_msg=_LOGISTIC_SOLVER_CONVERGENCE_MSG)\n",
            "/usr/local/lib/python3.6/dist-packages/sklearn/linear_model/_logistic.py:940: ConvergenceWarning: lbfgs failed to converge (status=1):\n",
            "STOP: TOTAL NO. of ITERATIONS REACHED LIMIT.\n",
            "\n",
            "Increase the number of iterations (max_iter) or scale the data as shown in:\n",
            "    https://scikit-learn.org/stable/modules/preprocessing.html\n",
            "Please also refer to the documentation for alternative solver options:\n",
            "    https://scikit-learn.org/stable/modules/linear_model.html#logistic-regression\n",
            "  extra_warning_msg=_LOGISTIC_SOLVER_CONVERGENCE_MSG)\n",
            "/usr/local/lib/python3.6/dist-packages/sklearn/linear_model/_logistic.py:940: ConvergenceWarning: lbfgs failed to converge (status=1):\n",
            "STOP: TOTAL NO. of ITERATIONS REACHED LIMIT.\n",
            "\n",
            "Increase the number of iterations (max_iter) or scale the data as shown in:\n",
            "    https://scikit-learn.org/stable/modules/preprocessing.html\n",
            "Please also refer to the documentation for alternative solver options:\n",
            "    https://scikit-learn.org/stable/modules/linear_model.html#logistic-regression\n",
            "  extra_warning_msg=_LOGISTIC_SOLVER_CONVERGENCE_MSG)\n",
            "/usr/local/lib/python3.6/dist-packages/sklearn/linear_model/_logistic.py:940: ConvergenceWarning: lbfgs failed to converge (status=1):\n",
            "STOP: TOTAL NO. of ITERATIONS REACHED LIMIT.\n",
            "\n",
            "Increase the number of iterations (max_iter) or scale the data as shown in:\n",
            "    https://scikit-learn.org/stable/modules/preprocessing.html\n",
            "Please also refer to the documentation for alternative solver options:\n",
            "    https://scikit-learn.org/stable/modules/linear_model.html#logistic-regression\n",
            "  extra_warning_msg=_LOGISTIC_SOLVER_CONVERGENCE_MSG)\n",
            "/usr/local/lib/python3.6/dist-packages/sklearn/linear_model/_logistic.py:940: ConvergenceWarning: lbfgs failed to converge (status=1):\n",
            "STOP: TOTAL NO. of ITERATIONS REACHED LIMIT.\n",
            "\n",
            "Increase the number of iterations (max_iter) or scale the data as shown in:\n",
            "    https://scikit-learn.org/stable/modules/preprocessing.html\n",
            "Please also refer to the documentation for alternative solver options:\n",
            "    https://scikit-learn.org/stable/modules/linear_model.html#logistic-regression\n",
            "  extra_warning_msg=_LOGISTIC_SOLVER_CONVERGENCE_MSG)\n",
            "/usr/local/lib/python3.6/dist-packages/sklearn/linear_model/_logistic.py:940: ConvergenceWarning: lbfgs failed to converge (status=1):\n",
            "STOP: TOTAL NO. of ITERATIONS REACHED LIMIT.\n",
            "\n",
            "Increase the number of iterations (max_iter) or scale the data as shown in:\n",
            "    https://scikit-learn.org/stable/modules/preprocessing.html\n",
            "Please also refer to the documentation for alternative solver options:\n",
            "    https://scikit-learn.org/stable/modules/linear_model.html#logistic-regression\n",
            "  extra_warning_msg=_LOGISTIC_SOLVER_CONVERGENCE_MSG)\n",
            "/usr/local/lib/python3.6/dist-packages/sklearn/linear_model/_logistic.py:940: ConvergenceWarning: lbfgs failed to converge (status=1):\n",
            "STOP: TOTAL NO. of ITERATIONS REACHED LIMIT.\n",
            "\n",
            "Increase the number of iterations (max_iter) or scale the data as shown in:\n",
            "    https://scikit-learn.org/stable/modules/preprocessing.html\n",
            "Please also refer to the documentation for alternative solver options:\n",
            "    https://scikit-learn.org/stable/modules/linear_model.html#logistic-regression\n",
            "  extra_warning_msg=_LOGISTIC_SOLVER_CONVERGENCE_MSG)\n",
            "/usr/local/lib/python3.6/dist-packages/sklearn/linear_model/_logistic.py:940: ConvergenceWarning: lbfgs failed to converge (status=1):\n",
            "STOP: TOTAL NO. of ITERATIONS REACHED LIMIT.\n",
            "\n",
            "Increase the number of iterations (max_iter) or scale the data as shown in:\n",
            "    https://scikit-learn.org/stable/modules/preprocessing.html\n",
            "Please also refer to the documentation for alternative solver options:\n",
            "    https://scikit-learn.org/stable/modules/linear_model.html#logistic-regression\n",
            "  extra_warning_msg=_LOGISTIC_SOLVER_CONVERGENCE_MSG)\n",
            "/usr/local/lib/python3.6/dist-packages/sklearn/linear_model/_logistic.py:940: ConvergenceWarning: lbfgs failed to converge (status=1):\n",
            "STOP: TOTAL NO. of ITERATIONS REACHED LIMIT.\n",
            "\n",
            "Increase the number of iterations (max_iter) or scale the data as shown in:\n",
            "    https://scikit-learn.org/stable/modules/preprocessing.html\n",
            "Please also refer to the documentation for alternative solver options:\n",
            "    https://scikit-learn.org/stable/modules/linear_model.html#logistic-regression\n",
            "  extra_warning_msg=_LOGISTIC_SOLVER_CONVERGENCE_MSG)\n",
            "/usr/local/lib/python3.6/dist-packages/sklearn/linear_model/_logistic.py:940: ConvergenceWarning: lbfgs failed to converge (status=1):\n",
            "STOP: TOTAL NO. of ITERATIONS REACHED LIMIT.\n",
            "\n",
            "Increase the number of iterations (max_iter) or scale the data as shown in:\n",
            "    https://scikit-learn.org/stable/modules/preprocessing.html\n",
            "Please also refer to the documentation for alternative solver options:\n",
            "    https://scikit-learn.org/stable/modules/linear_model.html#logistic-regression\n",
            "  extra_warning_msg=_LOGISTIC_SOLVER_CONVERGENCE_MSG)\n",
            "/usr/local/lib/python3.6/dist-packages/sklearn/linear_model/_logistic.py:940: ConvergenceWarning: lbfgs failed to converge (status=1):\n",
            "STOP: TOTAL NO. of ITERATIONS REACHED LIMIT.\n",
            "\n",
            "Increase the number of iterations (max_iter) or scale the data as shown in:\n",
            "    https://scikit-learn.org/stable/modules/preprocessing.html\n",
            "Please also refer to the documentation for alternative solver options:\n",
            "    https://scikit-learn.org/stable/modules/linear_model.html#logistic-regression\n",
            "  extra_warning_msg=_LOGISTIC_SOLVER_CONVERGENCE_MSG)\n",
            "/usr/local/lib/python3.6/dist-packages/sklearn/linear_model/_logistic.py:940: ConvergenceWarning: lbfgs failed to converge (status=1):\n",
            "STOP: TOTAL NO. of ITERATIONS REACHED LIMIT.\n",
            "\n",
            "Increase the number of iterations (max_iter) or scale the data as shown in:\n",
            "    https://scikit-learn.org/stable/modules/preprocessing.html\n",
            "Please also refer to the documentation for alternative solver options:\n",
            "    https://scikit-learn.org/stable/modules/linear_model.html#logistic-regression\n",
            "  extra_warning_msg=_LOGISTIC_SOLVER_CONVERGENCE_MSG)\n",
            "/usr/local/lib/python3.6/dist-packages/sklearn/linear_model/_logistic.py:940: ConvergenceWarning: lbfgs failed to converge (status=1):\n",
            "STOP: TOTAL NO. of ITERATIONS REACHED LIMIT.\n",
            "\n",
            "Increase the number of iterations (max_iter) or scale the data as shown in:\n",
            "    https://scikit-learn.org/stable/modules/preprocessing.html\n",
            "Please also refer to the documentation for alternative solver options:\n",
            "    https://scikit-learn.org/stable/modules/linear_model.html#logistic-regression\n",
            "  extra_warning_msg=_LOGISTIC_SOLVER_CONVERGENCE_MSG)\n",
            "/usr/local/lib/python3.6/dist-packages/sklearn/linear_model/_logistic.py:940: ConvergenceWarning: lbfgs failed to converge (status=1):\n",
            "STOP: TOTAL NO. of ITERATIONS REACHED LIMIT.\n",
            "\n",
            "Increase the number of iterations (max_iter) or scale the data as shown in:\n",
            "    https://scikit-learn.org/stable/modules/preprocessing.html\n",
            "Please also refer to the documentation for alternative solver options:\n",
            "    https://scikit-learn.org/stable/modules/linear_model.html#logistic-regression\n",
            "  extra_warning_msg=_LOGISTIC_SOLVER_CONVERGENCE_MSG)\n",
            "/usr/local/lib/python3.6/dist-packages/sklearn/linear_model/_logistic.py:940: ConvergenceWarning: lbfgs failed to converge (status=1):\n",
            "STOP: TOTAL NO. of ITERATIONS REACHED LIMIT.\n",
            "\n",
            "Increase the number of iterations (max_iter) or scale the data as shown in:\n",
            "    https://scikit-learn.org/stable/modules/preprocessing.html\n",
            "Please also refer to the documentation for alternative solver options:\n",
            "    https://scikit-learn.org/stable/modules/linear_model.html#logistic-regression\n",
            "  extra_warning_msg=_LOGISTIC_SOLVER_CONVERGENCE_MSG)\n",
            "/usr/local/lib/python3.6/dist-packages/sklearn/linear_model/_logistic.py:940: ConvergenceWarning: lbfgs failed to converge (status=1):\n",
            "STOP: TOTAL NO. of ITERATIONS REACHED LIMIT.\n",
            "\n",
            "Increase the number of iterations (max_iter) or scale the data as shown in:\n",
            "    https://scikit-learn.org/stable/modules/preprocessing.html\n",
            "Please also refer to the documentation for alternative solver options:\n",
            "    https://scikit-learn.org/stable/modules/linear_model.html#logistic-regression\n",
            "  extra_warning_msg=_LOGISTIC_SOLVER_CONVERGENCE_MSG)\n",
            "/usr/local/lib/python3.6/dist-packages/sklearn/linear_model/_logistic.py:940: ConvergenceWarning: lbfgs failed to converge (status=1):\n",
            "STOP: TOTAL NO. of ITERATIONS REACHED LIMIT.\n",
            "\n",
            "Increase the number of iterations (max_iter) or scale the data as shown in:\n",
            "    https://scikit-learn.org/stable/modules/preprocessing.html\n",
            "Please also refer to the documentation for alternative solver options:\n",
            "    https://scikit-learn.org/stable/modules/linear_model.html#logistic-regression\n",
            "  extra_warning_msg=_LOGISTIC_SOLVER_CONVERGENCE_MSG)\n",
            "/usr/local/lib/python3.6/dist-packages/sklearn/linear_model/_logistic.py:940: ConvergenceWarning: lbfgs failed to converge (status=1):\n",
            "STOP: TOTAL NO. of ITERATIONS REACHED LIMIT.\n",
            "\n",
            "Increase the number of iterations (max_iter) or scale the data as shown in:\n",
            "    https://scikit-learn.org/stable/modules/preprocessing.html\n",
            "Please also refer to the documentation for alternative solver options:\n",
            "    https://scikit-learn.org/stable/modules/linear_model.html#logistic-regression\n",
            "  extra_warning_msg=_LOGISTIC_SOLVER_CONVERGENCE_MSG)\n",
            "/usr/local/lib/python3.6/dist-packages/sklearn/linear_model/_logistic.py:940: ConvergenceWarning: lbfgs failed to converge (status=1):\n",
            "STOP: TOTAL NO. of ITERATIONS REACHED LIMIT.\n",
            "\n",
            "Increase the number of iterations (max_iter) or scale the data as shown in:\n",
            "    https://scikit-learn.org/stable/modules/preprocessing.html\n",
            "Please also refer to the documentation for alternative solver options:\n",
            "    https://scikit-learn.org/stable/modules/linear_model.html#logistic-regression\n",
            "  extra_warning_msg=_LOGISTIC_SOLVER_CONVERGENCE_MSG)\n",
            "/usr/local/lib/python3.6/dist-packages/sklearn/linear_model/_logistic.py:940: ConvergenceWarning: lbfgs failed to converge (status=1):\n",
            "STOP: TOTAL NO. of ITERATIONS REACHED LIMIT.\n",
            "\n",
            "Increase the number of iterations (max_iter) or scale the data as shown in:\n",
            "    https://scikit-learn.org/stable/modules/preprocessing.html\n",
            "Please also refer to the documentation for alternative solver options:\n",
            "    https://scikit-learn.org/stable/modules/linear_model.html#logistic-regression\n",
            "  extra_warning_msg=_LOGISTIC_SOLVER_CONVERGENCE_MSG)\n",
            "/usr/local/lib/python3.6/dist-packages/sklearn/linear_model/_logistic.py:940: ConvergenceWarning: lbfgs failed to converge (status=1):\n",
            "STOP: TOTAL NO. of ITERATIONS REACHED LIMIT.\n",
            "\n",
            "Increase the number of iterations (max_iter) or scale the data as shown in:\n",
            "    https://scikit-learn.org/stable/modules/preprocessing.html\n",
            "Please also refer to the documentation for alternative solver options:\n",
            "    https://scikit-learn.org/stable/modules/linear_model.html#logistic-regression\n",
            "  extra_warning_msg=_LOGISTIC_SOLVER_CONVERGENCE_MSG)\n",
            "/usr/local/lib/python3.6/dist-packages/sklearn/linear_model/_logistic.py:940: ConvergenceWarning: lbfgs failed to converge (status=1):\n",
            "STOP: TOTAL NO. of ITERATIONS REACHED LIMIT.\n",
            "\n",
            "Increase the number of iterations (max_iter) or scale the data as shown in:\n",
            "    https://scikit-learn.org/stable/modules/preprocessing.html\n",
            "Please also refer to the documentation for alternative solver options:\n",
            "    https://scikit-learn.org/stable/modules/linear_model.html#logistic-regression\n",
            "  extra_warning_msg=_LOGISTIC_SOLVER_CONVERGENCE_MSG)\n",
            "/usr/local/lib/python3.6/dist-packages/sklearn/linear_model/_logistic.py:940: ConvergenceWarning: lbfgs failed to converge (status=1):\n",
            "STOP: TOTAL NO. of ITERATIONS REACHED LIMIT.\n",
            "\n",
            "Increase the number of iterations (max_iter) or scale the data as shown in:\n",
            "    https://scikit-learn.org/stable/modules/preprocessing.html\n",
            "Please also refer to the documentation for alternative solver options:\n",
            "    https://scikit-learn.org/stable/modules/linear_model.html#logistic-regression\n",
            "  extra_warning_msg=_LOGISTIC_SOLVER_CONVERGENCE_MSG)\n",
            "/usr/local/lib/python3.6/dist-packages/sklearn/linear_model/_logistic.py:940: ConvergenceWarning: lbfgs failed to converge (status=1):\n",
            "STOP: TOTAL NO. of ITERATIONS REACHED LIMIT.\n",
            "\n",
            "Increase the number of iterations (max_iter) or scale the data as shown in:\n",
            "    https://scikit-learn.org/stable/modules/preprocessing.html\n",
            "Please also refer to the documentation for alternative solver options:\n",
            "    https://scikit-learn.org/stable/modules/linear_model.html#logistic-regression\n",
            "  extra_warning_msg=_LOGISTIC_SOLVER_CONVERGENCE_MSG)\n",
            "/usr/local/lib/python3.6/dist-packages/sklearn/linear_model/_logistic.py:940: ConvergenceWarning: lbfgs failed to converge (status=1):\n",
            "STOP: TOTAL NO. of ITERATIONS REACHED LIMIT.\n",
            "\n",
            "Increase the number of iterations (max_iter) or scale the data as shown in:\n",
            "    https://scikit-learn.org/stable/modules/preprocessing.html\n",
            "Please also refer to the documentation for alternative solver options:\n",
            "    https://scikit-learn.org/stable/modules/linear_model.html#logistic-regression\n",
            "  extra_warning_msg=_LOGISTIC_SOLVER_CONVERGENCE_MSG)\n",
            "/usr/local/lib/python3.6/dist-packages/sklearn/linear_model/_logistic.py:940: ConvergenceWarning: lbfgs failed to converge (status=1):\n",
            "STOP: TOTAL NO. of ITERATIONS REACHED LIMIT.\n",
            "\n",
            "Increase the number of iterations (max_iter) or scale the data as shown in:\n",
            "    https://scikit-learn.org/stable/modules/preprocessing.html\n",
            "Please also refer to the documentation for alternative solver options:\n",
            "    https://scikit-learn.org/stable/modules/linear_model.html#logistic-regression\n",
            "  extra_warning_msg=_LOGISTIC_SOLVER_CONVERGENCE_MSG)\n",
            "/usr/local/lib/python3.6/dist-packages/sklearn/linear_model/_logistic.py:940: ConvergenceWarning: lbfgs failed to converge (status=1):\n",
            "STOP: TOTAL NO. of ITERATIONS REACHED LIMIT.\n",
            "\n",
            "Increase the number of iterations (max_iter) or scale the data as shown in:\n",
            "    https://scikit-learn.org/stable/modules/preprocessing.html\n",
            "Please also refer to the documentation for alternative solver options:\n",
            "    https://scikit-learn.org/stable/modules/linear_model.html#logistic-regression\n",
            "  extra_warning_msg=_LOGISTIC_SOLVER_CONVERGENCE_MSG)\n",
            "/usr/local/lib/python3.6/dist-packages/sklearn/linear_model/_logistic.py:940: ConvergenceWarning: lbfgs failed to converge (status=1):\n",
            "STOP: TOTAL NO. of ITERATIONS REACHED LIMIT.\n",
            "\n",
            "Increase the number of iterations (max_iter) or scale the data as shown in:\n",
            "    https://scikit-learn.org/stable/modules/preprocessing.html\n",
            "Please also refer to the documentation for alternative solver options:\n",
            "    https://scikit-learn.org/stable/modules/linear_model.html#logistic-regression\n",
            "  extra_warning_msg=_LOGISTIC_SOLVER_CONVERGENCE_MSG)\n",
            "/usr/local/lib/python3.6/dist-packages/sklearn/linear_model/_logistic.py:940: ConvergenceWarning: lbfgs failed to converge (status=1):\n",
            "STOP: TOTAL NO. of ITERATIONS REACHED LIMIT.\n",
            "\n",
            "Increase the number of iterations (max_iter) or scale the data as shown in:\n",
            "    https://scikit-learn.org/stable/modules/preprocessing.html\n",
            "Please also refer to the documentation for alternative solver options:\n",
            "    https://scikit-learn.org/stable/modules/linear_model.html#logistic-regression\n",
            "  extra_warning_msg=_LOGISTIC_SOLVER_CONVERGENCE_MSG)\n",
            "/usr/local/lib/python3.6/dist-packages/sklearn/linear_model/_logistic.py:940: ConvergenceWarning: lbfgs failed to converge (status=1):\n",
            "STOP: TOTAL NO. of ITERATIONS REACHED LIMIT.\n",
            "\n",
            "Increase the number of iterations (max_iter) or scale the data as shown in:\n",
            "    https://scikit-learn.org/stable/modules/preprocessing.html\n",
            "Please also refer to the documentation for alternative solver options:\n",
            "    https://scikit-learn.org/stable/modules/linear_model.html#logistic-regression\n",
            "  extra_warning_msg=_LOGISTIC_SOLVER_CONVERGENCE_MSG)\n",
            "/usr/local/lib/python3.6/dist-packages/sklearn/linear_model/_logistic.py:940: ConvergenceWarning: lbfgs failed to converge (status=1):\n",
            "STOP: TOTAL NO. of ITERATIONS REACHED LIMIT.\n",
            "\n",
            "Increase the number of iterations (max_iter) or scale the data as shown in:\n",
            "    https://scikit-learn.org/stable/modules/preprocessing.html\n",
            "Please also refer to the documentation for alternative solver options:\n",
            "    https://scikit-learn.org/stable/modules/linear_model.html#logistic-regression\n",
            "  extra_warning_msg=_LOGISTIC_SOLVER_CONVERGENCE_MSG)\n",
            "/usr/local/lib/python3.6/dist-packages/sklearn/linear_model/_logistic.py:940: ConvergenceWarning: lbfgs failed to converge (status=1):\n",
            "STOP: TOTAL NO. of ITERATIONS REACHED LIMIT.\n",
            "\n",
            "Increase the number of iterations (max_iter) or scale the data as shown in:\n",
            "    https://scikit-learn.org/stable/modules/preprocessing.html\n",
            "Please also refer to the documentation for alternative solver options:\n",
            "    https://scikit-learn.org/stable/modules/linear_model.html#logistic-regression\n",
            "  extra_warning_msg=_LOGISTIC_SOLVER_CONVERGENCE_MSG)\n",
            "/usr/local/lib/python3.6/dist-packages/sklearn/linear_model/_logistic.py:940: ConvergenceWarning: lbfgs failed to converge (status=1):\n",
            "STOP: TOTAL NO. of ITERATIONS REACHED LIMIT.\n",
            "\n",
            "Increase the number of iterations (max_iter) or scale the data as shown in:\n",
            "    https://scikit-learn.org/stable/modules/preprocessing.html\n",
            "Please also refer to the documentation for alternative solver options:\n",
            "    https://scikit-learn.org/stable/modules/linear_model.html#logistic-regression\n",
            "  extra_warning_msg=_LOGISTIC_SOLVER_CONVERGENCE_MSG)\n",
            "/usr/local/lib/python3.6/dist-packages/sklearn/linear_model/_logistic.py:940: ConvergenceWarning: lbfgs failed to converge (status=1):\n",
            "STOP: TOTAL NO. of ITERATIONS REACHED LIMIT.\n",
            "\n",
            "Increase the number of iterations (max_iter) or scale the data as shown in:\n",
            "    https://scikit-learn.org/stable/modules/preprocessing.html\n",
            "Please also refer to the documentation for alternative solver options:\n",
            "    https://scikit-learn.org/stable/modules/linear_model.html#logistic-regression\n",
            "  extra_warning_msg=_LOGISTIC_SOLVER_CONVERGENCE_MSG)\n",
            "/usr/local/lib/python3.6/dist-packages/sklearn/linear_model/_logistic.py:940: ConvergenceWarning: lbfgs failed to converge (status=1):\n",
            "STOP: TOTAL NO. of ITERATIONS REACHED LIMIT.\n",
            "\n",
            "Increase the number of iterations (max_iter) or scale the data as shown in:\n",
            "    https://scikit-learn.org/stable/modules/preprocessing.html\n",
            "Please also refer to the documentation for alternative solver options:\n",
            "    https://scikit-learn.org/stable/modules/linear_model.html#logistic-regression\n",
            "  extra_warning_msg=_LOGISTIC_SOLVER_CONVERGENCE_MSG)\n",
            "/usr/local/lib/python3.6/dist-packages/sklearn/linear_model/_logistic.py:940: ConvergenceWarning: lbfgs failed to converge (status=1):\n",
            "STOP: TOTAL NO. of ITERATIONS REACHED LIMIT.\n",
            "\n",
            "Increase the number of iterations (max_iter) or scale the data as shown in:\n",
            "    https://scikit-learn.org/stable/modules/preprocessing.html\n",
            "Please also refer to the documentation for alternative solver options:\n",
            "    https://scikit-learn.org/stable/modules/linear_model.html#logistic-regression\n",
            "  extra_warning_msg=_LOGISTIC_SOLVER_CONVERGENCE_MSG)\n",
            "/usr/local/lib/python3.6/dist-packages/sklearn/linear_model/_logistic.py:940: ConvergenceWarning: lbfgs failed to converge (status=1):\n",
            "STOP: TOTAL NO. of ITERATIONS REACHED LIMIT.\n",
            "\n",
            "Increase the number of iterations (max_iter) or scale the data as shown in:\n",
            "    https://scikit-learn.org/stable/modules/preprocessing.html\n",
            "Please also refer to the documentation for alternative solver options:\n",
            "    https://scikit-learn.org/stable/modules/linear_model.html#logistic-regression\n",
            "  extra_warning_msg=_LOGISTIC_SOLVER_CONVERGENCE_MSG)\n",
            "/usr/local/lib/python3.6/dist-packages/sklearn/linear_model/_logistic.py:940: ConvergenceWarning: lbfgs failed to converge (status=1):\n",
            "STOP: TOTAL NO. of ITERATIONS REACHED LIMIT.\n",
            "\n",
            "Increase the number of iterations (max_iter) or scale the data as shown in:\n",
            "    https://scikit-learn.org/stable/modules/preprocessing.html\n",
            "Please also refer to the documentation for alternative solver options:\n",
            "    https://scikit-learn.org/stable/modules/linear_model.html#logistic-regression\n",
            "  extra_warning_msg=_LOGISTIC_SOLVER_CONVERGENCE_MSG)\n",
            "/usr/local/lib/python3.6/dist-packages/sklearn/linear_model/_logistic.py:940: ConvergenceWarning: lbfgs failed to converge (status=1):\n",
            "STOP: TOTAL NO. of ITERATIONS REACHED LIMIT.\n",
            "\n",
            "Increase the number of iterations (max_iter) or scale the data as shown in:\n",
            "    https://scikit-learn.org/stable/modules/preprocessing.html\n",
            "Please also refer to the documentation for alternative solver options:\n",
            "    https://scikit-learn.org/stable/modules/linear_model.html#logistic-regression\n",
            "  extra_warning_msg=_LOGISTIC_SOLVER_CONVERGENCE_MSG)\n",
            "/usr/local/lib/python3.6/dist-packages/sklearn/linear_model/_logistic.py:940: ConvergenceWarning: lbfgs failed to converge (status=1):\n",
            "STOP: TOTAL NO. of ITERATIONS REACHED LIMIT.\n",
            "\n",
            "Increase the number of iterations (max_iter) or scale the data as shown in:\n",
            "    https://scikit-learn.org/stable/modules/preprocessing.html\n",
            "Please also refer to the documentation for alternative solver options:\n",
            "    https://scikit-learn.org/stable/modules/linear_model.html#logistic-regression\n",
            "  extra_warning_msg=_LOGISTIC_SOLVER_CONVERGENCE_MSG)\n",
            "/usr/local/lib/python3.6/dist-packages/sklearn/linear_model/_logistic.py:940: ConvergenceWarning: lbfgs failed to converge (status=1):\n",
            "STOP: TOTAL NO. of ITERATIONS REACHED LIMIT.\n",
            "\n",
            "Increase the number of iterations (max_iter) or scale the data as shown in:\n",
            "    https://scikit-learn.org/stable/modules/preprocessing.html\n",
            "Please also refer to the documentation for alternative solver options:\n",
            "    https://scikit-learn.org/stable/modules/linear_model.html#logistic-regression\n",
            "  extra_warning_msg=_LOGISTIC_SOLVER_CONVERGENCE_MSG)\n",
            "/usr/local/lib/python3.6/dist-packages/sklearn/linear_model/_logistic.py:940: ConvergenceWarning: lbfgs failed to converge (status=1):\n",
            "STOP: TOTAL NO. of ITERATIONS REACHED LIMIT.\n",
            "\n",
            "Increase the number of iterations (max_iter) or scale the data as shown in:\n",
            "    https://scikit-learn.org/stable/modules/preprocessing.html\n",
            "Please also refer to the documentation for alternative solver options:\n",
            "    https://scikit-learn.org/stable/modules/linear_model.html#logistic-regression\n",
            "  extra_warning_msg=_LOGISTIC_SOLVER_CONVERGENCE_MSG)\n",
            "/usr/local/lib/python3.6/dist-packages/sklearn/linear_model/_logistic.py:940: ConvergenceWarning: lbfgs failed to converge (status=1):\n",
            "STOP: TOTAL NO. of ITERATIONS REACHED LIMIT.\n",
            "\n",
            "Increase the number of iterations (max_iter) or scale the data as shown in:\n",
            "    https://scikit-learn.org/stable/modules/preprocessing.html\n",
            "Please also refer to the documentation for alternative solver options:\n",
            "    https://scikit-learn.org/stable/modules/linear_model.html#logistic-regression\n",
            "  extra_warning_msg=_LOGISTIC_SOLVER_CONVERGENCE_MSG)\n",
            "/usr/local/lib/python3.6/dist-packages/sklearn/linear_model/_logistic.py:940: ConvergenceWarning: lbfgs failed to converge (status=1):\n",
            "STOP: TOTAL NO. of ITERATIONS REACHED LIMIT.\n",
            "\n",
            "Increase the number of iterations (max_iter) or scale the data as shown in:\n",
            "    https://scikit-learn.org/stable/modules/preprocessing.html\n",
            "Please also refer to the documentation for alternative solver options:\n",
            "    https://scikit-learn.org/stable/modules/linear_model.html#logistic-regression\n",
            "  extra_warning_msg=_LOGISTIC_SOLVER_CONVERGENCE_MSG)\n",
            "/usr/local/lib/python3.6/dist-packages/sklearn/linear_model/_logistic.py:940: ConvergenceWarning: lbfgs failed to converge (status=1):\n",
            "STOP: TOTAL NO. of ITERATIONS REACHED LIMIT.\n",
            "\n",
            "Increase the number of iterations (max_iter) or scale the data as shown in:\n",
            "    https://scikit-learn.org/stable/modules/preprocessing.html\n",
            "Please also refer to the documentation for alternative solver options:\n",
            "    https://scikit-learn.org/stable/modules/linear_model.html#logistic-regression\n",
            "  extra_warning_msg=_LOGISTIC_SOLVER_CONVERGENCE_MSG)\n",
            "/usr/local/lib/python3.6/dist-packages/sklearn/linear_model/_logistic.py:940: ConvergenceWarning: lbfgs failed to converge (status=1):\n",
            "STOP: TOTAL NO. of ITERATIONS REACHED LIMIT.\n",
            "\n",
            "Increase the number of iterations (max_iter) or scale the data as shown in:\n",
            "    https://scikit-learn.org/stable/modules/preprocessing.html\n",
            "Please also refer to the documentation for alternative solver options:\n",
            "    https://scikit-learn.org/stable/modules/linear_model.html#logistic-regression\n",
            "  extra_warning_msg=_LOGISTIC_SOLVER_CONVERGENCE_MSG)\n",
            "/usr/local/lib/python3.6/dist-packages/sklearn/linear_model/_logistic.py:940: ConvergenceWarning: lbfgs failed to converge (status=1):\n",
            "STOP: TOTAL NO. of ITERATIONS REACHED LIMIT.\n",
            "\n",
            "Increase the number of iterations (max_iter) or scale the data as shown in:\n",
            "    https://scikit-learn.org/stable/modules/preprocessing.html\n",
            "Please also refer to the documentation for alternative solver options:\n",
            "    https://scikit-learn.org/stable/modules/linear_model.html#logistic-regression\n",
            "  extra_warning_msg=_LOGISTIC_SOLVER_CONVERGENCE_MSG)\n",
            "/usr/local/lib/python3.6/dist-packages/sklearn/linear_model/_logistic.py:940: ConvergenceWarning: lbfgs failed to converge (status=1):\n",
            "STOP: TOTAL NO. of ITERATIONS REACHED LIMIT.\n",
            "\n",
            "Increase the number of iterations (max_iter) or scale the data as shown in:\n",
            "    https://scikit-learn.org/stable/modules/preprocessing.html\n",
            "Please also refer to the documentation for alternative solver options:\n",
            "    https://scikit-learn.org/stable/modules/linear_model.html#logistic-regression\n",
            "  extra_warning_msg=_LOGISTIC_SOLVER_CONVERGENCE_MSG)\n",
            "/usr/local/lib/python3.6/dist-packages/sklearn/linear_model/_logistic.py:940: ConvergenceWarning: lbfgs failed to converge (status=1):\n",
            "STOP: TOTAL NO. of ITERATIONS REACHED LIMIT.\n",
            "\n",
            "Increase the number of iterations (max_iter) or scale the data as shown in:\n",
            "    https://scikit-learn.org/stable/modules/preprocessing.html\n",
            "Please also refer to the documentation for alternative solver options:\n",
            "    https://scikit-learn.org/stable/modules/linear_model.html#logistic-regression\n",
            "  extra_warning_msg=_LOGISTIC_SOLVER_CONVERGENCE_MSG)\n",
            "/usr/local/lib/python3.6/dist-packages/sklearn/linear_model/_logistic.py:940: ConvergenceWarning: lbfgs failed to converge (status=1):\n",
            "STOP: TOTAL NO. of ITERATIONS REACHED LIMIT.\n",
            "\n",
            "Increase the number of iterations (max_iter) or scale the data as shown in:\n",
            "    https://scikit-learn.org/stable/modules/preprocessing.html\n",
            "Please also refer to the documentation for alternative solver options:\n",
            "    https://scikit-learn.org/stable/modules/linear_model.html#logistic-regression\n",
            "  extra_warning_msg=_LOGISTIC_SOLVER_CONVERGENCE_MSG)\n",
            "/usr/local/lib/python3.6/dist-packages/sklearn/linear_model/_logistic.py:940: ConvergenceWarning: lbfgs failed to converge (status=1):\n",
            "STOP: TOTAL NO. of ITERATIONS REACHED LIMIT.\n",
            "\n",
            "Increase the number of iterations (max_iter) or scale the data as shown in:\n",
            "    https://scikit-learn.org/stable/modules/preprocessing.html\n",
            "Please also refer to the documentation for alternative solver options:\n",
            "    https://scikit-learn.org/stable/modules/linear_model.html#logistic-regression\n",
            "  extra_warning_msg=_LOGISTIC_SOLVER_CONVERGENCE_MSG)\n",
            "/usr/local/lib/python3.6/dist-packages/sklearn/linear_model/_logistic.py:940: ConvergenceWarning: lbfgs failed to converge (status=1):\n",
            "STOP: TOTAL NO. of ITERATIONS REACHED LIMIT.\n",
            "\n",
            "Increase the number of iterations (max_iter) or scale the data as shown in:\n",
            "    https://scikit-learn.org/stable/modules/preprocessing.html\n",
            "Please also refer to the documentation for alternative solver options:\n",
            "    https://scikit-learn.org/stable/modules/linear_model.html#logistic-regression\n",
            "  extra_warning_msg=_LOGISTIC_SOLVER_CONVERGENCE_MSG)\n",
            "/usr/local/lib/python3.6/dist-packages/sklearn/linear_model/_logistic.py:940: ConvergenceWarning: lbfgs failed to converge (status=1):\n",
            "STOP: TOTAL NO. of ITERATIONS REACHED LIMIT.\n",
            "\n",
            "Increase the number of iterations (max_iter) or scale the data as shown in:\n",
            "    https://scikit-learn.org/stable/modules/preprocessing.html\n",
            "Please also refer to the documentation for alternative solver options:\n",
            "    https://scikit-learn.org/stable/modules/linear_model.html#logistic-regression\n",
            "  extra_warning_msg=_LOGISTIC_SOLVER_CONVERGENCE_MSG)\n",
            "/usr/local/lib/python3.6/dist-packages/sklearn/linear_model/_logistic.py:940: ConvergenceWarning: lbfgs failed to converge (status=1):\n",
            "STOP: TOTAL NO. of ITERATIONS REACHED LIMIT.\n",
            "\n",
            "Increase the number of iterations (max_iter) or scale the data as shown in:\n",
            "    https://scikit-learn.org/stable/modules/preprocessing.html\n",
            "Please also refer to the documentation for alternative solver options:\n",
            "    https://scikit-learn.org/stable/modules/linear_model.html#logistic-regression\n",
            "  extra_warning_msg=_LOGISTIC_SOLVER_CONVERGENCE_MSG)\n"
          ],
          "name": "stderr"
        },
        {
          "output_type": "execute_result",
          "data": {
            "text/plain": [
              "GridSearchCV(cv=5, error_score=nan,\n",
              "             estimator=LogisticRegression(C=1.0, class_weight=None, dual=False,\n",
              "                                          fit_intercept=True,\n",
              "                                          intercept_scaling=1, l1_ratio=None,\n",
              "                                          max_iter=100, multi_class='auto',\n",
              "                                          n_jobs=None, penalty='l2',\n",
              "                                          random_state=None, solver='lbfgs',\n",
              "                                          tol=0.0001, verbose=0,\n",
              "                                          warm_start=False),\n",
              "             iid='deprecated', n_jobs=None,\n",
              "             param_grid={'C': array([1.00000000e-05, 8.48342898e-05, 7.19685673e-04, 6.10540230e-03,\n",
              "       5.17947468e-02, 4.39397056e-01, 3.72759372e+00, 3.16227766e+01,\n",
              "       2.68269580e+02, 2.27584593e+03, 1.93069773e+04, 1.63789371e+05,\n",
              "       1.38949549e+06, 1.17876863e+07, 1.00000000e+08])},\n",
              "             pre_dispatch='2*n_jobs', refit=True, return_train_score=False,\n",
              "             scoring=None, verbose=0)"
            ]
          },
          "metadata": {
            "tags": []
          },
          "execution_count": 131
        }
      ]
    },
    {
      "cell_type": "code",
      "metadata": {
        "id": "CwgxJWydO8mY",
        "colab": {
          "base_uri": "https://localhost:8080/"
        },
        "outputId": "b142a38f-4d68-4abd-a8ec-fc9e0cb978af"
      },
      "source": [
        "# Print the tuned parameters and score\n",
        "print(\"Tuned Logistic Regression Parameters: {}\".format(logreg_cv.best_params_)) \n",
        "print(\"Best score is {}\".format(logreg_cv.best_score_))"
      ],
      "execution_count": 132,
      "outputs": [
        {
          "output_type": "stream",
          "text": [
            "Tuned Logistic Regression Parameters: {'C': 0.006105402296585327}\n",
            "Best score is 0.8127659574468085\n"
          ],
          "name": "stdout"
        }
      ]
    },
    {
      "cell_type": "markdown",
      "metadata": {
        "id": "tBazRSeVPEiM"
      },
      "source": [
        "\n",
        "¡Buen trabajo! Parece que una 'C' de 3.727 da como resultado el mejor rendimiento."
      ]
    },
    {
      "cell_type": "markdown",
      "metadata": {
        "id": "jciogKcdPVS9"
      },
      "source": [
        "# Hyperparameter tuning with RandomizedSearchCV\n",
        "\n",
        "GridSearchCV puede ser computacionalmente costoso, especialmente si está buscando en un gran espacio de hiperparámetros y manejando múltiples hiperparámetros. Una solución a esto es usar RandomizedSearchCV, en el que no se prueban todos los valores de hiperparámetros. En cambio, se muestrea un número fijo de configuraciones de hiperparámetros a partir de distribuciones de probabilidad especificadas. Practicará el uso de RandomizedSearchCV en este ejercicio y verá cómo funciona.\n",
        "\n",
        "Aquí, también se le presentará un nuevo modelo: el árbol de decisiones. No se preocupe por los detalles de cómo funciona este modelo. Al igual que k-NN, regresión lineal y regresión logística, los árboles de decisión en scikit-learn tienen métodos .fit () y .predict () que puede usar exactamente de la misma manera que antes. Los árboles de decisión tienen muchos parámetros que se pueden ajustar, como max_features, max_depth y min_samples_leaf: esto lo convierte en un caso de uso ideal para RandomizedSearchCV.\n",
        "\n",
        "Como antes, la matriz de características X y la matriz de variables objetivo y del conjunto de datos de diabetes se han precargado. La configuración de hiperparámetros se ha especificado para usted. Su objetivo es utilizar RandomizedSearchCV para encontrar los hiperparámetros óptimos. ¡Ve a por ello!"
      ]
    },
    {
      "cell_type": "code",
      "metadata": {
        "id": "dCmalas_PCE5"
      },
      "source": [
        "# Import necessary modules\n",
        "from scipy.stats import randint\n",
        "from sklearn.tree import DecisionTreeClassifier\n",
        "from sklearn.model_selection import RandomizedSearchCV"
      ],
      "execution_count": 133,
      "outputs": []
    },
    {
      "cell_type": "code",
      "metadata": {
        "id": "SQUCKGioQOgp"
      },
      "source": [
        "# Setup the parameters and distributions to sample from: param_dist\n",
        "param_dist = {\"max_depth\": [3, None],\n",
        "              \"max_features\": randint(1, 9),\n",
        "              \"min_samples_leaf\": randint(1, 9),\n",
        "              \"criterion\": [\"gini\", \"entropy\"]}"
      ],
      "execution_count": 134,
      "outputs": []
    },
    {
      "cell_type": "code",
      "metadata": {
        "id": "jA95DjlZQQ84"
      },
      "source": [
        "# Instantiate a Decision Tree classifier: tree\n",
        "tree = DecisionTreeClassifier()"
      ],
      "execution_count": 135,
      "outputs": []
    },
    {
      "cell_type": "code",
      "metadata": {
        "id": "XQT1gbe2QStd"
      },
      "source": [
        "# Instantiate the RandomizedSearchCV object: tree_cv\n",
        "tree_cv = RandomizedSearchCV(tree, param_dist, cv=5)\n"
      ],
      "execution_count": 136,
      "outputs": []
    },
    {
      "cell_type": "code",
      "metadata": {
        "id": "vlEqQ2xdQchF",
        "colab": {
          "base_uri": "https://localhost:8080/"
        },
        "outputId": "25fbaaf2-e52c-491b-ecdc-c943e8ef5c2e"
      },
      "source": [
        "# Fit it to the data\n",
        "tree_cv.fit(X_train,y_train)\n",
        "\n",
        "\n",
        "# Print the tuned parameters and score\n",
        "print(\"Tuned Decision Tree Parameters: {}\".format(tree_cv.best_params_))\n",
        "print(\"Best score is {}\".format(tree_cv.best_score_))\n"
      ],
      "execution_count": 137,
      "outputs": [
        {
          "output_type": "stream",
          "text": [
            "Tuned Decision Tree Parameters: {'criterion': 'gini', 'max_depth': None, 'max_features': 2, 'min_samples_leaf': 5}\n",
            "Best score is 0.8\n"
          ],
          "name": "stdout"
        }
      ]
    },
    {
      "cell_type": "markdown",
      "metadata": {
        "id": "_1vSOhXHQmFP"
      },
      "source": [
        "¡Buen trabajo! Verá muchos más árboles de decisiones y RandomizedSearchCV a medida que continúa su viaje de aprendizaje automático. Tenga en cuenta que RandomizedSearchCV nunca superará a GridSearchCV. En cambio, es valioso porque ahorra tiempo de cálculo."
      ]
    },
    {
      "cell_type": "markdown",
      "metadata": {
        "id": "Y9Pyw274SDbK"
      },
      "source": [
        "# Hold-out set in practice I: Classification\n",
        "\n",
        "Ahora practicarás la evaluación de un modelo con hiperparámetros ajustados en un conjunto de reserva. La matriz de características y la matriz de variables objetivo del conjunto de datos de diabetes se han precargado como X e y.\n",
        "\n",
        "Además de C, la regresión logística tiene un hiperparámetro de 'penalización' que especifica si se usa la regularización 'l1' o 'l2'. Su trabajo en este ejercicio es crear un conjunto de retención, ajustar los hiperparámetros 'C' y 'penalización' de un clasificador de regresión logística utilizando GridSearchCV en el conjunto de entrenamiento."
      ]
    },
    {
      "cell_type": "code",
      "metadata": {
        "id": "NEvHPBecQe4D"
      },
      "source": [
        "# Import necessary modules\n",
        "from sklearn.model_selection import train_test_split\n",
        "from sklearn.linear_model import LogisticRegression\n",
        "from sklearn.model_selection import GridSearchCV"
      ],
      "execution_count": 138,
      "outputs": []
    },
    {
      "cell_type": "code",
      "metadata": {
        "id": "cIu0HoyYTSUa"
      },
      "source": [
        "# Create the hyperparameter grid\n",
        "c_space = np.logspace(-5, 8, 15)\n",
        "param_grid = {'C': c_space, 'penalty': ['l1', 'l2']}"
      ],
      "execution_count": 139,
      "outputs": []
    },
    {
      "cell_type": "code",
      "metadata": {
        "id": "iPGltmV2TUNQ"
      },
      "source": [
        "# Instantiate the logistic regression classifier: logreg\n",
        "logreg = LogisticRegression()\n"
      ],
      "execution_count": 140,
      "outputs": []
    },
    {
      "cell_type": "code",
      "metadata": {
        "id": "XFoUQU24TWM8"
      },
      "source": [
        "# Create train and test sets\n",
        "X_train, X_test, y_train, y_test = train_test_split(X,y, test_size=0.4,\n",
        "random_state=42)\n"
      ],
      "execution_count": 141,
      "outputs": []
    },
    {
      "cell_type": "code",
      "metadata": {
        "id": "Ob0Ryl6sTYHB",
        "colab": {
          "base_uri": "https://localhost:8080/"
        },
        "outputId": "29875605-564f-41f5-9c06-9085017e4a7f"
      },
      "source": [
        "# Instantiate the GridSearchCV object: logreg_cv\n",
        "logreg_cv = GridSearchCV(logreg,param_grid, cv=5)\n",
        "\n",
        "# Fit it to the training data\n",
        "logreg_cv.fit(X_train,y_train)"
      ],
      "execution_count": 142,
      "outputs": [
        {
          "output_type": "stream",
          "text": [
            "/usr/local/lib/python3.6/dist-packages/sklearn/model_selection/_validation.py:536: FitFailedWarning: Estimator fit failed. The score on this train-test partition for these parameters will be set to nan. Details: \n",
            "ValueError: Solver lbfgs supports only 'l2' or 'none' penalties, got l1 penalty.\n",
            "\n",
            "  FitFailedWarning)\n",
            "/usr/local/lib/python3.6/dist-packages/sklearn/model_selection/_validation.py:536: FitFailedWarning: Estimator fit failed. The score on this train-test partition for these parameters will be set to nan. Details: \n",
            "ValueError: Solver lbfgs supports only 'l2' or 'none' penalties, got l1 penalty.\n",
            "\n",
            "  FitFailedWarning)\n",
            "/usr/local/lib/python3.6/dist-packages/sklearn/model_selection/_validation.py:536: FitFailedWarning: Estimator fit failed. The score on this train-test partition for these parameters will be set to nan. Details: \n",
            "ValueError: Solver lbfgs supports only 'l2' or 'none' penalties, got l1 penalty.\n",
            "\n",
            "  FitFailedWarning)\n",
            "/usr/local/lib/python3.6/dist-packages/sklearn/model_selection/_validation.py:536: FitFailedWarning: Estimator fit failed. The score on this train-test partition for these parameters will be set to nan. Details: \n",
            "ValueError: Solver lbfgs supports only 'l2' or 'none' penalties, got l1 penalty.\n",
            "\n",
            "  FitFailedWarning)\n",
            "/usr/local/lib/python3.6/dist-packages/sklearn/linear_model/_logistic.py:940: ConvergenceWarning: lbfgs failed to converge (status=1):\n",
            "STOP: TOTAL NO. of ITERATIONS REACHED LIMIT.\n",
            "\n",
            "Increase the number of iterations (max_iter) or scale the data as shown in:\n",
            "    https://scikit-learn.org/stable/modules/preprocessing.html\n",
            "Please also refer to the documentation for alternative solver options:\n",
            "    https://scikit-learn.org/stable/modules/linear_model.html#logistic-regression\n",
            "  extra_warning_msg=_LOGISTIC_SOLVER_CONVERGENCE_MSG)\n",
            "/usr/local/lib/python3.6/dist-packages/sklearn/linear_model/_logistic.py:940: ConvergenceWarning: lbfgs failed to converge (status=1):\n",
            "STOP: TOTAL NO. of ITERATIONS REACHED LIMIT.\n",
            "\n",
            "Increase the number of iterations (max_iter) or scale the data as shown in:\n",
            "    https://scikit-learn.org/stable/modules/preprocessing.html\n",
            "Please also refer to the documentation for alternative solver options:\n",
            "    https://scikit-learn.org/stable/modules/linear_model.html#logistic-regression\n",
            "  extra_warning_msg=_LOGISTIC_SOLVER_CONVERGENCE_MSG)\n",
            "/usr/local/lib/python3.6/dist-packages/sklearn/linear_model/_logistic.py:940: ConvergenceWarning: lbfgs failed to converge (status=1):\n",
            "STOP: TOTAL NO. of ITERATIONS REACHED LIMIT.\n",
            "\n",
            "Increase the number of iterations (max_iter) or scale the data as shown in:\n",
            "    https://scikit-learn.org/stable/modules/preprocessing.html\n",
            "Please also refer to the documentation for alternative solver options:\n",
            "    https://scikit-learn.org/stable/modules/linear_model.html#logistic-regression\n",
            "  extra_warning_msg=_LOGISTIC_SOLVER_CONVERGENCE_MSG)\n",
            "/usr/local/lib/python3.6/dist-packages/sklearn/linear_model/_logistic.py:940: ConvergenceWarning: lbfgs failed to converge (status=1):\n",
            "STOP: TOTAL NO. of ITERATIONS REACHED LIMIT.\n",
            "\n",
            "Increase the number of iterations (max_iter) or scale the data as shown in:\n",
            "    https://scikit-learn.org/stable/modules/preprocessing.html\n",
            "Please also refer to the documentation for alternative solver options:\n",
            "    https://scikit-learn.org/stable/modules/linear_model.html#logistic-regression\n",
            "  extra_warning_msg=_LOGISTIC_SOLVER_CONVERGENCE_MSG)\n",
            "/usr/local/lib/python3.6/dist-packages/sklearn/linear_model/_logistic.py:940: ConvergenceWarning: lbfgs failed to converge (status=1):\n",
            "STOP: TOTAL NO. of ITERATIONS REACHED LIMIT.\n",
            "\n",
            "Increase the number of iterations (max_iter) or scale the data as shown in:\n",
            "    https://scikit-learn.org/stable/modules/preprocessing.html\n",
            "Please also refer to the documentation for alternative solver options:\n",
            "    https://scikit-learn.org/stable/modules/linear_model.html#logistic-regression\n",
            "  extra_warning_msg=_LOGISTIC_SOLVER_CONVERGENCE_MSG)\n",
            "/usr/local/lib/python3.6/dist-packages/sklearn/model_selection/_validation.py:536: FitFailedWarning: Estimator fit failed. The score on this train-test partition for these parameters will be set to nan. Details: \n",
            "ValueError: Solver lbfgs supports only 'l2' or 'none' penalties, got l1 penalty.\n",
            "\n",
            "  FitFailedWarning)\n",
            "/usr/local/lib/python3.6/dist-packages/sklearn/linear_model/_logistic.py:940: ConvergenceWarning: lbfgs failed to converge (status=1):\n",
            "STOP: TOTAL NO. of ITERATIONS REACHED LIMIT.\n",
            "\n",
            "Increase the number of iterations (max_iter) or scale the data as shown in:\n",
            "    https://scikit-learn.org/stable/modules/preprocessing.html\n",
            "Please also refer to the documentation for alternative solver options:\n",
            "    https://scikit-learn.org/stable/modules/linear_model.html#logistic-regression\n",
            "  extra_warning_msg=_LOGISTIC_SOLVER_CONVERGENCE_MSG)\n",
            "/usr/local/lib/python3.6/dist-packages/sklearn/linear_model/_logistic.py:940: ConvergenceWarning: lbfgs failed to converge (status=1):\n",
            "STOP: TOTAL NO. of ITERATIONS REACHED LIMIT.\n",
            "\n",
            "Increase the number of iterations (max_iter) or scale the data as shown in:\n",
            "    https://scikit-learn.org/stable/modules/preprocessing.html\n",
            "Please also refer to the documentation for alternative solver options:\n",
            "    https://scikit-learn.org/stable/modules/linear_model.html#logistic-regression\n",
            "  extra_warning_msg=_LOGISTIC_SOLVER_CONVERGENCE_MSG)\n",
            "/usr/local/lib/python3.6/dist-packages/sklearn/linear_model/_logistic.py:940: ConvergenceWarning: lbfgs failed to converge (status=1):\n",
            "STOP: TOTAL NO. of ITERATIONS REACHED LIMIT.\n",
            "\n",
            "Increase the number of iterations (max_iter) or scale the data as shown in:\n",
            "    https://scikit-learn.org/stable/modules/preprocessing.html\n",
            "Please also refer to the documentation for alternative solver options:\n",
            "    https://scikit-learn.org/stable/modules/linear_model.html#logistic-regression\n",
            "  extra_warning_msg=_LOGISTIC_SOLVER_CONVERGENCE_MSG)\n",
            "/usr/local/lib/python3.6/dist-packages/sklearn/linear_model/_logistic.py:940: ConvergenceWarning: lbfgs failed to converge (status=1):\n",
            "STOP: TOTAL NO. of ITERATIONS REACHED LIMIT.\n",
            "\n",
            "Increase the number of iterations (max_iter) or scale the data as shown in:\n",
            "    https://scikit-learn.org/stable/modules/preprocessing.html\n",
            "Please also refer to the documentation for alternative solver options:\n",
            "    https://scikit-learn.org/stable/modules/linear_model.html#logistic-regression\n",
            "  extra_warning_msg=_LOGISTIC_SOLVER_CONVERGENCE_MSG)\n",
            "/usr/local/lib/python3.6/dist-packages/sklearn/linear_model/_logistic.py:940: ConvergenceWarning: lbfgs failed to converge (status=1):\n",
            "STOP: TOTAL NO. of ITERATIONS REACHED LIMIT.\n",
            "\n",
            "Increase the number of iterations (max_iter) or scale the data as shown in:\n",
            "    https://scikit-learn.org/stable/modules/preprocessing.html\n",
            "Please also refer to the documentation for alternative solver options:\n",
            "    https://scikit-learn.org/stable/modules/linear_model.html#logistic-regression\n",
            "  extra_warning_msg=_LOGISTIC_SOLVER_CONVERGENCE_MSG)\n",
            "/usr/local/lib/python3.6/dist-packages/sklearn/model_selection/_validation.py:536: FitFailedWarning: Estimator fit failed. The score on this train-test partition for these parameters will be set to nan. Details: \n",
            "ValueError: Solver lbfgs supports only 'l2' or 'none' penalties, got l1 penalty.\n",
            "\n",
            "  FitFailedWarning)\n",
            "/usr/local/lib/python3.6/dist-packages/sklearn/linear_model/_logistic.py:940: ConvergenceWarning: lbfgs failed to converge (status=1):\n",
            "STOP: TOTAL NO. of ITERATIONS REACHED LIMIT.\n",
            "\n",
            "Increase the number of iterations (max_iter) or scale the data as shown in:\n",
            "    https://scikit-learn.org/stable/modules/preprocessing.html\n",
            "Please also refer to the documentation for alternative solver options:\n",
            "    https://scikit-learn.org/stable/modules/linear_model.html#logistic-regression\n",
            "  extra_warning_msg=_LOGISTIC_SOLVER_CONVERGENCE_MSG)\n",
            "/usr/local/lib/python3.6/dist-packages/sklearn/linear_model/_logistic.py:940: ConvergenceWarning: lbfgs failed to converge (status=1):\n",
            "STOP: TOTAL NO. of ITERATIONS REACHED LIMIT.\n",
            "\n",
            "Increase the number of iterations (max_iter) or scale the data as shown in:\n",
            "    https://scikit-learn.org/stable/modules/preprocessing.html\n",
            "Please also refer to the documentation for alternative solver options:\n",
            "    https://scikit-learn.org/stable/modules/linear_model.html#logistic-regression\n",
            "  extra_warning_msg=_LOGISTIC_SOLVER_CONVERGENCE_MSG)\n",
            "/usr/local/lib/python3.6/dist-packages/sklearn/linear_model/_logistic.py:940: ConvergenceWarning: lbfgs failed to converge (status=1):\n",
            "STOP: TOTAL NO. of ITERATIONS REACHED LIMIT.\n",
            "\n",
            "Increase the number of iterations (max_iter) or scale the data as shown in:\n",
            "    https://scikit-learn.org/stable/modules/preprocessing.html\n",
            "Please also refer to the documentation for alternative solver options:\n",
            "    https://scikit-learn.org/stable/modules/linear_model.html#logistic-regression\n",
            "  extra_warning_msg=_LOGISTIC_SOLVER_CONVERGENCE_MSG)\n",
            "/usr/local/lib/python3.6/dist-packages/sklearn/linear_model/_logistic.py:940: ConvergenceWarning: lbfgs failed to converge (status=1):\n",
            "STOP: TOTAL NO. of ITERATIONS REACHED LIMIT.\n",
            "\n",
            "Increase the number of iterations (max_iter) or scale the data as shown in:\n",
            "    https://scikit-learn.org/stable/modules/preprocessing.html\n",
            "Please also refer to the documentation for alternative solver options:\n",
            "    https://scikit-learn.org/stable/modules/linear_model.html#logistic-regression\n",
            "  extra_warning_msg=_LOGISTIC_SOLVER_CONVERGENCE_MSG)\n",
            "/usr/local/lib/python3.6/dist-packages/sklearn/linear_model/_logistic.py:940: ConvergenceWarning: lbfgs failed to converge (status=1):\n",
            "STOP: TOTAL NO. of ITERATIONS REACHED LIMIT.\n",
            "\n",
            "Increase the number of iterations (max_iter) or scale the data as shown in:\n",
            "    https://scikit-learn.org/stable/modules/preprocessing.html\n",
            "Please also refer to the documentation for alternative solver options:\n",
            "    https://scikit-learn.org/stable/modules/linear_model.html#logistic-regression\n",
            "  extra_warning_msg=_LOGISTIC_SOLVER_CONVERGENCE_MSG)\n",
            "/usr/local/lib/python3.6/dist-packages/sklearn/model_selection/_validation.py:536: FitFailedWarning: Estimator fit failed. The score on this train-test partition for these parameters will be set to nan. Details: \n",
            "ValueError: Solver lbfgs supports only 'l2' or 'none' penalties, got l1 penalty.\n",
            "\n",
            "  FitFailedWarning)\n",
            "/usr/local/lib/python3.6/dist-packages/sklearn/linear_model/_logistic.py:940: ConvergenceWarning: lbfgs failed to converge (status=1):\n",
            "STOP: TOTAL NO. of ITERATIONS REACHED LIMIT.\n",
            "\n",
            "Increase the number of iterations (max_iter) or scale the data as shown in:\n",
            "    https://scikit-learn.org/stable/modules/preprocessing.html\n",
            "Please also refer to the documentation for alternative solver options:\n",
            "    https://scikit-learn.org/stable/modules/linear_model.html#logistic-regression\n",
            "  extra_warning_msg=_LOGISTIC_SOLVER_CONVERGENCE_MSG)\n",
            "/usr/local/lib/python3.6/dist-packages/sklearn/linear_model/_logistic.py:940: ConvergenceWarning: lbfgs failed to converge (status=1):\n",
            "STOP: TOTAL NO. of ITERATIONS REACHED LIMIT.\n",
            "\n",
            "Increase the number of iterations (max_iter) or scale the data as shown in:\n",
            "    https://scikit-learn.org/stable/modules/preprocessing.html\n",
            "Please also refer to the documentation for alternative solver options:\n",
            "    https://scikit-learn.org/stable/modules/linear_model.html#logistic-regression\n",
            "  extra_warning_msg=_LOGISTIC_SOLVER_CONVERGENCE_MSG)\n",
            "/usr/local/lib/python3.6/dist-packages/sklearn/linear_model/_logistic.py:940: ConvergenceWarning: lbfgs failed to converge (status=1):\n",
            "STOP: TOTAL NO. of ITERATIONS REACHED LIMIT.\n",
            "\n",
            "Increase the number of iterations (max_iter) or scale the data as shown in:\n",
            "    https://scikit-learn.org/stable/modules/preprocessing.html\n",
            "Please also refer to the documentation for alternative solver options:\n",
            "    https://scikit-learn.org/stable/modules/linear_model.html#logistic-regression\n",
            "  extra_warning_msg=_LOGISTIC_SOLVER_CONVERGENCE_MSG)\n",
            "/usr/local/lib/python3.6/dist-packages/sklearn/linear_model/_logistic.py:940: ConvergenceWarning: lbfgs failed to converge (status=1):\n",
            "STOP: TOTAL NO. of ITERATIONS REACHED LIMIT.\n",
            "\n",
            "Increase the number of iterations (max_iter) or scale the data as shown in:\n",
            "    https://scikit-learn.org/stable/modules/preprocessing.html\n",
            "Please also refer to the documentation for alternative solver options:\n",
            "    https://scikit-learn.org/stable/modules/linear_model.html#logistic-regression\n",
            "  extra_warning_msg=_LOGISTIC_SOLVER_CONVERGENCE_MSG)\n",
            "/usr/local/lib/python3.6/dist-packages/sklearn/linear_model/_logistic.py:940: ConvergenceWarning: lbfgs failed to converge (status=1):\n",
            "STOP: TOTAL NO. of ITERATIONS REACHED LIMIT.\n",
            "\n",
            "Increase the number of iterations (max_iter) or scale the data as shown in:\n",
            "    https://scikit-learn.org/stable/modules/preprocessing.html\n",
            "Please also refer to the documentation for alternative solver options:\n",
            "    https://scikit-learn.org/stable/modules/linear_model.html#logistic-regression\n",
            "  extra_warning_msg=_LOGISTIC_SOLVER_CONVERGENCE_MSG)\n",
            "/usr/local/lib/python3.6/dist-packages/sklearn/model_selection/_validation.py:536: FitFailedWarning: Estimator fit failed. The score on this train-test partition for these parameters will be set to nan. Details: \n",
            "ValueError: Solver lbfgs supports only 'l2' or 'none' penalties, got l1 penalty.\n",
            "\n",
            "  FitFailedWarning)\n",
            "/usr/local/lib/python3.6/dist-packages/sklearn/linear_model/_logistic.py:940: ConvergenceWarning: lbfgs failed to converge (status=1):\n",
            "STOP: TOTAL NO. of ITERATIONS REACHED LIMIT.\n",
            "\n",
            "Increase the number of iterations (max_iter) or scale the data as shown in:\n",
            "    https://scikit-learn.org/stable/modules/preprocessing.html\n",
            "Please also refer to the documentation for alternative solver options:\n",
            "    https://scikit-learn.org/stable/modules/linear_model.html#logistic-regression\n",
            "  extra_warning_msg=_LOGISTIC_SOLVER_CONVERGENCE_MSG)\n",
            "/usr/local/lib/python3.6/dist-packages/sklearn/linear_model/_logistic.py:940: ConvergenceWarning: lbfgs failed to converge (status=1):\n",
            "STOP: TOTAL NO. of ITERATIONS REACHED LIMIT.\n",
            "\n",
            "Increase the number of iterations (max_iter) or scale the data as shown in:\n",
            "    https://scikit-learn.org/stable/modules/preprocessing.html\n",
            "Please also refer to the documentation for alternative solver options:\n",
            "    https://scikit-learn.org/stable/modules/linear_model.html#logistic-regression\n",
            "  extra_warning_msg=_LOGISTIC_SOLVER_CONVERGENCE_MSG)\n",
            "/usr/local/lib/python3.6/dist-packages/sklearn/linear_model/_logistic.py:940: ConvergenceWarning: lbfgs failed to converge (status=1):\n",
            "STOP: TOTAL NO. of ITERATIONS REACHED LIMIT.\n",
            "\n",
            "Increase the number of iterations (max_iter) or scale the data as shown in:\n",
            "    https://scikit-learn.org/stable/modules/preprocessing.html\n",
            "Please also refer to the documentation for alternative solver options:\n",
            "    https://scikit-learn.org/stable/modules/linear_model.html#logistic-regression\n",
            "  extra_warning_msg=_LOGISTIC_SOLVER_CONVERGENCE_MSG)\n",
            "/usr/local/lib/python3.6/dist-packages/sklearn/linear_model/_logistic.py:940: ConvergenceWarning: lbfgs failed to converge (status=1):\n",
            "STOP: TOTAL NO. of ITERATIONS REACHED LIMIT.\n",
            "\n",
            "Increase the number of iterations (max_iter) or scale the data as shown in:\n",
            "    https://scikit-learn.org/stable/modules/preprocessing.html\n",
            "Please also refer to the documentation for alternative solver options:\n",
            "    https://scikit-learn.org/stable/modules/linear_model.html#logistic-regression\n",
            "  extra_warning_msg=_LOGISTIC_SOLVER_CONVERGENCE_MSG)\n",
            "/usr/local/lib/python3.6/dist-packages/sklearn/linear_model/_logistic.py:940: ConvergenceWarning: lbfgs failed to converge (status=1):\n",
            "STOP: TOTAL NO. of ITERATIONS REACHED LIMIT.\n",
            "\n",
            "Increase the number of iterations (max_iter) or scale the data as shown in:\n",
            "    https://scikit-learn.org/stable/modules/preprocessing.html\n",
            "Please also refer to the documentation for alternative solver options:\n",
            "    https://scikit-learn.org/stable/modules/linear_model.html#logistic-regression\n",
            "  extra_warning_msg=_LOGISTIC_SOLVER_CONVERGENCE_MSG)\n",
            "/usr/local/lib/python3.6/dist-packages/sklearn/model_selection/_validation.py:536: FitFailedWarning: Estimator fit failed. The score on this train-test partition for these parameters will be set to nan. Details: \n",
            "ValueError: Solver lbfgs supports only 'l2' or 'none' penalties, got l1 penalty.\n",
            "\n",
            "  FitFailedWarning)\n",
            "/usr/local/lib/python3.6/dist-packages/sklearn/linear_model/_logistic.py:940: ConvergenceWarning: lbfgs failed to converge (status=1):\n",
            "STOP: TOTAL NO. of ITERATIONS REACHED LIMIT.\n",
            "\n",
            "Increase the number of iterations (max_iter) or scale the data as shown in:\n",
            "    https://scikit-learn.org/stable/modules/preprocessing.html\n",
            "Please also refer to the documentation for alternative solver options:\n",
            "    https://scikit-learn.org/stable/modules/linear_model.html#logistic-regression\n",
            "  extra_warning_msg=_LOGISTIC_SOLVER_CONVERGENCE_MSG)\n",
            "/usr/local/lib/python3.6/dist-packages/sklearn/linear_model/_logistic.py:940: ConvergenceWarning: lbfgs failed to converge (status=1):\n",
            "STOP: TOTAL NO. of ITERATIONS REACHED LIMIT.\n",
            "\n",
            "Increase the number of iterations (max_iter) or scale the data as shown in:\n",
            "    https://scikit-learn.org/stable/modules/preprocessing.html\n",
            "Please also refer to the documentation for alternative solver options:\n",
            "    https://scikit-learn.org/stable/modules/linear_model.html#logistic-regression\n",
            "  extra_warning_msg=_LOGISTIC_SOLVER_CONVERGENCE_MSG)\n",
            "/usr/local/lib/python3.6/dist-packages/sklearn/linear_model/_logistic.py:940: ConvergenceWarning: lbfgs failed to converge (status=1):\n",
            "STOP: TOTAL NO. of ITERATIONS REACHED LIMIT.\n",
            "\n",
            "Increase the number of iterations (max_iter) or scale the data as shown in:\n",
            "    https://scikit-learn.org/stable/modules/preprocessing.html\n",
            "Please also refer to the documentation for alternative solver options:\n",
            "    https://scikit-learn.org/stable/modules/linear_model.html#logistic-regression\n",
            "  extra_warning_msg=_LOGISTIC_SOLVER_CONVERGENCE_MSG)\n",
            "/usr/local/lib/python3.6/dist-packages/sklearn/linear_model/_logistic.py:940: ConvergenceWarning: lbfgs failed to converge (status=1):\n",
            "STOP: TOTAL NO. of ITERATIONS REACHED LIMIT.\n",
            "\n",
            "Increase the number of iterations (max_iter) or scale the data as shown in:\n",
            "    https://scikit-learn.org/stable/modules/preprocessing.html\n",
            "Please also refer to the documentation for alternative solver options:\n",
            "    https://scikit-learn.org/stable/modules/linear_model.html#logistic-regression\n",
            "  extra_warning_msg=_LOGISTIC_SOLVER_CONVERGENCE_MSG)\n",
            "/usr/local/lib/python3.6/dist-packages/sklearn/linear_model/_logistic.py:940: ConvergenceWarning: lbfgs failed to converge (status=1):\n",
            "STOP: TOTAL NO. of ITERATIONS REACHED LIMIT.\n",
            "\n",
            "Increase the number of iterations (max_iter) or scale the data as shown in:\n",
            "    https://scikit-learn.org/stable/modules/preprocessing.html\n",
            "Please also refer to the documentation for alternative solver options:\n",
            "    https://scikit-learn.org/stable/modules/linear_model.html#logistic-regression\n",
            "  extra_warning_msg=_LOGISTIC_SOLVER_CONVERGENCE_MSG)\n",
            "/usr/local/lib/python3.6/dist-packages/sklearn/model_selection/_validation.py:536: FitFailedWarning: Estimator fit failed. The score on this train-test partition for these parameters will be set to nan. Details: \n",
            "ValueError: Solver lbfgs supports only 'l2' or 'none' penalties, got l1 penalty.\n",
            "\n",
            "  FitFailedWarning)\n",
            "/usr/local/lib/python3.6/dist-packages/sklearn/linear_model/_logistic.py:940: ConvergenceWarning: lbfgs failed to converge (status=1):\n",
            "STOP: TOTAL NO. of ITERATIONS REACHED LIMIT.\n",
            "\n",
            "Increase the number of iterations (max_iter) or scale the data as shown in:\n",
            "    https://scikit-learn.org/stable/modules/preprocessing.html\n",
            "Please also refer to the documentation for alternative solver options:\n",
            "    https://scikit-learn.org/stable/modules/linear_model.html#logistic-regression\n",
            "  extra_warning_msg=_LOGISTIC_SOLVER_CONVERGENCE_MSG)\n",
            "/usr/local/lib/python3.6/dist-packages/sklearn/linear_model/_logistic.py:940: ConvergenceWarning: lbfgs failed to converge (status=1):\n",
            "STOP: TOTAL NO. of ITERATIONS REACHED LIMIT.\n",
            "\n",
            "Increase the number of iterations (max_iter) or scale the data as shown in:\n",
            "    https://scikit-learn.org/stable/modules/preprocessing.html\n",
            "Please also refer to the documentation for alternative solver options:\n",
            "    https://scikit-learn.org/stable/modules/linear_model.html#logistic-regression\n",
            "  extra_warning_msg=_LOGISTIC_SOLVER_CONVERGENCE_MSG)\n",
            "/usr/local/lib/python3.6/dist-packages/sklearn/linear_model/_logistic.py:940: ConvergenceWarning: lbfgs failed to converge (status=1):\n",
            "STOP: TOTAL NO. of ITERATIONS REACHED LIMIT.\n",
            "\n",
            "Increase the number of iterations (max_iter) or scale the data as shown in:\n",
            "    https://scikit-learn.org/stable/modules/preprocessing.html\n",
            "Please also refer to the documentation for alternative solver options:\n",
            "    https://scikit-learn.org/stable/modules/linear_model.html#logistic-regression\n",
            "  extra_warning_msg=_LOGISTIC_SOLVER_CONVERGENCE_MSG)\n",
            "/usr/local/lib/python3.6/dist-packages/sklearn/linear_model/_logistic.py:940: ConvergenceWarning: lbfgs failed to converge (status=1):\n",
            "STOP: TOTAL NO. of ITERATIONS REACHED LIMIT.\n",
            "\n",
            "Increase the number of iterations (max_iter) or scale the data as shown in:\n",
            "    https://scikit-learn.org/stable/modules/preprocessing.html\n",
            "Please also refer to the documentation for alternative solver options:\n",
            "    https://scikit-learn.org/stable/modules/linear_model.html#logistic-regression\n",
            "  extra_warning_msg=_LOGISTIC_SOLVER_CONVERGENCE_MSG)\n",
            "/usr/local/lib/python3.6/dist-packages/sklearn/linear_model/_logistic.py:940: ConvergenceWarning: lbfgs failed to converge (status=1):\n",
            "STOP: TOTAL NO. of ITERATIONS REACHED LIMIT.\n",
            "\n",
            "Increase the number of iterations (max_iter) or scale the data as shown in:\n",
            "    https://scikit-learn.org/stable/modules/preprocessing.html\n",
            "Please also refer to the documentation for alternative solver options:\n",
            "    https://scikit-learn.org/stable/modules/linear_model.html#logistic-regression\n",
            "  extra_warning_msg=_LOGISTIC_SOLVER_CONVERGENCE_MSG)\n",
            "/usr/local/lib/python3.6/dist-packages/sklearn/model_selection/_validation.py:536: FitFailedWarning: Estimator fit failed. The score on this train-test partition for these parameters will be set to nan. Details: \n",
            "ValueError: Solver lbfgs supports only 'l2' or 'none' penalties, got l1 penalty.\n",
            "\n",
            "  FitFailedWarning)\n",
            "/usr/local/lib/python3.6/dist-packages/sklearn/linear_model/_logistic.py:940: ConvergenceWarning: lbfgs failed to converge (status=1):\n",
            "STOP: TOTAL NO. of ITERATIONS REACHED LIMIT.\n",
            "\n",
            "Increase the number of iterations (max_iter) or scale the data as shown in:\n",
            "    https://scikit-learn.org/stable/modules/preprocessing.html\n",
            "Please also refer to the documentation for alternative solver options:\n",
            "    https://scikit-learn.org/stable/modules/linear_model.html#logistic-regression\n",
            "  extra_warning_msg=_LOGISTIC_SOLVER_CONVERGENCE_MSG)\n",
            "/usr/local/lib/python3.6/dist-packages/sklearn/linear_model/_logistic.py:940: ConvergenceWarning: lbfgs failed to converge (status=1):\n",
            "STOP: TOTAL NO. of ITERATIONS REACHED LIMIT.\n",
            "\n",
            "Increase the number of iterations (max_iter) or scale the data as shown in:\n",
            "    https://scikit-learn.org/stable/modules/preprocessing.html\n",
            "Please also refer to the documentation for alternative solver options:\n",
            "    https://scikit-learn.org/stable/modules/linear_model.html#logistic-regression\n",
            "  extra_warning_msg=_LOGISTIC_SOLVER_CONVERGENCE_MSG)\n",
            "/usr/local/lib/python3.6/dist-packages/sklearn/linear_model/_logistic.py:940: ConvergenceWarning: lbfgs failed to converge (status=1):\n",
            "STOP: TOTAL NO. of ITERATIONS REACHED LIMIT.\n",
            "\n",
            "Increase the number of iterations (max_iter) or scale the data as shown in:\n",
            "    https://scikit-learn.org/stable/modules/preprocessing.html\n",
            "Please also refer to the documentation for alternative solver options:\n",
            "    https://scikit-learn.org/stable/modules/linear_model.html#logistic-regression\n",
            "  extra_warning_msg=_LOGISTIC_SOLVER_CONVERGENCE_MSG)\n",
            "/usr/local/lib/python3.6/dist-packages/sklearn/linear_model/_logistic.py:940: ConvergenceWarning: lbfgs failed to converge (status=1):\n",
            "STOP: TOTAL NO. of ITERATIONS REACHED LIMIT.\n",
            "\n",
            "Increase the number of iterations (max_iter) or scale the data as shown in:\n",
            "    https://scikit-learn.org/stable/modules/preprocessing.html\n",
            "Please also refer to the documentation for alternative solver options:\n",
            "    https://scikit-learn.org/stable/modules/linear_model.html#logistic-regression\n",
            "  extra_warning_msg=_LOGISTIC_SOLVER_CONVERGENCE_MSG)\n",
            "/usr/local/lib/python3.6/dist-packages/sklearn/linear_model/_logistic.py:940: ConvergenceWarning: lbfgs failed to converge (status=1):\n",
            "STOP: TOTAL NO. of ITERATIONS REACHED LIMIT.\n",
            "\n",
            "Increase the number of iterations (max_iter) or scale the data as shown in:\n",
            "    https://scikit-learn.org/stable/modules/preprocessing.html\n",
            "Please also refer to the documentation for alternative solver options:\n",
            "    https://scikit-learn.org/stable/modules/linear_model.html#logistic-regression\n",
            "  extra_warning_msg=_LOGISTIC_SOLVER_CONVERGENCE_MSG)\n",
            "/usr/local/lib/python3.6/dist-packages/sklearn/model_selection/_validation.py:536: FitFailedWarning: Estimator fit failed. The score on this train-test partition for these parameters will be set to nan. Details: \n",
            "ValueError: Solver lbfgs supports only 'l2' or 'none' penalties, got l1 penalty.\n",
            "\n",
            "  FitFailedWarning)\n",
            "/usr/local/lib/python3.6/dist-packages/sklearn/linear_model/_logistic.py:940: ConvergenceWarning: lbfgs failed to converge (status=1):\n",
            "STOP: TOTAL NO. of ITERATIONS REACHED LIMIT.\n",
            "\n",
            "Increase the number of iterations (max_iter) or scale the data as shown in:\n",
            "    https://scikit-learn.org/stable/modules/preprocessing.html\n",
            "Please also refer to the documentation for alternative solver options:\n",
            "    https://scikit-learn.org/stable/modules/linear_model.html#logistic-regression\n",
            "  extra_warning_msg=_LOGISTIC_SOLVER_CONVERGENCE_MSG)\n",
            "/usr/local/lib/python3.6/dist-packages/sklearn/linear_model/_logistic.py:940: ConvergenceWarning: lbfgs failed to converge (status=1):\n",
            "STOP: TOTAL NO. of ITERATIONS REACHED LIMIT.\n",
            "\n",
            "Increase the number of iterations (max_iter) or scale the data as shown in:\n",
            "    https://scikit-learn.org/stable/modules/preprocessing.html\n",
            "Please also refer to the documentation for alternative solver options:\n",
            "    https://scikit-learn.org/stable/modules/linear_model.html#logistic-regression\n",
            "  extra_warning_msg=_LOGISTIC_SOLVER_CONVERGENCE_MSG)\n",
            "/usr/local/lib/python3.6/dist-packages/sklearn/linear_model/_logistic.py:940: ConvergenceWarning: lbfgs failed to converge (status=1):\n",
            "STOP: TOTAL NO. of ITERATIONS REACHED LIMIT.\n",
            "\n",
            "Increase the number of iterations (max_iter) or scale the data as shown in:\n",
            "    https://scikit-learn.org/stable/modules/preprocessing.html\n",
            "Please also refer to the documentation for alternative solver options:\n",
            "    https://scikit-learn.org/stable/modules/linear_model.html#logistic-regression\n",
            "  extra_warning_msg=_LOGISTIC_SOLVER_CONVERGENCE_MSG)\n",
            "/usr/local/lib/python3.6/dist-packages/sklearn/linear_model/_logistic.py:940: ConvergenceWarning: lbfgs failed to converge (status=1):\n",
            "STOP: TOTAL NO. of ITERATIONS REACHED LIMIT.\n",
            "\n",
            "Increase the number of iterations (max_iter) or scale the data as shown in:\n",
            "    https://scikit-learn.org/stable/modules/preprocessing.html\n",
            "Please also refer to the documentation for alternative solver options:\n",
            "    https://scikit-learn.org/stable/modules/linear_model.html#logistic-regression\n",
            "  extra_warning_msg=_LOGISTIC_SOLVER_CONVERGENCE_MSG)\n",
            "/usr/local/lib/python3.6/dist-packages/sklearn/linear_model/_logistic.py:940: ConvergenceWarning: lbfgs failed to converge (status=1):\n",
            "STOP: TOTAL NO. of ITERATIONS REACHED LIMIT.\n",
            "\n",
            "Increase the number of iterations (max_iter) or scale the data as shown in:\n",
            "    https://scikit-learn.org/stable/modules/preprocessing.html\n",
            "Please also refer to the documentation for alternative solver options:\n",
            "    https://scikit-learn.org/stable/modules/linear_model.html#logistic-regression\n",
            "  extra_warning_msg=_LOGISTIC_SOLVER_CONVERGENCE_MSG)\n",
            "/usr/local/lib/python3.6/dist-packages/sklearn/model_selection/_validation.py:536: FitFailedWarning: Estimator fit failed. The score on this train-test partition for these parameters will be set to nan. Details: \n",
            "ValueError: Solver lbfgs supports only 'l2' or 'none' penalties, got l1 penalty.\n",
            "\n",
            "  FitFailedWarning)\n",
            "/usr/local/lib/python3.6/dist-packages/sklearn/linear_model/_logistic.py:940: ConvergenceWarning: lbfgs failed to converge (status=1):\n",
            "STOP: TOTAL NO. of ITERATIONS REACHED LIMIT.\n",
            "\n",
            "Increase the number of iterations (max_iter) or scale the data as shown in:\n",
            "    https://scikit-learn.org/stable/modules/preprocessing.html\n",
            "Please also refer to the documentation for alternative solver options:\n",
            "    https://scikit-learn.org/stable/modules/linear_model.html#logistic-regression\n",
            "  extra_warning_msg=_LOGISTIC_SOLVER_CONVERGENCE_MSG)\n",
            "/usr/local/lib/python3.6/dist-packages/sklearn/linear_model/_logistic.py:940: ConvergenceWarning: lbfgs failed to converge (status=1):\n",
            "STOP: TOTAL NO. of ITERATIONS REACHED LIMIT.\n",
            "\n",
            "Increase the number of iterations (max_iter) or scale the data as shown in:\n",
            "    https://scikit-learn.org/stable/modules/preprocessing.html\n",
            "Please also refer to the documentation for alternative solver options:\n",
            "    https://scikit-learn.org/stable/modules/linear_model.html#logistic-regression\n",
            "  extra_warning_msg=_LOGISTIC_SOLVER_CONVERGENCE_MSG)\n",
            "/usr/local/lib/python3.6/dist-packages/sklearn/linear_model/_logistic.py:940: ConvergenceWarning: lbfgs failed to converge (status=1):\n",
            "STOP: TOTAL NO. of ITERATIONS REACHED LIMIT.\n",
            "\n",
            "Increase the number of iterations (max_iter) or scale the data as shown in:\n",
            "    https://scikit-learn.org/stable/modules/preprocessing.html\n",
            "Please also refer to the documentation for alternative solver options:\n",
            "    https://scikit-learn.org/stable/modules/linear_model.html#logistic-regression\n",
            "  extra_warning_msg=_LOGISTIC_SOLVER_CONVERGENCE_MSG)\n",
            "/usr/local/lib/python3.6/dist-packages/sklearn/linear_model/_logistic.py:940: ConvergenceWarning: lbfgs failed to converge (status=1):\n",
            "STOP: TOTAL NO. of ITERATIONS REACHED LIMIT.\n",
            "\n",
            "Increase the number of iterations (max_iter) or scale the data as shown in:\n",
            "    https://scikit-learn.org/stable/modules/preprocessing.html\n",
            "Please also refer to the documentation for alternative solver options:\n",
            "    https://scikit-learn.org/stable/modules/linear_model.html#logistic-regression\n",
            "  extra_warning_msg=_LOGISTIC_SOLVER_CONVERGENCE_MSG)\n",
            "/usr/local/lib/python3.6/dist-packages/sklearn/linear_model/_logistic.py:940: ConvergenceWarning: lbfgs failed to converge (status=1):\n",
            "STOP: TOTAL NO. of ITERATIONS REACHED LIMIT.\n",
            "\n",
            "Increase the number of iterations (max_iter) or scale the data as shown in:\n",
            "    https://scikit-learn.org/stable/modules/preprocessing.html\n",
            "Please also refer to the documentation for alternative solver options:\n",
            "    https://scikit-learn.org/stable/modules/linear_model.html#logistic-regression\n",
            "  extra_warning_msg=_LOGISTIC_SOLVER_CONVERGENCE_MSG)\n",
            "/usr/local/lib/python3.6/dist-packages/sklearn/model_selection/_validation.py:536: FitFailedWarning: Estimator fit failed. The score on this train-test partition for these parameters will be set to nan. Details: \n",
            "ValueError: Solver lbfgs supports only 'l2' or 'none' penalties, got l1 penalty.\n",
            "\n",
            "  FitFailedWarning)\n",
            "/usr/local/lib/python3.6/dist-packages/sklearn/linear_model/_logistic.py:940: ConvergenceWarning: lbfgs failed to converge (status=1):\n",
            "STOP: TOTAL NO. of ITERATIONS REACHED LIMIT.\n",
            "\n",
            "Increase the number of iterations (max_iter) or scale the data as shown in:\n",
            "    https://scikit-learn.org/stable/modules/preprocessing.html\n",
            "Please also refer to the documentation for alternative solver options:\n",
            "    https://scikit-learn.org/stable/modules/linear_model.html#logistic-regression\n",
            "  extra_warning_msg=_LOGISTIC_SOLVER_CONVERGENCE_MSG)\n",
            "/usr/local/lib/python3.6/dist-packages/sklearn/linear_model/_logistic.py:940: ConvergenceWarning: lbfgs failed to converge (status=1):\n",
            "STOP: TOTAL NO. of ITERATIONS REACHED LIMIT.\n",
            "\n",
            "Increase the number of iterations (max_iter) or scale the data as shown in:\n",
            "    https://scikit-learn.org/stable/modules/preprocessing.html\n",
            "Please also refer to the documentation for alternative solver options:\n",
            "    https://scikit-learn.org/stable/modules/linear_model.html#logistic-regression\n",
            "  extra_warning_msg=_LOGISTIC_SOLVER_CONVERGENCE_MSG)\n",
            "/usr/local/lib/python3.6/dist-packages/sklearn/linear_model/_logistic.py:940: ConvergenceWarning: lbfgs failed to converge (status=1):\n",
            "STOP: TOTAL NO. of ITERATIONS REACHED LIMIT.\n",
            "\n",
            "Increase the number of iterations (max_iter) or scale the data as shown in:\n",
            "    https://scikit-learn.org/stable/modules/preprocessing.html\n",
            "Please also refer to the documentation for alternative solver options:\n",
            "    https://scikit-learn.org/stable/modules/linear_model.html#logistic-regression\n",
            "  extra_warning_msg=_LOGISTIC_SOLVER_CONVERGENCE_MSG)\n",
            "/usr/local/lib/python3.6/dist-packages/sklearn/linear_model/_logistic.py:940: ConvergenceWarning: lbfgs failed to converge (status=1):\n",
            "STOP: TOTAL NO. of ITERATIONS REACHED LIMIT.\n",
            "\n",
            "Increase the number of iterations (max_iter) or scale the data as shown in:\n",
            "    https://scikit-learn.org/stable/modules/preprocessing.html\n",
            "Please also refer to the documentation for alternative solver options:\n",
            "    https://scikit-learn.org/stable/modules/linear_model.html#logistic-regression\n",
            "  extra_warning_msg=_LOGISTIC_SOLVER_CONVERGENCE_MSG)\n",
            "/usr/local/lib/python3.6/dist-packages/sklearn/linear_model/_logistic.py:940: ConvergenceWarning: lbfgs failed to converge (status=1):\n",
            "STOP: TOTAL NO. of ITERATIONS REACHED LIMIT.\n",
            "\n",
            "Increase the number of iterations (max_iter) or scale the data as shown in:\n",
            "    https://scikit-learn.org/stable/modules/preprocessing.html\n",
            "Please also refer to the documentation for alternative solver options:\n",
            "    https://scikit-learn.org/stable/modules/linear_model.html#logistic-regression\n",
            "  extra_warning_msg=_LOGISTIC_SOLVER_CONVERGENCE_MSG)\n",
            "/usr/local/lib/python3.6/dist-packages/sklearn/model_selection/_validation.py:536: FitFailedWarning: Estimator fit failed. The score on this train-test partition for these parameters will be set to nan. Details: \n",
            "ValueError: Solver lbfgs supports only 'l2' or 'none' penalties, got l1 penalty.\n",
            "\n",
            "  FitFailedWarning)\n",
            "/usr/local/lib/python3.6/dist-packages/sklearn/linear_model/_logistic.py:940: ConvergenceWarning: lbfgs failed to converge (status=1):\n",
            "STOP: TOTAL NO. of ITERATIONS REACHED LIMIT.\n",
            "\n",
            "Increase the number of iterations (max_iter) or scale the data as shown in:\n",
            "    https://scikit-learn.org/stable/modules/preprocessing.html\n",
            "Please also refer to the documentation for alternative solver options:\n",
            "    https://scikit-learn.org/stable/modules/linear_model.html#logistic-regression\n",
            "  extra_warning_msg=_LOGISTIC_SOLVER_CONVERGENCE_MSG)\n",
            "/usr/local/lib/python3.6/dist-packages/sklearn/linear_model/_logistic.py:940: ConvergenceWarning: lbfgs failed to converge (status=1):\n",
            "STOP: TOTAL NO. of ITERATIONS REACHED LIMIT.\n",
            "\n",
            "Increase the number of iterations (max_iter) or scale the data as shown in:\n",
            "    https://scikit-learn.org/stable/modules/preprocessing.html\n",
            "Please also refer to the documentation for alternative solver options:\n",
            "    https://scikit-learn.org/stable/modules/linear_model.html#logistic-regression\n",
            "  extra_warning_msg=_LOGISTIC_SOLVER_CONVERGENCE_MSG)\n",
            "/usr/local/lib/python3.6/dist-packages/sklearn/linear_model/_logistic.py:940: ConvergenceWarning: lbfgs failed to converge (status=1):\n",
            "STOP: TOTAL NO. of ITERATIONS REACHED LIMIT.\n",
            "\n",
            "Increase the number of iterations (max_iter) or scale the data as shown in:\n",
            "    https://scikit-learn.org/stable/modules/preprocessing.html\n",
            "Please also refer to the documentation for alternative solver options:\n",
            "    https://scikit-learn.org/stable/modules/linear_model.html#logistic-regression\n",
            "  extra_warning_msg=_LOGISTIC_SOLVER_CONVERGENCE_MSG)\n",
            "/usr/local/lib/python3.6/dist-packages/sklearn/linear_model/_logistic.py:940: ConvergenceWarning: lbfgs failed to converge (status=1):\n",
            "STOP: TOTAL NO. of ITERATIONS REACHED LIMIT.\n",
            "\n",
            "Increase the number of iterations (max_iter) or scale the data as shown in:\n",
            "    https://scikit-learn.org/stable/modules/preprocessing.html\n",
            "Please also refer to the documentation for alternative solver options:\n",
            "    https://scikit-learn.org/stable/modules/linear_model.html#logistic-regression\n",
            "  extra_warning_msg=_LOGISTIC_SOLVER_CONVERGENCE_MSG)\n",
            "/usr/local/lib/python3.6/dist-packages/sklearn/linear_model/_logistic.py:940: ConvergenceWarning: lbfgs failed to converge (status=1):\n",
            "STOP: TOTAL NO. of ITERATIONS REACHED LIMIT.\n",
            "\n",
            "Increase the number of iterations (max_iter) or scale the data as shown in:\n",
            "    https://scikit-learn.org/stable/modules/preprocessing.html\n",
            "Please also refer to the documentation for alternative solver options:\n",
            "    https://scikit-learn.org/stable/modules/linear_model.html#logistic-regression\n",
            "  extra_warning_msg=_LOGISTIC_SOLVER_CONVERGENCE_MSG)\n",
            "/usr/local/lib/python3.6/dist-packages/sklearn/linear_model/_logistic.py:940: ConvergenceWarning: lbfgs failed to converge (status=1):\n",
            "STOP: TOTAL NO. of ITERATIONS REACHED LIMIT.\n",
            "\n",
            "Increase the number of iterations (max_iter) or scale the data as shown in:\n",
            "    https://scikit-learn.org/stable/modules/preprocessing.html\n",
            "Please also refer to the documentation for alternative solver options:\n",
            "    https://scikit-learn.org/stable/modules/linear_model.html#logistic-regression\n",
            "  extra_warning_msg=_LOGISTIC_SOLVER_CONVERGENCE_MSG)\n"
          ],
          "name": "stderr"
        },
        {
          "output_type": "execute_result",
          "data": {
            "text/plain": [
              "GridSearchCV(cv=5, error_score=nan,\n",
              "             estimator=LogisticRegression(C=1.0, class_weight=None, dual=False,\n",
              "                                          fit_intercept=True,\n",
              "                                          intercept_scaling=1, l1_ratio=None,\n",
              "                                          max_iter=100, multi_class='auto',\n",
              "                                          n_jobs=None, penalty='l2',\n",
              "                                          random_state=None, solver='lbfgs',\n",
              "                                          tol=0.0001, verbose=0,\n",
              "                                          warm_start=False),\n",
              "             iid='deprecated', n_jobs=None,\n",
              "             param_grid={'C': array([1.00000000e-05, 8.48342898e-05, 7.19685673e-04, 6.10540230e-03,\n",
              "       5.17947468e-02, 4.39397056e-01, 3.72759372e+00, 3.16227766e+01,\n",
              "       2.68269580e+02, 2.27584593e+03, 1.93069773e+04, 1.63789371e+05,\n",
              "       1.38949549e+06, 1.17876863e+07, 1.00000000e+08]),\n",
              "                         'penalty': ['l1', 'l2']},\n",
              "             pre_dispatch='2*n_jobs', refit=True, return_train_score=False,\n",
              "             scoring=None, verbose=0)"
            ]
          },
          "metadata": {
            "tags": []
          },
          "execution_count": 142
        }
      ]
    },
    {
      "cell_type": "code",
      "metadata": {
        "id": "gmR9b0p6TZ7h",
        "colab": {
          "base_uri": "https://localhost:8080/"
        },
        "outputId": "28bd1a12-7a1e-4ad7-e3be-1d4c3e4ca252"
      },
      "source": [
        "# Print the optimal parameters and best score\n",
        "print(\"Tuned Logistic Regression Parameter: {}\".format(logreg_cv.best_params_))\n",
        "print(\"Tuned Logistic Regression Accuracy: {}\".format(logreg_cv.best_score_))"
      ],
      "execution_count": 143,
      "outputs": [
        {
          "output_type": "stream",
          "text": [
            "Tuned Logistic Regression Parameter: {'C': 0.006105402296585327, 'penalty': 'l2'}\n",
            "Tuned Logistic Regression Accuracy: 0.8127659574468085\n"
          ],
          "name": "stdout"
        }
      ]
    },
    {
      "cell_type": "markdown",
      "metadata": {
        "id": "-3ZqbiNqUYE3"
      },
      "source": [
        "\n",
        "¡Excelente trabajo! ¡Realmente estás dominando los fundamentos de la clasificación!"
      ]
    },
    {
      "cell_type": "markdown",
      "metadata": {
        "id": "AhXt-t8oUhN_"
      },
      "source": [
        "# Hold-out set in practice II: Regression\n",
        "\n",
        "\n",
        "¿Recuerda la regresión de lazo y cresta del capítulo anterior? Lasso usó la penalización L1 para regularizar, mientras que ridge usó la penalización L2. Existe otro tipo de regresión regularizada conocida como red elástica. En la regularización neta elástica, el término de penalización es una combinación lineal de las penalizaciones L1 y L2:\n",
        "\n",
        "a ∗ L1 + b ∗ L2\n",
        "En scikit-learn, este término está representado por el parámetro 'l1_ratio': una 'l1_ratio' de 1 corresponde a una penalización L1, y cualquier valor inferior es una combinación de L1 y L2.\n",
        "\n",
        "En este ejercicio, utilizará GridSearchCV para ajustar el 'l1_ratio' de un modelo de red elástica entrenado en los datos de Gapminder. Como en el ejercicio anterior, utilice un conjunto de reserva para evaluar el rendimiento de su modelo."
      ]
    },
    {
      "cell_type": "code",
      "metadata": {
        "id": "sYDbSgavXDfH",
        "colab": {
          "base_uri": "https://localhost:8080/",
          "height": 204
        },
        "outputId": "37f61f80-9741-4ec2-f0e8-9259aef3c1a5"
      },
      "source": [
        "df.head()"
      ],
      "execution_count": 144,
      "outputs": [
        {
          "output_type": "execute_result",
          "data": {
            "text/html": [
              "<div>\n",
              "<style scoped>\n",
              "    .dataframe tbody tr th:only-of-type {\n",
              "        vertical-align: middle;\n",
              "    }\n",
              "\n",
              "    .dataframe tbody tr th {\n",
              "        vertical-align: top;\n",
              "    }\n",
              "\n",
              "    .dataframe thead th {\n",
              "        text-align: right;\n",
              "    }\n",
              "</style>\n",
              "<table border=\"1\" class=\"dataframe\">\n",
              "  <thead>\n",
              "    <tr style=\"text-align: right;\">\n",
              "      <th></th>\n",
              "      <th>pregnant</th>\n",
              "      <th>glucose</th>\n",
              "      <th>diastolic</th>\n",
              "      <th>triceps</th>\n",
              "      <th>insulin</th>\n",
              "      <th>bmi</th>\n",
              "      <th>family</th>\n",
              "      <th>age</th>\n",
              "      <th>test</th>\n",
              "    </tr>\n",
              "  </thead>\n",
              "  <tbody>\n",
              "    <tr>\n",
              "      <th>0</th>\n",
              "      <td>1</td>\n",
              "      <td>89</td>\n",
              "      <td>66</td>\n",
              "      <td>23</td>\n",
              "      <td>94</td>\n",
              "      <td>28.1</td>\n",
              "      <td>0.167</td>\n",
              "      <td>21</td>\n",
              "      <td>negative</td>\n",
              "    </tr>\n",
              "    <tr>\n",
              "      <th>1</th>\n",
              "      <td>0</td>\n",
              "      <td>137</td>\n",
              "      <td>40</td>\n",
              "      <td>35</td>\n",
              "      <td>168</td>\n",
              "      <td>43.1</td>\n",
              "      <td>2.288</td>\n",
              "      <td>33</td>\n",
              "      <td>positive</td>\n",
              "    </tr>\n",
              "    <tr>\n",
              "      <th>2</th>\n",
              "      <td>3</td>\n",
              "      <td>78</td>\n",
              "      <td>50</td>\n",
              "      <td>32</td>\n",
              "      <td>88</td>\n",
              "      <td>31.0</td>\n",
              "      <td>0.248</td>\n",
              "      <td>26</td>\n",
              "      <td>positive</td>\n",
              "    </tr>\n",
              "    <tr>\n",
              "      <th>3</th>\n",
              "      <td>2</td>\n",
              "      <td>197</td>\n",
              "      <td>70</td>\n",
              "      <td>45</td>\n",
              "      <td>543</td>\n",
              "      <td>30.5</td>\n",
              "      <td>0.158</td>\n",
              "      <td>53</td>\n",
              "      <td>positive</td>\n",
              "    </tr>\n",
              "    <tr>\n",
              "      <th>4</th>\n",
              "      <td>1</td>\n",
              "      <td>189</td>\n",
              "      <td>60</td>\n",
              "      <td>23</td>\n",
              "      <td>846</td>\n",
              "      <td>30.1</td>\n",
              "      <td>0.398</td>\n",
              "      <td>59</td>\n",
              "      <td>positive</td>\n",
              "    </tr>\n",
              "  </tbody>\n",
              "</table>\n",
              "</div>"
            ],
            "text/plain": [
              "   pregnant  glucose  diastolic  triceps  insulin   bmi  family  age      test\n",
              "0         1       89         66       23       94  28.1   0.167   21  negative\n",
              "1         0      137         40       35      168  43.1   2.288   33  positive\n",
              "2         3       78         50       32       88  31.0   0.248   26  positive\n",
              "3         2      197         70       45      543  30.5   0.158   53  positive\n",
              "4         1      189         60       23      846  30.1   0.398   59  positive"
            ]
          },
          "metadata": {
            "tags": []
          },
          "execution_count": 144
        }
      ]
    },
    {
      "cell_type": "code",
      "metadata": {
        "id": "HvSZSFVBXGNh"
      },
      "source": [
        "X = df.drop('test',axis=1)\n",
        "y = df['test']"
      ],
      "execution_count": 145,
      "outputs": []
    },
    {
      "cell_type": "code",
      "metadata": {
        "id": "TuVScbvKXGXh"
      },
      "source": [
        "y = df.test.replace({'negative':0, 'positive':1})"
      ],
      "execution_count": 146,
      "outputs": []
    },
    {
      "cell_type": "code",
      "metadata": {
        "id": "tb_BNr2iTi1d"
      },
      "source": [
        "# Import necessary modules\n",
        "from sklearn.linear_model import ElasticNet\n",
        "from sklearn.metrics import mean_squared_error\n",
        "from sklearn.model_selection import GridSearchCV,train_test_split"
      ],
      "execution_count": 147,
      "outputs": []
    },
    {
      "cell_type": "code",
      "metadata": {
        "id": "mvUefYUmWSwj"
      },
      "source": [
        "# Create train and test sets\n",
        "X_train, X_test, y_train, y_test = train_test_split(X,y,test_size=0.4,\n",
        "random_state=42)"
      ],
      "execution_count": 148,
      "outputs": []
    },
    {
      "cell_type": "code",
      "metadata": {
        "id": "hJty2zhNWUsn"
      },
      "source": [
        "# Create the hyperparameter grid\n",
        "l1_space = np.linspace(0, 1, 30)\n",
        "param_grid = {'l1_ratio': l1_space}"
      ],
      "execution_count": 149,
      "outputs": []
    },
    {
      "cell_type": "code",
      "metadata": {
        "id": "jUrFj1IEWWo2"
      },
      "source": [
        "# Instantiate the ElasticNet regressor: elastic_net\n",
        "elastic_net = ElasticNet()"
      ],
      "execution_count": 150,
      "outputs": []
    },
    {
      "cell_type": "code",
      "metadata": {
        "id": "d-PbRWGXWYW1"
      },
      "source": [
        "# Setup the GridSearchCV object: gm_cv\n",
        "gm_cv = GridSearchCV(elastic_net, param_grid, cv=5)"
      ],
      "execution_count": 151,
      "outputs": []
    },
    {
      "cell_type": "code",
      "metadata": {
        "id": "J8atPBSIWaB1",
        "colab": {
          "base_uri": "https://localhost:8080/"
        },
        "outputId": "071c1f29-9130-458f-cae1-035919b55b4d"
      },
      "source": [
        "# Fit it to the training data\n",
        "\n",
        "gm_cv.fit(X_train,y_train)"
      ],
      "execution_count": 152,
      "outputs": [
        {
          "output_type": "stream",
          "text": [
            "/usr/local/lib/python3.6/dist-packages/sklearn/linear_model/_coordinate_descent.py:476: ConvergenceWarning: Objective did not converge. You might want to increase the number of iterations. Duality gap: 11.77159227617374, tolerance: 0.004155319148936173\n",
            "  positive)\n",
            "/usr/local/lib/python3.6/dist-packages/sklearn/linear_model/_coordinate_descent.py:476: ConvergenceWarning: Objective did not converge. You might want to increase the number of iterations. Duality gap: 13.388878940016065, tolerance: 0.004155319148936173\n",
            "  positive)\n",
            "/usr/local/lib/python3.6/dist-packages/sklearn/linear_model/_coordinate_descent.py:476: ConvergenceWarning: Objective did not converge. You might want to increase the number of iterations. Duality gap: 13.49615923205447, tolerance: 0.0043404255319148925\n",
            "  positive)\n",
            "/usr/local/lib/python3.6/dist-packages/sklearn/linear_model/_coordinate_descent.py:476: ConvergenceWarning: Objective did not converge. You might want to increase the number of iterations. Duality gap: 11.826411497621457, tolerance: 0.0039718085106383\n",
            "  positive)\n",
            "/usr/local/lib/python3.6/dist-packages/sklearn/linear_model/_coordinate_descent.py:476: ConvergenceWarning: Objective did not converge. You might want to increase the number of iterations. Duality gap: 13.728907375303175, tolerance: 0.0043122340425531935\n",
            "  positive)\n",
            "/usr/local/lib/python3.6/dist-packages/sklearn/linear_model/_coordinate_descent.py:476: ConvergenceWarning: Objective did not converge. You might want to increase the number of iterations. Duality gap: 16.18436805503357, tolerance: 0.005244255319148937\n",
            "  positive)\n"
          ],
          "name": "stderr"
        },
        {
          "output_type": "execute_result",
          "data": {
            "text/plain": [
              "GridSearchCV(cv=5, error_score=nan,\n",
              "             estimator=ElasticNet(alpha=1.0, copy_X=True, fit_intercept=True,\n",
              "                                  l1_ratio=0.5, max_iter=1000, normalize=False,\n",
              "                                  positive=False, precompute=False,\n",
              "                                  random_state=None, selection='cyclic',\n",
              "                                  tol=0.0001, warm_start=False),\n",
              "             iid='deprecated', n_jobs=None,\n",
              "             param_grid={'l1_ratio': array([0.        , 0.03448276, 0.06896552, 0.10344828, 0.13793103,\n",
              "       0.17241379, 0.20689655, 0.24137931, 0.27586207, 0.31034483,\n",
              "       0.34482759, 0.37931034, 0.4137931 , 0.44827586, 0.48275862,\n",
              "       0.51724138, 0.55172414, 0.5862069 , 0.62068966, 0.65517241,\n",
              "       0.68965517, 0.72413793, 0.75862069, 0.79310345, 0.82758621,\n",
              "       0.86206897, 0.89655172, 0.93103448, 0.96551724, 1.        ])},\n",
              "             pre_dispatch='2*n_jobs', refit=True, return_train_score=False,\n",
              "             scoring=None, verbose=0)"
            ]
          },
          "metadata": {
            "tags": []
          },
          "execution_count": 152
        }
      ]
    },
    {
      "cell_type": "code",
      "metadata": {
        "id": "XdSmEf6TWbns",
        "colab": {
          "base_uri": "https://localhost:8080/"
        },
        "outputId": "3ae62ac0-5e16-4a2b-8bf6-d2d1b0a65680"
      },
      "source": [
        "# Predict on the test set and compute metrics\n",
        "y_pred = gm_cv.predict(X_test)\n",
        "r2 = gm_cv.score(X_test, y_pred)\n",
        "mse = mean_squared_error(y_test, y_pred)\n",
        "print(\"Tuned ElasticNet l1 ratio: {}\".format(gm_cv.best_params_))\n",
        "print(\"Tuned ElasticNet R squared: {}\".format(r2))\n",
        "print(\"Tuned ElasticNet MSE: {}\".format(mse))"
      ],
      "execution_count": 153,
      "outputs": [
        {
          "output_type": "stream",
          "text": [
            "Tuned ElasticNet l1 ratio: {'l1_ratio': 0.0}\n",
            "Tuned ElasticNet R squared: 1.0\n",
            "Tuned ElasticNet MSE: 0.1676819998085433\n"
          ],
          "name": "stdout"
        }
      ]
    },
    {
      "cell_type": "markdown",
      "metadata": {
        "id": "gxRdLrmCZHEm"
      },
      "source": [
        "¡Fantástico! Ahora que comprende cómo ajustar sus modelos, es hora de aprender sobre las técnicas de preprocesamiento y cómo unir todas las diferentes etapas del proceso de aprendizaje automático en una canalización."
      ]
    },
    {
      "cell_type": "markdown",
      "metadata": {
        "id": "zfacxvJmaj0J"
      },
      "source": [
        "------\n",
        "## **PREPROCESSING DATA AND PIPELINES** (4)\n",
        "-----\n"
      ]
    },
    {
      "cell_type": "code",
      "metadata": {
        "id": "pAqss7oZY3D4",
        "colab": {
          "base_uri": "https://localhost:8080/",
          "height": 204
        },
        "outputId": "847de90c-fccc-4349-dc47-03440cb7cdcf"
      },
      "source": [
        "df_p.head()"
      ],
      "execution_count": 158,
      "outputs": [
        {
          "output_type": "execute_result",
          "data": {
            "text/html": [
              "<div>\n",
              "<style scoped>\n",
              "    .dataframe tbody tr th:only-of-type {\n",
              "        vertical-align: middle;\n",
              "    }\n",
              "\n",
              "    .dataframe tbody tr th {\n",
              "        vertical-align: top;\n",
              "    }\n",
              "\n",
              "    .dataframe thead th {\n",
              "        text-align: right;\n",
              "    }\n",
              "</style>\n",
              "<table border=\"1\" class=\"dataframe\">\n",
              "  <thead>\n",
              "    <tr style=\"text-align: right;\">\n",
              "      <th></th>\n",
              "      <th>population</th>\n",
              "      <th>fertility</th>\n",
              "      <th>HIV</th>\n",
              "      <th>CO2</th>\n",
              "      <th>BMI_male</th>\n",
              "      <th>GDP</th>\n",
              "      <th>BMI_female</th>\n",
              "      <th>life</th>\n",
              "      <th>child_mortality</th>\n",
              "      <th>Region</th>\n",
              "    </tr>\n",
              "  </thead>\n",
              "  <tbody>\n",
              "    <tr>\n",
              "      <th>0</th>\n",
              "      <td>34811059.0</td>\n",
              "      <td>2.73</td>\n",
              "      <td>0.1</td>\n",
              "      <td>3.328945</td>\n",
              "      <td>24.59620</td>\n",
              "      <td>12314.0</td>\n",
              "      <td>129.9049</td>\n",
              "      <td>75.3</td>\n",
              "      <td>29.5</td>\n",
              "      <td>Middle East &amp; North Africa</td>\n",
              "    </tr>\n",
              "    <tr>\n",
              "      <th>1</th>\n",
              "      <td>19842251.0</td>\n",
              "      <td>6.43</td>\n",
              "      <td>2.0</td>\n",
              "      <td>1.474353</td>\n",
              "      <td>22.25083</td>\n",
              "      <td>7103.0</td>\n",
              "      <td>130.1247</td>\n",
              "      <td>58.3</td>\n",
              "      <td>192.0</td>\n",
              "      <td>Sub-Saharan Africa</td>\n",
              "    </tr>\n",
              "    <tr>\n",
              "      <th>2</th>\n",
              "      <td>40381860.0</td>\n",
              "      <td>2.24</td>\n",
              "      <td>0.5</td>\n",
              "      <td>4.785170</td>\n",
              "      <td>27.50170</td>\n",
              "      <td>14646.0</td>\n",
              "      <td>118.8915</td>\n",
              "      <td>75.5</td>\n",
              "      <td>15.4</td>\n",
              "      <td>America</td>\n",
              "    </tr>\n",
              "    <tr>\n",
              "      <th>3</th>\n",
              "      <td>2975029.0</td>\n",
              "      <td>1.40</td>\n",
              "      <td>0.1</td>\n",
              "      <td>1.804106</td>\n",
              "      <td>25.35542</td>\n",
              "      <td>7383.0</td>\n",
              "      <td>132.8108</td>\n",
              "      <td>72.5</td>\n",
              "      <td>20.0</td>\n",
              "      <td>Europe &amp; Central Asia</td>\n",
              "    </tr>\n",
              "    <tr>\n",
              "      <th>4</th>\n",
              "      <td>21370348.0</td>\n",
              "      <td>1.96</td>\n",
              "      <td>0.1</td>\n",
              "      <td>18.016313</td>\n",
              "      <td>27.56373</td>\n",
              "      <td>41312.0</td>\n",
              "      <td>117.3755</td>\n",
              "      <td>81.5</td>\n",
              "      <td>5.2</td>\n",
              "      <td>East Asia &amp; Pacific</td>\n",
              "    </tr>\n",
              "  </tbody>\n",
              "</table>\n",
              "</div>"
            ],
            "text/plain": [
              "   population  fertility  ...  child_mortality                      Region\n",
              "0  34811059.0       2.73  ...             29.5  Middle East & North Africa\n",
              "1  19842251.0       6.43  ...            192.0          Sub-Saharan Africa\n",
              "2  40381860.0       2.24  ...             15.4                     America\n",
              "3   2975029.0       1.40  ...             20.0       Europe & Central Asia\n",
              "4  21370348.0       1.96  ...              5.2         East Asia & Pacific\n",
              "\n",
              "[5 rows x 10 columns]"
            ]
          },
          "metadata": {
            "tags": []
          },
          "execution_count": 158
        }
      ]
    },
    {
      "cell_type": "code",
      "metadata": {
        "id": "vVhMVsmoj28P"
      },
      "source": [
        "# Import pandas\n",
        "import pandas as pd"
      ],
      "execution_count": 159,
      "outputs": []
    },
    {
      "cell_type": "code",
      "metadata": {
        "id": "0VeoOGCTkGIF",
        "colab": {
          "base_uri": "https://localhost:8080/",
          "height": 467
        },
        "outputId": "e471c794-e6d7-4bbc-fcf5-c5da6b91f70f"
      },
      "source": [
        "# Create a boxplot of life expectancy per region\n",
        "df_p.boxplot('life', 'Region', rot=60)\n",
        "\n",
        "# Show the plot\n",
        "plt.show()"
      ],
      "execution_count": 160,
      "outputs": [
        {
          "output_type": "stream",
          "text": [
            "/usr/local/lib/python3.6/dist-packages/numpy/core/_asarray.py:83: VisibleDeprecationWarning: Creating an ndarray from ragged nested sequences (which is a list-or-tuple of lists-or-tuples-or ndarrays with different lengths or shapes) is deprecated. If you meant to do this, you must specify 'dtype=object' when creating the ndarray\n",
            "  return array(a, dtype, copy=False, order=order)\n"
          ],
          "name": "stderr"
        },
        {
          "output_type": "display_data",
          "data": {
            "image/png": "[encoded data removed]",
            "text/plain": [
              "<Figure size 432x288 with 1 Axes>"
            ]
          },
          "metadata": {
            "tags": []
          }
        }
      ]
    },
    {
      "cell_type": "markdown",
      "metadata": {
        "id": "U_tWERFvkVCz"
      },
      "source": [
        "# Creating dummy variables\n",
        "\n",
        "Como Andy comentó en el video, scikit-learn no acepta características no numéricas. En el ejercicio anterior, vio que la función 'Región' contiene información muy útil que puede predecir la esperanza de vida. Por ejemplo, el África subsahariana tiene una esperanza de vida menor en comparación con Europa y Asia central. Por lo tanto, si está tratando de predecir la esperanza de vida, sería preferible conservar la función 'Región'. Para hacer esto, necesita binarizarlo creando variables ficticias, que es lo que hará en este ejercicio."
      ]
    },
    {
      "cell_type": "code",
      "metadata": {
        "id": "VzsfzYtRkGiA"
      },
      "source": [
        "# Create dummy variables: df_region\n",
        "df_region = pd.get_dummies(df_p)"
      ],
      "execution_count": 161,
      "outputs": []
    },
    {
      "cell_type": "code",
      "metadata": {
        "id": "_LCa9vdXlPJD",
        "colab": {
          "base_uri": "https://localhost:8080/"
        },
        "outputId": "3be0315f-34d0-4868-95e0-f73ec10fd7ea"
      },
      "source": [
        "# Print the columns of df_region\n",
        "print(df_region.columns)"
      ],
      "execution_count": 162,
      "outputs": [
        {
          "output_type": "stream",
          "text": [
            "Index(['population', 'fertility', 'HIV', 'CO2', 'BMI_male', 'GDP',\n",
            "       'BMI_female', 'life', 'child_mortality', 'Region_America',\n",
            "       'Region_East Asia & Pacific', 'Region_Europe & Central Asia',\n",
            "       'Region_Middle East & North Africa', 'Region_South Asia',\n",
            "       'Region_Sub-Saharan Africa'],\n",
            "      dtype='object')\n"
          ],
          "name": "stdout"
        }
      ]
    },
    {
      "cell_type": "code",
      "metadata": {
        "id": "dXirbJuLlQpe"
      },
      "source": [
        "# Create dummy variables with drop_first=True: df_region\n",
        "df_region = df_region.drop('Region_America',axis=1)\n"
      ],
      "execution_count": 163,
      "outputs": []
    },
    {
      "cell_type": "code",
      "metadata": {
        "id": "BwjThy7olSXw",
        "colab": {
          "base_uri": "https://localhost:8080/"
        },
        "outputId": "04462f23-38a8-49fa-f9a0-f87883b9874f"
      },
      "source": [
        "# Print the new columns of df_region\n",
        "print(df_region.columns)"
      ],
      "execution_count": 164,
      "outputs": [
        {
          "output_type": "stream",
          "text": [
            "Index(['population', 'fertility', 'HIV', 'CO2', 'BMI_male', 'GDP',\n",
            "       'BMI_female', 'life', 'child_mortality', 'Region_East Asia & Pacific',\n",
            "       'Region_Europe & Central Asia', 'Region_Middle East & North Africa',\n",
            "       'Region_South Asia', 'Region_Sub-Saharan Africa'],\n",
            "      dtype='object')\n"
          ],
          "name": "stdout"
        }
      ]
    },
    {
      "cell_type": "code",
      "metadata": {
        "id": "GtUETmEAlbhD",
        "colab": {
          "base_uri": "https://localhost:8080/",
          "height": 258
        },
        "outputId": "fd81c85a-0537-4ea3-c1ae-b06f258a724d"
      },
      "source": [
        "df_region.head()"
      ],
      "execution_count": 165,
      "outputs": [
        {
          "output_type": "execute_result",
          "data": {
            "text/html": [
              "<div>\n",
              "<style scoped>\n",
              "    .dataframe tbody tr th:only-of-type {\n",
              "        vertical-align: middle;\n",
              "    }\n",
              "\n",
              "    .dataframe tbody tr th {\n",
              "        vertical-align: top;\n",
              "    }\n",
              "\n",
              "    .dataframe thead th {\n",
              "        text-align: right;\n",
              "    }\n",
              "</style>\n",
              "<table border=\"1\" class=\"dataframe\">\n",
              "  <thead>\n",
              "    <tr style=\"text-align: right;\">\n",
              "      <th></th>\n",
              "      <th>population</th>\n",
              "      <th>fertility</th>\n",
              "      <th>HIV</th>\n",
              "      <th>CO2</th>\n",
              "      <th>BMI_male</th>\n",
              "      <th>GDP</th>\n",
              "      <th>BMI_female</th>\n",
              "      <th>life</th>\n",
              "      <th>child_mortality</th>\n",
              "      <th>Region_East Asia &amp; Pacific</th>\n",
              "      <th>Region_Europe &amp; Central Asia</th>\n",
              "      <th>Region_Middle East &amp; North Africa</th>\n",
              "      <th>Region_South Asia</th>\n",
              "      <th>Region_Sub-Saharan Africa</th>\n",
              "    </tr>\n",
              "  </thead>\n",
              "  <tbody>\n",
              "    <tr>\n",
              "      <th>0</th>\n",
              "      <td>34811059.0</td>\n",
              "      <td>2.73</td>\n",
              "      <td>0.1</td>\n",
              "      <td>3.328945</td>\n",
              "      <td>24.59620</td>\n",
              "      <td>12314.0</td>\n",
              "      <td>129.9049</td>\n",
              "      <td>75.3</td>\n",
              "      <td>29.5</td>\n",
              "      <td>0</td>\n",
              "      <td>0</td>\n",
              "      <td>1</td>\n",
              "      <td>0</td>\n",
              "      <td>0</td>\n",
              "    </tr>\n",
              "    <tr>\n",
              "      <th>1</th>\n",
              "      <td>19842251.0</td>\n",
              "      <td>6.43</td>\n",
              "      <td>2.0</td>\n",
              "      <td>1.474353</td>\n",
              "      <td>22.25083</td>\n",
              "      <td>7103.0</td>\n",
              "      <td>130.1247</td>\n",
              "      <td>58.3</td>\n",
              "      <td>192.0</td>\n",
              "      <td>0</td>\n",
              "      <td>0</td>\n",
              "      <td>0</td>\n",
              "      <td>0</td>\n",
              "      <td>1</td>\n",
              "    </tr>\n",
              "    <tr>\n",
              "      <th>2</th>\n",
              "      <td>40381860.0</td>\n",
              "      <td>2.24</td>\n",
              "      <td>0.5</td>\n",
              "      <td>4.785170</td>\n",
              "      <td>27.50170</td>\n",
              "      <td>14646.0</td>\n",
              "      <td>118.8915</td>\n",
              "      <td>75.5</td>\n",
              "      <td>15.4</td>\n",
              "      <td>0</td>\n",
              "      <td>0</td>\n",
              "      <td>0</td>\n",
              "      <td>0</td>\n",
              "      <td>0</td>\n",
              "    </tr>\n",
              "    <tr>\n",
              "      <th>3</th>\n",
              "      <td>2975029.0</td>\n",
              "      <td>1.40</td>\n",
              "      <td>0.1</td>\n",
              "      <td>1.804106</td>\n",
              "      <td>25.35542</td>\n",
              "      <td>7383.0</td>\n",
              "      <td>132.8108</td>\n",
              "      <td>72.5</td>\n",
              "      <td>20.0</td>\n",
              "      <td>0</td>\n",
              "      <td>1</td>\n",
              "      <td>0</td>\n",
              "      <td>0</td>\n",
              "      <td>0</td>\n",
              "    </tr>\n",
              "    <tr>\n",
              "      <th>4</th>\n",
              "      <td>21370348.0</td>\n",
              "      <td>1.96</td>\n",
              "      <td>0.1</td>\n",
              "      <td>18.016313</td>\n",
              "      <td>27.56373</td>\n",
              "      <td>41312.0</td>\n",
              "      <td>117.3755</td>\n",
              "      <td>81.5</td>\n",
              "      <td>5.2</td>\n",
              "      <td>1</td>\n",
              "      <td>0</td>\n",
              "      <td>0</td>\n",
              "      <td>0</td>\n",
              "      <td>0</td>\n",
              "    </tr>\n",
              "  </tbody>\n",
              "</table>\n",
              "</div>"
            ],
            "text/plain": [
              "   population  fertility  ...  Region_South Asia  Region_Sub-Saharan Africa\n",
              "0  34811059.0       2.73  ...                  0                          0\n",
              "1  19842251.0       6.43  ...                  0                          1\n",
              "2  40381860.0       2.24  ...                  0                          0\n",
              "3   2975029.0       1.40  ...                  0                          0\n",
              "4  21370348.0       1.96  ...                  0                          0\n",
              "\n",
              "[5 rows x 14 columns]"
            ]
          },
          "metadata": {
            "tags": []
          },
          "execution_count": 165
        }
      ]
    },
    {
      "cell_type": "markdown",
      "metadata": {
        "id": "vU3pNvy8lZo1"
      },
      "source": [
        "¡Excelente! Ahora que ha creado las variables ficticias, puede utilizar la función 'Región' para predecir la esperanza de vida."
      ]
    },
    {
      "cell_type": "markdown",
      "metadata": {
        "id": "ZfQ9DBM9lvro"
      },
      "source": [
        "# Regression with categorical features\n",
        "\n",
        "Una vez que haya creado las variables ficticias a partir de la función 'Región', puede crear modelos de regresión como lo hizo antes. Aquí, usará la regresión de crestas para realizar una validación cruzada de 5 veces.\n",
        "\n",
        "La matriz de características X y la matriz de variables de destino y se han precargado."
      ]
    },
    {
      "cell_type": "code",
      "metadata": {
        "id": "HPVtKNvdmqCg"
      },
      "source": [
        "X = df_region.drop('life',axis=1)\n",
        "y = df_region['life']"
      ],
      "execution_count": 166,
      "outputs": []
    },
    {
      "cell_type": "code",
      "metadata": {
        "id": "eHWAPHRmlUN5"
      },
      "source": [
        "# Import necessary modules\n",
        "from sklearn.linear_model import Ridge\n",
        "from sklearn.model_selection import cross_val_score"
      ],
      "execution_count": 167,
      "outputs": []
    },
    {
      "cell_type": "code",
      "metadata": {
        "id": "tm9DeZaVmgsO"
      },
      "source": [
        "# Instantiate a ridge regressor: ridge\n",
        "ridge = Ridge(alpha=0.5, normalize=True)"
      ],
      "execution_count": 168,
      "outputs": []
    },
    {
      "cell_type": "code",
      "metadata": {
        "id": "O9CxXuVDmiYq"
      },
      "source": [
        "# Perform 5-fold cross-validation: ridge_cv\n",
        "ridge_cv = cross_val_score(ridge,X,y,cv=5)"
      ],
      "execution_count": 169,
      "outputs": []
    },
    {
      "cell_type": "code",
      "metadata": {
        "id": "10sGJli-mkH3",
        "colab": {
          "base_uri": "https://localhost:8080/"
        },
        "outputId": "9b2e89d2-92cb-4794-aacf-86e8e8334402"
      },
      "source": [
        "# Print the cross-validated scores\n",
        "print(ridge_cv)"
      ],
      "execution_count": 170,
      "outputs": [
        {
          "output_type": "stream",
          "text": [
            "[0.86808336 0.80623545 0.84004203 0.7754344  0.87503712]\n"
          ],
          "name": "stdout"
        }
      ]
    },
    {
      "cell_type": "markdown",
      "metadata": {
        "id": "auF2qZ30nh0J"
      },
      "source": [
        "¡Excelente! Ahora sabe cómo crear modelos utilizando datos que incluyen características categóricas."
      ]
    },
    {
      "cell_type": "markdown",
      "metadata": {
        "id": "lXyLi8v9owYa"
      },
      "source": [
        "# Handling missing data\n",
        "-----------"
      ]
    },
    {
      "cell_type": "code",
      "metadata": {
        "id": "RbJduUoCmlsR",
        "colab": {
          "base_uri": "https://localhost:8080/",
          "height": 204
        },
        "outputId": "b7f454de-72d1-42b8-ef72-c0acce21d50b"
      },
      "source": [
        "df = pd.read_csv('/content/PIMA_indias.txt', sep='\\t')\n",
        "df.head()"
      ],
      "execution_count": 171,
      "outputs": [
        {
          "output_type": "execute_result",
          "data": {
            "text/html": [
              "<div>\n",
              "<style scoped>\n",
              "    .dataframe tbody tr th:only-of-type {\n",
              "        vertical-align: middle;\n",
              "    }\n",
              "\n",
              "    .dataframe tbody tr th {\n",
              "        vertical-align: top;\n",
              "    }\n",
              "\n",
              "    .dataframe thead th {\n",
              "        text-align: right;\n",
              "    }\n",
              "</style>\n",
              "<table border=\"1\" class=\"dataframe\">\n",
              "  <thead>\n",
              "    <tr style=\"text-align: right;\">\n",
              "      <th></th>\n",
              "      <th>pregnant</th>\n",
              "      <th>glucose</th>\n",
              "      <th>diastolic</th>\n",
              "      <th>triceps</th>\n",
              "      <th>insulin</th>\n",
              "      <th>bmi</th>\n",
              "      <th>family</th>\n",
              "      <th>age</th>\n",
              "      <th>test</th>\n",
              "    </tr>\n",
              "  </thead>\n",
              "  <tbody>\n",
              "    <tr>\n",
              "      <th>0</th>\n",
              "      <td>1</td>\n",
              "      <td>89</td>\n",
              "      <td>66</td>\n",
              "      <td>23</td>\n",
              "      <td>94</td>\n",
              "      <td>28.1</td>\n",
              "      <td>0.167</td>\n",
              "      <td>21</td>\n",
              "      <td>negative</td>\n",
              "    </tr>\n",
              "    <tr>\n",
              "      <th>1</th>\n",
              "      <td>0</td>\n",
              "      <td>137</td>\n",
              "      <td>40</td>\n",
              "      <td>35</td>\n",
              "      <td>168</td>\n",
              "      <td>43.1</td>\n",
              "      <td>2.288</td>\n",
              "      <td>33</td>\n",
              "      <td>positive</td>\n",
              "    </tr>\n",
              "    <tr>\n",
              "      <th>2</th>\n",
              "      <td>3</td>\n",
              "      <td>78</td>\n",
              "      <td>50</td>\n",
              "      <td>32</td>\n",
              "      <td>88</td>\n",
              "      <td>31.0</td>\n",
              "      <td>0.248</td>\n",
              "      <td>26</td>\n",
              "      <td>positive</td>\n",
              "    </tr>\n",
              "    <tr>\n",
              "      <th>3</th>\n",
              "      <td>2</td>\n",
              "      <td>197</td>\n",
              "      <td>70</td>\n",
              "      <td>45</td>\n",
              "      <td>543</td>\n",
              "      <td>30.5</td>\n",
              "      <td>0.158</td>\n",
              "      <td>53</td>\n",
              "      <td>positive</td>\n",
              "    </tr>\n",
              "    <tr>\n",
              "      <th>4</th>\n",
              "      <td>1</td>\n",
              "      <td>189</td>\n",
              "      <td>60</td>\n",
              "      <td>23</td>\n",
              "      <td>846</td>\n",
              "      <td>30.1</td>\n",
              "      <td>0.398</td>\n",
              "      <td>59</td>\n",
              "      <td>positive</td>\n",
              "    </tr>\n",
              "  </tbody>\n",
              "</table>\n",
              "</div>"
            ],
            "text/plain": [
              "   pregnant  glucose  diastolic  triceps  insulin   bmi  family  age      test\n",
              "0         1       89         66       23       94  28.1   0.167   21  negative\n",
              "1         0      137         40       35      168  43.1   2.288   33  positive\n",
              "2         3       78         50       32       88  31.0   0.248   26  positive\n",
              "3         2      197         70       45      543  30.5   0.158   53  positive\n",
              "4         1      189         60       23      846  30.1   0.398   59  positive"
            ]
          },
          "metadata": {
            "tags": []
          },
          "execution_count": 171
        }
      ]
    },
    {
      "cell_type": "code",
      "metadata": {
        "id": "u994GL84pJld",
        "colab": {
          "base_uri": "https://localhost:8080/"
        },
        "outputId": "40ba8767-64c6-451c-a349-0fbef998cce4"
      },
      "source": [
        "df.info()"
      ],
      "execution_count": 172,
      "outputs": [
        {
          "output_type": "stream",
          "text": [
            "<class 'pandas.core.frame.DataFrame'>\n",
            "RangeIndex: 392 entries, 0 to 391\n",
            "Data columns (total 9 columns):\n",
            " #   Column     Non-Null Count  Dtype  \n",
            "---  ------     --------------  -----  \n",
            " 0   pregnant   392 non-null    int64  \n",
            " 1   glucose    392 non-null    int64  \n",
            " 2   diastolic  392 non-null    int64  \n",
            " 3   triceps    392 non-null    int64  \n",
            " 4   insulin    392 non-null    int64  \n",
            " 5   bmi        392 non-null    float64\n",
            " 6   family     392 non-null    float64\n",
            " 7   age        392 non-null    int64  \n",
            " 8   test       392 non-null    object \n",
            "dtypes: float64(2), int64(6), object(1)\n",
            "memory usage: 27.7+ KB\n"
          ],
          "name": "stdout"
        }
      ]
    },
    {
      "cell_type": "code",
      "metadata": {
        "id": "-cpkmkRIpL-V",
        "colab": {
          "base_uri": "https://localhost:8080/",
          "height": 204
        },
        "outputId": "89082dc0-87cb-45ca-f101-45690976b25a"
      },
      "source": [
        "df.head()"
      ],
      "execution_count": 173,
      "outputs": [
        {
          "output_type": "execute_result",
          "data": {
            "text/html": [
              "<div>\n",
              "<style scoped>\n",
              "    .dataframe tbody tr th:only-of-type {\n",
              "        vertical-align: middle;\n",
              "    }\n",
              "\n",
              "    .dataframe tbody tr th {\n",
              "        vertical-align: top;\n",
              "    }\n",
              "\n",
              "    .dataframe thead th {\n",
              "        text-align: right;\n",
              "    }\n",
              "</style>\n",
              "<table border=\"1\" class=\"dataframe\">\n",
              "  <thead>\n",
              "    <tr style=\"text-align: right;\">\n",
              "      <th></th>\n",
              "      <th>pregnant</th>\n",
              "      <th>glucose</th>\n",
              "      <th>diastolic</th>\n",
              "      <th>triceps</th>\n",
              "      <th>insulin</th>\n",
              "      <th>bmi</th>\n",
              "      <th>family</th>\n",
              "      <th>age</th>\n",
              "      <th>test</th>\n",
              "    </tr>\n",
              "  </thead>\n",
              "  <tbody>\n",
              "    <tr>\n",
              "      <th>0</th>\n",
              "      <td>1</td>\n",
              "      <td>89</td>\n",
              "      <td>66</td>\n",
              "      <td>23</td>\n",
              "      <td>94</td>\n",
              "      <td>28.1</td>\n",
              "      <td>0.167</td>\n",
              "      <td>21</td>\n",
              "      <td>negative</td>\n",
              "    </tr>\n",
              "    <tr>\n",
              "      <th>1</th>\n",
              "      <td>0</td>\n",
              "      <td>137</td>\n",
              "      <td>40</td>\n",
              "      <td>35</td>\n",
              "      <td>168</td>\n",
              "      <td>43.1</td>\n",
              "      <td>2.288</td>\n",
              "      <td>33</td>\n",
              "      <td>positive</td>\n",
              "    </tr>\n",
              "    <tr>\n",
              "      <th>2</th>\n",
              "      <td>3</td>\n",
              "      <td>78</td>\n",
              "      <td>50</td>\n",
              "      <td>32</td>\n",
              "      <td>88</td>\n",
              "      <td>31.0</td>\n",
              "      <td>0.248</td>\n",
              "      <td>26</td>\n",
              "      <td>positive</td>\n",
              "    </tr>\n",
              "    <tr>\n",
              "      <th>3</th>\n",
              "      <td>2</td>\n",
              "      <td>197</td>\n",
              "      <td>70</td>\n",
              "      <td>45</td>\n",
              "      <td>543</td>\n",
              "      <td>30.5</td>\n",
              "      <td>0.158</td>\n",
              "      <td>53</td>\n",
              "      <td>positive</td>\n",
              "    </tr>\n",
              "    <tr>\n",
              "      <th>4</th>\n",
              "      <td>1</td>\n",
              "      <td>189</td>\n",
              "      <td>60</td>\n",
              "      <td>23</td>\n",
              "      <td>846</td>\n",
              "      <td>30.1</td>\n",
              "      <td>0.398</td>\n",
              "      <td>59</td>\n",
              "      <td>positive</td>\n",
              "    </tr>\n",
              "  </tbody>\n",
              "</table>\n",
              "</div>"
            ],
            "text/plain": [
              "   pregnant  glucose  diastolic  triceps  insulin   bmi  family  age      test\n",
              "0         1       89         66       23       94  28.1   0.167   21  negative\n",
              "1         0      137         40       35      168  43.1   2.288   33  positive\n",
              "2         3       78         50       32       88  31.0   0.248   26  positive\n",
              "3         2      197         70       45      543  30.5   0.158   53  positive\n",
              "4         1      189         60       23      846  30.1   0.398   59  positive"
            ]
          },
          "metadata": {
            "tags": []
          },
          "execution_count": 173
        }
      ]
    },
    {
      "cell_type": "code",
      "metadata": {
        "id": "kYDQNk6VpP5H",
        "colab": {
          "base_uri": "https://localhost:8080/"
        },
        "outputId": "42a67c62-bc9d-448a-c07e-2100de506ac1"
      },
      "source": [
        "df.insulin.unique()"
      ],
      "execution_count": 174,
      "outputs": [
        {
          "output_type": "execute_result",
          "data": {
            "text/plain": [
              "array([ 94, 168,  88, 543, 846, 175, 230,  83,  96, 235, 146, 115, 140,\n",
              "       110, 245,  54, 192, 207,  70, 240,  82,  36,  23, 300, 342, 304,\n",
              "       142, 128,  38, 100,  90, 270,  71, 125, 176,  48,  64, 228,  76,\n",
              "       220,  40, 152,  18, 135, 495,  37,  51,  99, 145, 225,  49,  50,\n",
              "        92, 325,  63, 284, 119, 204, 155, 485,  53, 114, 105, 285, 156,\n",
              "        78, 130,  55,  58, 160, 210, 318,  44, 190, 280,  87, 271, 129,\n",
              "       120, 478,  56,  32, 744, 370,  45, 194, 680, 402, 258, 375, 150,\n",
              "        67,  57, 116, 278, 122, 545,  75,  74, 182, 360, 215, 184,  42,\n",
              "       132, 148, 180, 205,  85, 231,  29,  68,  52, 255, 171,  73, 108,\n",
              "        43, 167, 249, 293,  66, 465, 158,  84,  72,  59,  81, 196, 415,\n",
              "       275, 165, 579, 310,  61, 474, 170, 277,  60,  14,  95, 237, 191,\n",
              "       328, 250, 480, 265, 193,  79,  86, 326, 188, 106,  65, 166, 274,\n",
              "        77, 126, 330, 600, 185,  25,  41, 272, 321, 144,  15, 183,  91,\n",
              "        46, 440, 159, 540, 200, 335, 387,  22, 291, 392, 178, 127, 510,\n",
              "        16, 112])"
            ]
          },
          "metadata": {
            "tags": []
          },
          "execution_count": 174
        }
      ]
    },
    {
      "cell_type": "markdown",
      "metadata": {
        "id": "SqVvvDB9phpI"
      },
      "source": [
        "## DROPPING MISSING DATA"
      ]
    },
    {
      "cell_type": "code",
      "metadata": {
        "id": "_fsM6TyApXkh"
      },
      "source": [
        "#df.insulin.replace(0,np.nan, inplace=True)\n",
        "#df.triceps.replace(0,np.nan, inplace=True)\n",
        "#df.bmi.replace(0,np.nan, inplace=True)\n",
        "\n",
        "#df= df.dropna()\n"
      ],
      "execution_count": 175,
      "outputs": []
    },
    {
      "cell_type": "code",
      "metadata": {
        "id": "1PiNNrncp5md"
      },
      "source": [
        "## IMPUTING MISSING DATA\n",
        "from sklearn.impute import SimpleImputer\n",
        "\n",
        "#SimpleImputer(missing_values='NaN', strategy='mean',axis=0)"
      ],
      "execution_count": 176,
      "outputs": []
    },
    {
      "cell_type": "markdown",
      "metadata": {
        "id": "4cC0dDT_rNlS"
      },
      "source": [
        "# Dropping missing data\n",
        "\n",
        "\n",
        "El conjunto de datos de votación del Capítulo 1 contenía un montón de valores faltantes que tratamos detrás de escena. ¡Ahora es el momento de que te encargues de esto tú mismo!\n",
        "\n",
        "El conjunto de datos sin procesar se cargó en un DataFrame df. Explórelo en IPython Shell con el método .head (). Verá que hay ciertos puntos de datos etiquetados con un '?'. Estos denotan valores perdidos. Como vio en el video, diferentes conjuntos de datos codifican los valores faltantes de diferentes maneras. A veces puede ser un '9999', otras veces un 0: ¡los datos del mundo real pueden ser muy confusos! Si tiene suerte, los valores faltantes ya estarán codificados como NaN. Usamos NaN porque es una forma eficiente y simplificada de representar internamente los datos faltantes, y nos permite aprovechar los métodos pandas como .dropna () y .fillna (), así como el transformador de imputación Imputer () de scikit-learn.\n",
        "\n",
        "En este ejercicio, su trabajo consiste en convertir los '?' En NaN y luego eliminar las filas que los contienen del DataFrame.\n",
        "T\n"
      ]
    },
    {
      "cell_type": "code",
      "metadata": {
        "id": "gS3lr4_TqdXJ",
        "colab": {
          "base_uri": "https://localhost:8080/",
          "height": 224
        },
        "outputId": "1bfb0154-bfee-497d-a514-1615c7527a07"
      },
      "source": [
        "df.head()"
      ],
      "execution_count": 179,
      "outputs": [
        {
          "output_type": "execute_result",
          "data": {
            "text/html": [
              "<div>\n",
              "<style scoped>\n",
              "    .dataframe tbody tr th:only-of-type {\n",
              "        vertical-align: middle;\n",
              "    }\n",
              "\n",
              "    .dataframe tbody tr th {\n",
              "        vertical-align: top;\n",
              "    }\n",
              "\n",
              "    .dataframe thead th {\n",
              "        text-align: right;\n",
              "    }\n",
              "</style>\n",
              "<table border=\"1\" class=\"dataframe\">\n",
              "  <thead>\n",
              "    <tr style=\"text-align: right;\">\n",
              "      <th></th>\n",
              "      <th>party</th>\n",
              "      <th>infants</th>\n",
              "      <th>water</th>\n",
              "      <th>budget</th>\n",
              "      <th>physician</th>\n",
              "      <th>salvador</th>\n",
              "      <th>religious</th>\n",
              "      <th>satellite</th>\n",
              "      <th>aid</th>\n",
              "      <th>missile</th>\n",
              "      <th>immigration</th>\n",
              "      <th>synfuels</th>\n",
              "      <th>education</th>\n",
              "      <th>superfund</th>\n",
              "      <th>crime</th>\n",
              "      <th>duty_free_exports</th>\n",
              "      <th>eaa_rsa</th>\n",
              "    </tr>\n",
              "  </thead>\n",
              "  <tbody>\n",
              "    <tr>\n",
              "      <th>0</th>\n",
              "      <td>republican</td>\n",
              "      <td>0</td>\n",
              "      <td>1</td>\n",
              "      <td>0</td>\n",
              "      <td>1</td>\n",
              "      <td>1</td>\n",
              "      <td>1</td>\n",
              "      <td>0</td>\n",
              "      <td>0</td>\n",
              "      <td>0</td>\n",
              "      <td>1</td>\n",
              "      <td>0</td>\n",
              "      <td>1</td>\n",
              "      <td>1</td>\n",
              "      <td>1</td>\n",
              "      <td>0</td>\n",
              "      <td>1</td>\n",
              "    </tr>\n",
              "    <tr>\n",
              "      <th>1</th>\n",
              "      <td>republican</td>\n",
              "      <td>0</td>\n",
              "      <td>1</td>\n",
              "      <td>0</td>\n",
              "      <td>1</td>\n",
              "      <td>1</td>\n",
              "      <td>1</td>\n",
              "      <td>0</td>\n",
              "      <td>0</td>\n",
              "      <td>0</td>\n",
              "      <td>0</td>\n",
              "      <td>0</td>\n",
              "      <td>1</td>\n",
              "      <td>1</td>\n",
              "      <td>1</td>\n",
              "      <td>0</td>\n",
              "      <td>0</td>\n",
              "    </tr>\n",
              "    <tr>\n",
              "      <th>2</th>\n",
              "      <td>democrat</td>\n",
              "      <td>0</td>\n",
              "      <td>1</td>\n",
              "      <td>1</td>\n",
              "      <td>0</td>\n",
              "      <td>1</td>\n",
              "      <td>1</td>\n",
              "      <td>0</td>\n",
              "      <td>0</td>\n",
              "      <td>0</td>\n",
              "      <td>0</td>\n",
              "      <td>1</td>\n",
              "      <td>0</td>\n",
              "      <td>1</td>\n",
              "      <td>1</td>\n",
              "      <td>0</td>\n",
              "      <td>0</td>\n",
              "    </tr>\n",
              "    <tr>\n",
              "      <th>3</th>\n",
              "      <td>democrat</td>\n",
              "      <td>0</td>\n",
              "      <td>1</td>\n",
              "      <td>1</td>\n",
              "      <td>0</td>\n",
              "      <td>0</td>\n",
              "      <td>1</td>\n",
              "      <td>0</td>\n",
              "      <td>0</td>\n",
              "      <td>0</td>\n",
              "      <td>0</td>\n",
              "      <td>1</td>\n",
              "      <td>0</td>\n",
              "      <td>1</td>\n",
              "      <td>0</td>\n",
              "      <td>0</td>\n",
              "      <td>1</td>\n",
              "    </tr>\n",
              "    <tr>\n",
              "      <th>4</th>\n",
              "      <td>democrat</td>\n",
              "      <td>1</td>\n",
              "      <td>1</td>\n",
              "      <td>1</td>\n",
              "      <td>0</td>\n",
              "      <td>1</td>\n",
              "      <td>1</td>\n",
              "      <td>0</td>\n",
              "      <td>0</td>\n",
              "      <td>0</td>\n",
              "      <td>0</td>\n",
              "      <td>1</td>\n",
              "      <td>0</td>\n",
              "      <td>1</td>\n",
              "      <td>1</td>\n",
              "      <td>1</td>\n",
              "      <td>1</td>\n",
              "    </tr>\n",
              "  </tbody>\n",
              "</table>\n",
              "</div>"
            ],
            "text/plain": [
              "        party  infants  water  ...  crime  duty_free_exports  eaa_rsa\n",
              "0  republican        0      1  ...      1                  0        1\n",
              "1  republican        0      1  ...      1                  0        0\n",
              "2    democrat        0      1  ...      1                  0        0\n",
              "3    democrat        0      1  ...      0                  0        1\n",
              "4    democrat        1      1  ...      1                  1        1\n",
              "\n",
              "[5 rows x 17 columns]"
            ]
          },
          "metadata": {
            "tags": []
          },
          "execution_count": 179
        }
      ]
    },
    {
      "cell_type": "code",
      "metadata": {
        "id": "N7h2Ww3QrdJw",
        "colab": {
          "base_uri": "https://localhost:8080/"
        },
        "outputId": "aaa6f20a-d3b6-4605-9f75-ea5d3ad44b58"
      },
      "source": [
        "# Convert '?' to NaN\n",
        "df[df == '?'] = np.nan\n",
        "\n",
        "# Print the number of NaNs\n",
        "print(df.isnull().sum())"
      ],
      "execution_count": 180,
      "outputs": [
        {
          "output_type": "stream",
          "text": [
            "party                0\n",
            "infants              0\n",
            "water                0\n",
            "budget               0\n",
            "physician            0\n",
            "salvador             0\n",
            "religious            0\n",
            "satellite            0\n",
            "aid                  0\n",
            "missile              0\n",
            "immigration          0\n",
            "synfuels             0\n",
            "education            0\n",
            "superfund            0\n",
            "crime                0\n",
            "duty_free_exports    0\n",
            "eaa_rsa              0\n",
            "dtype: int64\n"
          ],
          "name": "stdout"
        }
      ]
    },
    {
      "cell_type": "code",
      "metadata": {
        "id": "fXsIO4pcsK9y",
        "colab": {
          "base_uri": "https://localhost:8080/"
        },
        "outputId": "bf43b339-6cb5-447c-b5f8-890a1671055b"
      },
      "source": [
        "# Print shape of original DataFrame\n",
        "print(\"Shape of Original DataFrame: {}\".format(df.shape))"
      ],
      "execution_count": 181,
      "outputs": [
        {
          "output_type": "stream",
          "text": [
            "Shape of Original DataFrame: (435, 17)\n"
          ],
          "name": "stdout"
        }
      ]
    },
    {
      "cell_type": "code",
      "metadata": {
        "id": "6ccmitqLsPkJ",
        "colab": {
          "base_uri": "https://localhost:8080/"
        },
        "outputId": "57c67af8-2f99-42c6-edf0-483d4d630cbc"
      },
      "source": [
        "# Drop missing values and print shape of new DataFrame\n",
        "df = df.dropna()\n",
        "\n",
        "# Print shape of new DataFrame\n",
        "print(\"Shape of DataFrame After Dropping All Rows with Missing Values: {}\".format(df.shape))"
      ],
      "execution_count": 182,
      "outputs": [
        {
          "output_type": "stream",
          "text": [
            "Shape of DataFrame After Dropping All Rows with Missing Values: (435, 17)\n"
          ],
          "name": "stdout"
        }
      ]
    },
    {
      "cell_type": "markdown",
      "metadata": {
        "id": "GWbTwiF4sfvF"
      },
      "source": [
        "¡Buen trabajo! Cuando faltan muchos valores en su conjunto de datos, si los elimina, puede terminar desperdiciando información valiosa junto con los datos faltantes. En cambio, es mejor desarrollar una estrategia de imputación. Aquí es donde el conocimiento del dominio es útil, pero en ausencia de él, puede imputar los valores faltantes con la media o la mediana de la fila o columna en la que se encuentra el valor perdido."
      ]
    },
    {
      "cell_type": "markdown",
      "metadata": {
        "id": "cNJr42yIyojo"
      },
      "source": [
        "# Imputing missing data in a ML Pipeline I\n",
        "\n",
        "Como ha aprendido, hay muchos pasos para construir un modelo, desde crear conjuntos de entrenamiento y prueba, hasta ajustar un clasificador o regresor, ajustar sus parámetros y evaluar su rendimiento en nuevos datos. La imputación puede verse como el primer paso de este proceso de aprendizaje automático, la totalidad del cual puede verse dentro del contexto de una canalización. Scikit-learn proporciona un constructor de canalizaciones que le permite juntar estos pasos en un solo proceso y así simplificar su flujo de trabajo.\n",
        "\n",
        "Ahora practicarás la configuración de una canalización con dos pasos: el paso de imputación, seguido de la instanciación de un clasificador. Hasta ahora, ha visto tres clasificadores en este curso: k-NN, regresión logística y el árbol de decisiones. Ahora se le presentará una cuarta: la máquina de vectores de soporte, o SVM. Por ahora, no se preocupe por cómo funciona bajo el capó. Funciona exactamente como cabría esperar de los estimadores scikit-learn con los que ha trabajado anteriormente, ya que tiene los mismos métodos .fit () y .predict () que antes."
      ]
    },
    {
      "cell_type": "code",
      "metadata": {
        "id": "NabLgI9jsSxV"
      },
      "source": [
        "# Import the Imputer module\n",
        "from sklearn.impute import SimpleImputer\n",
        "from sklearn.svm import SVC"
      ],
      "execution_count": 183,
      "outputs": []
    },
    {
      "cell_type": "code",
      "metadata": {
        "id": "l3P41F771FZK",
        "colab": {
          "base_uri": "https://localhost:8080/"
        },
        "outputId": "2c21d8a1-1179-46dc-dda7-b63fcdab8664"
      },
      "source": [
        "SimpleImputer()"
      ],
      "execution_count": 184,
      "outputs": [
        {
          "output_type": "execute_result",
          "data": {
            "text/plain": [
              "SimpleImputer(add_indicator=False, copy=True, fill_value=None,\n",
              "              missing_values=nan, strategy='mean', verbose=0)"
            ]
          },
          "metadata": {
            "tags": []
          },
          "execution_count": 184
        }
      ]
    },
    {
      "cell_type": "code",
      "metadata": {
        "id": "_znRYLvU0eQB"
      },
      "source": [
        "# Setup the Imputation transformer: imp\n",
        "imp = SimpleImputer(missing_values='NaN', strategy='most_frequent')"
      ],
      "execution_count": 185,
      "outputs": []
    },
    {
      "cell_type": "code",
      "metadata": {
        "id": "lZxBSfvG0xkv"
      },
      "source": [
        "# Instantiate the SVC classifier: clf\n",
        "clf = SVC()"
      ],
      "execution_count": 186,
      "outputs": []
    },
    {
      "cell_type": "code",
      "metadata": {
        "id": "WyJR-ljO03aB"
      },
      "source": [
        "# Setup the pipeline with the required steps: steps\n",
        "steps = [('imputation', imp),\n",
        "        ('SVM', clf)]"
      ],
      "execution_count": 187,
      "outputs": []
    },
    {
      "cell_type": "markdown",
      "metadata": {
        "id": "FSMp1E8r09VE"
      },
      "source": [
        "Fantastic! Having set up the pipeline steps, you can now use it for classification."
      ]
    },
    {
      "cell_type": "markdown",
      "metadata": {
        "id": "y_iBWbdW1UoZ"
      },
      "source": [
        "# Imputing missing data in a ML Pipeline II\n",
        "\n",
        "\n",
        "Una vez que haya configurado los pasos de la canalización en el ejercicio anterior, ahora lo usará en el conjunto de datos de votación para clasificar la afiliación al partido de un congresista. Lo que hace que las canalizaciones sean tan increíblemente útiles es la interfaz simple que proporcionan. ¡Puede usar los métodos .fit () y .predict () en las canalizaciones tal como lo hizo con sus clasificadores y regresores!\n",
        "\n",
        "Practique esto por sí mismo ahora y genere un informe de clasificación de sus predicciones. Los pasos de la canalización se han configurado para usted, y la matriz de características X y la matriz de variables de destino y se han precargado. Además, train_test_split y class_report se han importado de sklearn.model_selection y sklearn.metrics respectivamente."
      ]
    },
    {
      "cell_type": "code",
      "metadata": {
        "id": "n_P3cZdu7M6d",
        "colab": {
          "base_uri": "https://localhost:8080/",
          "height": 224
        },
        "outputId": "169a0e4f-1863-41e4-ead9-95d722b1aa3a"
      },
      "source": [
        "df.head()"
      ],
      "execution_count": 188,
      "outputs": [
        {
          "output_type": "execute_result",
          "data": {
            "text/html": [
              "<div>\n",
              "<style scoped>\n",
              "    .dataframe tbody tr th:only-of-type {\n",
              "        vertical-align: middle;\n",
              "    }\n",
              "\n",
              "    .dataframe tbody tr th {\n",
              "        vertical-align: top;\n",
              "    }\n",
              "\n",
              "    .dataframe thead th {\n",
              "        text-align: right;\n",
              "    }\n",
              "</style>\n",
              "<table border=\"1\" class=\"dataframe\">\n",
              "  <thead>\n",
              "    <tr style=\"text-align: right;\">\n",
              "      <th></th>\n",
              "      <th>party</th>\n",
              "      <th>infants</th>\n",
              "      <th>water</th>\n",
              "      <th>budget</th>\n",
              "      <th>physician</th>\n",
              "      <th>salvador</th>\n",
              "      <th>religious</th>\n",
              "      <th>satellite</th>\n",
              "      <th>aid</th>\n",
              "      <th>missile</th>\n",
              "      <th>immigration</th>\n",
              "      <th>synfuels</th>\n",
              "      <th>education</th>\n",
              "      <th>superfund</th>\n",
              "      <th>crime</th>\n",
              "      <th>duty_free_exports</th>\n",
              "      <th>eaa_rsa</th>\n",
              "    </tr>\n",
              "  </thead>\n",
              "  <tbody>\n",
              "    <tr>\n",
              "      <th>0</th>\n",
              "      <td>republican</td>\n",
              "      <td>0</td>\n",
              "      <td>1</td>\n",
              "      <td>0</td>\n",
              "      <td>1</td>\n",
              "      <td>1</td>\n",
              "      <td>1</td>\n",
              "      <td>0</td>\n",
              "      <td>0</td>\n",
              "      <td>0</td>\n",
              "      <td>1</td>\n",
              "      <td>0</td>\n",
              "      <td>1</td>\n",
              "      <td>1</td>\n",
              "      <td>1</td>\n",
              "      <td>0</td>\n",
              "      <td>1</td>\n",
              "    </tr>\n",
              "    <tr>\n",
              "      <th>1</th>\n",
              "      <td>republican</td>\n",
              "      <td>0</td>\n",
              "      <td>1</td>\n",
              "      <td>0</td>\n",
              "      <td>1</td>\n",
              "      <td>1</td>\n",
              "      <td>1</td>\n",
              "      <td>0</td>\n",
              "      <td>0</td>\n",
              "      <td>0</td>\n",
              "      <td>0</td>\n",
              "      <td>0</td>\n",
              "      <td>1</td>\n",
              "      <td>1</td>\n",
              "      <td>1</td>\n",
              "      <td>0</td>\n",
              "      <td>0</td>\n",
              "    </tr>\n",
              "    <tr>\n",
              "      <th>2</th>\n",
              "      <td>democrat</td>\n",
              "      <td>0</td>\n",
              "      <td>1</td>\n",
              "      <td>1</td>\n",
              "      <td>0</td>\n",
              "      <td>1</td>\n",
              "      <td>1</td>\n",
              "      <td>0</td>\n",
              "      <td>0</td>\n",
              "      <td>0</td>\n",
              "      <td>0</td>\n",
              "      <td>1</td>\n",
              "      <td>0</td>\n",
              "      <td>1</td>\n",
              "      <td>1</td>\n",
              "      <td>0</td>\n",
              "      <td>0</td>\n",
              "    </tr>\n",
              "    <tr>\n",
              "      <th>3</th>\n",
              "      <td>democrat</td>\n",
              "      <td>0</td>\n",
              "      <td>1</td>\n",
              "      <td>1</td>\n",
              "      <td>0</td>\n",
              "      <td>0</td>\n",
              "      <td>1</td>\n",
              "      <td>0</td>\n",
              "      <td>0</td>\n",
              "      <td>0</td>\n",
              "      <td>0</td>\n",
              "      <td>1</td>\n",
              "      <td>0</td>\n",
              "      <td>1</td>\n",
              "      <td>0</td>\n",
              "      <td>0</td>\n",
              "      <td>1</td>\n",
              "    </tr>\n",
              "    <tr>\n",
              "      <th>4</th>\n",
              "      <td>democrat</td>\n",
              "      <td>1</td>\n",
              "      <td>1</td>\n",
              "      <td>1</td>\n",
              "      <td>0</td>\n",
              "      <td>1</td>\n",
              "      <td>1</td>\n",
              "      <td>0</td>\n",
              "      <td>0</td>\n",
              "      <td>0</td>\n",
              "      <td>0</td>\n",
              "      <td>1</td>\n",
              "      <td>0</td>\n",
              "      <td>1</td>\n",
              "      <td>1</td>\n",
              "      <td>1</td>\n",
              "      <td>1</td>\n",
              "    </tr>\n",
              "  </tbody>\n",
              "</table>\n",
              "</div>"
            ],
            "text/plain": [
              "        party  infants  water  ...  crime  duty_free_exports  eaa_rsa\n",
              "0  republican        0      1  ...      1                  0        1\n",
              "1  republican        0      1  ...      1                  0        0\n",
              "2    democrat        0      1  ...      1                  0        0\n",
              "3    democrat        0      1  ...      0                  0        1\n",
              "4    democrat        1      1  ...      1                  1        1\n",
              "\n",
              "[5 rows x 17 columns]"
            ]
          },
          "metadata": {
            "tags": []
          },
          "execution_count": 188
        }
      ]
    },
    {
      "cell_type": "code",
      "metadata": {
        "id": "WOfGqLmi7RBg"
      },
      "source": [
        "X = df.drop('party', axis='columns')\n",
        "y = df['party']"
      ],
      "execution_count": 189,
      "outputs": []
    },
    {
      "cell_type": "code",
      "metadata": {
        "id": "8NaPMPH705tz"
      },
      "source": [
        "# Import necessary modules\n",
        "from sklearn.impute import SimpleImputer\n",
        "from sklearn.pipeline import Pipeline\n",
        "from sklearn.svm import SVC"
      ],
      "execution_count": 190,
      "outputs": []
    },
    {
      "cell_type": "code",
      "metadata": {
        "id": "xxnAYw722tq-"
      },
      "source": [
        "# Setup the pipeline steps: steps\n",
        "steps = [('imputation', SimpleImputer(missing_values='NaN', strategy='most_frequent')),\n",
        "        ('SVM', SVC())]"
      ],
      "execution_count": 191,
      "outputs": []
    },
    {
      "cell_type": "code",
      "metadata": {
        "id": "upBaObSs25mg"
      },
      "source": [
        "# Create the pipeline: pipeline\n",
        "pipeline = Pipeline(steps)"
      ],
      "execution_count": 192,
      "outputs": []
    },
    {
      "cell_type": "code",
      "metadata": {
        "id": "zypeL83C27qw"
      },
      "source": [
        "# Create training and test sets\n",
        "X_train, X_test, y_train, y_test = train_test_split(X,y,test_size=0.30,\n",
        "random_state=42)"
      ],
      "execution_count": 193,
      "outputs": []
    },
    {
      "cell_type": "code",
      "metadata": {
        "id": "igQ7O-Hq29-g",
        "colab": {
          "base_uri": "https://localhost:8080/",
          "height": 374
        },
        "outputId": "c1f04de4-3150-4091-e9a7-7fdec6686096"
      },
      "source": [
        "# Fit the pipeline to the train set\n",
        "pipeline.fit(X_train,y_train)\n",
        "\n",
        "# Predict the labels of the test set\n",
        "y_pred = pipeline.predict(X_test)"
      ],
      "execution_count": 194,
      "outputs": [
        {
          "output_type": "error",
          "ename": "ValueError",
          "evalue": "ignored",
          "traceback": [
            "\u001b[0;31m---------------------------------------------------------------------------\u001b[0m",
            "\u001b[0;31mValueError\u001b[0m                                Traceback (most recent call last)",
            "\u001b[0;32m<ipython-input-194-0da3b1f1e333>\u001b[0m in \u001b[0;36m<module>\u001b[0;34m()\u001b[0m\n\u001b[1;32m      1\u001b[0m \u001b[0;31m# Fit the pipeline to the train set\u001b[0m\u001b[0;34m\u001b[0m\u001b[0;34m\u001b[0m\u001b[0;34m\u001b[0m\u001b[0m\n\u001b[0;32m----> 2\u001b[0;31m \u001b[0mpipeline\u001b[0m\u001b[0;34m.\u001b[0m\u001b[0mfit\u001b[0m\u001b[0;34m(\u001b[0m\u001b[0mX_train\u001b[0m\u001b[0;34m,\u001b[0m\u001b[0my_train\u001b[0m\u001b[0;34m)\u001b[0m\u001b[0;34m\u001b[0m\u001b[0;34m\u001b[0m\u001b[0m\n\u001b[0m\u001b[1;32m      3\u001b[0m \u001b[0;34m\u001b[0m\u001b[0m\n\u001b[1;32m      4\u001b[0m \u001b[0;31m# Predict the labels of the test set\u001b[0m\u001b[0;34m\u001b[0m\u001b[0;34m\u001b[0m\u001b[0;34m\u001b[0m\u001b[0m\n\u001b[1;32m      5\u001b[0m \u001b[0my_pred\u001b[0m \u001b[0;34m=\u001b[0m \u001b[0mpipeline\u001b[0m\u001b[0;34m.\u001b[0m\u001b[0mpredict\u001b[0m\u001b[0;34m(\u001b[0m\u001b[0mX_test\u001b[0m\u001b[0;34m)\u001b[0m\u001b[0;34m\u001b[0m\u001b[0;34m\u001b[0m\u001b[0m\n",
            "\u001b[0;32m/usr/local/lib/python3.6/dist-packages/sklearn/pipeline.py\u001b[0m in \u001b[0;36mfit\u001b[0;34m(self, X, y, **fit_params)\u001b[0m\n\u001b[1;32m    348\u001b[0m             \u001b[0mThis\u001b[0m \u001b[0mestimator\u001b[0m\u001b[0;34m\u001b[0m\u001b[0;34m\u001b[0m\u001b[0m\n\u001b[1;32m    349\u001b[0m         \"\"\"\n\u001b[0;32m--> 350\u001b[0;31m         \u001b[0mXt\u001b[0m\u001b[0;34m,\u001b[0m \u001b[0mfit_params\u001b[0m \u001b[0;34m=\u001b[0m \u001b[0mself\u001b[0m\u001b[0;34m.\u001b[0m\u001b[0m_fit\u001b[0m\u001b[0;34m(\u001b[0m\u001b[0mX\u001b[0m\u001b[0;34m,\u001b[0m \u001b[0my\u001b[0m\u001b[0;34m,\u001b[0m \u001b[0;34m**\u001b[0m\u001b[0mfit_params\u001b[0m\u001b[0;34m)\u001b[0m\u001b[0;34m\u001b[0m\u001b[0;34m\u001b[0m\u001b[0m\n\u001b[0m\u001b[1;32m    351\u001b[0m         with _print_elapsed_time('Pipeline',\n\u001b[1;32m    352\u001b[0m                                  self._log_message(len(self.steps) - 1)):\n",
            "\u001b[0;32m/usr/local/lib/python3.6/dist-packages/sklearn/pipeline.py\u001b[0m in \u001b[0;36m_fit\u001b[0;34m(self, X, y, **fit_params)\u001b[0m\n\u001b[1;32m    313\u001b[0m                 \u001b[0mmessage_clsname\u001b[0m\u001b[0;34m=\u001b[0m\u001b[0;34m'Pipeline'\u001b[0m\u001b[0;34m,\u001b[0m\u001b[0;34m\u001b[0m\u001b[0;34m\u001b[0m\u001b[0m\n\u001b[1;32m    314\u001b[0m                 \u001b[0mmessage\u001b[0m\u001b[0;34m=\u001b[0m\u001b[0mself\u001b[0m\u001b[0;34m.\u001b[0m\u001b[0m_log_message\u001b[0m\u001b[0;34m(\u001b[0m\u001b[0mstep_idx\u001b[0m\u001b[0;34m)\u001b[0m\u001b[0;34m,\u001b[0m\u001b[0;34m\u001b[0m\u001b[0;34m\u001b[0m\u001b[0m\n\u001b[0;32m--> 315\u001b[0;31m                 **fit_params_steps[name])\n\u001b[0m\u001b[1;32m    316\u001b[0m             \u001b[0;31m# Replace the transformer of the step with the fitted\u001b[0m\u001b[0;34m\u001b[0m\u001b[0;34m\u001b[0m\u001b[0;34m\u001b[0m\u001b[0m\n\u001b[1;32m    317\u001b[0m             \u001b[0;31m# transformer. This is necessary when loading the transformer\u001b[0m\u001b[0;34m\u001b[0m\u001b[0;34m\u001b[0m\u001b[0;34m\u001b[0m\u001b[0m\n",
            "\u001b[0;32m/usr/local/lib/python3.6/dist-packages/joblib/memory.py\u001b[0m in \u001b[0;36m__call__\u001b[0;34m(self, *args, **kwargs)\u001b[0m\n\u001b[1;32m    350\u001b[0m \u001b[0;34m\u001b[0m\u001b[0m\n\u001b[1;32m    351\u001b[0m     \u001b[0;32mdef\u001b[0m \u001b[0m__call__\u001b[0m\u001b[0;34m(\u001b[0m\u001b[0mself\u001b[0m\u001b[0;34m,\u001b[0m \u001b[0;34m*\u001b[0m\u001b[0margs\u001b[0m\u001b[0;34m,\u001b[0m \u001b[0;34m**\u001b[0m\u001b[0mkwargs\u001b[0m\u001b[0;34m)\u001b[0m\u001b[0;34m:\u001b[0m\u001b[0;34m\u001b[0m\u001b[0;34m\u001b[0m\u001b[0m\n\u001b[0;32m--> 352\u001b[0;31m         \u001b[0;32mreturn\u001b[0m \u001b[0mself\u001b[0m\u001b[0;34m.\u001b[0m\u001b[0mfunc\u001b[0m\u001b[0;34m(\u001b[0m\u001b[0;34m*\u001b[0m\u001b[0margs\u001b[0m\u001b[0;34m,\u001b[0m \u001b[0;34m**\u001b[0m\u001b[0mkwargs\u001b[0m\u001b[0;34m)\u001b[0m\u001b[0;34m\u001b[0m\u001b[0;34m\u001b[0m\u001b[0m\n\u001b[0m\u001b[1;32m    353\u001b[0m \u001b[0;34m\u001b[0m\u001b[0m\n\u001b[1;32m    354\u001b[0m     \u001b[0;32mdef\u001b[0m \u001b[0mcall_and_shelve\u001b[0m\u001b[0;34m(\u001b[0m\u001b[0mself\u001b[0m\u001b[0;34m,\u001b[0m \u001b[0;34m*\u001b[0m\u001b[0margs\u001b[0m\u001b[0;34m,\u001b[0m \u001b[0;34m**\u001b[0m\u001b[0mkwargs\u001b[0m\u001b[0;34m)\u001b[0m\u001b[0;34m:\u001b[0m\u001b[0;34m\u001b[0m\u001b[0;34m\u001b[0m\u001b[0m\n",
            "\u001b[0;32m/usr/local/lib/python3.6/dist-packages/sklearn/pipeline.py\u001b[0m in \u001b[0;36m_fit_transform_one\u001b[0;34m(transformer, X, y, weight, message_clsname, message, **fit_params)\u001b[0m\n\u001b[1;32m    726\u001b[0m     \u001b[0;32mwith\u001b[0m \u001b[0m_print_elapsed_time\u001b[0m\u001b[0;34m(\u001b[0m\u001b[0mmessage_clsname\u001b[0m\u001b[0;34m,\u001b[0m \u001b[0mmessage\u001b[0m\u001b[0;34m)\u001b[0m\u001b[0;34m:\u001b[0m\u001b[0;34m\u001b[0m\u001b[0;34m\u001b[0m\u001b[0m\n\u001b[1;32m    727\u001b[0m         \u001b[0;32mif\u001b[0m \u001b[0mhasattr\u001b[0m\u001b[0;34m(\u001b[0m\u001b[0mtransformer\u001b[0m\u001b[0;34m,\u001b[0m \u001b[0;34m'fit_transform'\u001b[0m\u001b[0;34m)\u001b[0m\u001b[0;34m:\u001b[0m\u001b[0;34m\u001b[0m\u001b[0;34m\u001b[0m\u001b[0m\n\u001b[0;32m--> 728\u001b[0;31m             \u001b[0mres\u001b[0m \u001b[0;34m=\u001b[0m \u001b[0mtransformer\u001b[0m\u001b[0;34m.\u001b[0m\u001b[0mfit_transform\u001b[0m\u001b[0;34m(\u001b[0m\u001b[0mX\u001b[0m\u001b[0;34m,\u001b[0m \u001b[0my\u001b[0m\u001b[0;34m,\u001b[0m \u001b[0;34m**\u001b[0m\u001b[0mfit_params\u001b[0m\u001b[0;34m)\u001b[0m\u001b[0;34m\u001b[0m\u001b[0;34m\u001b[0m\u001b[0m\n\u001b[0m\u001b[1;32m    729\u001b[0m         \u001b[0;32melse\u001b[0m\u001b[0;34m:\u001b[0m\u001b[0;34m\u001b[0m\u001b[0;34m\u001b[0m\u001b[0m\n\u001b[1;32m    730\u001b[0m             \u001b[0mres\u001b[0m \u001b[0;34m=\u001b[0m \u001b[0mtransformer\u001b[0m\u001b[0;34m.\u001b[0m\u001b[0mfit\u001b[0m\u001b[0;34m(\u001b[0m\u001b[0mX\u001b[0m\u001b[0;34m,\u001b[0m \u001b[0my\u001b[0m\u001b[0;34m,\u001b[0m \u001b[0;34m**\u001b[0m\u001b[0mfit_params\u001b[0m\u001b[0;34m)\u001b[0m\u001b[0;34m.\u001b[0m\u001b[0mtransform\u001b[0m\u001b[0;34m(\u001b[0m\u001b[0mX\u001b[0m\u001b[0;34m)\u001b[0m\u001b[0;34m\u001b[0m\u001b[0;34m\u001b[0m\u001b[0m\n",
            "\u001b[0;32m/usr/local/lib/python3.6/dist-packages/sklearn/base.py\u001b[0m in \u001b[0;36mfit_transform\u001b[0;34m(self, X, y, **fit_params)\u001b[0m\n\u001b[1;32m    572\u001b[0m         \u001b[0;32melse\u001b[0m\u001b[0;34m:\u001b[0m\u001b[0;34m\u001b[0m\u001b[0;34m\u001b[0m\u001b[0m\n\u001b[1;32m    573\u001b[0m             \u001b[0;31m# fit method of arity 2 (supervised transformation)\u001b[0m\u001b[0;34m\u001b[0m\u001b[0;34m\u001b[0m\u001b[0;34m\u001b[0m\u001b[0m\n\u001b[0;32m--> 574\u001b[0;31m             \u001b[0;32mreturn\u001b[0m \u001b[0mself\u001b[0m\u001b[0;34m.\u001b[0m\u001b[0mfit\u001b[0m\u001b[0;34m(\u001b[0m\u001b[0mX\u001b[0m\u001b[0;34m,\u001b[0m \u001b[0my\u001b[0m\u001b[0;34m,\u001b[0m \u001b[0;34m**\u001b[0m\u001b[0mfit_params\u001b[0m\u001b[0;34m)\u001b[0m\u001b[0;34m.\u001b[0m\u001b[0mtransform\u001b[0m\u001b[0;34m(\u001b[0m\u001b[0mX\u001b[0m\u001b[0;34m)\u001b[0m\u001b[0;34m\u001b[0m\u001b[0;34m\u001b[0m\u001b[0m\n\u001b[0m\u001b[1;32m    575\u001b[0m \u001b[0;34m\u001b[0m\u001b[0m\n\u001b[1;32m    576\u001b[0m \u001b[0;34m\u001b[0m\u001b[0m\n",
            "\u001b[0;32m/usr/local/lib/python3.6/dist-packages/sklearn/impute/_base.py\u001b[0m in \u001b[0;36mfit\u001b[0;34m(self, X, y)\u001b[0m\n\u001b[1;32m    266\u001b[0m         \u001b[0mself\u001b[0m \u001b[0;34m:\u001b[0m \u001b[0mSimpleImputer\u001b[0m\u001b[0;34m\u001b[0m\u001b[0;34m\u001b[0m\u001b[0m\n\u001b[1;32m    267\u001b[0m         \"\"\"\n\u001b[0;32m--> 268\u001b[0;31m         \u001b[0mX\u001b[0m \u001b[0;34m=\u001b[0m \u001b[0mself\u001b[0m\u001b[0;34m.\u001b[0m\u001b[0m_validate_input\u001b[0m\u001b[0;34m(\u001b[0m\u001b[0mX\u001b[0m\u001b[0;34m)\u001b[0m\u001b[0;34m\u001b[0m\u001b[0;34m\u001b[0m\u001b[0m\n\u001b[0m\u001b[1;32m    269\u001b[0m         \u001b[0msuper\u001b[0m\u001b[0;34m(\u001b[0m\u001b[0;34m)\u001b[0m\u001b[0;34m.\u001b[0m\u001b[0m_fit_indicator\u001b[0m\u001b[0;34m(\u001b[0m\u001b[0mX\u001b[0m\u001b[0;34m)\u001b[0m\u001b[0;34m\u001b[0m\u001b[0;34m\u001b[0m\u001b[0m\n\u001b[1;32m    270\u001b[0m \u001b[0;34m\u001b[0m\u001b[0m\n",
            "\u001b[0;32m/usr/local/lib/python3.6/dist-packages/sklearn/impute/_base.py\u001b[0m in \u001b[0;36m_validate_input\u001b[0;34m(self, X)\u001b[0m\n\u001b[1;32m    242\u001b[0m                 \u001b[0;32mraise\u001b[0m \u001b[0mve\u001b[0m\u001b[0;34m\u001b[0m\u001b[0;34m\u001b[0m\u001b[0m\n\u001b[1;32m    243\u001b[0m \u001b[0;34m\u001b[0m\u001b[0m\n\u001b[0;32m--> 244\u001b[0;31m         \u001b[0m_check_inputs_dtype\u001b[0m\u001b[0;34m(\u001b[0m\u001b[0mX\u001b[0m\u001b[0;34m,\u001b[0m \u001b[0mself\u001b[0m\u001b[0;34m.\u001b[0m\u001b[0mmissing_values\u001b[0m\u001b[0;34m)\u001b[0m\u001b[0;34m\u001b[0m\u001b[0;34m\u001b[0m\u001b[0m\n\u001b[0m\u001b[1;32m    245\u001b[0m         \u001b[0;32mif\u001b[0m \u001b[0mX\u001b[0m\u001b[0;34m.\u001b[0m\u001b[0mdtype\u001b[0m\u001b[0;34m.\u001b[0m\u001b[0mkind\u001b[0m \u001b[0;32mnot\u001b[0m \u001b[0;32min\u001b[0m \u001b[0;34m(\u001b[0m\u001b[0;34m\"i\"\u001b[0m\u001b[0;34m,\u001b[0m \u001b[0;34m\"u\"\u001b[0m\u001b[0;34m,\u001b[0m \u001b[0;34m\"f\"\u001b[0m\u001b[0;34m,\u001b[0m \u001b[0;34m\"O\"\u001b[0m\u001b[0;34m)\u001b[0m\u001b[0;34m:\u001b[0m\u001b[0;34m\u001b[0m\u001b[0;34m\u001b[0m\u001b[0m\n\u001b[1;32m    246\u001b[0m             raise ValueError(\"SimpleImputer does not support data with dtype \"\n",
            "\u001b[0;32m/usr/local/lib/python3.6/dist-packages/sklearn/impute/_base.py\u001b[0m in \u001b[0;36m_check_inputs_dtype\u001b[0;34m(X, missing_values)\u001b[0m\n\u001b[1;32m     26\u001b[0m                          \u001b[0;34m\" both numerical. Got X.dtype={} and \"\u001b[0m\u001b[0;34m\u001b[0m\u001b[0;34m\u001b[0m\u001b[0m\n\u001b[1;32m     27\u001b[0m                          \u001b[0;34m\" type(missing_values)={}.\"\u001b[0m\u001b[0;34m\u001b[0m\u001b[0;34m\u001b[0m\u001b[0m\n\u001b[0;32m---> 28\u001b[0;31m                          .format(X.dtype, type(missing_values)))\n\u001b[0m\u001b[1;32m     29\u001b[0m \u001b[0;34m\u001b[0m\u001b[0m\n\u001b[1;32m     30\u001b[0m \u001b[0;34m\u001b[0m\u001b[0m\n",
            "\u001b[0;31mValueError\u001b[0m: 'X' and 'missing_values' types are expected to be both numerical. Got X.dtype=int64 and  type(missing_values)=<class 'str'>."
          ]
        }
      ]
    },
    {
      "cell_type": "code",
      "metadata": {
        "id": "NsZcqSRy3ADB",
        "colab": {
          "base_uri": "https://localhost:8080/",
          "height": 323
        },
        "outputId": "c74a57a1-0451-40cb-b8f2-5dba0167565a"
      },
      "source": [
        "# Compute metrics\n",
        "print(classification_report(y_test, y_pred))"
      ],
      "execution_count": 195,
      "outputs": [
        {
          "output_type": "error",
          "ename": "ValueError",
          "evalue": "ignored",
          "traceback": [
            "\u001b[0;31m---------------------------------------------------------------------------\u001b[0m",
            "\u001b[0;31mValueError\u001b[0m                                Traceback (most recent call last)",
            "\u001b[0;32m<ipython-input-195-33e9529cb64b>\u001b[0m in \u001b[0;36m<module>\u001b[0;34m()\u001b[0m\n\u001b[1;32m      1\u001b[0m \u001b[0;31m# Compute metrics\u001b[0m\u001b[0;34m\u001b[0m\u001b[0;34m\u001b[0m\u001b[0;34m\u001b[0m\u001b[0m\n\u001b[0;32m----> 2\u001b[0;31m \u001b[0mprint\u001b[0m\u001b[0;34m(\u001b[0m\u001b[0mclassification_report\u001b[0m\u001b[0;34m(\u001b[0m\u001b[0my_test\u001b[0m\u001b[0;34m,\u001b[0m \u001b[0my_pred\u001b[0m\u001b[0;34m)\u001b[0m\u001b[0;34m)\u001b[0m\u001b[0;34m\u001b[0m\u001b[0;34m\u001b[0m\u001b[0m\n\u001b[0m",
            "\u001b[0;32m/usr/local/lib/python3.6/dist-packages/sklearn/metrics/_classification.py\u001b[0m in \u001b[0;36mclassification_report\u001b[0;34m(y_true, y_pred, labels, target_names, sample_weight, digits, output_dict, zero_division)\u001b[0m\n\u001b[1;32m   1969\u001b[0m     \"\"\"\n\u001b[1;32m   1970\u001b[0m \u001b[0;34m\u001b[0m\u001b[0m\n\u001b[0;32m-> 1971\u001b[0;31m     \u001b[0my_type\u001b[0m\u001b[0;34m,\u001b[0m \u001b[0my_true\u001b[0m\u001b[0;34m,\u001b[0m \u001b[0my_pred\u001b[0m \u001b[0;34m=\u001b[0m \u001b[0m_check_targets\u001b[0m\u001b[0;34m(\u001b[0m\u001b[0my_true\u001b[0m\u001b[0;34m,\u001b[0m \u001b[0my_pred\u001b[0m\u001b[0;34m)\u001b[0m\u001b[0;34m\u001b[0m\u001b[0;34m\u001b[0m\u001b[0m\n\u001b[0m\u001b[1;32m   1972\u001b[0m \u001b[0;34m\u001b[0m\u001b[0m\n\u001b[1;32m   1973\u001b[0m     \u001b[0mlabels_given\u001b[0m \u001b[0;34m=\u001b[0m \u001b[0;32mTrue\u001b[0m\u001b[0;34m\u001b[0m\u001b[0;34m\u001b[0m\u001b[0m\n",
            "\u001b[0;32m/usr/local/lib/python3.6/dist-packages/sklearn/metrics/_classification.py\u001b[0m in \u001b[0;36m_check_targets\u001b[0;34m(y_true, y_pred)\u001b[0m\n\u001b[1;32m     78\u001b[0m     \u001b[0my_pred\u001b[0m \u001b[0;34m:\u001b[0m \u001b[0marray\u001b[0m \u001b[0;32mor\u001b[0m \u001b[0mindicator\u001b[0m \u001b[0mmatrix\u001b[0m\u001b[0;34m\u001b[0m\u001b[0;34m\u001b[0m\u001b[0m\n\u001b[1;32m     79\u001b[0m     \"\"\"\n\u001b[0;32m---> 80\u001b[0;31m     \u001b[0mcheck_consistent_length\u001b[0m\u001b[0;34m(\u001b[0m\u001b[0my_true\u001b[0m\u001b[0;34m,\u001b[0m \u001b[0my_pred\u001b[0m\u001b[0;34m)\u001b[0m\u001b[0;34m\u001b[0m\u001b[0;34m\u001b[0m\u001b[0m\n\u001b[0m\u001b[1;32m     81\u001b[0m     \u001b[0mtype_true\u001b[0m \u001b[0;34m=\u001b[0m \u001b[0mtype_of_target\u001b[0m\u001b[0;34m(\u001b[0m\u001b[0my_true\u001b[0m\u001b[0;34m)\u001b[0m\u001b[0;34m\u001b[0m\u001b[0;34m\u001b[0m\u001b[0m\n\u001b[1;32m     82\u001b[0m     \u001b[0mtype_pred\u001b[0m \u001b[0;34m=\u001b[0m \u001b[0mtype_of_target\u001b[0m\u001b[0;34m(\u001b[0m\u001b[0my_pred\u001b[0m\u001b[0;34m)\u001b[0m\u001b[0;34m\u001b[0m\u001b[0;34m\u001b[0m\u001b[0m\n",
            "\u001b[0;32m/usr/local/lib/python3.6/dist-packages/sklearn/utils/validation.py\u001b[0m in \u001b[0;36mcheck_consistent_length\u001b[0;34m(*arrays)\u001b[0m\n\u001b[1;32m    210\u001b[0m     \u001b[0;32mif\u001b[0m \u001b[0mlen\u001b[0m\u001b[0;34m(\u001b[0m\u001b[0muniques\u001b[0m\u001b[0;34m)\u001b[0m \u001b[0;34m>\u001b[0m \u001b[0;36m1\u001b[0m\u001b[0;34m:\u001b[0m\u001b[0;34m\u001b[0m\u001b[0;34m\u001b[0m\u001b[0m\n\u001b[1;32m    211\u001b[0m         raise ValueError(\"Found input variables with inconsistent numbers of\"\n\u001b[0;32m--> 212\u001b[0;31m                          \" samples: %r\" % [int(l) for l in lengths])\n\u001b[0m\u001b[1;32m    213\u001b[0m \u001b[0;34m\u001b[0m\u001b[0m\n\u001b[1;32m    214\u001b[0m \u001b[0;34m\u001b[0m\u001b[0m\n",
            "\u001b[0;31mValueError\u001b[0m: Found input variables with inconsistent numbers of samples: [131, 157]"
          ]
        }
      ]
    },
    {
      "cell_type": "markdown",
      "metadata": {
        "id": "FVDIfqa-8BU2"
      },
      "source": [
        "Great work! Your pipeline has performed imputation as well as classification!"
      ]
    },
    {
      "cell_type": "markdown",
      "metadata": {
        "id": "5cURtUPTCWPR"
      },
      "source": [
        "# Centering and scaling your data\n",
        "\n",
        "En el video, Hugo demostró cuán significativamente puede mejorar el rendimiento de un modelo si se escalan las características. Tenga en cuenta que este no es siempre el caso: en el conjunto de datos de registros de votación del Congreso, por ejemplo, todas las funciones son binarias. En tal situación, la escala tendrá un impacto mínimo.\n",
        "\n",
        "Ahora explorará la escala por sí mismo en un nuevo conjunto de datos: ¡Calidad del vino blanco! Hugo usó el conjunto de datos de la calidad del vino tinto en el video. Hemos utilizado la característica de 'calidad' del vino para crear una variable objetivo binaria: si 'calidad' es menor que 5, la variable objetivo es 1 y, de lo contrario, es 0.\n",
        "\n",
        "El DataFrame se ha precargado como df, junto con las matrices de variables de función y destino X e y. Explórelo en IPython Shell. Observe cómo algunas características parecen tener diferentes unidades de medida. \"densidad\", por ejemplo, toma valores entre 0,98 y 1,04, mientras que \"dióxido de azufre total\" oscila entre 9 y 440. Como resultado, puede que valga la pena escalar las características aquí. Su trabajo en este ejercicio es escalar las entidades y calcular la desviación media y estándar de las entidades sin escala en comparación con las entidades escaladas.\n"
      ]
    },
    {
      "cell_type": "code",
      "metadata": {
        "id": "JQe5l-lm7mWD",
        "colab": {
          "base_uri": "https://localhost:8080/",
          "height": 204
        },
        "outputId": "f609420e-1b4e-486f-df43-90ccdfc695e1"
      },
      "source": [
        "df = pd.read_csv('/content/wine_white.txt',sep=';')\n",
        "df.head()"
      ],
      "execution_count": null,
      "outputs": [
        {
          "output_type": "execute_result",
          "data": {
            "text/html": [
              "<div>\n",
              "<style scoped>\n",
              "    .dataframe tbody tr th:only-of-type {\n",
              "        vertical-align: middle;\n",
              "    }\n",
              "\n",
              "    .dataframe tbody tr th {\n",
              "        vertical-align: top;\n",
              "    }\n",
              "\n",
              "    .dataframe thead th {\n",
              "        text-align: right;\n",
              "    }\n",
              "</style>\n",
              "<table border=\"1\" class=\"dataframe\">\n",
              "  <thead>\n",
              "    <tr style=\"text-align: right;\">\n",
              "      <th></th>\n",
              "      <th>fixed acidity</th>\n",
              "      <th>volatile acidity</th>\n",
              "      <th>citric acid</th>\n",
              "      <th>residual sugar</th>\n",
              "      <th>chlorides</th>\n",
              "      <th>free sulfur dioxide</th>\n",
              "      <th>total sulfur dioxide</th>\n",
              "      <th>density</th>\n",
              "      <th>pH</th>\n",
              "      <th>sulphates</th>\n",
              "      <th>alcohol</th>\n",
              "      <th>quality</th>\n",
              "    </tr>\n",
              "  </thead>\n",
              "  <tbody>\n",
              "    <tr>\n",
              "      <th>0</th>\n",
              "      <td>7.4</td>\n",
              "      <td>0.70</td>\n",
              "      <td>0.00</td>\n",
              "      <td>1.9</td>\n",
              "      <td>0.076</td>\n",
              "      <td>11.0</td>\n",
              "      <td>34.0</td>\n",
              "      <td>0.9978</td>\n",
              "      <td>3.51</td>\n",
              "      <td>0.56</td>\n",
              "      <td>9.4</td>\n",
              "      <td>5</td>\n",
              "    </tr>\n",
              "    <tr>\n",
              "      <th>1</th>\n",
              "      <td>7.8</td>\n",
              "      <td>0.88</td>\n",
              "      <td>0.00</td>\n",
              "      <td>2.6</td>\n",
              "      <td>0.098</td>\n",
              "      <td>25.0</td>\n",
              "      <td>67.0</td>\n",
              "      <td>0.9968</td>\n",
              "      <td>3.20</td>\n",
              "      <td>0.68</td>\n",
              "      <td>9.8</td>\n",
              "      <td>5</td>\n",
              "    </tr>\n",
              "    <tr>\n",
              "      <th>2</th>\n",
              "      <td>7.8</td>\n",
              "      <td>0.76</td>\n",
              "      <td>0.04</td>\n",
              "      <td>2.3</td>\n",
              "      <td>0.092</td>\n",
              "      <td>15.0</td>\n",
              "      <td>54.0</td>\n",
              "      <td>0.9970</td>\n",
              "      <td>3.26</td>\n",
              "      <td>0.65</td>\n",
              "      <td>9.8</td>\n",
              "      <td>5</td>\n",
              "    </tr>\n",
              "    <tr>\n",
              "      <th>3</th>\n",
              "      <td>11.2</td>\n",
              "      <td>0.28</td>\n",
              "      <td>0.56</td>\n",
              "      <td>1.9</td>\n",
              "      <td>0.075</td>\n",
              "      <td>17.0</td>\n",
              "      <td>60.0</td>\n",
              "      <td>0.9980</td>\n",
              "      <td>3.16</td>\n",
              "      <td>0.58</td>\n",
              "      <td>9.8</td>\n",
              "      <td>6</td>\n",
              "    </tr>\n",
              "    <tr>\n",
              "      <th>4</th>\n",
              "      <td>7.4</td>\n",
              "      <td>0.70</td>\n",
              "      <td>0.00</td>\n",
              "      <td>1.9</td>\n",
              "      <td>0.076</td>\n",
              "      <td>11.0</td>\n",
              "      <td>34.0</td>\n",
              "      <td>0.9978</td>\n",
              "      <td>3.51</td>\n",
              "      <td>0.56</td>\n",
              "      <td>9.4</td>\n",
              "      <td>5</td>\n",
              "    </tr>\n",
              "  </tbody>\n",
              "</table>\n",
              "</div>"
            ],
            "text/plain": [
              "   fixed acidity  volatile acidity  citric acid  ...  sulphates  alcohol  quality\n",
              "0            7.4              0.70         0.00  ...       0.56      9.4        5\n",
              "1            7.8              0.88         0.00  ...       0.68      9.8        5\n",
              "2            7.8              0.76         0.04  ...       0.65      9.8        5\n",
              "3           11.2              0.28         0.56  ...       0.58      9.8        6\n",
              "4            7.4              0.70         0.00  ...       0.56      9.4        5\n",
              "\n",
              "[5 rows x 12 columns]"
            ]
          },
          "metadata": {
            "tags": []
          },
          "execution_count": 13
        }
      ]
    },
    {
      "cell_type": "code",
      "metadata": {
        "id": "X_dONndWFDzY"
      },
      "source": [
        "X = df.drop('quality',axis=1).values\n",
        "y = df['quality'].values"
      ],
      "execution_count": null,
      "outputs": []
    },
    {
      "cell_type": "code",
      "metadata": {
        "id": "9k1cGySsD0wY"
      },
      "source": [
        "# Import scale\n",
        "from sklearn.preprocessing import scale"
      ],
      "execution_count": null,
      "outputs": []
    },
    {
      "cell_type": "code",
      "metadata": {
        "id": "NVBcVkGHE1Hu"
      },
      "source": [
        "# Scale the features: X_scaled\n",
        "X_scaled = scale(X)"
      ],
      "execution_count": null,
      "outputs": []
    },
    {
      "cell_type": "code",
      "metadata": {
        "id": "FYzLd4FeE29-",
        "colab": {
          "base_uri": "https://localhost:8080/",
          "height": 51
        },
        "outputId": "d980f01c-d6bd-4034-b912-d3de38528334"
      },
      "source": [
        "# Print the mean and standard deviation of the unscaled features\n",
        "print(\"Mean of Unscaled Features: {}\".format(np.mean(X))) \n",
        "print(\"Standard Deviation of Unscaled Features: {}\".format(np.std(X)))"
      ],
      "execution_count": null,
      "outputs": [
        {
          "output_type": "stream",
          "text": [
            "Mean of Unscaled Features: 8.134219224515322\n",
            "Standard Deviation of Unscaled Features: 16.726533979432848\n"
          ],
          "name": "stdout"
        }
      ]
    },
    {
      "cell_type": "code",
      "metadata": {
        "id": "jVD54KYOE5PQ",
        "colab": {
          "base_uri": "https://localhost:8080/",
          "height": 51
        },
        "outputId": "7e83c0ce-3647-4717-ebdf-49901eca150a"
      },
      "source": [
        "# Print the mean and standard deviation of the scaled features\n",
        "print(\"Mean of Scaled Features: {}\".format(np.mean(X_scaled))) \n",
        "print(\"Standard Deviation of Scaled Features: {}\".format(np.std(X_scaled)))"
      ],
      "execution_count": null,
      "outputs": [
        {
          "output_type": "stream",
          "text": [
            "Mean of Scaled Features: 2.546626531486538e-15\n",
            "Standard Deviation of Scaled Features: 1.0\n"
          ],
          "name": "stdout"
        }
      ]
    },
    {
      "cell_type": "markdown",
      "metadata": {
        "id": "d9bopxvCFaWT"
      },
      "source": [
        "Buen trabajo! Observe la diferencia en la desviación estándar y media de las entidades escaladas en comparación con las entidades sin escala."
      ]
    },
    {
      "cell_type": "markdown",
      "metadata": {
        "id": "djUIekj3Fh3v"
      },
      "source": [
        "# Centering and scaling in a pipeline\n",
        "\n",
        "Con respecto a si el escalado es efectivo o no, ¡la prueba está en el pudín! Compruebe usted mismo si la ampliación de las características del conjunto de datos de calidad del vino blanco tiene algún impacto en su rendimiento. Utilizará un clasificador k-NN como parte de una canalización que incluye escalado y, a efectos de comparación, se ha proporcionado un clasificador k-NN entrenado en los datos sin escalar.\n",
        "\n",
        "La matriz de características y la matriz de variables de destino se han precargado como X e y. Además, KNeighborsClassifier y train_test_split se han importado de sklearn.neighbors y sklearn.model_selection, respectivamente."
      ]
    },
    {
      "cell_type": "code",
      "metadata": {
        "id": "0FL_bORTHQgS",
        "colab": {
          "base_uri": "https://localhost:8080/",
          "height": 136
        },
        "outputId": "681e0afd-0754-48ed-db46-7a2078979270"
      },
      "source": [
        "X"
      ],
      "execution_count": null,
      "outputs": [
        {
          "output_type": "execute_result",
          "data": {
            "text/plain": [
              "array([[ 7.4  ,  0.7  ,  0.   , ...,  3.51 ,  0.56 ,  9.4  ],\n",
              "       [ 7.8  ,  0.88 ,  0.   , ...,  3.2  ,  0.68 ,  9.8  ],\n",
              "       [ 7.8  ,  0.76 ,  0.04 , ...,  3.26 ,  0.65 ,  9.8  ],\n",
              "       ...,\n",
              "       [ 6.3  ,  0.51 ,  0.13 , ...,  3.42 ,  0.75 , 11.   ],\n",
              "       [ 5.9  ,  0.645,  0.12 , ...,  3.57 ,  0.71 , 10.2  ],\n",
              "       [ 6.   ,  0.31 ,  0.47 , ...,  3.39 ,  0.66 , 11.   ]])"
            ]
          },
          "metadata": {
            "tags": []
          },
          "execution_count": 388
        }
      ]
    },
    {
      "cell_type": "code",
      "metadata": {
        "id": "PZVYwqxjE9iz"
      },
      "source": [
        "# Import the necessary modules\n",
        "from sklearn.preprocessing import StandardScaler\n",
        "from sklearn.pipeline import Pipeline\n",
        "from sklearn.neighbors import KNeighborsClassifier\n",
        "from sklearn.linear_model import ElasticNet"
      ],
      "execution_count": null,
      "outputs": []
    },
    {
      "cell_type": "code",
      "metadata": {
        "id": "R7hzdc3kG9wD"
      },
      "source": [
        "# Setup the pipeline steps: steps\n",
        "steps = [('scaler', StandardScaler()),\n",
        "        ('knn', KNeighborsClassifier())]\n",
        "\n",
        "# Create the pipeline: pipeline\n",
        "pipeline = Pipeline(steps)"
      ],
      "execution_count": null,
      "outputs": []
    },
    {
      "cell_type": "code",
      "metadata": {
        "id": "qy-RXWTVG_Zv"
      },
      "source": [
        "# Create train and test sets\n",
        "X_train, X_test, y_train, y_test = train_test_split(X,y, test_size=0.3,\n",
        "random_state=42)"
      ],
      "execution_count": null,
      "outputs": []
    },
    {
      "cell_type": "code",
      "metadata": {
        "id": "MWgi_IsTHD-v"
      },
      "source": [
        "# Fit the pipeline to the training set: knn_scaled\n",
        "knn_scaled = pipeline.fit(X_train,y_train)\n",
        "\n",
        "\n",
        "# Instantiate and fit a k-NN classifier to the unscaled data\n",
        "knn_unscaled = KNeighborsClassifier().fit(X_train, y_train)\n"
      ],
      "execution_count": null,
      "outputs": []
    },
    {
      "cell_type": "code",
      "metadata": {
        "id": "VEEmiF7MHIV9",
        "colab": {
          "base_uri": "https://localhost:8080/",
          "height": 51
        },
        "outputId": "d661efcd-d6fc-46a5-d6f1-5814db67037e"
      },
      "source": [
        "# Compute and print metrics\n",
        "print('Accuracy with Scaling: {}'.format(knn_scaled.score(X_test,y_test)))\n",
        "print('Accuracy without Scaling: {}'.format(knn_unscaled.score(X_test,y_test)))"
      ],
      "execution_count": null,
      "outputs": [
        {
          "output_type": "stream",
          "text": [
            "Accuracy with Scaling: 0.5708333333333333\n",
            "Accuracy without Scaling: 0.48541666666666666\n"
          ],
          "name": "stdout"
        }
      ]
    },
    {
      "cell_type": "markdown",
      "metadata": {
        "id": "z_C8TwpsHtRJ"
      },
      "source": [
        "¡Fantástico! ¡Parece que el escalado ha mejorado significativamente el rendimiento del modelo!"
      ]
    },
    {
      "cell_type": "markdown",
      "metadata": {
        "id": "5mJo9GXxIBpt"
      },
      "source": [
        "# Bringing it all together I: Pipeline for classification\n",
        "\n",
        "¡Es el momento de juntar todo lo que ha aprendido hasta ahora en un proceso de clasificación! Su trabajo en este ejercicio es crear una canalización que incluya escalado y ajuste de hiperparámetros para clasificar la calidad del vino.\n",
        "\n",
        "Volverá a utilizar el clasificador SVM al que se le presentó brevemente anteriormente en este capítulo. Los hiperparámetros que sintonizará son C y gamma. C controla la intensidad de la regularización. Es análogo a la C que sintonizó para la regresión logística en el Capítulo 3, mientras que gamma controla el coeficiente del kernel: no se preocupe por esto ahora, ya que está más allá del alcance de este curso.\n",
        "\n",
        "Se han precargado los siguientes módulos y funciones: Pipeline, SVC, train_test_split, GridSearchCV, class_report, precision_score. Las matrices de características y variables de destino X e y también se han precargado."
      ]
    },
    {
      "cell_type": "code",
      "metadata": {
        "id": "I_dOcmZIKQ5t"
      },
      "source": [
        "from sklearn.preprocessing import StandardScaler\n",
        "from sklearn.svm import SVC\n",
        "from sklearn.model_selection import GridSearchCV\n",
        "from sklearn.model_selection import train_test_split\n",
        "from sklearn.metrics import classification_report"
      ],
      "execution_count": null,
      "outputs": []
    },
    {
      "cell_type": "code",
      "metadata": {
        "id": "8QAEIzAUHKRX"
      },
      "source": [
        "# Setup the pipeline\n",
        "steps = [('scaler', StandardScaler()),\n",
        "         ('SVM', SVC())]\n",
        "\n",
        "pipeline = Pipeline(steps)"
      ],
      "execution_count": null,
      "outputs": []
    },
    {
      "cell_type": "code",
      "metadata": {
        "id": "qETGZEnRKGWq"
      },
      "source": [
        "# Specify the hyperparameter space\n",
        "parameters = {'SVM__C':[1, 10, 100],\n",
        "              'SVM__gamma':[0.1, 0.01]}"
      ],
      "execution_count": null,
      "outputs": []
    },
    {
      "cell_type": "code",
      "metadata": {
        "id": "BikBw49gKaRk"
      },
      "source": [
        "# Create train and test sets\n",
        "X_train, X_test, y_train, y_test = train_test_split(X,y,test_size=0.2,\n",
        "random_state=21)\n"
      ],
      "execution_count": null,
      "outputs": []
    },
    {
      "cell_type": "code",
      "metadata": {
        "id": "psdErINvKb81"
      },
      "source": [
        "# Instantiate the GridSearchCV object: cv\n",
        "cv = GridSearchCV(pipeline,param_grid =parameters,cv=3)"
      ],
      "execution_count": null,
      "outputs": []
    },
    {
      "cell_type": "code",
      "metadata": {
        "id": "baaGkKjnLL4I"
      },
      "source": [
        "# Fit to the training set\n",
        "cv.fit(X_train,y_train)\n",
        "\n",
        "# Predict the labels of the test set: y_pred\n",
        "y_pred = cv.predict(X_test)"
      ],
      "execution_count": null,
      "outputs": []
    },
    {
      "cell_type": "code",
      "metadata": {
        "id": "rFryaXaZLge8",
        "colab": {
          "base_uri": "https://localhost:8080/",
          "height": 326
        },
        "outputId": "8059af55-48e0-4a9e-d215-109a0419ccdc"
      },
      "source": [
        "# Compute and print metrics\n",
        "print(\"Accuracy: {}\".format(cv.score(X_test, y_test)))\n",
        "print(classification_report(y_test, y_pred))\n",
        "print(\"Tuned Model Parameters: {}\".format(cv.best_params_))"
      ],
      "execution_count": null,
      "outputs": [
        {
          "output_type": "stream",
          "text": [
            "Accuracy: 0.60625\n",
            "              precision    recall  f1-score   support\n",
            "\n",
            "           3       0.00      0.00      0.00         1\n",
            "           4       0.00      0.00      0.00        16\n",
            "           5       0.62      0.79      0.69       127\n",
            "           6       0.57      0.63      0.60       131\n",
            "           7       0.75      0.29      0.41        42\n",
            "           8       0.00      0.00      0.00         3\n",
            "\n",
            "    accuracy                           0.61       320\n",
            "   macro avg       0.32      0.28      0.28       320\n",
            "weighted avg       0.58      0.61      0.57       320\n",
            "\n",
            "Tuned Model Parameters: {'SVM__C': 1, 'SVM__gamma': 0.1}\n"
          ],
          "name": "stdout"
        },
        {
          "output_type": "stream",
          "text": [
            "/usr/local/lib/python3.6/dist-packages/sklearn/metrics/_classification.py:1272: UndefinedMetricWarning: Precision and F-score are ill-defined and being set to 0.0 in labels with no predicted samples. Use `zero_division` parameter to control this behavior.\n",
            "  _warn_prf(average, modifier, msg_start, len(result))\n"
          ],
          "name": "stderr"
        }
      ]
    },
    {
      "cell_type": "markdown",
      "metadata": {
        "id": "p1i7oEAHNP8u"
      },
      "source": [
        "# Bringing it all together II: Pipeline for regression\n",
        "\n",
        "Para este ejercicio final, volverá al conjunto de datos de Gapminder. ¿Adivina qué? ¡Incluso este conjunto de datos tiene valores perdidos que tratamos en capítulos anteriores! ¡Ahora tienes todas las herramientas para cuidarlas tú mismo!\n",
        "\n",
        "Su trabajo es crear una canalización que impute los datos faltantes, escale las funciones y ajuste una ElasticNet a los datos de Gapminder. Luego, ajustará la relación l1 de su ElasticNet usando GridSearchCV.\n",
        "\n",
        "Se han importado todos los módulos necesarios y las matrices de variables de función y de destino se han precargado como X e y."
      ]
    },
    {
      "cell_type": "code",
      "metadata": {
        "id": "gll0fqWoLisq",
        "colab": {
          "base_uri": "https://localhost:8080/",
          "height": 204
        },
        "outputId": "dc5acea6-53e6-4686-8f1e-d65e1182eb72"
      },
      "source": [
        "df = pd.read_csv('/content/gm_2008_region.txt',sep='\\t')\n",
        "df.head()"
      ],
      "execution_count": null,
      "outputs": [
        {
          "output_type": "execute_result",
          "data": {
            "text/html": [
              "<div>\n",
              "<style scoped>\n",
              "    .dataframe tbody tr th:only-of-type {\n",
              "        vertical-align: middle;\n",
              "    }\n",
              "\n",
              "    .dataframe tbody tr th {\n",
              "        vertical-align: top;\n",
              "    }\n",
              "\n",
              "    .dataframe thead th {\n",
              "        text-align: right;\n",
              "    }\n",
              "</style>\n",
              "<table border=\"1\" class=\"dataframe\">\n",
              "  <thead>\n",
              "    <tr style=\"text-align: right;\">\n",
              "      <th></th>\n",
              "      <th>population</th>\n",
              "      <th>fertility</th>\n",
              "      <th>HIV</th>\n",
              "      <th>CO2</th>\n",
              "      <th>BMI_male</th>\n",
              "      <th>GDP</th>\n",
              "      <th>BMI_female</th>\n",
              "      <th>life</th>\n",
              "      <th>child_mortality</th>\n",
              "      <th>Region</th>\n",
              "    </tr>\n",
              "  </thead>\n",
              "  <tbody>\n",
              "    <tr>\n",
              "      <th>0</th>\n",
              "      <td>34811059.0</td>\n",
              "      <td>2.73</td>\n",
              "      <td>0.1</td>\n",
              "      <td>3.328945</td>\n",
              "      <td>24.59620</td>\n",
              "      <td>12314.0</td>\n",
              "      <td>129.9049</td>\n",
              "      <td>75.3</td>\n",
              "      <td>29.5</td>\n",
              "      <td>Middle East &amp; North Africa</td>\n",
              "    </tr>\n",
              "    <tr>\n",
              "      <th>1</th>\n",
              "      <td>19842251.0</td>\n",
              "      <td>6.43</td>\n",
              "      <td>2.0</td>\n",
              "      <td>1.474353</td>\n",
              "      <td>22.25083</td>\n",
              "      <td>7103.0</td>\n",
              "      <td>130.1247</td>\n",
              "      <td>58.3</td>\n",
              "      <td>192.0</td>\n",
              "      <td>Sub-Saharan Africa</td>\n",
              "    </tr>\n",
              "    <tr>\n",
              "      <th>2</th>\n",
              "      <td>40381860.0</td>\n",
              "      <td>2.24</td>\n",
              "      <td>0.5</td>\n",
              "      <td>4.785170</td>\n",
              "      <td>27.50170</td>\n",
              "      <td>14646.0</td>\n",
              "      <td>118.8915</td>\n",
              "      <td>75.5</td>\n",
              "      <td>15.4</td>\n",
              "      <td>America</td>\n",
              "    </tr>\n",
              "    <tr>\n",
              "      <th>3</th>\n",
              "      <td>2975029.0</td>\n",
              "      <td>1.40</td>\n",
              "      <td>0.1</td>\n",
              "      <td>1.804106</td>\n",
              "      <td>25.35542</td>\n",
              "      <td>7383.0</td>\n",
              "      <td>132.8108</td>\n",
              "      <td>72.5</td>\n",
              "      <td>20.0</td>\n",
              "      <td>Europe &amp; Central Asia</td>\n",
              "    </tr>\n",
              "    <tr>\n",
              "      <th>4</th>\n",
              "      <td>21370348.0</td>\n",
              "      <td>1.96</td>\n",
              "      <td>0.1</td>\n",
              "      <td>18.016313</td>\n",
              "      <td>27.56373</td>\n",
              "      <td>41312.0</td>\n",
              "      <td>117.3755</td>\n",
              "      <td>81.5</td>\n",
              "      <td>5.2</td>\n",
              "      <td>East Asia &amp; Pacific</td>\n",
              "    </tr>\n",
              "  </tbody>\n",
              "</table>\n",
              "</div>"
            ],
            "text/plain": [
              "   population  fertility  ...  child_mortality                      Region\n",
              "0  34811059.0       2.73  ...             29.5  Middle East & North Africa\n",
              "1  19842251.0       6.43  ...            192.0          Sub-Saharan Africa\n",
              "2  40381860.0       2.24  ...             15.4                     America\n",
              "3   2975029.0       1.40  ...             20.0       Europe & Central Asia\n",
              "4  21370348.0       1.96  ...              5.2         East Asia & Pacific\n",
              "\n",
              "[5 rows x 10 columns]"
            ]
          },
          "metadata": {
            "tags": []
          },
          "execution_count": 65
        }
      ]
    },
    {
      "cell_type": "code",
      "metadata": {
        "id": "VbDY_mPJTQG6"
      },
      "source": [
        "df.drop(['Region'], axis='columns', inplace=True)\n",
        "X = df.drop('life', axis='columns').values\n",
        "y = df['life'].values"
      ],
      "execution_count": null,
      "outputs": []
    },
    {
      "cell_type": "code",
      "metadata": {
        "id": "2imx43CaOC09"
      },
      "source": [
        "# Setup the pipeline steps: steps\n",
        "steps = [('imputation', SimpleImputer(missing_values=np.nan, strategy='mean')),\n",
        "         ('scaler', StandardScaler()),\n",
        "         ('elasticnet', ElasticNet())]"
      ],
      "execution_count": null,
      "outputs": []
    },
    {
      "cell_type": "code",
      "metadata": {
        "id": "toZQvygbSKhh"
      },
      "source": [
        "# Create the pipeline: pipeline \n",
        "pipeline = Pipeline(steps)"
      ],
      "execution_count": null,
      "outputs": []
    },
    {
      "cell_type": "code",
      "metadata": {
        "id": "3LF1usIcS24_"
      },
      "source": [
        "# Specify the hyperparameter space\n",
        "parameters = {'elasticnet__l1_ratio':np.linspace(0,1,30)}"
      ],
      "execution_count": null,
      "outputs": []
    },
    {
      "cell_type": "code",
      "metadata": {
        "id": "xWxAofBcS5Ws"
      },
      "source": [
        "# Create train and test sets\n",
        "X_train, X_test, y_train, y_test = train_test_split(X,y,test_size=0.4,\n",
        "random_state=42)\n"
      ],
      "execution_count": null,
      "outputs": []
    },
    {
      "cell_type": "code",
      "metadata": {
        "id": "KdD_ddkbS7gH"
      },
      "source": [
        "# Create the GridSearchCV object: gm_cv\n",
        "gm_cv = GridSearchCV(pipeline, param_grid=parameters)"
      ],
      "execution_count": null,
      "outputs": []
    },
    {
      "cell_type": "code",
      "metadata": {
        "id": "SMnVcxTPS9r1",
        "colab": {
          "base_uri": "https://localhost:8080/",
          "height": 615
        },
        "outputId": "2059b657-6151-4f8d-c29e-09fbea3c93c2"
      },
      "source": [
        "# Fit to the training set\n",
        "gm_cv.fit(X_train,y_train)"
      ],
      "execution_count": null,
      "outputs": [
        {
          "output_type": "stream",
          "text": [
            "/usr/local/lib/python3.6/dist-packages/sklearn/linear_model/_coordinate_descent.py:476: ConvergenceWarning: Objective did not converge. You might want to increase the number of iterations. Duality gap: 896.5167846123913, tolerance: 0.558941590909091\n",
            "  positive)\n",
            "/usr/local/lib/python3.6/dist-packages/sklearn/linear_model/_coordinate_descent.py:476: ConvergenceWarning: Objective did not converge. You might want to increase the number of iterations. Duality gap: 932.4892742484276, tolerance: 0.5893071666666668\n",
            "  positive)\n",
            "/usr/local/lib/python3.6/dist-packages/sklearn/linear_model/_coordinate_descent.py:476: ConvergenceWarning: Objective did not converge. You might want to increase the number of iterations. Duality gap: 883.4834811281773, tolerance: 0.5890250303030303\n",
            "  positive)\n",
            "/usr/local/lib/python3.6/dist-packages/sklearn/linear_model/_coordinate_descent.py:476: ConvergenceWarning: Objective did not converge. You might want to increase the number of iterations. Duality gap: 936.6240422492439, tolerance: 0.5814186865671642\n",
            "  positive)\n",
            "/usr/local/lib/python3.6/dist-packages/sklearn/linear_model/_coordinate_descent.py:476: ConvergenceWarning: Objective did not converge. You might want to increase the number of iterations. Duality gap: 924.1314109388061, tolerance: 0.5801944179104478\n",
            "  positive)\n"
          ],
          "name": "stderr"
        },
        {
          "output_type": "execute_result",
          "data": {
            "text/plain": [
              "GridSearchCV(cv=None, error_score=nan,\n",
              "             estimator=Pipeline(memory=None,\n",
              "                                steps=[('imputation',\n",
              "                                        SimpleImputer(add_indicator=False,\n",
              "                                                      copy=True,\n",
              "                                                      fill_value=None,\n",
              "                                                      missing_values=nan,\n",
              "                                                      strategy='mean',\n",
              "                                                      verbose=0)),\n",
              "                                       ('scaler',\n",
              "                                        StandardScaler(copy=True,\n",
              "                                                       with_mean=True,\n",
              "                                                       with_std=True)),\n",
              "                                       ('elasticnet',\n",
              "                                        ElasticNet(alpha=1.0, copy_X=True,\n",
              "                                                   fit_intercept=True,\n",
              "                                                   l1_ratio=0.5, max_iter=...\n",
              "       0.17241379, 0.20689655, 0.24137931, 0.27586207, 0.31034483,\n",
              "       0.34482759, 0.37931034, 0.4137931 , 0.44827586, 0.48275862,\n",
              "       0.51724138, 0.55172414, 0.5862069 , 0.62068966, 0.65517241,\n",
              "       0.68965517, 0.72413793, 0.75862069, 0.79310345, 0.82758621,\n",
              "       0.86206897, 0.89655172, 0.93103448, 0.96551724, 1.        ])},\n",
              "             pre_dispatch='2*n_jobs', refit=True, return_train_score=False,\n",
              "             scoring=None, verbose=0)"
            ]
          },
          "metadata": {
            "tags": []
          },
          "execution_count": 72
        }
      ]
    },
    {
      "cell_type": "code",
      "metadata": {
        "id": "DvvdKMuuS_o0",
        "colab": {
          "base_uri": "https://localhost:8080/",
          "height": 51
        },
        "outputId": "249ac785-f1dc-468b-8f84-7afd782f2107"
      },
      "source": [
        "# Compute and print the metrics\n",
        "r2 = gm_cv.score(X_test, y_test)\n",
        "print(\"Tuned ElasticNet Alpha: {}\".format(gm_cv.best_params_))\n",
        "print(\"Tuned ElasticNet R squared: {}\".format(r2))"
      ],
      "execution_count": null,
      "outputs": [
        {
          "output_type": "stream",
          "text": [
            "Tuned ElasticNet Alpha: {'elasticnet__l1_ratio': 1.0}\n",
            "Tuned ElasticNet R squared: 0.8862016570888217\n"
          ],
          "name": "stdout"
        }
      ]
    },
    {
      "cell_type": "markdown",
      "metadata": {
        "id": "UYcMe6lfUkOe"
      },
      "source": [
        "\n",
        "¡Fantástico trabajo! ¡Ahora domina los fundamentos del aprendizaje supervisado con scikit-learn!"
      ]
    },
    {
      "cell_type": "code",
      "metadata": {
        "id": "47RUeldlUfLD"
      },
      "source": [
        ""
      ],
      "execution_count": null,
      "outputs": []
    }
  ]
}