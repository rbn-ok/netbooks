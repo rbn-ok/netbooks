{
  "nbformat": 4,
  "nbformat_minor": 0,
  "metadata": {
    "kernelspec": {
      "display_name": "Python 3",
      "language": "python",
      "name": "python3"
    },
    "language_info": {
      "codemirror_mode": {
        "name": "ipython",
        "version": 3
      },
      "file_extension": ".py",
      "mimetype": "text/x-python",
      "name": "python",
      "nbconvert_exporter": "python",
      "pygments_lexer": "ipython3",
      "version": "3.7.4"
    },
    "colab": {
      "name": "cuaderno1.ipynb",
      "provenance": []
    }
  },
  "cells": [
    {
      "cell_type": "markdown",
      "metadata": {
        "id": "ttMltyr-34fC"
      },
      "source": [
        "# **Modelos lineales**\r\n",
        "------"
      ]
    },
    {
      "cell_type": "markdown",
      "metadata": {
        "id": "TcqjuK8z34fL"
      },
      "source": [
        "## Regresión lineal, método directo (OLS)"
      ]
    },
    {
      "cell_type": "markdown",
      "metadata": {
        "id": "lyJ_-RaX34fM"
      },
      "source": [
        "### Programación de la solución directa"
      ]
    },
    {
      "cell_type": "markdown",
      "metadata": {
        "id": "FDHmOH1P34fM"
      },
      "source": [
        "Partimos del dataset de ejemplo que se utilizó en los apuntes: edad vs salario:"
      ]
    },
    {
      "cell_type": "code",
      "metadata": {
        "id": "WdvCI7-h34fN"
      },
      "source": [
        "import numpy as np\n",
        "x = np.array([21, 25, 26, 29, 30, 30, 31, 37, 38, 40, 44, 47, 50, 55, 58, 61])\n",
        "X = x.reshape((-1, 1))\n",
        "y = np.array([22000, 30000, 25000, 24000, 28000, 33000, 26000, 35000, 52000, 36000, 55000, 69000, 42000, 80000, 65000, 85000])"
      ],
      "execution_count": 1,
      "outputs": []
    },
    {
      "cell_type": "markdown",
      "metadata": {
        "id": "KvigZ84R34fO"
      },
      "source": [
        "Lo primero es pintar los datos para hacernos una idea de si es buena idea intentar aproximarlos con una línea recta:"
      ]
    },
    {
      "cell_type": "code",
      "metadata": {
        "colab": {
          "base_uri": "https://localhost:8080/",
          "height": 336
        },
        "id": "m41N0uV034fO",
        "outputId": "fc811e6c-5443-4023-ef00-4219b667b6c0"
      },
      "source": [
        "import seaborn as sns\n",
        "import matplotlib.pyplot as plt\n",
        "sns.regplot(X, y, fit_reg=False)"
      ],
      "execution_count": 2,
      "outputs": [
        {
          "output_type": "stream",
          "text": [
            "/usr/local/lib/python3.7/dist-packages/seaborn/_decorators.py:43: FutureWarning: Pass the following variables as keyword args: x, y. From version 0.12, the only valid positional argument will be `data`, and passing other arguments without an explicit keyword will result in an error or misinterpretation.\n",
            "  FutureWarning\n"
          ],
          "name": "stderr"
        },
        {
          "output_type": "execute_result",
          "data": {
            "text/plain": [
              "<matplotlib.axes._subplots.AxesSubplot at 0x7f96c46b4990>"
            ]
          },
          "metadata": {
            "tags": []
          },
          "execution_count": 2
        },
        {
          "output_type": "display_data",
          "data": {
            "image/png": "[encoded data removed]",
            "text/plain": [
              "<Figure size 432x288 with 1 Axes>"
            ]
          },
          "metadata": {
            "tags": [],
            "needs_background": "light"
          }
        }
      ]
    },
    {
      "cell_type": "markdown",
      "metadata": {
        "id": "CNtzC_aa34fP"
      },
      "source": [
        "En principio parece que sí podría ser factible, ya que se ve una relación (más o menos) lineal entre las dos variables.\n",
        "\n",
        "Intenta programar el método directo de Ordinary Least Squares. Recuerda que un vector columna de unos se declara así:"
      ]
    },
    {
      "cell_type": "code",
      "metadata": {
        "id": "ydmyJD-M34fQ"
      },
      "source": [
        "ones = np.ones((len(X), 1))"
      ],
      "execution_count": 3,
      "outputs": []
    },
    {
      "cell_type": "markdown",
      "metadata": {
        "id": "eGmwIsL334fQ"
      },
      "source": [
        "y que se puede pegar los unos como primera columna a X así:"
      ]
    },
    {
      "cell_type": "code",
      "metadata": {
        "id": "rdFVv5uc34fR"
      },
      "source": [
        "X = np.append(ones, X, axis=1)"
      ],
      "execution_count": 4,
      "outputs": []
    },
    {
      "cell_type": "markdown",
      "metadata": {
        "id": "Z7m3gA5I34fR"
      },
      "source": [
        "Partiendo de aquí, y teniendo presente que el operador multiplicación de matrices es la @, calcula Beta y las predicciones del modelo a partir de las X:"
      ]
    },
    {
      "cell_type": "code",
      "metadata": {
        "colab": {
          "base_uri": "https://localhost:8080/"
        },
        "id": "HRmq8Pof34fR",
        "outputId": "4e612d89-a1ff-45df-e098-3087d40b5063"
      },
      "source": [
        "X1 = np.linalg.inv(X.T @ X)\n",
        "X1"
      ],
      "execution_count": 5,
      "outputs": [
        {
          "output_type": "execute_result",
          "data": {
            "text/plain": [
              "array([[ 7.10625067e-01, -1.66720274e-02],\n",
              "       [-1.66720274e-02,  4.28862442e-04]])"
            ]
          },
          "metadata": {
            "tags": []
          },
          "execution_count": 5
        }
      ]
    },
    {
      "cell_type": "code",
      "metadata": {
        "scrolled": true,
        "colab": {
          "base_uri": "https://localhost:8080/"
        },
        "id": "3Yfft7HB34fS",
        "outputId": "d7e807f8-ed94-433c-ece6-793ba6e97610"
      },
      "source": [
        "beta = X1 @ (X.T @ y)\n",
        "beta"
      ],
      "execution_count": 6,
      "outputs": [
        {
          "output_type": "execute_result",
          "data": {
            "text/plain": [
              "array([-14804.38511847,   1517.47614453])"
            ]
          },
          "metadata": {
            "tags": []
          },
          "execution_count": 6
        }
      ]
    },
    {
      "cell_type": "code",
      "metadata": {
        "colab": {
          "base_uri": "https://localhost:8080/"
        },
        "id": "F_wTBS8v34fS",
        "outputId": "56208fc2-8f63-405b-e54f-063d557b9700"
      },
      "source": [
        "preds = X @ beta\n",
        "preds"
      ],
      "execution_count": 7,
      "outputs": [
        {
          "output_type": "execute_result",
          "data": {
            "text/plain": [
              "array([17062.61391659, 23132.51849469, 24649.99463922, 29202.4230728 ,\n",
              "       30719.89921733, 30719.89921733, 32237.37536185, 41342.23222901,\n",
              "       42859.70837354, 45894.66066259, 51964.5652407 , 56516.99367428,\n",
              "       61069.42210786, 68656.80283049, 73209.23126407, 77761.65969765])"
            ]
          },
          "metadata": {
            "tags": []
          },
          "execution_count": 7
        }
      ]
    },
    {
      "cell_type": "markdown",
      "metadata": {
        "id": "qgRNbKhL34fS"
      },
      "source": [
        "Se puede comprobar que el modelo está bien programado viendo si realmente aproxima los datos correctamente:"
      ]
    },
    {
      "cell_type": "code",
      "metadata": {
        "colab": {
          "base_uri": "https://localhost:8080/",
          "height": 336
        },
        "id": "K04F-Hmm34fT",
        "outputId": "cdfd9d48-417a-44ea-e0d2-c4d9b061fe6f"
      },
      "source": [
        "import seaborn as sns\n",
        "X = x\n",
        "sns.regplot(X, preds, fit_reg=False, color='red',label='pred')\n",
        "sns.regplot(X, y, fit_reg=False, marker='*',label='original')\n",
        "plt.legend()"
      ],
      "execution_count": 8,
      "outputs": [
        {
          "output_type": "stream",
          "text": [
            "/usr/local/lib/python3.7/dist-packages/seaborn/_decorators.py:43: FutureWarning: Pass the following variables as keyword args: x, y. From version 0.12, the only valid positional argument will be `data`, and passing other arguments without an explicit keyword will result in an error or misinterpretation.\n",
            "  FutureWarning\n"
          ],
          "name": "stderr"
        },
        {
          "output_type": "execute_result",
          "data": {
            "text/plain": [
              "<matplotlib.legend.Legend at 0x7f96c39aac10>"
            ]
          },
          "metadata": {
            "tags": []
          },
          "execution_count": 8
        },
        {
          "output_type": "display_data",
          "data": {
            "image/png": "[encoded data removed]",
            "text/plain": [
              "<Figure size 432x288 with 1 Axes>"
            ]
          },
          "metadata": {
            "tags": [],
            "needs_background": "light"
          }
        }
      ]
    },
    {
      "cell_type": "markdown",
      "metadata": {
        "id": "Pg3fsLha34fT"
      },
      "source": [
        "En cuanto al error que comete el modelo en sus predicciones, las métricas más habituales para regresión son el [Mean Squared Error](scikit-learn.org/stable/modules/generated/sklearn.metrics.mean_squared_error.html) y el [Mean Absolute Error](scikit-learn.org/stable/modules/generated/sklearn.metrics.median_absolute_error.html): "
      ]
    },
    {
      "cell_type": "code",
      "metadata": {
        "colab": {
          "base_uri": "https://localhost:8080/"
        },
        "id": "OzHqMqpp34fT",
        "outputId": "47a98c50-a182-4fd0-c025-bca87dd86c9e"
      },
      "source": [
        "from sklearn.metrics import mean_absolute_error, mean_squared_error\n",
        "mse = mean_squared_error(y, preds)\n",
        "mae = mean_absolute_error(y, preds)\n",
        "print(\"MSE: \" + str(round(mse,2)) + \" MAE: \" + str(round(mae,2)))"
      ],
      "execution_count": 9,
      "outputs": [
        {
          "output_type": "stream",
          "text": [
            "MSE: 71814865.44 MAE: 7209.41\n"
          ],
          "name": "stdout"
        }
      ]
    },
    {
      "cell_type": "markdown",
      "metadata": {
        "id": "PzQDrGaa34fU"
      },
      "source": [
        "### Clase LinearRegression de Scikit-learn"
      ]
    },
    {
      "cell_type": "markdown",
      "metadata": {
        "id": "wuELKgfu34fU"
      },
      "source": [
        "La clase correspondiente en Scikit-learn al método que hemos programado es [LinearRegression](scikit-learn.org/stable/modules/generated/sklearn.linear_model.LinearRegression.html). Podemos comprobar que nuestro modelo es correcto entrenando, haciendo predicciones y viendo si los resultados coinciden:"
      ]
    },
    {
      "cell_type": "code",
      "metadata": {
        "id": "ANBvdoi_34fV"
      },
      "source": [
        "from sklearn.linear_model import LinearRegression\n",
        "X = x.reshape((-1, 1))\n",
        "olsr = LinearRegression()\n",
        "olsr.fit(X, y)\n",
        "preds = olsr.predict(X)"
      ],
      "execution_count": 10,
      "outputs": []
    },
    {
      "cell_type": "markdown",
      "metadata": {
        "id": "soXyrACl34fW"
      },
      "source": [
        "Pinta una gráfica con los datos y las predicciones:"
      ]
    },
    {
      "cell_type": "code",
      "metadata": {
        "colab": {
          "base_uri": "https://localhost:8080/",
          "height": 336
        },
        "id": "I4VcZFEp34fW",
        "outputId": "26939da9-ac4f-4e85-e20b-2447cb796c08"
      },
      "source": [
        "import seaborn as sns\n",
        "sns.regplot(X, preds, fit_reg=False,color='red' )\n",
        "sns.regplot(X, y, fit_reg=False)"
      ],
      "execution_count": 11,
      "outputs": [
        {
          "output_type": "stream",
          "text": [
            "/usr/local/lib/python3.7/dist-packages/seaborn/_decorators.py:43: FutureWarning: Pass the following variables as keyword args: x, y. From version 0.12, the only valid positional argument will be `data`, and passing other arguments without an explicit keyword will result in an error or misinterpretation.\n",
            "  FutureWarning\n"
          ],
          "name": "stderr"
        },
        {
          "output_type": "execute_result",
          "data": {
            "text/plain": [
              "<matplotlib.axes._subplots.AxesSubplot at 0x7f96bb15b450>"
            ]
          },
          "metadata": {
            "tags": []
          },
          "execution_count": 11
        },
        {
          "output_type": "display_data",
          "data": {
            "image/png": "[encoded data removed]",
            "text/plain": [
              "<Figure size 432x288 with 1 Axes>"
            ]
          },
          "metadata": {
            "tags": [],
            "needs_background": "light"
          }
        }
      ]
    },
    {
      "cell_type": "markdown",
      "metadata": {
        "id": "YV4gvMhz34fX"
      },
      "source": [
        "Y calcula el MSE y el MAE:"
      ]
    },
    {
      "cell_type": "code",
      "metadata": {
        "id": "2s6mpdTA34fX"
      },
      "source": [
        "from sklearn.metrics import mean_squared_error, median_absolute_error\n",
        "from sklearn.metrics import r2_score"
      ],
      "execution_count": 12,
      "outputs": []
    },
    {
      "cell_type": "code",
      "metadata": {
        "scrolled": true,
        "colab": {
          "base_uri": "https://localhost:8080/"
        },
        "id": "Kk54oOD734fY",
        "outputId": "4b777410-93d6-449f-bf7d-67d5ef83087c"
      },
      "source": [
        "print('MSE:', mean_squared_error(y, preds))\n",
        "print('MAE:', median_absolute_error(y,preds))"
      ],
      "execution_count": 13,
      "outputs": [
        {
          "output_type": "stream",
          "text": [
            "MSE: 71814865.44440871\n",
            "MAE: 6604.856867159859\n"
          ],
          "name": "stdout"
        }
      ]
    },
    {
      "cell_type": "code",
      "metadata": {
        "colab": {
          "base_uri": "https://localhost:8080/"
        },
        "id": "qhaMJH5k34fZ",
        "outputId": "ac738499-9b30-4948-84c3-136530f26065"
      },
      "source": [
        "print('R2:',r2_score(y,preds))"
      ],
      "execution_count": 14,
      "outputs": [
        {
          "output_type": "stream",
          "text": [
            "R2: 0.8237249575361366\n"
          ],
          "name": "stdout"
        }
      ]
    },
    {
      "cell_type": "markdown",
      "metadata": {
        "id": "8YbQmCNz34fZ"
      },
      "source": [
        "### Programación de un wrapper compatible con scikit-learn"
      ]
    },
    {
      "cell_type": "markdown",
      "metadata": {
        "id": "kxBoxeI-34fa"
      },
      "source": [
        "Intenta programar una clase OLSRegressor para el método directo que sea compatible con Scikit-learn. Para ello, la clase debe heredar de las clases sklearn.base.BaseEstimator y sklearn.base.RegressorMixin.\n",
        "\n",
        "También debe implementar un método fit(self, X, y) que calcule el beta a partir de X e y y lo guarde en un atributo self.beta_ y un método predict(self, X) que utilice el atributo self.beta_ calculado en fit para realizar predicciones a partir de la X."
      ]
    },
    {
      "cell_type": "code",
      "metadata": {
        "colab": {
          "base_uri": "https://localhost:8080/"
        },
        "id": "p_z8Ugu9-Bdi",
        "outputId": "40ae2a21-de5a-4887-94e4-962d2c2b68bb"
      },
      "source": [
        "X.shape\r\n"
      ],
      "execution_count": 23,
      "outputs": [
        {
          "output_type": "execute_result",
          "data": {
            "text/plain": [
              "(16,)"
            ]
          },
          "metadata": {
            "tags": []
          },
          "execution_count": 23
        }
      ]
    },
    {
      "cell_type": "code",
      "metadata": {
        "id": "gaMthH0A34fa"
      },
      "source": [
        "################################################################################\r\n",
        "################### SOLUCION ###################################################\r\n",
        "from sklearn.base import BaseEstimator, RegressorMixin"
      ],
      "execution_count": 19,
      "outputs": []
    },
    {
      "cell_type": "code",
      "metadata": {
        "id": "v9On-TjT-UpS"
      },
      "source": [
        "class OLSRegressor(BaseEstimator, RegressorMixin):\r\n",
        "\r\n",
        "    def fit(self, X, y):\r\n",
        "        if len(X.shape) == 1: X = x.reshape((-1, 1))\r\n",
        "        ones = np.ones((len(X), 1))\r\n",
        "        X_bias = np.append(ones, X, axis=1)\r\n",
        "        self.beta_ = np.linalg.inv(X_bias.T @ X_bias) @ X_bias.T @ y\r\n",
        "\r\n",
        "    def predict(self, X):\r\n",
        "        if len(X.shape) == 1: X = x.reshape((-1, 1))\r\n",
        "        ones = np.ones((len(X), 1))\r\n",
        "        X_bias = np.append(ones, X, axis=1)\r\n",
        "        return X_bias @ self.beta_"
      ],
      "execution_count": 24,
      "outputs": []
    },
    {
      "cell_type": "markdown",
      "metadata": {
        "id": "igvP1AlI34fa"
      },
      "source": [
        "Comprueba que funciona:"
      ]
    },
    {
      "cell_type": "code",
      "metadata": {
        "id": "az9rnLBn-ZkB"
      },
      "source": [
        "X = x\r\n",
        "olsr = OLSRegressor()\r\n",
        "olsr.fit(X, y)\r\n",
        "preds = olsr.predict(X)"
      ],
      "execution_count": 25,
      "outputs": []
    },
    {
      "cell_type": "markdown",
      "metadata": {
        "id": "4avYvLNj34fb"
      },
      "source": [
        "Y haz una gráfica con los datos y las predicciones, y calcula el MSE y el MAE:"
      ]
    },
    {
      "cell_type": "code",
      "metadata": {
        "colab": {
          "base_uri": "https://localhost:8080/",
          "height": 336
        },
        "id": "kaEuVo8U34fb",
        "outputId": "972e5ae6-3d4a-4963-fffc-aa6d02868aa1"
      },
      "source": [
        "# Solución\r\n",
        "import seaborn as sns\r\n",
        "sns.regplot(X, preds, fit_reg=False)\r\n",
        "sns.regplot(X, y, fit_reg=False)"
      ],
      "execution_count": 26,
      "outputs": [
        {
          "output_type": "stream",
          "text": [
            "/usr/local/lib/python3.7/dist-packages/seaborn/_decorators.py:43: FutureWarning: Pass the following variables as keyword args: x, y. From version 0.12, the only valid positional argument will be `data`, and passing other arguments without an explicit keyword will result in an error or misinterpretation.\n",
            "  FutureWarning\n"
          ],
          "name": "stderr"
        },
        {
          "output_type": "execute_result",
          "data": {
            "text/plain": [
              "<matplotlib.axes._subplots.AxesSubplot at 0x7f96b77c6e90>"
            ]
          },
          "metadata": {
            "tags": []
          },
          "execution_count": 26
        },
        {
          "output_type": "display_data",
          "data": {
            "image/png": "[encoded data removed]",
            "text/plain": [
              "<Figure size 432x288 with 1 Axes>"
            ]
          },
          "metadata": {
            "tags": [],
            "needs_background": "light"
          }
        }
      ]
    },
    {
      "cell_type": "code",
      "metadata": {
        "colab": {
          "base_uri": "https://localhost:8080/"
        },
        "id": "Qg2XgbdT34fb",
        "outputId": "06f0869a-109e-4692-b505-1669eae8f3b2"
      },
      "source": [
        "# Solución\r\n",
        "from sklearn.metrics import mean_absolute_error, mean_squared_error\r\n",
        "mse = mean_squared_error(y, preds)\r\n",
        "mae = mean_absolute_error(y, preds)\r\n",
        "print(\"MSE: \" + str(mse) + \" MAE: \" + str(mae))"
      ],
      "execution_count": 27,
      "outputs": [
        {
          "output_type": "stream",
          "text": [
            "MSE: 71814865.44440868 MAE: 7209.405489439265\n"
          ],
          "name": "stdout"
        }
      ]
    },
    {
      "cell_type": "markdown",
      "metadata": {
        "id": "YcBa_iEw34fb"
      },
      "source": [
        "Prueba ahora con el dataset de Boston Housing, que está disponible en Scikit-learn:"
      ]
    },
    {
      "cell_type": "code",
      "metadata": {
        "id": "2P4DhUEb34fc"
      },
      "source": [
        "from sklearn.datasets import load_boston\n",
        "X, y = load_boston(return_X_y=True)\n",
        "olsr = OLSRegressor()\n",
        "olsr.fit(X, y)\n",
        "preds = olsr.predict(X)"
      ],
      "execution_count": 28,
      "outputs": []
    },
    {
      "cell_type": "markdown",
      "metadata": {
        "id": "KF3JDb6-34fc"
      },
      "source": [
        "En este caso hay más de una variable explicativa, así que vamos a hacer la [descomposición PCA](scikit-learn.org/stable/modules/generated/sklearn.decomposition.PCA.html) de X para quedarnos sólo con una dimensión y poder pintar una gráfica:"
      ]
    },
    {
      "cell_type": "code",
      "metadata": {
        "colab": {
          "base_uri": "https://localhost:8080/",
          "height": 336
        },
        "id": "3Gh5q0UR34fc",
        "outputId": "46038cca-62e1-4a54-816f-831dc1dd96b1"
      },
      "source": [
        "import seaborn as sns\n",
        "from sklearn.decomposition import PCA\n",
        "X_pca = PCA().fit_transform(X)[:, 0]\n",
        "sns.regplot(X_pca, preds, fit_reg=False)\n",
        "sns.regplot(X_pca, y, fit_reg=False)"
      ],
      "execution_count": 29,
      "outputs": [
        {
          "output_type": "stream",
          "text": [
            "/usr/local/lib/python3.7/dist-packages/seaborn/_decorators.py:43: FutureWarning: Pass the following variables as keyword args: x, y. From version 0.12, the only valid positional argument will be `data`, and passing other arguments without an explicit keyword will result in an error or misinterpretation.\n",
            "  FutureWarning\n"
          ],
          "name": "stderr"
        },
        {
          "output_type": "execute_result",
          "data": {
            "text/plain": [
              "<matplotlib.axes._subplots.AxesSubplot at 0x7f96b68e8bd0>"
            ]
          },
          "metadata": {
            "tags": []
          },
          "execution_count": 29
        },
        {
          "output_type": "display_data",
          "data": {
            "image/png": "[encoded data removed]",
            "text/plain": [
              "<Figure size 432x288 with 1 Axes>"
            ]
          },
          "metadata": {
            "tags": [],
            "needs_background": "light"
          }
        }
      ]
    },
    {
      "cell_type": "code",
      "metadata": {
        "colab": {
          "base_uri": "https://localhost:8080/"
        },
        "id": "IsjTAsZv34fc",
        "outputId": "c0f290c8-32e6-43f8-b1df-d1eaebda8e3f"
      },
      "source": [
        "from sklearn.metrics import mean_absolute_error, mean_squared_error\n",
        "mse = mean_squared_error(y, preds)\n",
        "mae = mean_absolute_error(y, preds)\n",
        "print(\"MSE: \" + str(mse) + \" MAE: \" + str(mae))"
      ],
      "execution_count": 30,
      "outputs": [
        {
          "output_type": "stream",
          "text": [
            "MSE: 21.894831181729202 MAE: 3.2708628109006046\n"
          ],
          "name": "stdout"
        }
      ]
    },
    {
      "cell_type": "markdown",
      "metadata": {
        "id": "XmW2sFlB34fd"
      },
      "source": [
        "## Regresión lineal, método iterativo (SGD)"
      ]
    },
    {
      "cell_type": "markdown",
      "metadata": {
        "id": "ptrn5Lu634fd"
      },
      "source": [
        "### Clase SGDRegressor"
      ]
    },
    {
      "cell_type": "markdown",
      "metadata": {
        "id": "pftpgWhP34fd"
      },
      "source": [
        "El método directo funciona y en sencillo de programar, pero tiene los problemas que se mencionan en los apuntes:\n",
        "* las matrices pueden ser singulares y por tanto no tener inversa, lo que invalida el método\n",
        "* si el conjunto de datos es muy grande, el coste de calcular la matriz inversa es demasiado alto\n",
        "Por ello vamos a probar el método iterativo de descenso por gradiente (SGD). En Scikit-learn se corresponde con la clase [SGDRegressor](scikit-learn.org/stable/modules/generated/sklearn.linear_model.SGDRegressor.html). Carga el dataset de regresión [Boston Housing](http://scikit-learn.org/stable/modules/generated/sklearn.datasets.load_boston.html) e intenta entrenar y predecir con el modelo SGDRegressor:"
      ]
    },
    {
      "cell_type": "code",
      "metadata": {
        "id": "mjNfhAlH34fd"
      },
      "source": [
        "from sklearn.datasets import load_boston\n",
        "X, y = load_boston(return_X_y=True)"
      ],
      "execution_count": 31,
      "outputs": []
    },
    {
      "cell_type": "code",
      "metadata": {
        "id": "_EKC_S1H34fe"
      },
      "source": [
        "# Solución\r\n",
        "from sklearn.linear_model import SGDRegressor\r\n",
        "lr = SGDRegressor()\r\n",
        "lr.fit(X, y)\r\n",
        "preds = lr.predict(X)"
      ],
      "execution_count": 32,
      "outputs": []
    },
    {
      "cell_type": "markdown",
      "metadata": {
        "id": "J6ULa4KI34fe"
      },
      "source": [
        "Como en este dataset hay más de una variable explicativa, vamos a hacer [PCA](scikit-learn.org/stable/modules/generated/sklearn.decomposition.PCA.html) de X para quedarnos sólo con una dimensión y poder pintar una gráfica:"
      ]
    },
    {
      "cell_type": "code",
      "metadata": {
        "colab": {
          "base_uri": "https://localhost:8080/",
          "height": 347
        },
        "id": "Z79Pn3VB34fe",
        "outputId": "d613c870-4908-477a-ac59-54127478324f"
      },
      "source": [
        "import seaborn as sns\n",
        "from sklearn.decomposition import PCA\n",
        "X_pca = PCA().fit_transform(X)[:, 0]\n",
        "sns.regplot(X_pca, preds, fit_reg=False)\n",
        "sns.regplot(X_pca, y, fit_reg=False)"
      ],
      "execution_count": 33,
      "outputs": [
        {
          "output_type": "stream",
          "text": [
            "/usr/local/lib/python3.7/dist-packages/seaborn/_decorators.py:43: FutureWarning: Pass the following variables as keyword args: x, y. From version 0.12, the only valid positional argument will be `data`, and passing other arguments without an explicit keyword will result in an error or misinterpretation.\n",
            "  FutureWarning\n"
          ],
          "name": "stderr"
        },
        {
          "output_type": "execute_result",
          "data": {
            "text/plain": [
              "<matplotlib.axes._subplots.AxesSubplot at 0x7f96b4674790>"
            ]
          },
          "metadata": {
            "tags": []
          },
          "execution_count": 33
        },
        {
          "output_type": "display_data",
          "data": {
            "image/png": "[encoded data removed]",
            "text/plain": [
              "<Figure size 432x288 with 1 Axes>"
            ]
          },
          "metadata": {
            "tags": [],
            "needs_background": "light"
          }
        }
      ]
    },
    {
      "cell_type": "markdown",
      "metadata": {
        "id": "-A5Fd4q634fe"
      },
      "source": [
        "Las predicciones no parecen nada buenas. Veamos los errores:"
      ]
    },
    {
      "cell_type": "code",
      "metadata": {
        "colab": {
          "base_uri": "https://localhost:8080/"
        },
        "id": "5wNRJpLz34ff",
        "outputId": "f4e6224c-e7bc-4b2a-85bf-de549187ddb9"
      },
      "source": [
        "from sklearn.metrics import mean_absolute_error, mean_squared_error\n",
        "mse = mean_squared_error(y, preds)\n",
        "mae = mean_absolute_error(y, preds)\n",
        "print(\"MSE: \" + str(mse) + \" MAE: \" + str(mae))"
      ],
      "execution_count": 34,
      "outputs": [
        {
          "output_type": "stream",
          "text": [
            "MSE: 3.2954394283084148e+28 MAE: 174577751037106.1\n"
          ],
          "name": "stdout"
        }
      ]
    },
    {
      "cell_type": "markdown",
      "metadata": {
        "id": "9Ts6ZYo434ff"
      },
      "source": [
        "Esta vez los resultados son muy malos. En los apuntes se indicó que al utilzar un método basado en descenso por gradiente hay que tomar una precaución porque el método tiene mucha sensibilidad a la escala de las variables explicativas. ¿Sabrías explicar de qué precaución se trata?"
      ]
    },
    {
      "cell_type": "code",
      "metadata": {
        "id": "7j3Br1dB-97n"
      },
      "source": [
        "#SOLUCION: Hay que estandarizar las variables de entrada"
      ],
      "execution_count": 35,
      "outputs": []
    },
    {
      "cell_type": "markdown",
      "metadata": {
        "id": "T7yjsjEX34ff"
      },
      "source": [
        "A continuación se resuelve el problema utilizando el preprocesador de datos apropiado:"
      ]
    },
    {
      "cell_type": "code",
      "metadata": {
        "id": "VIpKiWfu34ff"
      },
      "source": [
        "from sklearn.datasets import load_boston\n",
        "from sklearn.linear_model import SGDRegressor\n",
        "from sklearn.pipeline import Pipeline\n",
        "from sklearn.preprocessing import StandardScaler\n",
        "X, y = load_boston(return_X_y=True)\n",
        "lr = Pipeline([('stds', StandardScaler()), ('sgdr', SGDRegressor())])\n",
        "lr.fit(X, y)\n",
        "preds = lr.predict(X)"
      ],
      "execution_count": 36,
      "outputs": []
    },
    {
      "cell_type": "code",
      "metadata": {
        "colab": {
          "base_uri": "https://localhost:8080/",
          "height": 336
        },
        "id": "ghTsph7734fg",
        "outputId": "bd2c056b-5aad-448e-c8b9-c8c3db9e10c6"
      },
      "source": [
        "import seaborn as sns\n",
        "from sklearn.decomposition import PCA\n",
        "X_pca = PCA().fit_transform(X)[:, 0]\n",
        "sns.regplot(X_pca, preds, fit_reg=False)\n",
        "sns.regplot(X_pca, y, fit_reg=False)"
      ],
      "execution_count": 37,
      "outputs": [
        {
          "output_type": "stream",
          "text": [
            "/usr/local/lib/python3.7/dist-packages/seaborn/_decorators.py:43: FutureWarning: Pass the following variables as keyword args: x, y. From version 0.12, the only valid positional argument will be `data`, and passing other arguments without an explicit keyword will result in an error or misinterpretation.\n",
            "  FutureWarning\n"
          ],
          "name": "stderr"
        },
        {
          "output_type": "execute_result",
          "data": {
            "text/plain": [
              "<matplotlib.axes._subplots.AxesSubplot at 0x7f96b45f17d0>"
            ]
          },
          "metadata": {
            "tags": []
          },
          "execution_count": 37
        },
        {
          "output_type": "display_data",
          "data": {
            "image/png": "[encoded data removed]",
            "text/plain": [
              "<Figure size 432x288 with 1 Axes>"
            ]
          },
          "metadata": {
            "tags": [],
            "needs_background": "light"
          }
        }
      ]
    },
    {
      "cell_type": "code",
      "metadata": {
        "colab": {
          "base_uri": "https://localhost:8080/"
        },
        "id": "n1nJ5qMS34fh",
        "outputId": "8adbc238-3a37-4d06-91dd-d0bd99fde378"
      },
      "source": [
        "from sklearn.metrics import mean_absolute_error, mean_squared_error\n",
        "mse = mean_squared_error(y, preds)\n",
        "mae = mean_absolute_error(y, preds)\n",
        "print(\"MSE: \" + str(mse) + \" MAE: \" + str(mae))"
      ],
      "execution_count": 38,
      "outputs": [
        {
          "output_type": "stream",
          "text": [
            "MSE: 22.006295882572402 MAE: 3.2591443398929143\n"
          ],
          "name": "stdout"
        }
      ]
    },
    {
      "cell_type": "markdown",
      "metadata": {
        "id": "uk8CH3QV34fi"
      },
      "source": [
        "Y se puede comprobar que los resultados son correctos de nuevo."
      ]
    },
    {
      "cell_type": "markdown",
      "metadata": {
        "id": "k67USLAB34fi"
      },
      "source": [
        "## Regresión logística"
      ]
    },
    {
      "cell_type": "markdown",
      "metadata": {
        "id": "GpgdPuQ434fj"
      },
      "source": [
        "### Clase SGDClassifier"
      ]
    },
    {
      "cell_type": "markdown",
      "metadata": {
        "id": "ZPf4uCWU34fj"
      },
      "source": [
        "Al igual que para regresión tenemos la clase SGDRegressor, para clasificación tenemos la clase [SGDClassifier](http://scikit-learn.org/stable/modules/generated/sklearn.linear_model.SGDClassifier.html). Prueba a cargar los datos del dataset [Iris](scikit-learn.org/stable/modules/generated/sklearn.datasets.load_iris.html) para clasificación (también disponibles en sklearn.datasets) y a entrenar y predecir con un modelo SGDClassifier:"
      ]
    },
    {
      "cell_type": "code",
      "metadata": {
        "id": "JCiv7UZY34fj"
      },
      "source": [
        "# Solución\r\n",
        "from sklearn.datasets import load_iris\r\n",
        "from sklearn.linear_model import SGDClassifier\r\n",
        "from sklearn.pipeline import Pipeline\r\n",
        "from sklearn.preprocessing import StandardScaler\r\n",
        "X, y = load_iris(return_X_y=True)\r\n",
        "lr = Pipeline([('stds', StandardScaler()), ('sgdc', SGDClassifier())])\r\n",
        "lr.fit(X, y)\r\n",
        "preds = lr.predict(X)"
      ],
      "execution_count": 39,
      "outputs": []
    },
    {
      "cell_type": "markdown",
      "metadata": {
        "id": "mZbfuxrO34fk"
      },
      "source": [
        "Haz una gráfica con la primera dimensión de PCA, los targets y las predicciones del modelo, como en los ejercicios anteriores:"
      ]
    },
    {
      "cell_type": "code",
      "metadata": {
        "colab": {
          "base_uri": "https://localhost:8080/",
          "height": 336
        },
        "id": "ebIAAYgD34fk",
        "outputId": "2e5f3ac9-59f2-4ab7-fe45-85517925cb62"
      },
      "source": [
        "# Solución\r\n",
        "import seaborn as sns\r\n",
        "from sklearn.decomposition import PCA\r\n",
        "X_pca = PCA().fit_transform(X)[:, 0]\r\n",
        "sns.regplot(X_pca, preds, fit_reg=False)\r\n",
        "sns.regplot(X_pca, y, fit_reg=False)"
      ],
      "execution_count": 40,
      "outputs": [
        {
          "output_type": "stream",
          "text": [
            "/usr/local/lib/python3.7/dist-packages/seaborn/_decorators.py:43: FutureWarning: Pass the following variables as keyword args: x, y. From version 0.12, the only valid positional argument will be `data`, and passing other arguments without an explicit keyword will result in an error or misinterpretation.\n",
            "  FutureWarning\n"
          ],
          "name": "stderr"
        },
        {
          "output_type": "execute_result",
          "data": {
            "text/plain": [
              "<matplotlib.axes._subplots.AxesSubplot at 0x7f96b455aa10>"
            ]
          },
          "metadata": {
            "tags": []
          },
          "execution_count": 40
        },
        {
          "output_type": "display_data",
          "data": {
            "image/png": "[encoded data removed]",
            "text/plain": [
              "<Figure size 432x288 with 1 Axes>"
            ]
          },
          "metadata": {
            "tags": [],
            "needs_background": "light"
          }
        }
      ]
    },
    {
      "cell_type": "markdown",
      "metadata": {
        "id": "h2BiLoG234fk"
      },
      "source": [
        "Y utiliza la métrica accuracy_score de sklearn.metrics para ver si el resultado es bueno:"
      ]
    },
    {
      "cell_type": "code",
      "metadata": {
        "colab": {
          "base_uri": "https://localhost:8080/"
        },
        "id": "bb5uZsMv34fk",
        "outputId": "e2e8699a-9758-4c01-ecba-f44ef5d22ce1"
      },
      "source": [
        "# Solución\r\n",
        "from sklearn.metrics import accuracy_score\r\n",
        "acc = accuracy_score(y, preds)\r\n",
        "print(\"Acc: \" + str(acc))"
      ],
      "execution_count": 41,
      "outputs": [
        {
          "output_type": "stream",
          "text": [
            "Acc: 0.98\n"
          ],
          "name": "stdout"
        }
      ]
    },
    {
      "cell_type": "markdown",
      "metadata": {
        "id": "KF_ZVrbU34fk"
      },
      "source": [
        "### Clase LogisticRegression"
      ]
    },
    {
      "cell_type": "markdown",
      "metadata": {
        "id": "lPRPwxh-34fl"
      },
      "source": [
        "Scikit-learn también proporciona la clase [LogisticRegression](scikit-learn.org/stable/modules/generated/sklearn.linear_model.LogisticRegression.html) que cuenta con métodos de entrenamiento más avanzados, regularizadores, etc. Repite el proceso con esta nueva clase:"
      ]
    },
    {
      "cell_type": "code",
      "metadata": {
        "id": "FEVE00CD34fl"
      },
      "source": [
        "# Solución\r\n",
        "from sklearn.datasets import load_iris\r\n",
        "from sklearn.linear_model import LogisticRegression\r\n",
        "from sklearn.pipeline import Pipeline\r\n",
        "from sklearn.preprocessing import StandardScaler\r\n",
        "X, y = load_iris(return_X_y=True)\r\n",
        "lr = Pipeline([('stds', StandardScaler()), ('sgdc', LogisticRegression())])\r\n",
        "lr.fit(X, y)\r\n",
        "preds = lr.predict(X)"
      ],
      "execution_count": 42,
      "outputs": []
    },
    {
      "cell_type": "code",
      "metadata": {
        "colab": {
          "base_uri": "https://localhost:8080/",
          "height": 336
        },
        "id": "lTArBnCR34fl",
        "outputId": "841982ba-2fff-4120-e6a3-5ead5aba8619"
      },
      "source": [
        "# Solución\r\n",
        "import seaborn as sns\r\n",
        "from sklearn.decomposition import PCA\r\n",
        "X_pca = PCA().fit_transform(X)[:, 0]\r\n",
        "sns.regplot(X_pca, preds, fit_reg=False)\r\n",
        "sns.regplot(X_pca, y, fit_reg=False)"
      ],
      "execution_count": 43,
      "outputs": [
        {
          "output_type": "stream",
          "text": [
            "/usr/local/lib/python3.7/dist-packages/seaborn/_decorators.py:43: FutureWarning: Pass the following variables as keyword args: x, y. From version 0.12, the only valid positional argument will be `data`, and passing other arguments without an explicit keyword will result in an error or misinterpretation.\n",
            "  FutureWarning\n"
          ],
          "name": "stderr"
        },
        {
          "output_type": "execute_result",
          "data": {
            "text/plain": [
              "<matplotlib.axes._subplots.AxesSubplot at 0x7f96b44a7690>"
            ]
          },
          "metadata": {
            "tags": []
          },
          "execution_count": 43
        },
        {
          "output_type": "display_data",
          "data": {
            "image/png": "[encoded data removed]",
            "text/plain": [
              "<Figure size 432x288 with 1 Axes>"
            ]
          },
          "metadata": {
            "tags": [],
            "needs_background": "light"
          }
        }
      ]
    },
    {
      "cell_type": "code",
      "metadata": {
        "colab": {
          "base_uri": "https://localhost:8080/"
        },
        "id": "U0UaYjJF34fl",
        "outputId": "5845342f-d2df-4b76-949b-5086fb8eece6"
      },
      "source": [
        "# Solución\r\n",
        "from sklearn.metrics import accuracy_score\r\n",
        "acc = accuracy_score(y, preds)\r\n",
        "print(\"Acc: \" + str(acc))"
      ],
      "execution_count": 44,
      "outputs": [
        {
          "output_type": "stream",
          "text": [
            "Acc: 0.9733333333333334\n"
          ],
          "name": "stdout"
        }
      ]
    },
    {
      "cell_type": "markdown",
      "metadata": {
        "id": "-DI5ajys34fl"
      },
      "source": [
        "## Evaluación correcta del modelo"
      ]
    },
    {
      "cell_type": "markdown",
      "metadata": {
        "id": "selymhmI34fm"
      },
      "source": [
        "### Particiones de train y test"
      ]
    },
    {
      "cell_type": "markdown",
      "metadata": {
        "id": "lZ52xfY834fm"
      },
      "source": [
        "En los ejercicios previos hemos cometido un error metodológico importante a la hora de evaluar la calidad de los modelos: hemos calculado las métricas de error con el mismo dataset que hemos usado para entrenar. Esto puede hacer que los modelos caigan en sobreajuste y la estimación del error sea totalmente irreal. Para evitarlo, lo habitual es hacer una partición del dataset en train y test, o realizar una validación cruzada.\n",
        "\n",
        "Scikit-learn ofrece una forma sencilla de separar train y test con la función [train_test_split](scikit-learn.org/stable/modules/generated/sklearn.model_selection.train_test_split.html). Entrena el modelo SGDRegressor sobre Boston Housing usando una partición de train y luego calcula MSE y MAE de sus predicciones sobre test:"
      ]
    },
    {
      "cell_type": "code",
      "metadata": {
        "id": "rMXEvkMA34fm"
      },
      "source": [
        "# Solución\r\n",
        "from sklearn.datasets import load_boston\r\n",
        "from sklearn.linear_model import SGDRegressor\r\n",
        "from sklearn.model_selection import train_test_split\r\n",
        "from sklearn.pipeline import Pipeline\r\n",
        "from sklearn.preprocessing import StandardScaler\r\n",
        "X, y = load_boston(return_X_y=True)\r\n",
        "X_train, X_test, y_train, y_test = train_test_split(X, y)\r\n",
        "lr = Pipeline([('stds', StandardScaler()), ('sgdr', SGDRegressor())])\r\n",
        "lr.fit(X_train, y_train)\r\n",
        "preds = lr.predict(X_test)"
      ],
      "execution_count": 45,
      "outputs": []
    },
    {
      "cell_type": "code",
      "metadata": {
        "colab": {
          "base_uri": "https://localhost:8080/"
        },
        "id": "KtuokN-t34fn",
        "outputId": "392f7bdc-69d4-4892-86d5-5e7b7b0e4c39"
      },
      "source": [
        "# Solución\r\n",
        "from sklearn.metrics import mean_absolute_error, mean_squared_error\r\n",
        "mse = mean_squared_error(y_test, preds)\r\n",
        "mae = mean_absolute_error(y_test, preds)\r\n",
        "print(\"MSE: \" + str(mse) + \" MAE: \" + str(mae))"
      ],
      "execution_count": 47,
      "outputs": [
        {
          "output_type": "stream",
          "text": [
            "MSE: 26.443559940382233 MAE: 3.6222165472870325\n"
          ],
          "name": "stdout"
        }
      ]
    },
    {
      "cell_type": "code",
      "metadata": {
        "id": "HiboCtfE_k5O"
      },
      "source": [
        ""
      ],
      "execution_count": null,
      "outputs": []
    }
  ]
}