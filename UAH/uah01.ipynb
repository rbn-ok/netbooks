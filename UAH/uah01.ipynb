{
  "nbformat": 4,
  "nbformat_minor": 0,
  "metadata": {
    "colab": {
      "name": "uah01.ipynb",
      "provenance": []
    },
    "kernelspec": {
      "name": "python3",
      "display_name": "Python 3"
    }
  },
  "cells": [
    {
      "cell_type": "markdown",
      "metadata": {
        "id": "NO7_tYKX-EgI"
      },
      "source": [
        "## **Introducción a Scikit-learn**\r\n",
        "---------------"
      ]
    },
    {
      "cell_type": "markdown",
      "metadata": {
        "id": "zIFzGXX--JJv"
      },
      "source": [
        "Scikit-learn (sklearn) es la librería Python más popular para el Aprendizaje Automático. Incluye gran cantidad de modelos predictivos como:\r\n",
        "\r\n",
        "* Modelos de vecinos\r\n",
        "* Árboles de decisión\r\n",
        "* Ensembles\r\n",
        "* Modelos lineales generalizados\r\n",
        "* Máquinas de vectores de soporte\r\n",
        "* Redes neuronales artificiales clásicas\r\n",
        "* Procesos gaussianos\r\n",
        "* Transformación lineal de variables y una gran cantidad de utilidades como técnicas de búsqueda de meta-parámetros, de validación cruzada, cargadores de datasets de juguete, etc.\r\n",
        "\r\n",
        "La clase más importante de sklearn y la base de toda su estructura es el estimator. Esta clase incluye tanto modelos predictivos, de la clase predictor, como transformadores de variables, de la clase transformer.\r\n",
        "\r\n",
        "Los objetos de la clase estimator siempre tienen los siguientes métodos:\r\n",
        "\r\n",
        "* init: recibe como argumentos los meta-parámetros del modelo y los guarda como atributos\r\n",
        "* fit: recibe como argumentos los datos de entrenamiento (las features X y si el modelo es supervisado también los targets y)\r\n",
        "* score: recibe como argumentos los datos de test (X y si el modelo es supervisado también y) y estima la bondad del modelo entrenado con una métrica apropiada\r\n",
        "A su vez, los objetos de la clase predictor tienen el método\r\n",
        "\r\n",
        "* predict: recibe como argumento las features X y calcula predicciones para las y y los objetos de la clase transformer tienen el método\r\n",
        "* transform: recibe como argumento las features X y calcula sus transformaciones\r\n",
        "\r\n",
        "La clase predictor se divide a su vez en las clases classifier, regressor y cluster, que tienen los mismos métodos pero están adaptadas a problemas de clasificación, regresión o clustering, respectivamente. La diferencia fundamental entre ellos es que las métricas usadas por score son distintas en cada caso, y los objetos de la clase cluster no reciben el argumento y en sus métodos."
      ]
    },
    {
      "cell_type": "markdown",
      "metadata": {
        "id": "Sns2JzJe-mMg"
      },
      "source": [
        "**Clasificador básico para el dataset Iris**\r\n",
        "\r\n",
        "Vamos a construir un modelo básico de vecinos para el dataset de clasificación de Iris. Este problema consiste en predecir categorías, así que hay que utilizar modelos de clase classifier."
      ]
    },
    {
      "cell_type": "code",
      "metadata": {
        "colab": {
          "base_uri": "https://localhost:8080/"
        },
        "id": "RJB37GJh-63e",
        "outputId": "bb7d1681-5b20-483b-f5f9-e4026707e0e5"
      },
      "source": [
        "from sklearn.datasets import load_iris\r\n",
        "iris = load_iris()\r\n",
        "X = iris.data\r\n",
        "y = iris.target\r\n",
        "print(iris.DESCR)"
      ],
      "execution_count": 6,
      "outputs": [
        {
          "output_type": "stream",
          "text": [
            ".. _iris_dataset:\n",
            "\n",
            "Iris plants dataset\n",
            "--------------------\n",
            "\n",
            "**Data Set Characteristics:**\n",
            "\n",
            "    :Number of Instances: 150 (50 in each of three classes)\n",
            "    :Number of Attributes: 4 numeric, predictive attributes and the class\n",
            "    :Attribute Information:\n",
            "        - sepal length in cm\n",
            "        - sepal width in cm\n",
            "        - petal length in cm\n",
            "        - petal width in cm\n",
            "        - class:\n",
            "                - Iris-Setosa\n",
            "                - Iris-Versicolour\n",
            "                - Iris-Virginica\n",
            "                \n",
            "    :Summary Statistics:\n",
            "\n",
            "    ============== ==== ==== ======= ===== ====================\n",
            "                    Min  Max   Mean    SD   Class Correlation\n",
            "    ============== ==== ==== ======= ===== ====================\n",
            "    sepal length:   4.3  7.9   5.84   0.83    0.7826\n",
            "    sepal width:    2.0  4.4   3.05   0.43   -0.4194\n",
            "    petal length:   1.0  6.9   3.76   1.76    0.9490  (high!)\n",
            "    petal width:    0.1  2.5   1.20   0.76    0.9565  (high!)\n",
            "    ============== ==== ==== ======= ===== ====================\n",
            "\n",
            "    :Missing Attribute Values: None\n",
            "    :Class Distribution: 33.3% for each of 3 classes.\n",
            "    :Creator: R.A. Fisher\n",
            "    :Donor: Michael Marshall (MARSHALL%PLU@io.arc.nasa.gov)\n",
            "    :Date: July, 1988\n",
            "\n",
            "The famous Iris database, first used by Sir R.A. Fisher. The dataset is taken\n",
            "from Fisher's paper. Note that it's the same as in R, but not as in the UCI\n",
            "Machine Learning Repository, which has two wrong data points.\n",
            "\n",
            "This is perhaps the best known database to be found in the\n",
            "pattern recognition literature.  Fisher's paper is a classic in the field and\n",
            "is referenced frequently to this day.  (See Duda & Hart, for example.)  The\n",
            "data set contains 3 classes of 50 instances each, where each class refers to a\n",
            "type of iris plant.  One class is linearly separable from the other 2; the\n",
            "latter are NOT linearly separable from each other.\n",
            "\n",
            ".. topic:: References\n",
            "\n",
            "   - Fisher, R.A. \"The use of multiple measurements in taxonomic problems\"\n",
            "     Annual Eugenics, 7, Part II, 179-188 (1936); also in \"Contributions to\n",
            "     Mathematical Statistics\" (John Wiley, NY, 1950).\n",
            "   - Duda, R.O., & Hart, P.E. (1973) Pattern Classification and Scene Analysis.\n",
            "     (Q327.D83) John Wiley & Sons.  ISBN 0-471-22361-1.  See page 218.\n",
            "   - Dasarathy, B.V. (1980) \"Nosing Around the Neighborhood: A New System\n",
            "     Structure and Classification Rule for Recognition in Partially Exposed\n",
            "     Environments\".  IEEE Transactions on Pattern Analysis and Machine\n",
            "     Intelligence, Vol. PAMI-2, No. 1, 67-71.\n",
            "   - Gates, G.W. (1972) \"The Reduced Nearest Neighbor Rule\".  IEEE Transactions\n",
            "     on Information Theory, May 1972, 431-433.\n",
            "   - See also: 1988 MLC Proceedings, 54-64.  Cheeseman et al\"s AUTOCLASS II\n",
            "     conceptual clustering system finds 3 classes in the data.\n",
            "   - Many, many more ...\n"
          ],
          "name": "stdout"
        }
      ]
    },
    {
      "cell_type": "code",
      "metadata": {
        "id": "RDrqYfk4_Gfo"
      },
      "source": [
        "from sklearn.neighbors import KNeighborsClassifier\r\n",
        "predictor = KNeighborsClassifier(n_neighbors=3)"
      ],
      "execution_count": 7,
      "outputs": []
    },
    {
      "cell_type": "code",
      "metadata": {
        "colab": {
          "base_uri": "https://localhost:8080/"
        },
        "id": "L2uWV76w_GiX",
        "outputId": "cd3ebcfc-d9bd-4f5b-9c13-b3129c404c28"
      },
      "source": [
        "predictor.fit(X,y)"
      ],
      "execution_count": 8,
      "outputs": [
        {
          "output_type": "execute_result",
          "data": {
            "text/plain": [
              "KNeighborsClassifier(algorithm='auto', leaf_size=30, metric='minkowski',\n",
              "                     metric_params=None, n_jobs=None, n_neighbors=3, p=2,\n",
              "                     weights='uniform')"
            ]
          },
          "metadata": {
            "tags": []
          },
          "execution_count": 8
        }
      ]
    },
    {
      "cell_type": "code",
      "metadata": {
        "colab": {
          "base_uri": "https://localhost:8080/"
        },
        "id": "yN5ZabAF_HaP",
        "outputId": "1988cef4-1a0f-4ccb-a581-61c6fc560930"
      },
      "source": [
        "predictor.predict(X)"
      ],
      "execution_count": 9,
      "outputs": [
        {
          "output_type": "execute_result",
          "data": {
            "text/plain": [
              "array([0, 0, 0, 0, 0, 0, 0, 0, 0, 0, 0, 0, 0, 0, 0, 0, 0, 0, 0, 0, 0, 0,\n",
              "       0, 0, 0, 0, 0, 0, 0, 0, 0, 0, 0, 0, 0, 0, 0, 0, 0, 0, 0, 0, 0, 0,\n",
              "       0, 0, 0, 0, 0, 0, 1, 1, 1, 1, 1, 1, 1, 1, 1, 1, 1, 1, 1, 1, 1, 1,\n",
              "       1, 1, 1, 1, 2, 1, 2, 1, 1, 1, 1, 1, 1, 1, 1, 1, 1, 2, 1, 1, 1, 1,\n",
              "       1, 1, 1, 1, 1, 1, 1, 1, 1, 1, 1, 1, 2, 2, 2, 2, 2, 2, 1, 2, 2, 2,\n",
              "       2, 2, 2, 2, 2, 2, 2, 2, 2, 1, 2, 2, 2, 2, 2, 2, 2, 2, 2, 2, 2, 2,\n",
              "       2, 1, 2, 2, 2, 2, 2, 2, 2, 2, 2, 2, 2, 2, 2, 2, 2, 2])"
            ]
          },
          "metadata": {
            "tags": []
          },
          "execution_count": 9
        }
      ]
    },
    {
      "cell_type": "code",
      "metadata": {
        "colab": {
          "base_uri": "https://localhost:8080/"
        },
        "id": "E6AzWsah_ZsY",
        "outputId": "9eaa6a93-957a-4c95-e3fe-2da18ae0bf2b"
      },
      "source": [
        "y"
      ],
      "execution_count": 11,
      "outputs": [
        {
          "output_type": "execute_result",
          "data": {
            "text/plain": [
              "array([0, 0, 0, 0, 0, 0, 0, 0, 0, 0, 0, 0, 0, 0, 0, 0, 0, 0, 0, 0, 0, 0,\n",
              "       0, 0, 0, 0, 0, 0, 0, 0, 0, 0, 0, 0, 0, 0, 0, 0, 0, 0, 0, 0, 0, 0,\n",
              "       0, 0, 0, 0, 0, 0, 1, 1, 1, 1, 1, 1, 1, 1, 1, 1, 1, 1, 1, 1, 1, 1,\n",
              "       1, 1, 1, 1, 1, 1, 1, 1, 1, 1, 1, 1, 1, 1, 1, 1, 1, 1, 1, 1, 1, 1,\n",
              "       1, 1, 1, 1, 1, 1, 1, 1, 1, 1, 1, 1, 2, 2, 2, 2, 2, 2, 2, 2, 2, 2,\n",
              "       2, 2, 2, 2, 2, 2, 2, 2, 2, 2, 2, 2, 2, 2, 2, 2, 2, 2, 2, 2, 2, 2,\n",
              "       2, 2, 2, 2, 2, 2, 2, 2, 2, 2, 2, 2, 2, 2, 2, 2, 2, 2])"
            ]
          },
          "metadata": {
            "tags": []
          },
          "execution_count": 11
        }
      ]
    },
    {
      "cell_type": "code",
      "metadata": {
        "colab": {
          "base_uri": "https://localhost:8080/"
        },
        "id": "AnIRadtJ_Hcw",
        "outputId": "f5505d09-0970-4662-8e28-9a57da9962b0"
      },
      "source": [
        "predictor.score(X,y)"
      ],
      "execution_count": 10,
      "outputs": [
        {
          "output_type": "execute_result",
          "data": {
            "text/plain": [
              "0.96"
            ]
          },
          "metadata": {
            "tags": []
          },
          "execution_count": 10
        }
      ]
    },
    {
      "cell_type": "markdown",
      "metadata": {
        "id": "0yx5L9kf_pCn"
      },
      "source": [
        "0.96 de **accuracy** es muy buen resultado, pero estamos cometiendo un error metodológico que nos lleva a sobreestimar la calidad del modelo entrenado: no se debe hacer score con los mismos datos con los que se ha hecho fit. Lo recomendable es hacer validación cruzada o al menos particiones de train y test."
      ]
    },
    {
      "cell_type": "code",
      "metadata": {
        "id": "zo_kynkU_Hfg"
      },
      "source": [
        "from sklearn.model_selection import train_test_split\r\n",
        "X, X_test, y, y_test = train_test_split(X, y, test_size=0.25)"
      ],
      "execution_count": 13,
      "outputs": []
    },
    {
      "cell_type": "code",
      "metadata": {
        "colab": {
          "base_uri": "https://localhost:8080/"
        },
        "id": "p-L1LUb-_xoA",
        "outputId": "50c2bff2-2f44-45b7-b31f-8d2b6ad8f890"
      },
      "source": [
        "predictor.fit(X, y)\r\n",
        "predictor.score(X_test, y_test)"
      ],
      "execution_count": 14,
      "outputs": [
        {
          "output_type": "execute_result",
          "data": {
            "text/plain": [
              "1.0"
            ]
          },
          "metadata": {
            "tags": []
          },
          "execution_count": 14
        }
      ]
    },
    {
      "cell_type": "markdown",
      "metadata": {
        "id": "9bQtXlhr_8ph"
      },
      "source": [
        "Ahora sí estamos haciendo una estimación razonable de la accuracy del modelo."
      ]
    },
    {
      "cell_type": "markdown",
      "metadata": {
        "id": "4i2yKVR4ACHI"
      },
      "source": [
        "## **Regresor básico para el dataset de Boston Housing**\r\n",
        "\r\n",
        "Vamos ahora con un modelo lineal de tipo ridge para resolver el problema de regresión de Boston Housing. En esta ocasión toca predecir una cantidad numérica en lugar de unas categorías, así que los modelos a utilizar serán los del tipo **regressor**."
      ]
    },
    {
      "cell_type": "code",
      "metadata": {
        "colab": {
          "base_uri": "https://localhost:8080/"
        },
        "id": "vxhtEqzf_xq3",
        "outputId": "dcc50d3c-f146-45f4-a7a6-bcdc1c2d63cc"
      },
      "source": [
        "from sklearn.datasets import load_boston\r\n",
        "boston = load_boston()\r\n",
        "X = boston.data\r\n",
        "y = boston.target\r\n",
        "print(boston.DESCR)"
      ],
      "execution_count": 15,
      "outputs": [
        {
          "output_type": "stream",
          "text": [
            ".. _boston_dataset:\n",
            "\n",
            "Boston house prices dataset\n",
            "---------------------------\n",
            "\n",
            "**Data Set Characteristics:**  \n",
            "\n",
            "    :Number of Instances: 506 \n",
            "\n",
            "    :Number of Attributes: 13 numeric/categorical predictive. Median Value (attribute 14) is usually the target.\n",
            "\n",
            "    :Attribute Information (in order):\n",
            "        - CRIM     per capita crime rate by town\n",
            "        - ZN       proportion of residential land zoned for lots over 25,000 sq.ft.\n",
            "        - INDUS    proportion of non-retail business acres per town\n",
            "        - CHAS     Charles River dummy variable (= 1 if tract bounds river; 0 otherwise)\n",
            "        - NOX      nitric oxides concentration (parts per 10 million)\n",
            "        - RM       average number of rooms per dwelling\n",
            "        - AGE      proportion of owner-occupied units built prior to 1940\n",
            "        - DIS      weighted distances to five Boston employment centres\n",
            "        - RAD      index of accessibility to radial highways\n",
            "        - TAX      full-value property-tax rate per $10,000\n",
            "        - PTRATIO  pupil-teacher ratio by town\n",
            "        - B        1000(Bk - 0.63)^2 where Bk is the proportion of blacks by town\n",
            "        - LSTAT    % lower status of the population\n",
            "        - MEDV     Median value of owner-occupied homes in $1000's\n",
            "\n",
            "    :Missing Attribute Values: None\n",
            "\n",
            "    :Creator: Harrison, D. and Rubinfeld, D.L.\n",
            "\n",
            "This is a copy of UCI ML housing dataset.\n",
            "https://archive.ics.uci.edu/ml/machine-learning-databases/housing/\n",
            "\n",
            "\n",
            "This dataset was taken from the StatLib library which is maintained at Carnegie Mellon University.\n",
            "\n",
            "The Boston house-price data of Harrison, D. and Rubinfeld, D.L. 'Hedonic\n",
            "prices and the demand for clean air', J. Environ. Economics & Management,\n",
            "vol.5, 81-102, 1978.   Used in Belsley, Kuh & Welsch, 'Regression diagnostics\n",
            "...', Wiley, 1980.   N.B. Various transformations are used in the table on\n",
            "pages 244-261 of the latter.\n",
            "\n",
            "The Boston house-price data has been used in many machine learning papers that address regression\n",
            "problems.   \n",
            "     \n",
            ".. topic:: References\n",
            "\n",
            "   - Belsley, Kuh & Welsch, 'Regression diagnostics: Identifying Influential Data and Sources of Collinearity', Wiley, 1980. 244-261.\n",
            "   - Quinlan,R. (1993). Combining Instance-Based and Model-Based Learning. In Proceedings on the Tenth International Conference of Machine Learning, 236-243, University of Massachusetts, Amherst. Morgan Kaufmann.\n",
            "\n"
          ],
          "name": "stdout"
        }
      ]
    },
    {
      "cell_type": "markdown",
      "metadata": {
        "id": "lPb-yaE2AN_4"
      },
      "source": [
        "Este modelo necesita que las variables de entrada estén estandarizadas para funcionar correctamente. Sklearn proporciona el transformador de variables StandardScaler y la clase Pipeline para facilitar la tarea. **StandardScaler** es un modelo de tipo transformer que estandariza datos. **Pipeline** es una clase que permite aplicar secuencialmente models tipo transformer para acabar con un modelo tipo predictor. Un pipeline una vez montado funciona exactamente igual que un predictor, y tiene métodos fit, predict y score.\r\n",
        "\r\n"
      ]
    },
    {
      "cell_type": "code",
      "metadata": {
        "id": "dkrTjYW0ALOK"
      },
      "source": [
        "from sklearn.linear_model import Ridge\r\n",
        "from sklearn.pipeline import Pipeline\r\n",
        "from sklearn.preprocessing import StandardScaler\r\n",
        "predictor = Pipeline([('trans', StandardScaler()),\r\n",
        "                      ('pred', Ridge(alpha=0.01))])"
      ],
      "execution_count": 16,
      "outputs": []
    },
    {
      "cell_type": "markdown",
      "metadata": {
        "id": "QX1OKeXOAhYB"
      },
      "source": [
        "Vamos a evaluar la calidad del modelo utilizando validación cruzada en esta ocasión."
      ]
    },
    {
      "cell_type": "code",
      "metadata": {
        "colab": {
          "base_uri": "https://localhost:8080/"
        },
        "id": "qdD8S0OIALQt",
        "outputId": "25b3969b-7c07-425f-85fd-2d2f5666cc5e"
      },
      "source": [
        "from sklearn.model_selection import cross_validate, KFold\r\n",
        "scores = cross_validate(predictor, X, y, cv=KFold(shuffle=True))\r\n",
        "scores"
      ],
      "execution_count": 18,
      "outputs": [
        {
          "output_type": "execute_result",
          "data": {
            "text/plain": [
              "{'fit_time': array([0.02884412, 0.00153399, 0.00181317, 0.00170565, 0.00170016]),\n",
              " 'score_time': array([0.00110865, 0.00085163, 0.00084424, 0.0008347 , 0.00083756]),\n",
              " 'test_score': array([0.76244139, 0.68717932, 0.73435275, 0.71429934, 0.66718423])}"
            ]
          },
          "metadata": {
            "tags": []
          },
          "execution_count": 18
        }
      ]
    },
    {
      "cell_type": "markdown",
      "metadata": {
        "id": "szEWPYQFBDqn"
      },
      "source": [
        "## **Modelos lineales**\r\n",
        "-------------"
      ]
    },
    {
      "cell_type": "markdown",
      "metadata": {
        "id": "BwS2e3sHBLfX"
      },
      "source": [
        "**Regresión lineal, método directo (OLS)**\r\n",
        "\r\n",
        "Programación de la solución directa\r\n",
        "\r\n",
        "Partimos del dataset de ejemplo que se utilizó en los apuntes: edad vs salario:"
      ]
    },
    {
      "cell_type": "code",
      "metadata": {
        "id": "TZsKvQ-T_xww"
      },
      "source": [
        "import numpy as np\r\n",
        "x = np.array([21, 25, 26, 29, 30, 30, 31, 37, 38, 40, 44, 47, 50, 55, 58, 61])\r\n",
        "X = x.reshape((-1, 1))\r\n",
        "y = np.array([22000, 30000, 25000, 24000, 28000, 33000, 26000, 35000, 52000, 36000, 55000, 69000, 42000, 80000, 65000, 85000])"
      ],
      "execution_count": 19,
      "outputs": []
    },
    {
      "cell_type": "markdown",
      "metadata": {
        "id": "Ig_cLYDRBX74"
      },
      "source": [
        "Lo primero es pintar los datos para hacernos una idea de si es buena idea intentar aproximarlos con una línea recta:"
      ]
    },
    {
      "cell_type": "code",
      "metadata": {
        "colab": {
          "base_uri": "https://localhost:8080/",
          "height": 336
        },
        "id": "VWFycfc0BVV_",
        "outputId": "7f45c20b-f535-4fda-a819-b039df71c457"
      },
      "source": [
        "import seaborn as sns\r\n",
        "sns.regplot(X, y, fit_reg=False)"
      ],
      "execution_count": 20,
      "outputs": [
        {
          "output_type": "stream",
          "text": [
            "/usr/local/lib/python3.6/dist-packages/seaborn/_decorators.py:43: FutureWarning: Pass the following variables as keyword args: x, y. From version 0.12, the only valid positional argument will be `data`, and passing other arguments without an explicit keyword will result in an error or misinterpretation.\n",
            "  FutureWarning\n"
          ],
          "name": "stderr"
        },
        {
          "output_type": "execute_result",
          "data": {
            "text/plain": [
              "<matplotlib.axes._subplots.AxesSubplot at 0x7f4c21406eb8>"
            ]
          },
          "metadata": {
            "tags": []
          },
          "execution_count": 20
        },
        {
          "output_type": "display_data",
          "data": {
            "image/png": "[encoded data removed]",
            "text/plain": [
              "<Figure size 432x288 with 1 Axes>"
            ]
          },
          "metadata": {
            "tags": [],
            "needs_background": "light"
          }
        }
      ]
    },
    {
      "cell_type": "markdown",
      "metadata": {
        "id": "DvalRXbLBdnI"
      },
      "source": [
        "En principio parece que sí podría ser factible, ya que se ve una relación (más o menos) lineal entre las dos variables.\r\n",
        "\r\n",
        "Intenta programar el método directo de Ordinary Least Squares. Recuerda que un vector columna de unos se declara así:"
      ]
    },
    {
      "cell_type": "code",
      "metadata": {
        "id": "83Pqms5ABVYv"
      },
      "source": [
        "ones = np.ones((len(X), 1))"
      ],
      "execution_count": 21,
      "outputs": []
    },
    {
      "cell_type": "markdown",
      "metadata": {
        "id": "KL7Wan-eBilo"
      },
      "source": [
        "y que se puede pegar los unos como primera columna a X así:"
      ]
    },
    {
      "cell_type": "code",
      "metadata": {
        "id": "9cKQv8AFBVbu"
      },
      "source": [
        "X = np.append(ones, X, axis=1)"
      ],
      "execution_count": 22,
      "outputs": []
    },
    {
      "cell_type": "markdown",
      "metadata": {
        "id": "dCEbhoqcBnjr"
      },
      "source": [
        "Partiendo de aquí, y teniendo presente que el operador multiplicación de matrices es la @, calcula Beta y las predicciones del modelo a partir de las X:"
      ]
    },
    {
      "cell_type": "code",
      "metadata": {
        "id": "uLqGxriuBVd-"
      },
      "source": [
        "## Solución\r\n",
        "Beta = np.linalg.inv(X.T @ X) @ X.T @ y\r\n",
        "preds = X @ Beta"
      ],
      "execution_count": 23,
      "outputs": []
    },
    {
      "cell_type": "markdown",
      "metadata": {
        "id": "rh-_RKm3Bt2f"
      },
      "source": [
        "Se puede comprobar que el modelo está bien programado viendo si realmente aproxima los datos correctamente:"
      ]
    },
    {
      "cell_type": "code",
      "metadata": {
        "colab": {
          "base_uri": "https://localhost:8080/",
          "height": 336
        },
        "id": "vKLmX9DMBlRG",
        "outputId": "d6677796-6bd7-4698-8bdd-816039fcd1b0"
      },
      "source": [
        "import seaborn as sns\r\n",
        "X = x\r\n",
        "sns.regplot(X, preds, fit_reg=False)\r\n",
        "sns.regplot(X, y, fit_reg=False, color='red')"
      ],
      "execution_count": 25,
      "outputs": [
        {
          "output_type": "stream",
          "text": [
            "/usr/local/lib/python3.6/dist-packages/seaborn/_decorators.py:43: FutureWarning: Pass the following variables as keyword args: x, y. From version 0.12, the only valid positional argument will be `data`, and passing other arguments without an explicit keyword will result in an error or misinterpretation.\n",
            "  FutureWarning\n"
          ],
          "name": "stderr"
        },
        {
          "output_type": "execute_result",
          "data": {
            "text/plain": [
              "<matplotlib.axes._subplots.AxesSubplot at 0x7f4c20787710>"
            ]
          },
          "metadata": {
            "tags": []
          },
          "execution_count": 25
        },
        {
          "output_type": "display_data",
          "data": {
            "image/png": "[encoded data removed]",
            "text/plain": [
              "<Figure size 432x288 with 1 Axes>"
            ]
          },
          "metadata": {
            "tags": [],
            "needs_background": "light"
          }
        }
      ]
    },
    {
      "cell_type": "markdown",
      "metadata": {
        "id": "_a5kTzy1B9Ax"
      },
      "source": [
        "En cuanto al error que comete el modelo en sus predicciones, las métricas más habituales para regresión son el Mean Squared Error y el Mean Absolute Error:"
      ]
    },
    {
      "cell_type": "code",
      "metadata": {
        "colab": {
          "base_uri": "https://localhost:8080/"
        },
        "id": "8WA3mrHDBlUD",
        "outputId": "fda47885-4abf-4bdf-b4fe-cd5678d491df"
      },
      "source": [
        "from sklearn.metrics import mean_absolute_error, mean_squared_error\r\n",
        "mse = mean_squared_error(y, preds)\r\n",
        "mae = mean_absolute_error(y, preds)\r\n",
        "print(\"MSE: \" + str(mse) + \" MAE: \" + str(mae))"
      ],
      "execution_count": 26,
      "outputs": [
        {
          "output_type": "stream",
          "text": [
            "MSE: 71814865.44440868 MAE: 7209.405489439265\n"
          ],
          "name": "stdout"
        }
      ]
    },
    {
      "cell_type": "markdown",
      "metadata": {
        "id": "X89oIemNCFWJ"
      },
      "source": [
        "**Clase LinearRegression de Scikit-learn**\r\n",
        "\r\n",
        "La clase correspondiente en Scikit-learn al método que hemos programado es LinearRegression. Podemos comprobar que nuestro modelo es correcto entrenando, haciendo predicciones y viendo si los resultados coinciden:"
      ]
    },
    {
      "cell_type": "code",
      "metadata": {
        "id": "oSWy__RiCICJ"
      },
      "source": [
        "from sklearn.linear_model import LinearRegression\r\n",
        "X = x.reshape((-1, 1))\r\n",
        "olsr = LinearRegression()\r\n",
        "olsr.fit(X, y)\r\n",
        "preds = olsr.predict(X)"
      ],
      "execution_count": 27,
      "outputs": []
    },
    {
      "cell_type": "code",
      "metadata": {
        "colab": {
          "base_uri": "https://localhost:8080/",
          "height": 336
        },
        "id": "_ZVgOLyFCK_o",
        "outputId": "6b25cfb8-7f14-4772-f4a0-c2d4a24dcc4e"
      },
      "source": [
        "## Solución\r\n",
        "import seaborn as sns\r\n",
        "sns.regplot(X, preds, fit_reg=False)\r\n",
        "sns.regplot(X, y, fit_reg=False, color='red')"
      ],
      "execution_count": 29,
      "outputs": [
        {
          "output_type": "stream",
          "text": [
            "/usr/local/lib/python3.6/dist-packages/seaborn/_decorators.py:43: FutureWarning: Pass the following variables as keyword args: x, y. From version 0.12, the only valid positional argument will be `data`, and passing other arguments without an explicit keyword will result in an error or misinterpretation.\n",
            "  FutureWarning\n"
          ],
          "name": "stderr"
        },
        {
          "output_type": "execute_result",
          "data": {
            "text/plain": [
              "<matplotlib.axes._subplots.AxesSubplot at 0x7f4c206af630>"
            ]
          },
          "metadata": {
            "tags": []
          },
          "execution_count": 29
        },
        {
          "output_type": "display_data",
          "data": {
            "image/png": "[encoded data removed]",
            "text/plain": [
              "<Figure size 432x288 with 1 Axes>"
            ]
          },
          "metadata": {
            "tags": [],
            "needs_background": "light"
          }
        }
      ]
    },
    {
      "cell_type": "code",
      "metadata": {
        "colab": {
          "base_uri": "https://localhost:8080/"
        },
        "id": "jxhKpyXYCLCQ",
        "outputId": "b2b25e57-3543-4713-bfbe-c0896668c39b"
      },
      "source": [
        "## Solución\r\n",
        "from sklearn.metrics import mean_absolute_error, mean_squared_error\r\n",
        "mse = mean_squared_error(y, preds)\r\n",
        "mae = mean_absolute_error(y, preds)\r\n",
        "print(\"MSE: \" + str(mse) + \" MAE: \" + str(mae))"
      ],
      "execution_count": 30,
      "outputs": [
        {
          "output_type": "stream",
          "text": [
            "MSE: 71814865.44440871 MAE: 7209.405489439262\n"
          ],
          "name": "stdout"
        }
      ]
    },
    {
      "cell_type": "markdown",
      "metadata": {
        "id": "zzCpFrS3Ca0z"
      },
      "source": [
        "**Programación de un wrapper compatible con scikit-learn**\r\n",
        "\r\n",
        "Intenta programar una clase OLSRegressor para el método directo que sea compatible con Scikit-learn. Para ello, la clase debe heredar de las clases sklearn.base.BaseEstimator y sklearn.base.RegressorMixin.\r\n",
        "\r\n",
        "También debe implementar un método fit(self, X, y) que calcule el beta a partir de X e y y lo guarde en un atributo self.beta_ y un método predict(self, X) que utilice el atributo self.beta_ calculado en fit para realizar predicciones a partir de la X."
      ]
    },
    {
      "cell_type": "code",
      "metadata": {
        "id": "PsE-XT43EZCD"
      },
      "source": [
        "from sklearn.base import BaseEstimator, RegressorMixin\r\n",
        "\r\n",
        "class OLSRegressor(BaseEstimator, RegressorMixin):\r\n",
        "\r\n",
        "    def fit(self, X, y):\r\n",
        "        if len(X.shape) == 1: X = x.reshape((-1, 1))\r\n",
        "        ones = np.ones((len(X), 1))\r\n",
        "        X_bias = np.append(ones, X, axis=1)\r\n",
        "        self.beta_ = np.linalg.inv(X_bias.T @ X_bias) @ X_bias.T @ y\r\n",
        "\r\n",
        "    def predict(self, X):\r\n",
        "        if len(X.shape) == 1: X = x.reshape((-1, 1))\r\n",
        "        ones = np.ones((len(X), 1))\r\n",
        "        X_bias = np.append(ones, X, axis=1)\r\n",
        "        return X_bias @ self.beta_"
      ],
      "execution_count": 35,
      "outputs": []
    },
    {
      "cell_type": "code",
      "metadata": {
        "id": "-PS2pickEZFf"
      },
      "source": [
        "## PROBAMOS:\r\n",
        "X = x\r\n",
        "olsr = OLSRegressor()\r\n",
        "olsr.fit(X,y)\r\n",
        "preds = olsr.predict(X)"
      ],
      "execution_count": 36,
      "outputs": []
    },
    {
      "cell_type": "code",
      "metadata": {
        "colab": {
          "base_uri": "https://localhost:8080/",
          "height": 336
        },
        "id": "jNkHB6_REZJL",
        "outputId": "2fa35890-33a5-42a2-f302-9ed1a90eb890"
      },
      "source": [
        "## Solución\r\n",
        "import seaborn as sns\r\n",
        "sns.regplot(X, preds, fit_reg=False)\r\n",
        "sns.regplot(X, y, fit_reg=False, color='r')"
      ],
      "execution_count": 38,
      "outputs": [
        {
          "output_type": "stream",
          "text": [
            "/usr/local/lib/python3.6/dist-packages/seaborn/_decorators.py:43: FutureWarning: Pass the following variables as keyword args: x, y. From version 0.12, the only valid positional argument will be `data`, and passing other arguments without an explicit keyword will result in an error or misinterpretation.\n",
            "  FutureWarning\n"
          ],
          "name": "stderr"
        },
        {
          "output_type": "execute_result",
          "data": {
            "text/plain": [
              "<matplotlib.axes._subplots.AxesSubplot at 0x7f4c203ab3c8>"
            ]
          },
          "metadata": {
            "tags": []
          },
          "execution_count": 38
        },
        {
          "output_type": "display_data",
          "data": {
            "image/png": "[encoded data removed]",
            "text/plain": [
              "<Figure size 432x288 with 1 Axes>"
            ]
          },
          "metadata": {
            "tags": [],
            "needs_background": "light"
          }
        }
      ]
    },
    {
      "cell_type": "code",
      "metadata": {
        "colab": {
          "base_uri": "https://localhost:8080/"
        },
        "id": "_88lidcDEqUa",
        "outputId": "46b0a1ad-a5e6-492f-dfe8-8be50a821f49"
      },
      "source": [
        "# Solución\r\n",
        "from sklearn.metrics import mean_absolute_error, mean_squared_error\r\n",
        "mse = mean_squared_error(y, preds)\r\n",
        "mae = mean_absolute_error(y, preds)\r\n",
        "print(\"MSE: \" + str(mse) + \" MAE: \" + str(mae))"
      ],
      "execution_count": 39,
      "outputs": [
        {
          "output_type": "stream",
          "text": [
            "MSE: 71814865.44440868 MAE: 7209.405489439265\n"
          ],
          "name": "stdout"
        }
      ]
    },
    {
      "cell_type": "markdown",
      "metadata": {
        "id": "A24ercgyEv26"
      },
      "source": [
        "Prueba ahora con el dataset de Boston Housing, que está disponible en Scikit-learn:"
      ]
    },
    {
      "cell_type": "code",
      "metadata": {
        "id": "oslOw8LlEqXq"
      },
      "source": [
        "from sklearn.datasets import load_boston\r\n",
        "X, y = load_boston(return_X_y=True)\r\n",
        "olsr = OLSRegressor()\r\n",
        "olsr.fit(X, y)\r\n",
        "preds = olsr.predict(X)"
      ],
      "execution_count": 40,
      "outputs": []
    },
    {
      "cell_type": "markdown",
      "metadata": {
        "id": "o8KgcBaLE2AH"
      },
      "source": [
        "En este caso hay más de una variable explicativa, así que vamos a hacer la descomposición **PCA** de X para quedarnos sólo con una dimensión y poder pintar una gráfica:"
      ]
    },
    {
      "cell_type": "code",
      "metadata": {
        "colab": {
          "base_uri": "https://localhost:8080/",
          "height": 336
        },
        "id": "4DzhxLA0EzYp",
        "outputId": "fffc1ce7-c6ca-4503-d3df-c2dd5a4382ab"
      },
      "source": [
        "import seaborn as sns\r\n",
        "from sklearn.decomposition import PCA\r\n",
        "X_pca = PCA().fit_transform(X)[:, 0]\r\n",
        "sns.regplot(X_pca, preds, fit_reg=False)\r\n",
        "sns.regplot(X_pca, y, fit_reg=False)"
      ],
      "execution_count": 41,
      "outputs": [
        {
          "output_type": "stream",
          "text": [
            "/usr/local/lib/python3.6/dist-packages/seaborn/_decorators.py:43: FutureWarning: Pass the following variables as keyword args: x, y. From version 0.12, the only valid positional argument will be `data`, and passing other arguments without an explicit keyword will result in an error or misinterpretation.\n",
            "  FutureWarning\n"
          ],
          "name": "stderr"
        },
        {
          "output_type": "execute_result",
          "data": {
            "text/plain": [
              "<matplotlib.axes._subplots.AxesSubplot at 0x7f4c20329860>"
            ]
          },
          "metadata": {
            "tags": []
          },
          "execution_count": 41
        },
        {
          "output_type": "display_data",
          "data": {
            "image/png": "[encoded data removed]",
            "text/plain": [
              "<Figure size 432x288 with 1 Axes>"
            ]
          },
          "metadata": {
            "tags": [],
            "needs_background": "light"
          }
        }
      ]
    },
    {
      "cell_type": "code",
      "metadata": {
        "colab": {
          "base_uri": "https://localhost:8080/"
        },
        "id": "33HHaP_dEzbt",
        "outputId": "22167643-3bfb-42c0-d18d-bd982a1d6386"
      },
      "source": [
        "from sklearn.metrics import mean_absolute_error, mean_squared_error\r\n",
        "mse = mean_squared_error(y, preds)\r\n",
        "mae = mean_absolute_error(y, preds)\r\n",
        "print(\"MSE: \" + str(mse) + \" MAE: \" + str(mae))"
      ],
      "execution_count": 43,
      "outputs": [
        {
          "output_type": "stream",
          "text": [
            "MSE: 21.894831181729202 MAE: 3.2708628109006046\n"
          ],
          "name": "stdout"
        }
      ]
    },
    {
      "cell_type": "markdown",
      "metadata": {
        "id": "Cgn4_sM8FHe6"
      },
      "source": [
        "## **Regresión lineal, método iterativo (SGD)**\r\n",
        "-----"
      ]
    },
    {
      "cell_type": "markdown",
      "metadata": {
        "id": "SVTIXLdfFJ6x"
      },
      "source": [
        "**Clase SGDRegressor**\r\n",
        "\r\n",
        "El método directo funciona y en sencillo de programar, pero tiene los problemas que se mencionan en los apuntes:\r\n",
        "\r\n",
        "* las matrices pueden ser singulares y por tanto no tener inversa, lo que invalida el método\r\n",
        "* si el conjunto de datos es muy grande, el coste de calcular la matriz inversa es demasiado alto Por ello vamos a probar el método iterativo de descenso por gradiente (SGD). En Scikit-learn se corresponde con la clase SGDRegressor. Carga el dataset de regresión Boston Housing e intenta entrenar y predecir con el modelo SGDRegressor:"
      ]
    },
    {
      "cell_type": "code",
      "metadata": {
        "id": "ppYYwUuBEzeT"
      },
      "source": [
        "from sklearn.datasets import load_boston\r\n",
        "X, y = load_boston(return_X_y=True)"
      ],
      "execution_count": 44,
      "outputs": []
    },
    {
      "cell_type": "code",
      "metadata": {
        "id": "a6aybkzZFTlR"
      },
      "source": [
        "# Solución\r\n",
        "from sklearn.linear_model import SGDRegressor\r\n",
        "lr = SGDRegressor()\r\n",
        "lr.fit(X, y)\r\n",
        "preds = lr.predict(X)"
      ],
      "execution_count": 45,
      "outputs": []
    },
    {
      "cell_type": "markdown",
      "metadata": {
        "id": "ZoB6ogYfFa04"
      },
      "source": [
        "Como en este dataset hay más de una variable explicativa, vamos a hacer PCA de X para quedarnos sólo con una dimensión y poder pintar una gráfica:"
      ]
    },
    {
      "cell_type": "code",
      "metadata": {
        "colab": {
          "base_uri": "https://localhost:8080/",
          "height": 347
        },
        "id": "_VU9c70qFXC6",
        "outputId": "e21a3f33-0d94-4384-de61-84d2c67182fc"
      },
      "source": [
        "import seaborn as sns\r\n",
        "from sklearn.decomposition import PCA\r\n",
        "X_pca = PCA().fit_transform(X)[:, 0]\r\n",
        "sns.regplot(X_pca, preds, fit_reg=False)\r\n",
        "sns.regplot(X_pca, y, fit_reg=False)"
      ],
      "execution_count": 46,
      "outputs": [
        {
          "output_type": "stream",
          "text": [
            "/usr/local/lib/python3.6/dist-packages/seaborn/_decorators.py:43: FutureWarning: Pass the following variables as keyword args: x, y. From version 0.12, the only valid positional argument will be `data`, and passing other arguments without an explicit keyword will result in an error or misinterpretation.\n",
            "  FutureWarning\n"
          ],
          "name": "stderr"
        },
        {
          "output_type": "execute_result",
          "data": {
            "text/plain": [
              "<matplotlib.axes._subplots.AxesSubplot at 0x7f4c20304278>"
            ]
          },
          "metadata": {
            "tags": []
          },
          "execution_count": 46
        },
        {
          "output_type": "display_data",
          "data": {
            "image/png": "[encoded data removed]",
            "text/plain": [
              "<Figure size 432x288 with 1 Axes>"
            ]
          },
          "metadata": {
            "tags": [],
            "needs_background": "light"
          }
        }
      ]
    },
    {
      "cell_type": "markdown",
      "metadata": {
        "id": "zAiTq_5wFfxp"
      },
      "source": [
        "Las predicciones no parecen nada buenas. Veamos los errores:"
      ]
    },
    {
      "cell_type": "code",
      "metadata": {
        "colab": {
          "base_uri": "https://localhost:8080/"
        },
        "id": "12zmnxXHFXF2",
        "outputId": "36ff54fb-dee8-479c-a2b9-3cee65bc9657"
      },
      "source": [
        "from sklearn.metrics import mean_absolute_error, mean_squared_error\r\n",
        "mse = mean_squared_error(y, preds)\r\n",
        "mae = mean_absolute_error(y, preds)\r\n",
        "print(\"MSE: \" + str(mse) + \" MAE: \" + str(mae))"
      ],
      "execution_count": 47,
      "outputs": [
        {
          "output_type": "stream",
          "text": [
            "MSE: 8.244014816170477e+27 MAE: 85206320914971.6\n"
          ],
          "name": "stdout"
        }
      ]
    },
    {
      "cell_type": "markdown",
      "metadata": {
        "id": "ZAsUhu67Fmwi"
      },
      "source": [
        "Esta vez los resultados son muy malos. En los apuntes se indicó que al utilzar un método basado en descenso por gradiente hay que tomar una precaución porque el método tiene mucha sensibilidad a la escala de las variables explicativas. ¿Sabrías explicar de qué precaución se trata?\r\n",
        "\r\n",
        "%%% Solución:\r\n",
        "\r\n",
        "Hay que estandarizar las variables de entrada\r\n",
        "\r\n",
        "A continuación se resuelve el problema utilizando el preprocesador de datos apropiado:"
      ]
    },
    {
      "cell_type": "code",
      "metadata": {
        "id": "dX3E-Af2FXKL"
      },
      "source": [
        "from sklearn.datasets import load_boston\r\n",
        "from sklearn.linear_model import SGDRegressor\r\n",
        "from sklearn.pipeline import Pipeline\r\n",
        "from sklearn.preprocessing import StandardScaler\r\n",
        "X, y = load_boston(return_X_y=True)\r\n",
        "lr = Pipeline([('stds', StandardScaler()), ('sgdr', SGDRegressor())])\r\n",
        "lr.fit(X, y)\r\n",
        "preds = lr.predict(X)"
      ],
      "execution_count": 48,
      "outputs": []
    },
    {
      "cell_type": "code",
      "metadata": {
        "colab": {
          "base_uri": "https://localhost:8080/",
          "height": 336
        },
        "id": "DXosxqyYFXM7",
        "outputId": "3354c56b-b58a-44bf-95a6-181beff19fb6"
      },
      "source": [
        "import seaborn as sns\r\n",
        "from sklearn.decomposition import PCA\r\n",
        "X_pca = PCA().fit_transform(X)[:, 0]\r\n",
        "sns.regplot(X_pca, preds, fit_reg=False)\r\n",
        "sns.regplot(X_pca, y, fit_reg=False)"
      ],
      "execution_count": 49,
      "outputs": [
        {
          "output_type": "stream",
          "text": [
            "/usr/local/lib/python3.6/dist-packages/seaborn/_decorators.py:43: FutureWarning: Pass the following variables as keyword args: x, y. From version 0.12, the only valid positional argument will be `data`, and passing other arguments without an explicit keyword will result in an error or misinterpretation.\n",
            "  FutureWarning\n"
          ],
          "name": "stderr"
        },
        {
          "output_type": "execute_result",
          "data": {
            "text/plain": [
              "<matplotlib.axes._subplots.AxesSubplot at 0x7f4c2026abe0>"
            ]
          },
          "metadata": {
            "tags": []
          },
          "execution_count": 49
        },
        {
          "output_type": "display_data",
          "data": {
            "image/png": "[encoded data removed]",
            "text/plain": [
              "<Figure size 432x288 with 1 Axes>"
            ]
          },
          "metadata": {
            "tags": [],
            "needs_background": "light"
          }
        }
      ]
    },
    {
      "cell_type": "code",
      "metadata": {
        "colab": {
          "base_uri": "https://localhost:8080/"
        },
        "id": "T2OgN8RdFtoa",
        "outputId": "2ca5747b-708c-4e81-d0a5-3a5165b2875a"
      },
      "source": [
        "from sklearn.metrics import mean_absolute_error, mean_squared_error\r\n",
        "mse = mean_squared_error(y, preds)\r\n",
        "mae = mean_absolute_error(y, preds)\r\n",
        "print(\"MSE: \" + str(mse) + \" MAE: \" + str(mae))"
      ],
      "execution_count": 50,
      "outputs": [
        {
          "output_type": "stream",
          "text": [
            "MSE: 21.969635822761838 MAE: 3.269019813767496\n"
          ],
          "name": "stdout"
        }
      ]
    },
    {
      "cell_type": "markdown",
      "metadata": {
        "id": "EcizeGc4F166"
      },
      "source": [
        "Y se puede comprobar que los resultados son correctos de nuevo."
      ]
    },
    {
      "cell_type": "markdown",
      "metadata": {
        "id": "jK5kV3ozF8RC"
      },
      "source": [
        "## **Regresión logística**\r\n",
        "----"
      ]
    },
    {
      "cell_type": "markdown",
      "metadata": {
        "id": "sgqWwlDNF5h4"
      },
      "source": [
        "\r\n",
        "Clase SGDClassifier\r\n",
        "Al igual que para regresión tenemos la clase SGDRegressor, para clasificación tenemos la clase SGDClassifier. Prueba a cargar los datos del dataset Iris para clasificación (también disponibles en sklearn.datasets) y a entrenar y predecir con un modelo SGDClassifier:"
      ]
    },
    {
      "cell_type": "code",
      "metadata": {
        "id": "lhxFR4SgFtr2"
      },
      "source": [
        "from sklearn.datasets import load_iris\r\n",
        "from sklearn.linear_model import SGDClassifier\r\n",
        "from sklearn.pipeline import Pipeline\r\n",
        "from sklearn.preprocessing import StandardScaler\r\n",
        "X, y = load_iris(return_X_y=True)\r\n",
        "lr = Pipeline([('stds', StandardScaler()), ('sgdc', SGDClassifier())])\r\n",
        "lr.fit(X, y)\r\n",
        "preds = lr.predict(X)"
      ],
      "execution_count": 51,
      "outputs": []
    },
    {
      "cell_type": "markdown",
      "metadata": {
        "id": "bNZ8QiVvGElx"
      },
      "source": [
        "Haz una gráfica con la primera dimensión de PCA, los targets y las predicciones del modelo, como en los ejercicios anteriores:"
      ]
    },
    {
      "cell_type": "code",
      "metadata": {
        "colab": {
          "base_uri": "https://localhost:8080/",
          "height": 336
        },
        "id": "Lj-VGucdFXPe",
        "outputId": "94bbb82f-12a0-4d72-c054-627db9cea0c5"
      },
      "source": [
        "import seaborn as sns\r\n",
        "from sklearn.decomposition import PCA\r\n",
        "X_pca = PCA().fit_transform(X)[:, 0]\r\n",
        "sns.regplot(X_pca, preds, fit_reg=False)\r\n",
        "sns.regplot(X_pca, y, fit_reg=False)"
      ],
      "execution_count": 52,
      "outputs": [
        {
          "output_type": "stream",
          "text": [
            "/usr/local/lib/python3.6/dist-packages/seaborn/_decorators.py:43: FutureWarning: Pass the following variables as keyword args: x, y. From version 0.12, the only valid positional argument will be `data`, and passing other arguments without an explicit keyword will result in an error or misinterpretation.\n",
            "  FutureWarning\n"
          ],
          "name": "stderr"
        },
        {
          "output_type": "execute_result",
          "data": {
            "text/plain": [
              "<matplotlib.axes._subplots.AxesSubplot at 0x7f4c201ebda0>"
            ]
          },
          "metadata": {
            "tags": []
          },
          "execution_count": 52
        },
        {
          "output_type": "display_data",
          "data": {
            "image/png": "[encoded data removed]",
            "text/plain": [
              "<Figure size 432x288 with 1 Axes>"
            ]
          },
          "metadata": {
            "tags": [],
            "needs_background": "light"
          }
        }
      ]
    },
    {
      "cell_type": "markdown",
      "metadata": {
        "id": "MExUreI8GKV4"
      },
      "source": [
        "Y utiliza la métrica accuracy_score de sklearn.metrics para ver si el resultado es bueno:"
      ]
    },
    {
      "cell_type": "code",
      "metadata": {
        "colab": {
          "base_uri": "https://localhost:8080/"
        },
        "id": "OyFBEVsLGH8M",
        "outputId": "b1eab750-0cfc-49c6-c627-675d7d570e70"
      },
      "source": [
        "## Solución\r\n",
        "from sklearn.metrics import accuracy_score\r\n",
        "acc = accuracy_score(y, preds)\r\n",
        "print(\"Acc: \" + str(acc))"
      ],
      "execution_count": 53,
      "outputs": [
        {
          "output_type": "stream",
          "text": [
            "Acc: 0.9266666666666666\n"
          ],
          "name": "stdout"
        }
      ]
    },
    {
      "cell_type": "markdown",
      "metadata": {
        "id": "TAhqr_AIGQhE"
      },
      "source": [
        "**Clase LogisticRegression**\r\n",
        "\r\n",
        "Scikit-learn también proporciona la clase LogisticRegression que cuenta con métodos de entrenamiento más avanzados, regularizadores, etc. Repite el proceso con esta nueva clase:"
      ]
    },
    {
      "cell_type": "code",
      "metadata": {
        "id": "Tp5ymNshGH-2"
      },
      "source": [
        "from sklearn.datasets import load_iris\r\n",
        "from sklearn.linear_model import LogisticRegression\r\n",
        "from sklearn.pipeline import Pipeline\r\n",
        "from sklearn.preprocessing import StandardScaler\r\n",
        "X, y = load_iris(return_X_y=True)\r\n",
        "lr = Pipeline([('stds', StandardScaler()), ('sgdc', LogisticRegression())])\r\n",
        "lr.fit(X, y)\r\n",
        "preds = lr.predict(X)"
      ],
      "execution_count": 54,
      "outputs": []
    },
    {
      "cell_type": "code",
      "metadata": {
        "colab": {
          "base_uri": "https://localhost:8080/",
          "height": 336
        },
        "id": "xdcCA469GIBe",
        "outputId": "962dad10-9f12-49b5-a120-2356e2874d6f"
      },
      "source": [
        "import seaborn as sns\r\n",
        "from sklearn.decomposition import PCA\r\n",
        "X_pca = PCA().fit_transform(X)[:, 0]\r\n",
        "sns.regplot(X_pca, preds, fit_reg=False)\r\n",
        "sns.regplot(X_pca, y, fit_reg=False)"
      ],
      "execution_count": 55,
      "outputs": [
        {
          "output_type": "stream",
          "text": [
            "/usr/local/lib/python3.6/dist-packages/seaborn/_decorators.py:43: FutureWarning: Pass the following variables as keyword args: x, y. From version 0.12, the only valid positional argument will be `data`, and passing other arguments without an explicit keyword will result in an error or misinterpretation.\n",
            "  FutureWarning\n"
          ],
          "name": "stderr"
        },
        {
          "output_type": "execute_result",
          "data": {
            "text/plain": [
              "<matplotlib.axes._subplots.AxesSubplot at 0x7f4c201eb1d0>"
            ]
          },
          "metadata": {
            "tags": []
          },
          "execution_count": 55
        },
        {
          "output_type": "display_data",
          "data": {
            "image/png": "[encoded data removed]",
            "text/plain": [
              "<Figure size 432x288 with 1 Axes>"
            ]
          },
          "metadata": {
            "tags": [],
            "needs_background": "light"
          }
        }
      ]
    },
    {
      "cell_type": "code",
      "metadata": {
        "colab": {
          "base_uri": "https://localhost:8080/"
        },
        "id": "8TOP6-wrGVNR",
        "outputId": "44070037-f181-4037-d5dd-97a6e806e831"
      },
      "source": [
        "from sklearn.metrics import accuracy_score\r\n",
        "acc = accuracy_score(y, preds)\r\n",
        "print(\"Acc: \" + str(acc))"
      ],
      "execution_count": 56,
      "outputs": [
        {
          "output_type": "stream",
          "text": [
            "Acc: 0.9733333333333334\n"
          ],
          "name": "stdout"
        }
      ]
    },
    {
      "cell_type": "markdown",
      "metadata": {
        "id": "XnNfIeoeGfCa"
      },
      "source": [
        "## **Evaluación correcta del modelo**\r\n",
        "----"
      ]
    },
    {
      "cell_type": "markdown",
      "metadata": {
        "id": "MSPV6UUqGdn5"
      },
      "source": [
        "\r\n",
        "Particiones de train y test\r\n",
        "En los ejercicios previos hemos cometido un error metodológico importante a la hora de evaluar la calidad de los modelos: hemos calculado las métricas de error con el mismo dataset que hemos usado para entrenar. Esto puede hacer que los modelos caigan en sobreajuste y la estimación del error sea totalmente irreal. Para evitarlo, lo habitual es hacer una partición del dataset en train y test, o realizar una validación cruzada.\r\n",
        "\r\n",
        "Scikit-learn ofrece una forma sencilla de separar train y test con la función train_test_split. Entrena el modelo SGDRegressor sobre Boston Housing usando una partición de train y luego calcula MSE y MAE de sus predicciones sobre test:"
      ]
    },
    {
      "cell_type": "code",
      "metadata": {
        "id": "A9kh_vsFGVQC"
      },
      "source": [
        "from sklearn.datasets import load_boston\r\n",
        "from sklearn.linear_model import SGDRegressor\r\n",
        "from sklearn.model_selection import train_test_split\r\n",
        "from sklearn.pipeline import Pipeline\r\n",
        "from sklearn.preprocessing import StandardScaler\r\n",
        "X, y = load_boston(return_X_y=True)\r\n",
        "X_train, X_test, y_train, y_test = train_test_split(X, y)\r\n",
        "lr = Pipeline([('stds', StandardScaler()), ('sgdr', SGDRegressor())])\r\n",
        "lr.fit(X_train, y_train)\r\n",
        "preds = lr.predict(X_test)"
      ],
      "execution_count": 57,
      "outputs": []
    },
    {
      "cell_type": "code",
      "metadata": {
        "colab": {
          "base_uri": "https://localhost:8080/"
        },
        "id": "IaAZpNe0GkHJ",
        "outputId": "e126e4d8-d9e5-4beb-a79a-c826f8514241"
      },
      "source": [
        "from sklearn.metrics import mean_absolute_error, mean_squared_error\r\n",
        "mse = mean_squared_error(y_test, preds)\r\n",
        "mae = mean_absolute_error(y_test, preds)\r\n",
        "print(\"MSE: \" + str(mse) + \" MAE: \" + str(mae))"
      ],
      "execution_count": 58,
      "outputs": [
        {
          "output_type": "stream",
          "text": [
            "MSE: 23.08415539158179 MAE: 3.010899572361387\n"
          ],
          "name": "stdout"
        }
      ]
    },
    {
      "cell_type": "markdown",
      "metadata": {
        "id": "y1ii-0nMGqb-"
      },
      "source": [
        "## **NNA**\r\n",
        "---"
      ]
    },
    {
      "cell_type": "code",
      "metadata": {
        "id": "cR1cjoOPbo5u"
      },
      "source": [
        "import numpy as np\r\n",
        "from sklearn.model_selection import GridSearchCV\r\n",
        "from sklearn.neural_network import MLPClassifier\r\n",
        "from sklearn.pipeline import Pipeline\r\n",
        "from sklearn.preprocessing import StandardScaler"
      ],
      "execution_count": 1,
      "outputs": []
    },
    {
      "cell_type": "code",
      "metadata": {
        "id": "iNsGGDxbcAFg"
      },
      "source": [
        "MAX_ITER = 10"
      ],
      "execution_count": 2,
      "outputs": []
    },
    {
      "cell_type": "code",
      "metadata": {
        "colab": {
          "base_uri": "https://localhost:8080/"
        },
        "id": "yfEAV4vfcApr",
        "outputId": "14963407-529f-4da2-ad84-d6b9190b6c63"
      },
      "source": [
        "def main():\r\n",
        "\r\n",
        "    # Train\r\n",
        "    data = np.loadtxt('/content/train.csv', dtype='f8', delimiter=',', skiprows=1)\r\n",
        "    X, y = data[:, 1:], data[:, 0]\r\n",
        "    classifier = Pipeline([('transformer', StandardScaler()),\r\n",
        "                           ('predictor', MLPClassifier(max_iter=MAX_ITER))])\r\n",
        "    search_space = {'predictor__hidden_layer_sizes': [[32], [32, 32],[10,10,5]]} # Capas y unidades\r\n",
        "    estimator = GridSearchCV(classifier, search_space, cv=3)\r\n",
        "    estimator.fit(X, y)   # Configuracion del modelo\r\n",
        "    print('----------------------------------------')\r\n",
        "    print('Best Meta - params: ' + str(estimator.best_params_))\r\n",
        "    print('Best score: ' + str(estimator.best_score_))\r\n",
        "    print('----------------------------------------')\r\n",
        "\r\n",
        "    # Test\r\n",
        "    X_test = np.loadtxt('/content/test.csv', dtype='f8', delimiter=',', skiprows=1)\r\n",
        "    ids = np.arange(1, len(X_test) + 1)\r\n",
        "    predictions = estimator.predict(X_test)\r\n",
        "    np.savetxt('sklearn_submission.csv', np.transpose([ids, predictions]),\r\n",
        "               fmt=('%d', '%d'), delimiter=',', header='ImageId,Label',\r\n",
        "               comments='')\r\n",
        "\r\n",
        "\r\n",
        "if __name__ == '__main__':\r\n",
        "    main()"
      ],
      "execution_count": 5,
      "outputs": [
        {
          "output_type": "stream",
          "text": [
            "/usr/local/lib/python3.6/dist-packages/sklearn/neural_network/_multilayer_perceptron.py:571: ConvergenceWarning: Stochastic Optimizer: Maximum iterations (10) reached and the optimization hasn't converged yet.\n",
            "  % self.max_iter, ConvergenceWarning)\n",
            "/usr/local/lib/python3.6/dist-packages/sklearn/neural_network/_multilayer_perceptron.py:571: ConvergenceWarning: Stochastic Optimizer: Maximum iterations (10) reached and the optimization hasn't converged yet.\n",
            "  % self.max_iter, ConvergenceWarning)\n",
            "/usr/local/lib/python3.6/dist-packages/sklearn/neural_network/_multilayer_perceptron.py:571: ConvergenceWarning: Stochastic Optimizer: Maximum iterations (10) reached and the optimization hasn't converged yet.\n",
            "  % self.max_iter, ConvergenceWarning)\n",
            "/usr/local/lib/python3.6/dist-packages/sklearn/neural_network/_multilayer_perceptron.py:571: ConvergenceWarning: Stochastic Optimizer: Maximum iterations (10) reached and the optimization hasn't converged yet.\n",
            "  % self.max_iter, ConvergenceWarning)\n",
            "/usr/local/lib/python3.6/dist-packages/sklearn/neural_network/_multilayer_perceptron.py:571: ConvergenceWarning: Stochastic Optimizer: Maximum iterations (10) reached and the optimization hasn't converged yet.\n",
            "  % self.max_iter, ConvergenceWarning)\n",
            "/usr/local/lib/python3.6/dist-packages/sklearn/neural_network/_multilayer_perceptron.py:571: ConvergenceWarning: Stochastic Optimizer: Maximum iterations (10) reached and the optimization hasn't converged yet.\n",
            "  % self.max_iter, ConvergenceWarning)\n",
            "/usr/local/lib/python3.6/dist-packages/sklearn/neural_network/_multilayer_perceptron.py:571: ConvergenceWarning: Stochastic Optimizer: Maximum iterations (10) reached and the optimization hasn't converged yet.\n",
            "  % self.max_iter, ConvergenceWarning)\n",
            "/usr/local/lib/python3.6/dist-packages/sklearn/neural_network/_multilayer_perceptron.py:571: ConvergenceWarning: Stochastic Optimizer: Maximum iterations (10) reached and the optimization hasn't converged yet.\n",
            "  % self.max_iter, ConvergenceWarning)\n",
            "/usr/local/lib/python3.6/dist-packages/sklearn/neural_network/_multilayer_perceptron.py:571: ConvergenceWarning: Stochastic Optimizer: Maximum iterations (10) reached and the optimization hasn't converged yet.\n",
            "  % self.max_iter, ConvergenceWarning)\n",
            "/usr/local/lib/python3.6/dist-packages/sklearn/neural_network/_multilayer_perceptron.py:571: ConvergenceWarning: Stochastic Optimizer: Maximum iterations (10) reached and the optimization hasn't converged yet.\n",
            "  % self.max_iter, ConvergenceWarning)\n"
          ],
          "name": "stderr"
        },
        {
          "output_type": "stream",
          "text": [
            "----------------------------------------\n",
            "Best Meta - params: {'predictor__hidden_layer_sizes': [32, 32]}\n",
            "Best score: 0.9505238095238094\n",
            "----------------------------------------\n"
          ],
          "name": "stdout"
        }
      ]
    },
    {
      "cell_type": "code",
      "metadata": {
        "id": "XQVJj8tylMnw"
      },
      "source": [
        "def main():\r\n",
        "\r\n",
        "    # Train\r\n",
        "    data = np.loadtxt('/content/train.csv', dtype='f8', delimiter=',', skiprows=1)\r\n",
        "    X, y = data[:, 1:], data[:, 0]\r\n",
        "    classifier = Pipeline([('transformer', StandardScaler()),\r\n",
        "                           ('predictor', MLPClassifier(max_iter=MAX_ITER))])\r\n",
        "    search_space = {'predictor__hidden_layer_sizes': [[32], [32, 32],[10,10,5]],# Capas y unidades\r\n",
        "                    'predictor_learning_rate_init': [0.01, 0.001, 0.0001], # learning_rate\r\n",
        "                    'predictor_alpha': [0.00001,0.0001,0.01]} # alpha\r\n",
        "    estimator = GridSearchCV(classifier, search_space, cv=3)\r\n",
        "    estimator.fit(X, y)   # Configuracion del modelo\r\n",
        "    print('----------------------------------------')\r\n",
        "    print('Best Meta - params: ' + str(estimator.best_params_))\r\n",
        "    print('Best score: ' + str(estimator.best_score_))\r\n",
        "    print('----------------------------------------')\r\n",
        "\r\n",
        "    # Test\r\n",
        "    X_test = np.loadtxt('/content/test.csv', dtype='f8', delimiter=',', skiprows=1)\r\n",
        "    ids = np.arange(1, len(X_test) + 1)\r\n",
        "    predictions = estimator.predict(X_test)\r\n",
        "    np.savetxt('sklearn_submission.csv', np.transpose([ids, predictions]),\r\n",
        "               fmt=('%d', '%d'), delimiter=',', header='ImageId,Label',\r\n",
        "               comments='')\r\n",
        "\r\n",
        "\r\n",
        "if __name__ == '__main__':\r\n",
        "    main()"
      ],
      "execution_count": null,
      "outputs": []
    }
  ]
}