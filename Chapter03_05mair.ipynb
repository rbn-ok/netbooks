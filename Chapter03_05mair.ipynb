{
  "nbformat": 4,
  "nbformat_minor": 0,
  "metadata": {
    "colab": {
      "name": "Chapter03_05mair.ipynb",
      "provenance": [],
      "authorship_tag": "ABX9TyNXh82o29OBEejLk+vOW9je",
      "include_colab_link": true
    },
    "kernelspec": {
      "name": "python3",
      "display_name": "Python 3"
    }
  },
  "cells": [
    {
      "cell_type": "markdown",
      "metadata": {
        "id": "view-in-github",
        "colab_type": "text"
      },
      "source": [
        "<a href=\"https://colab.research.google.com/github/rbn-ok/notebooks/blob/main/Chapter03_05mair.ipynb\" target=\"_parent\"><img src=\"https://colab.research.google.com/assets/colab-badge.svg\" alt=\"Open In Colab\"/></a>"
      ]
    },
    {
      "cell_type": "code",
      "metadata": {
        "id": "G2IECotKnFWb"
      },
      "source": [
        "import numpy as np\r\n",
        "import pandas as pd\r\n",
        "import matplotlib.pyplot as plt\r\n",
        "from math import sqrt\r\n",
        "from pprint import pprint\r\n",
        "from sklearn.datasets import load_boston\r\n",
        "from sklearn.linear_model import LinearRegression\r\n",
        "from sklearn.dummy import DummyRegressor\r\n",
        "from sklearn.model_selection import cross_validate, cross_val_predict\r\n",
        "from sklearn.model_selection import KFold\r\n",
        "from sklearn.metrics import make_scorer, mean_squared_error, mean_absolute_error, r2_score\r\n",
        "\r\n",
        "%matplotlib inline"
      ],
      "execution_count": 37,
      "outputs": []
    },
    {
      "cell_type": "code",
      "metadata": {
        "id": "5C1X7Uoc1mQr"
      },
      "source": [
        "datos = load_boston()"
      ],
      "execution_count": 3,
      "outputs": []
    },
    {
      "cell_type": "code",
      "metadata": {
        "colab": {
          "base_uri": "https://localhost:8080/"
        },
        "id": "3PcdTnyC1qWq",
        "outputId": "7cb9a6c1-f27a-4bb6-d290-f4e1e93a5148"
      },
      "source": [
        "datos.data.shape"
      ],
      "execution_count": 4,
      "outputs": [
        {
          "output_type": "execute_result",
          "data": {
            "text/plain": [
              "(506, 13)"
            ]
          },
          "metadata": {
            "tags": []
          },
          "execution_count": 4
        }
      ]
    },
    {
      "cell_type": "code",
      "metadata": {
        "id": "sXTW-ksq1ulF"
      },
      "source": [
        "# Algoritmo de Aprendizaje OLS:\r\n",
        "lr = LinearRegression()  # de la instancia LinearRegression creo un objeto"
      ],
      "execution_count": 15,
      "outputs": []
    },
    {
      "cell_type": "code",
      "metadata": {
        "id": "2x2RJcrp1-hZ"
      },
      "source": [
        "# Metricas de Evaluacion:\r\n",
        "\r\n",
        "metricas = {\r\n",
        "    'MAE': mean_absolute_error,\r\n",
        "    'RMSE': lambda y, y_pred:\r\n",
        "    sqrt(mean_squared_error(y,y_pred)),\r\n",
        "    'MAPE':lambda y, y_pred:\r\n",
        "    np.mean(np.abs((y - y_pred) / y))*100,\r\n",
        "    'R2': r2_score\r\n",
        "}"
      ],
      "execution_count": 14,
      "outputs": []
    },
    {
      "cell_type": "code",
      "metadata": {
        "id": "t8CL4qKD5mdU"
      },
      "source": [
        "# Entrenamiento con todos los datos para obtener los coeficientes:\r\n",
        "model = lr.fit(datos.data, datos.target)"
      ],
      "execution_count": 16,
      "outputs": []
    },
    {
      "cell_type": "code",
      "metadata": {
        "colab": {
          "base_uri": "https://localhost:8080/"
        },
        "id": "ijRczHpP5sMy",
        "outputId": "d84677cf-3a0b-4843-bce5-21b3713b42ae"
      },
      "source": [
        "# Coeficientes del modelo:\r\n",
        "model.coef_"
      ],
      "execution_count": 17,
      "outputs": [
        {
          "output_type": "execute_result",
          "data": {
            "text/plain": [
              "array([-1.08011358e-01,  4.64204584e-02,  2.05586264e-02,  2.68673382e+00,\n",
              "       -1.77666112e+01,  3.80986521e+00,  6.92224640e-04, -1.47556685e+00,\n",
              "        3.06049479e-01, -1.23345939e-02, -9.52747232e-01,  9.31168327e-03,\n",
              "       -5.24758378e-01])"
            ]
          },
          "metadata": {
            "tags": []
          },
          "execution_count": 17
        }
      ]
    },
    {
      "cell_type": "code",
      "metadata": {
        "colab": {
          "base_uri": "https://localhost:8080/"
        },
        "id": "rWEaoEqI58y6",
        "outputId": "8faac255-9904-4776-f3a9-492d59267551"
      },
      "source": [
        "# Obtencion del termino independiente:\r\n",
        "model.intercept_"
      ],
      "execution_count": 18,
      "outputs": [
        {
          "output_type": "execute_result",
          "data": {
            "text/plain": [
              "36.459488385090125"
            ]
          },
          "metadata": {
            "tags": []
          },
          "execution_count": 18
        }
      ]
    },
    {
      "cell_type": "code",
      "metadata": {
        "id": "e6LbhC6u6Caz"
      },
      "source": [
        "# Validacion y obtencion de las predicciones del modelo:\r\n",
        "seed = 42\r\n",
        "y_pred = cross_val_predict(lr,datos.data, datos.target,\r\n",
        "                           cv = KFold(n_splits=10, shuffle=True, random_state=seed))"
      ],
      "execution_count": 20,
      "outputs": []
    },
    {
      "cell_type": "code",
      "metadata": {
        "id": "8SCM86g26vlA"
      },
      "source": [
        "# Calculo de las metricas de Evaluacion:\r\n",
        "MAE = metricas['MAE'](datos.target, y_pred)\r\n",
        "RSME = metricas['RMSE'](datos.target, y_pred)\r\n",
        "MAPE = metricas['MAPE'](datos.target, y_pred)\r\n",
        "R2 = metricas['R2'](datos.target, y_pred)"
      ],
      "execution_count": 22,
      "outputs": []
    },
    {
      "cell_type": "code",
      "metadata": {
        "id": "SywNeLP5-hn7"
      },
      "source": [
        "import matplotlib\r\n",
        "matplotlib.rc('figure', figsize=(10, 5))"
      ],
      "execution_count": 33,
      "outputs": []
    },
    {
      "cell_type": "code",
      "metadata": {
        "colab": {
          "base_uri": "https://localhost:8080/",
          "height": 513
        },
        "id": "sgvetTzK8JvM",
        "outputId": "097f7661-b381-4cd5-8908-794d1c6ff47a"
      },
      "source": [
        "# Graficamos la prediccion vs datos reales:\r\n",
        "\r\n",
        "fig, ax = plt.subplots(figsize=(10,8))\r\n",
        "ax.scatter(datos.target, y_pred)\r\n",
        "ax.plot([datos.target.min(), datos.target.max()],\r\n",
        "        [datos.target.min(), datos.target.max()], 'k--')  # La linea no es el modelo: es y = x\r\n",
        "ax.set_xlabel('Valor real de la clase')\r\n",
        "ax.set_ylabel('Prediccion')\r\n",
        "plt.title('MAE: %.3f  RMSE: %.3f  MAPE: %.3f  R2: %.3f' % (MAE,RSME, MAPE, R2))\r\n",
        "plt.show()"
      ],
      "execution_count": 35,
      "outputs": [
        {
          "output_type": "display_data",
          "data": {
            "image/png": "[encoded data removed]",
            "text/plain": [
              "<Figure size 720x576 with 1 Axes>"
            ]
          },
          "metadata": {
            "tags": [],
            "needs_background": "light"
          }
        }
      ]
    },
    {
      "cell_type": "code",
      "metadata": {
        "colab": {
          "base_uri": "https://localhost:8080/",
          "height": 320
        },
        "id": "FDcQ701G9nxw",
        "outputId": "179e2576-4a0a-4246-9c4f-69840b87689a"
      },
      "source": [
        "plt.hist(datos.target, bins='auto')\r\n",
        "plt.show()"
      ],
      "execution_count": 36,
      "outputs": [
        {
          "output_type": "display_data",
          "data": {
            "image/png": "[encoded data removed]",
            "text/plain": [
              "<Figure size 720x360 with 1 Axes>"
            ]
          },
          "metadata": {
            "tags": [],
            "needs_background": "light"
          }
        }
      ]
    },
    {
      "cell_type": "code",
      "metadata": {
        "colab": {
          "base_uri": "https://localhost:8080/",
          "height": 419
        },
        "id": "JFTYAYO8_lXT",
        "outputId": "64c84616-9559-4173-b9e2-7868860a5c77"
      },
      "source": [
        "preds = pd.DataFrame({'Actual': datos.target, 'pred': y_pred})\r\n",
        "preds = preds.sort_values('Actual')\r\n",
        "preds"
      ],
      "execution_count": 38,
      "outputs": [
        {
          "output_type": "execute_result",
          "data": {
            "text/html": [
              "<div>\n",
              "<style scoped>\n",
              "    .dataframe tbody tr th:only-of-type {\n",
              "        vertical-align: middle;\n",
              "    }\n",
              "\n",
              "    .dataframe tbody tr th {\n",
              "        vertical-align: top;\n",
              "    }\n",
              "\n",
              "    .dataframe thead th {\n",
              "        text-align: right;\n",
              "    }\n",
              "</style>\n",
              "<table border=\"1\" class=\"dataframe\">\n",
              "  <thead>\n",
              "    <tr style=\"text-align: right;\">\n",
              "      <th></th>\n",
              "      <th>Actual</th>\n",
              "      <th>pred</th>\n",
              "    </tr>\n",
              "  </thead>\n",
              "  <tbody>\n",
              "    <tr>\n",
              "      <th>398</th>\n",
              "      <td>5.0</td>\n",
              "      <td>6.701687</td>\n",
              "    </tr>\n",
              "    <tr>\n",
              "      <th>405</th>\n",
              "      <td>5.0</td>\n",
              "      <td>9.145701</td>\n",
              "    </tr>\n",
              "    <tr>\n",
              "      <th>400</th>\n",
              "      <td>5.6</td>\n",
              "      <td>11.909518</td>\n",
              "    </tr>\n",
              "    <tr>\n",
              "      <th>399</th>\n",
              "      <td>6.3</td>\n",
              "      <td>11.104878</td>\n",
              "    </tr>\n",
              "    <tr>\n",
              "      <th>414</th>\n",
              "      <td>7.0</td>\n",
              "      <td>-5.208844</td>\n",
              "    </tr>\n",
              "    <tr>\n",
              "      <th>...</th>\n",
              "      <td>...</td>\n",
              "      <td>...</td>\n",
              "    </tr>\n",
              "    <tr>\n",
              "      <th>166</th>\n",
              "      <td>50.0</td>\n",
              "      <td>36.202911</td>\n",
              "    </tr>\n",
              "    <tr>\n",
              "      <th>195</th>\n",
              "      <td>50.0</td>\n",
              "      <td>40.534962</td>\n",
              "    </tr>\n",
              "    <tr>\n",
              "      <th>283</th>\n",
              "      <td>50.0</td>\n",
              "      <td>44.660528</td>\n",
              "    </tr>\n",
              "    <tr>\n",
              "      <th>225</th>\n",
              "      <td>50.0</td>\n",
              "      <td>38.763909</td>\n",
              "    </tr>\n",
              "    <tr>\n",
              "      <th>186</th>\n",
              "      <td>50.0</td>\n",
              "      <td>35.638459</td>\n",
              "    </tr>\n",
              "  </tbody>\n",
              "</table>\n",
              "<p>506 rows × 2 columns</p>\n",
              "</div>"
            ],
            "text/plain": [
              "     Actual       pred\n",
              "398     5.0   6.701687\n",
              "405     5.0   9.145701\n",
              "400     5.6  11.909518\n",
              "399     6.3  11.104878\n",
              "414     7.0  -5.208844\n",
              "..      ...        ...\n",
              "166    50.0  36.202911\n",
              "195    50.0  40.534962\n",
              "283    50.0  44.660528\n",
              "225    50.0  38.763909\n",
              "186    50.0  35.638459\n",
              "\n",
              "[506 rows x 2 columns]"
            ]
          },
          "metadata": {
            "tags": []
          },
          "execution_count": 38
        }
      ]
    },
    {
      "cell_type": "code",
      "metadata": {
        "id": "6MfXJu0yAzuq"
      },
      "source": [
        ""
      ],
      "execution_count": null,
      "outputs": []
    }
  ]
}