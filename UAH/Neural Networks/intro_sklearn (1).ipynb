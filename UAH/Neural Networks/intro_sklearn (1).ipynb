{
  "nbformat": 4,
  "nbformat_minor": 0,
  "metadata": {
    "kernelspec": {
      "display_name": "Python 3",
      "language": "python",
      "name": "python3"
    },
    "language_info": {
      "codemirror_mode": {
        "name": "ipython",
        "version": 3
      },
      "file_extension": ".py",
      "mimetype": "text/x-python",
      "name": "python",
      "nbconvert_exporter": "python",
      "pygments_lexer": "ipython3",
      "version": "3.7.7"
    },
    "colab": {
      "name": "intro_sklearn.ipynb",
      "provenance": []
    }
  },
  "cells": [
    {
      "cell_type": "markdown",
      "metadata": {
        "id": "s2ZLpuRS1toD"
      },
      "source": [
        "# **Introducción a Scikit-learn**\r\n",
        "-----"
      ]
    },
    {
      "cell_type": "markdown",
      "metadata": {
        "id": "92j85-sn1toM"
      },
      "source": [
        "Scikit-learn (sklearn) es la librería Python más popular para el Aprendizaje Automático. Incluye gran cantidad de modelos predictivos como:\n",
        "* Modelos de vecinos\n",
        "* Árboles de decisión\n",
        "* Ensembles\n",
        "* Modelos lineales generalizados\n",
        "* Máquinas de vectores de soporte\n",
        "* Redes neuronales artificiales clásicas\n",
        "* Procesos gaussianos\n",
        "* Transformación lineal de variables\n",
        "y una gran cantidad de utilidades como técnicas de búsqueda de meta-parámetros, de validación cruzada, cargadores de datasets de juguete, etc."
      ]
    },
    {
      "cell_type": "markdown",
      "metadata": {
        "id": "0GY24KpB1toN"
      },
      "source": [
        "La clase más importante de sklearn y la base de toda su estructura es el ``estimator``. Esta clase incluye tanto modelos predictivos, de la clase ``predictor``, como transformadores de variables, de la clase ``transformer``.\n",
        "\n",
        "Los objetos de la clase ``estimator`` siempre tienen los siguientes métodos:\n",
        "* __init__: recibe como argumentos los meta-parámetros del modelo y los guarda como atributos\n",
        "* fit: recibe como argumentos los datos de entrenamiento (las features ``X`` y si el modelo es supervisado también los targets ``y``)\n",
        "* score: recibe como argumentos los datos de test (``X`` y si el modelo es supervisado también ``y``) y estima la bondad del modelo entrenado con una métrica apropiada\n",
        "\n",
        "A su vez, los objetos de la clase ``predictor`` tienen el método\n",
        "* predict: recibe como argumento las features ``X`` y calcula predicciones para las ``y``\n",
        "y los objetos de la clase ``transformer`` tienen el método\n",
        "* transform: recibe como argumento las features ``X`` y calcula sus transformaciones\n",
        "\n",
        "La clase ``predictor`` se divide a su vez en las clases ``classifier``, ``regressor`` y ``cluster``, que tienen los mismos métodos pero están adaptadas a problemas de clasificación, regresión o clustering, respectivamente. La diferencia fundamental entre ellos es que las métricas usadas por score son distintas en cada caso, y los objetos de la clase ``cluster`` no reciben el argumento ``y`` en sus métodos."
      ]
    },
    {
      "cell_type": "markdown",
      "metadata": {
        "id": "I_EoZK9p1toP"
      },
      "source": [
        "### Clasificador básico para el dataset Iris"
      ]
    },
    {
      "cell_type": "markdown",
      "metadata": {
        "id": "ZZHsPe-E1toQ"
      },
      "source": [
        "Vamos a construir un modelo básico de vecinos para el dataset de clasificación de Iris. Este problema consiste en predecir categorías, así que hay que utilizar modelos de clase ``classifier``."
      ]
    },
    {
      "cell_type": "code",
      "metadata": {
        "colab": {
          "base_uri": "https://localhost:8080/"
        },
        "id": "V7uHS2xW1toR",
        "outputId": "abcb7a70-1465-497a-e426-8f1ce90ceec3"
      },
      "source": [
        "from sklearn.datasets import load_iris\n",
        "iris = load_iris()\n",
        "X = iris.data\n",
        "y = iris.target\n",
        "print(iris.DESCR)"
      ],
      "execution_count": 1,
      "outputs": [
        {
          "output_type": "stream",
          "text": [
            ".. _iris_dataset:\n",
            "\n",
            "Iris plants dataset\n",
            "--------------------\n",
            "\n",
            "**Data Set Characteristics:**\n",
            "\n",
            "    :Number of Instances: 150 (50 in each of three classes)\n",
            "    :Number of Attributes: 4 numeric, predictive attributes and the class\n",
            "    :Attribute Information:\n",
            "        - sepal length in cm\n",
            "        - sepal width in cm\n",
            "        - petal length in cm\n",
            "        - petal width in cm\n",
            "        - class:\n",
            "                - Iris-Setosa\n",
            "                - Iris-Versicolour\n",
            "                - Iris-Virginica\n",
            "                \n",
            "    :Summary Statistics:\n",
            "\n",
            "    ============== ==== ==== ======= ===== ====================\n",
            "                    Min  Max   Mean    SD   Class Correlation\n",
            "    ============== ==== ==== ======= ===== ====================\n",
            "    sepal length:   4.3  7.9   5.84   0.83    0.7826\n",
            "    sepal width:    2.0  4.4   3.05   0.43   -0.4194\n",
            "    petal length:   1.0  6.9   3.76   1.76    0.9490  (high!)\n",
            "    petal width:    0.1  2.5   1.20   0.76    0.9565  (high!)\n",
            "    ============== ==== ==== ======= ===== ====================\n",
            "\n",
            "    :Missing Attribute Values: None\n",
            "    :Class Distribution: 33.3% for each of 3 classes.\n",
            "    :Creator: R.A. Fisher\n",
            "    :Donor: Michael Marshall (MARSHALL%PLU@io.arc.nasa.gov)\n",
            "    :Date: July, 1988\n",
            "\n",
            "The famous Iris database, first used by Sir R.A. Fisher. The dataset is taken\n",
            "from Fisher's paper. Note that it's the same as in R, but not as in the UCI\n",
            "Machine Learning Repository, which has two wrong data points.\n",
            "\n",
            "This is perhaps the best known database to be found in the\n",
            "pattern recognition literature.  Fisher's paper is a classic in the field and\n",
            "is referenced frequently to this day.  (See Duda & Hart, for example.)  The\n",
            "data set contains 3 classes of 50 instances each, where each class refers to a\n",
            "type of iris plant.  One class is linearly separable from the other 2; the\n",
            "latter are NOT linearly separable from each other.\n",
            "\n",
            ".. topic:: References\n",
            "\n",
            "   - Fisher, R.A. \"The use of multiple measurements in taxonomic problems\"\n",
            "     Annual Eugenics, 7, Part II, 179-188 (1936); also in \"Contributions to\n",
            "     Mathematical Statistics\" (John Wiley, NY, 1950).\n",
            "   - Duda, R.O., & Hart, P.E. (1973) Pattern Classification and Scene Analysis.\n",
            "     (Q327.D83) John Wiley & Sons.  ISBN 0-471-22361-1.  See page 218.\n",
            "   - Dasarathy, B.V. (1980) \"Nosing Around the Neighborhood: A New System\n",
            "     Structure and Classification Rule for Recognition in Partially Exposed\n",
            "     Environments\".  IEEE Transactions on Pattern Analysis and Machine\n",
            "     Intelligence, Vol. PAMI-2, No. 1, 67-71.\n",
            "   - Gates, G.W. (1972) \"The Reduced Nearest Neighbor Rule\".  IEEE Transactions\n",
            "     on Information Theory, May 1972, 431-433.\n",
            "   - See also: 1988 MLC Proceedings, 54-64.  Cheeseman et al\"s AUTOCLASS II\n",
            "     conceptual clustering system finds 3 classes in the data.\n",
            "   - Many, many more ...\n"
          ],
          "name": "stdout"
        }
      ]
    },
    {
      "cell_type": "code",
      "metadata": {
        "id": "4e1gQnHB1toR"
      },
      "source": [
        "from sklearn.neighbors import KNeighborsClassifier\n",
        "predictor = KNeighborsClassifier(n_neighbors=3)"
      ],
      "execution_count": 2,
      "outputs": []
    },
    {
      "cell_type": "code",
      "metadata": {
        "colab": {
          "base_uri": "https://localhost:8080/"
        },
        "id": "oxWHh2LH1toS",
        "outputId": "a3cdea57-4b20-47a2-9b95-7c1383dfda46"
      },
      "source": [
        "predictor.fit(X, y)"
      ],
      "execution_count": 3,
      "outputs": [
        {
          "output_type": "execute_result",
          "data": {
            "text/plain": [
              "KNeighborsClassifier(algorithm='auto', leaf_size=30, metric='minkowski',\n",
              "                     metric_params=None, n_jobs=None, n_neighbors=3, p=2,\n",
              "                     weights='uniform')"
            ]
          },
          "metadata": {
            "tags": []
          },
          "execution_count": 3
        }
      ]
    },
    {
      "cell_type": "code",
      "metadata": {
        "colab": {
          "base_uri": "https://localhost:8080/"
        },
        "id": "WKn9yv_81toS",
        "outputId": "8c335863-684f-4a3d-914f-3e8ddb230ec0"
      },
      "source": [
        "predictor.predict(X)"
      ],
      "execution_count": 4,
      "outputs": [
        {
          "output_type": "execute_result",
          "data": {
            "text/plain": [
              "array([0, 0, 0, 0, 0, 0, 0, 0, 0, 0, 0, 0, 0, 0, 0, 0, 0, 0, 0, 0, 0, 0,\n",
              "       0, 0, 0, 0, 0, 0, 0, 0, 0, 0, 0, 0, 0, 0, 0, 0, 0, 0, 0, 0, 0, 0,\n",
              "       0, 0, 0, 0, 0, 0, 1, 1, 1, 1, 1, 1, 1, 1, 1, 1, 1, 1, 1, 1, 1, 1,\n",
              "       1, 1, 1, 1, 2, 1, 2, 1, 1, 1, 1, 1, 1, 1, 1, 1, 1, 2, 1, 1, 1, 1,\n",
              "       1, 1, 1, 1, 1, 1, 1, 1, 1, 1, 1, 1, 2, 2, 2, 2, 2, 2, 1, 2, 2, 2,\n",
              "       2, 2, 2, 2, 2, 2, 2, 2, 2, 1, 2, 2, 2, 2, 2, 2, 2, 2, 2, 2, 2, 2,\n",
              "       2, 1, 2, 2, 2, 2, 2, 2, 2, 2, 2, 2, 2, 2, 2, 2, 2, 2])"
            ]
          },
          "metadata": {
            "tags": []
          },
          "execution_count": 4
        }
      ]
    },
    {
      "cell_type": "code",
      "metadata": {
        "colab": {
          "base_uri": "https://localhost:8080/"
        },
        "id": "tb-eCpeG1toS",
        "outputId": "f535b7d0-feca-46dd-bb0d-f5e660a283c3"
      },
      "source": [
        "predictor.score(X, y)"
      ],
      "execution_count": 5,
      "outputs": [
        {
          "output_type": "execute_result",
          "data": {
            "text/plain": [
              "0.96"
            ]
          },
          "metadata": {
            "tags": []
          },
          "execution_count": 5
        }
      ]
    },
    {
      "cell_type": "markdown",
      "metadata": {
        "id": "m9UGoTej1toT"
      },
      "source": [
        "0.96 de accuracy es muy buen resultado, pero estamos cometiendo un error metodológico que nos lleva a sobreestimar la calidad del modelo entrenado: no se debe hacer score con los mismos datos con los que se ha hecho fit. Lo recomendable es hacer validación cruzada o al menos particiones de train y test."
      ]
    },
    {
      "cell_type": "code",
      "metadata": {
        "id": "bYsu0IIr1toT"
      },
      "source": [
        "from sklearn.model_selection import train_test_split\n",
        "X, X_test, y, y_test = train_test_split(X, y, test_size=0.25)"
      ],
      "execution_count": 6,
      "outputs": []
    },
    {
      "cell_type": "code",
      "metadata": {
        "colab": {
          "base_uri": "https://localhost:8080/"
        },
        "id": "xKcRbp4m1toT",
        "outputId": "43a7f280-61e4-45d3-8aeb-fed760939ba8"
      },
      "source": [
        "predictor.fit(X, y)\n",
        "predictor.score(X_test, y_test)"
      ],
      "execution_count": 7,
      "outputs": [
        {
          "output_type": "execute_result",
          "data": {
            "text/plain": [
              "0.9473684210526315"
            ]
          },
          "metadata": {
            "tags": []
          },
          "execution_count": 7
        }
      ]
    },
    {
      "cell_type": "markdown",
      "metadata": {
        "id": "MEJJwGZ71toU"
      },
      "source": [
        "Ahora sí estamos haciendo una estimación razonable de la accuracy del modelo."
      ]
    },
    {
      "cell_type": "markdown",
      "metadata": {
        "id": "ZqJ4QJGo1toU"
      },
      "source": [
        "### Regresor básico para el dataset de Boston Housing"
      ]
    },
    {
      "cell_type": "markdown",
      "metadata": {
        "id": "4xKc6hpQ1toU"
      },
      "source": [
        "Vamos ahora con un modelo lineal de tipo ridge para resolver el problema de regresión de Boston Housing. En esta ocasión toca predecir una cantidad numérica en lugar de unas categorías, así que los modelos a utilizar serán los del tipo ``regressor``."
      ]
    },
    {
      "cell_type": "code",
      "metadata": {
        "colab": {
          "base_uri": "https://localhost:8080/"
        },
        "id": "K3yUarEh1toU",
        "outputId": "f92e2051-59e4-4465-80b9-90f1c8a4fbf3"
      },
      "source": [
        "from sklearn.datasets import load_boston\n",
        "boston = load_boston()\n",
        "X = boston.data\n",
        "y = boston.target\n",
        "print(boston.DESCR)"
      ],
      "execution_count": 8,
      "outputs": [
        {
          "output_type": "stream",
          "text": [
            ".. _boston_dataset:\n",
            "\n",
            "Boston house prices dataset\n",
            "---------------------------\n",
            "\n",
            "**Data Set Characteristics:**  \n",
            "\n",
            "    :Number of Instances: 506 \n",
            "\n",
            "    :Number of Attributes: 13 numeric/categorical predictive. Median Value (attribute 14) is usually the target.\n",
            "\n",
            "    :Attribute Information (in order):\n",
            "        - CRIM     per capita crime rate by town\n",
            "        - ZN       proportion of residential land zoned for lots over 25,000 sq.ft.\n",
            "        - INDUS    proportion of non-retail business acres per town\n",
            "        - CHAS     Charles River dummy variable (= 1 if tract bounds river; 0 otherwise)\n",
            "        - NOX      nitric oxides concentration (parts per 10 million)\n",
            "        - RM       average number of rooms per dwelling\n",
            "        - AGE      proportion of owner-occupied units built prior to 1940\n",
            "        - DIS      weighted distances to five Boston employment centres\n",
            "        - RAD      index of accessibility to radial highways\n",
            "        - TAX      full-value property-tax rate per $10,000\n",
            "        - PTRATIO  pupil-teacher ratio by town\n",
            "        - B        1000(Bk - 0.63)^2 where Bk is the proportion of blacks by town\n",
            "        - LSTAT    % lower status of the population\n",
            "        - MEDV     Median value of owner-occupied homes in $1000's\n",
            "\n",
            "    :Missing Attribute Values: None\n",
            "\n",
            "    :Creator: Harrison, D. and Rubinfeld, D.L.\n",
            "\n",
            "This is a copy of UCI ML housing dataset.\n",
            "https://archive.ics.uci.edu/ml/machine-learning-databases/housing/\n",
            "\n",
            "\n",
            "This dataset was taken from the StatLib library which is maintained at Carnegie Mellon University.\n",
            "\n",
            "The Boston house-price data of Harrison, D. and Rubinfeld, D.L. 'Hedonic\n",
            "prices and the demand for clean air', J. Environ. Economics & Management,\n",
            "vol.5, 81-102, 1978.   Used in Belsley, Kuh & Welsch, 'Regression diagnostics\n",
            "...', Wiley, 1980.   N.B. Various transformations are used in the table on\n",
            "pages 244-261 of the latter.\n",
            "\n",
            "The Boston house-price data has been used in many machine learning papers that address regression\n",
            "problems.   \n",
            "     \n",
            ".. topic:: References\n",
            "\n",
            "   - Belsley, Kuh & Welsch, 'Regression diagnostics: Identifying Influential Data and Sources of Collinearity', Wiley, 1980. 244-261.\n",
            "   - Quinlan,R. (1993). Combining Instance-Based and Model-Based Learning. In Proceedings on the Tenth International Conference of Machine Learning, 236-243, University of Massachusetts, Amherst. Morgan Kaufmann.\n",
            "\n"
          ],
          "name": "stdout"
        }
      ]
    },
    {
      "cell_type": "markdown",
      "metadata": {
        "id": "buXSmQAn1toV"
      },
      "source": [
        "Este modelo necesita que las variables de entrada estén estandarizadas para funcionar correctamente. Sklearn proporciona el transformador de variables StandardScaler y la clase Pipeline para facilitar la tarea.\n",
        "StandardScaler es un modelo de tipo ``transformer`` que estandariza datos. Pipeline es una clase que permite aplicar secuencialmente models tipo ``transformer`` para acabar con un modelo tipo ``predictor``. Un pipeline una vez montado funciona exactamente igual que un ``predictor``, y tiene métodos ``fit``, ``predict`` y ``score``."
      ]
    },
    {
      "cell_type": "code",
      "metadata": {
        "id": "TS4ODZnX1toV"
      },
      "source": [
        "from sklearn.linear_model import Ridge\n",
        "from sklearn.pipeline import Pipeline\n",
        "from sklearn.preprocessing import StandardScaler\n",
        "predictor = Pipeline([('trans', StandardScaler()),\n",
        "                      ('pred', Ridge(alpha=0.01))])"
      ],
      "execution_count": 9,
      "outputs": []
    },
    {
      "cell_type": "markdown",
      "metadata": {
        "id": "17Oi8vUr1toW"
      },
      "source": [
        "Vamos a evaluar la calidad del modelo utilizando validación cruzada en esta ocasión."
      ]
    },
    {
      "cell_type": "code",
      "metadata": {
        "colab": {
          "base_uri": "https://localhost:8080/"
        },
        "id": "tNPu6CHe1toW",
        "outputId": "e9ba4b22-40e7-4586-8446-f1cc011ae30e"
      },
      "source": [
        "from sklearn.model_selection import cross_validate, KFold\n",
        "scores = cross_validate(predictor, X, y, cv=KFold(shuffle=True))\n",
        "scores"
      ],
      "execution_count": 13,
      "outputs": [
        {
          "output_type": "execute_result",
          "data": {
            "text/plain": [
              "{'fit_time': array([0.04472876, 0.00222707, 0.00199103, 0.00279069, 0.00228262]),\n",
              " 'score_time': array([0.00157094, 0.0009656 , 0.00094461, 0.0012002 , 0.0009923 ]),\n",
              " 'test_score': array([0.80587697, 0.65836311, 0.66750924, 0.74570704, 0.70510289])}"
            ]
          },
          "metadata": {
            "tags": []
          },
          "execution_count": 13
        }
      ]
    },
    {
      "cell_type": "code",
      "metadata": {
        "id": "CWkafXTA2Sbf"
      },
      "source": [
        ""
      ],
      "execution_count": null,
      "outputs": []
    }
  ]
}